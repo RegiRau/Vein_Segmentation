{
  "cells": [
    {
      "cell_type": "markdown",
      "metadata": {
        "id": "view-in-github",
        "colab_type": "text"
      },
      "source": [
        "<a href=\"https://colab.research.google.com/github/RegiRau/Vein_Segmentation/blob/main/Vein_Segmentation_Sweeps.ipynb\" target=\"_parent\"><img src=\"https://colab.research.google.com/assets/colab-badge.svg\" alt=\"Open In Colab\"/></a>"
      ]
    },
    {
      "cell_type": "code",
      "execution_count": null,
      "metadata": {
        "id": "k35AYcboatd7"
      },
      "outputs": [],
      "source": [
        "%%capture\n",
        "!pip install wandb"
      ]
    },
    {
      "cell_type": "code",
      "execution_count": null,
      "metadata": {
        "id": "mpfFI7a4a5b7"
      },
      "outputs": [],
      "source": [
        "import tqdm\n",
        "import tensorflow as tf\n",
        "from tensorflow import keras\n",
        "from tensorflow.keras.datasets import cifar10\n",
        "\n",
        "import os\n",
        "import numpy as np\n",
        "import pandas as pd\n",
        "import matplotlib.pyplot as plt\n",
        "\n",
        "%matplotlib inline"
      ]
    },
    {
      "cell_type": "code",
      "execution_count": null,
      "metadata": {
        "colab": {
          "base_uri": "https://localhost:8080/",
          "height": 69
        },
        "id": "Mbu0h9tta7QJ",
        "outputId": "17a7342c-e069-4158-d44f-e0e5e60bf81a"
      },
      "outputs": [
        {
          "output_type": "display_data",
          "data": {
            "text/plain": [
              "<IPython.core.display.Javascript object>"
            ],
            "application/javascript": [
              "\n",
              "        window._wandbApiKey = new Promise((resolve, reject) => {\n",
              "            function loadScript(url) {\n",
              "            return new Promise(function(resolve, reject) {\n",
              "                let newScript = document.createElement(\"script\");\n",
              "                newScript.onerror = reject;\n",
              "                newScript.onload = resolve;\n",
              "                document.body.appendChild(newScript);\n",
              "                newScript.src = url;\n",
              "            });\n",
              "            }\n",
              "            loadScript(\"https://cdn.jsdelivr.net/npm/postmate/build/postmate.min.js\").then(() => {\n",
              "            const iframe = document.createElement('iframe')\n",
              "            iframe.style.cssText = \"width:0;height:0;border:none\"\n",
              "            document.body.appendChild(iframe)\n",
              "            const handshake = new Postmate({\n",
              "                container: iframe,\n",
              "                url: 'https://wandb.ai/authorize'\n",
              "            });\n",
              "            const timeout = setTimeout(() => reject(\"Couldn't auto authenticate\"), 5000)\n",
              "            handshake.then(function(child) {\n",
              "                child.on('authorize', data => {\n",
              "                    clearTimeout(timeout)\n",
              "                    resolve(data)\n",
              "                });\n",
              "            });\n",
              "            })\n",
              "        });\n",
              "    "
            ]
          },
          "metadata": {}
        },
        {
          "output_type": "stream",
          "name": "stderr",
          "text": [
            "\u001b[34m\u001b[1mwandb\u001b[0m: Appending key for api.wandb.ai to your netrc file: /root/.netrc\n"
          ]
        },
        {
          "output_type": "execute_result",
          "data": {
            "text/plain": [
              "True"
            ]
          },
          "metadata": {},
          "execution_count": 3
        }
      ],
      "source": [
        "import wandb\n",
        "from wandb.keras import WandbCallback\n",
        "\n",
        "wandb.login()"
      ]
    },
    {
      "cell_type": "code",
      "execution_count": null,
      "metadata": {
        "colab": {
          "base_uri": "https://localhost:8080/"
        },
        "id": "3XInHENMbKAE",
        "outputId": "45e64cd1-cc84-4671-99b6-e440a1092c85"
      },
      "outputs": [
        {
          "output_type": "stream",
          "name": "stdout",
          "text": [
            "Mounted at /content/gdrive\n"
          ]
        }
      ],
      "source": [
        "from google.colab import drive\n",
        "drive.mount('/content/gdrive')"
      ]
    },
    {
      "cell_type": "code",
      "execution_count": null,
      "metadata": {
        "colab": {
          "base_uri": "https://localhost:8080/"
        },
        "id": "949437vXbOyZ",
        "outputId": "f80393aa-cbd3-414f-b310-60e78289ec66"
      },
      "outputs": [
        {
          "output_type": "stream",
          "name": "stdout",
          "text": [
            "Archive:  /content/gdrive/MyDrive/Vein_Dataset_Resized.zip\n",
            "   creating: /content/Vein_Dataset_Resized/images/\n",
            "  inflating: /content/Vein_Dataset_Resized/images/001_image01_L.png  \n",
            "  inflating: /content/Vein_Dataset_Resized/images/001_image01_R.png  \n",
            "  inflating: /content/Vein_Dataset_Resized/images/001_image02_L.png  \n",
            "  inflating: /content/Vein_Dataset_Resized/images/001_image02_R.png  \n",
            "  inflating: /content/Vein_Dataset_Resized/images/001_image03_L.png  \n",
            "  inflating: /content/Vein_Dataset_Resized/images/001_image03_R.png  \n",
            "  inflating: /content/Vein_Dataset_Resized/images/001_image04_L.png  \n",
            "  inflating: /content/Vein_Dataset_Resized/images/001_image04_R.png  \n",
            "  inflating: /content/Vein_Dataset_Resized/images/001_image05_L.png  \n",
            "  inflating: /content/Vein_Dataset_Resized/images/001_image05_R.png  \n",
            "  inflating: /content/Vein_Dataset_Resized/images/001_image06_L.png  \n",
            "  inflating: /content/Vein_Dataset_Resized/images/001_image06_R.png  \n",
            "  inflating: /content/Vein_Dataset_Resized/images/001_image07_L.png  \n",
            "  inflating: /content/Vein_Dataset_Resized/images/001_image07_R.png  \n",
            "  inflating: /content/Vein_Dataset_Resized/images/001_image08_L.png  \n",
            "  inflating: /content/Vein_Dataset_Resized/images/001_image08_R.png  \n",
            "  inflating: /content/Vein_Dataset_Resized/images/001_image09_L.png  \n",
            "  inflating: /content/Vein_Dataset_Resized/images/001_image09_R.png  \n",
            "  inflating: /content/Vein_Dataset_Resized/images/001_image10_L.png  \n",
            "  inflating: /content/Vein_Dataset_Resized/images/001_image10_R.png  \n",
            "  inflating: /content/Vein_Dataset_Resized/images/001_image11_L.png  \n",
            "  inflating: /content/Vein_Dataset_Resized/images/001_image11_R.png  \n",
            "  inflating: /content/Vein_Dataset_Resized/images/001_image12_L.png  \n",
            "  inflating: /content/Vein_Dataset_Resized/images/001_image12_R.png  \n",
            "  inflating: /content/Vein_Dataset_Resized/images/001_image13_L.png  \n",
            "  inflating: /content/Vein_Dataset_Resized/images/001_image13_R.png  \n",
            "  inflating: /content/Vein_Dataset_Resized/images/001_image14_L.png  \n",
            "  inflating: /content/Vein_Dataset_Resized/images/001_image14_R.png  \n",
            "  inflating: /content/Vein_Dataset_Resized/images/001_image15_L.png  \n",
            "  inflating: /content/Vein_Dataset_Resized/images/001_image15_R.png  \n",
            "  inflating: /content/Vein_Dataset_Resized/images/001_image16_L.png  \n",
            "  inflating: /content/Vein_Dataset_Resized/images/001_image16_R.png  \n",
            "  inflating: /content/Vein_Dataset_Resized/images/001_image17_L.png  \n",
            "  inflating: /content/Vein_Dataset_Resized/images/001_image17_R.png  \n",
            "  inflating: /content/Vein_Dataset_Resized/images/001_image18_L.png  \n",
            "  inflating: /content/Vein_Dataset_Resized/images/001_image18_R.png  \n",
            "  inflating: /content/Vein_Dataset_Resized/images/001_image19_L.png  \n",
            "  inflating: /content/Vein_Dataset_Resized/images/001_image19_R.png  \n",
            "  inflating: /content/Vein_Dataset_Resized/images/002_image01_L.png  \n",
            "  inflating: /content/Vein_Dataset_Resized/images/002_image01_R.png  \n",
            "  inflating: /content/Vein_Dataset_Resized/images/002_image02_L.png  \n",
            "  inflating: /content/Vein_Dataset_Resized/images/002_image02_R.png  \n",
            "  inflating: /content/Vein_Dataset_Resized/images/002_image03_L.png  \n",
            "  inflating: /content/Vein_Dataset_Resized/images/002_image03_R.png  \n",
            "  inflating: /content/Vein_Dataset_Resized/images/002_image04_L.png  \n",
            "  inflating: /content/Vein_Dataset_Resized/images/002_image04_R.png  \n",
            "  inflating: /content/Vein_Dataset_Resized/images/002_image05_L.png  \n",
            "  inflating: /content/Vein_Dataset_Resized/images/002_image05_R.png  \n",
            "  inflating: /content/Vein_Dataset_Resized/images/002_image06_L.png  \n",
            "  inflating: /content/Vein_Dataset_Resized/images/002_image06_R.png  \n",
            "  inflating: /content/Vein_Dataset_Resized/images/002_image07_L.png  \n",
            "  inflating: /content/Vein_Dataset_Resized/images/002_image07_R.png  \n",
            "  inflating: /content/Vein_Dataset_Resized/images/002_image08_L.png  \n",
            "  inflating: /content/Vein_Dataset_Resized/images/002_image08_R.png  \n",
            "  inflating: /content/Vein_Dataset_Resized/images/002_image09_L.png  \n",
            "  inflating: /content/Vein_Dataset_Resized/images/002_image09_R.png  \n",
            "  inflating: /content/Vein_Dataset_Resized/images/002_image10_L.png  \n",
            "  inflating: /content/Vein_Dataset_Resized/images/002_image10_R.png  \n",
            "  inflating: /content/Vein_Dataset_Resized/images/002_image11_L.png  \n",
            "  inflating: /content/Vein_Dataset_Resized/images/002_image11_R.png  \n",
            "  inflating: /content/Vein_Dataset_Resized/images/002_image12_L.png  \n",
            "  inflating: /content/Vein_Dataset_Resized/images/002_image12_R.png  \n",
            "  inflating: /content/Vein_Dataset_Resized/images/002_image13_L.png  \n",
            "  inflating: /content/Vein_Dataset_Resized/images/002_image13_R.png  \n",
            "  inflating: /content/Vein_Dataset_Resized/images/002_image14_L.png  \n",
            "  inflating: /content/Vein_Dataset_Resized/images/002_image14_R.png  \n",
            "  inflating: /content/Vein_Dataset_Resized/images/002_image15_L.png  \n",
            "  inflating: /content/Vein_Dataset_Resized/images/002_image15_R.png  \n",
            "  inflating: /content/Vein_Dataset_Resized/images/002_image16_L.png  \n",
            "  inflating: /content/Vein_Dataset_Resized/images/002_image16_R.png  \n",
            "  inflating: /content/Vein_Dataset_Resized/images/002_image17_L.png  \n",
            "  inflating: /content/Vein_Dataset_Resized/images/002_image17_R.png  \n",
            "  inflating: /content/Vein_Dataset_Resized/images/002_image18_L.png  \n",
            "  inflating: /content/Vein_Dataset_Resized/images/002_image18_R.png  \n",
            "  inflating: /content/Vein_Dataset_Resized/images/002_image19_L.png  \n",
            "  inflating: /content/Vein_Dataset_Resized/images/002_image19_R.png  \n",
            "  inflating: /content/Vein_Dataset_Resized/images/002_image20_L.png  \n",
            "  inflating: /content/Vein_Dataset_Resized/images/002_image20_R.png  \n",
            "  inflating: /content/Vein_Dataset_Resized/images/003_image01_L.png  \n",
            "  inflating: /content/Vein_Dataset_Resized/images/003_image01_R.png  \n",
            "  inflating: /content/Vein_Dataset_Resized/images/003_image02_L.png  \n",
            "  inflating: /content/Vein_Dataset_Resized/images/003_image02_R.png  \n",
            "  inflating: /content/Vein_Dataset_Resized/images/003_image03_L.png  \n",
            "  inflating: /content/Vein_Dataset_Resized/images/003_image03_R.png  \n",
            "  inflating: /content/Vein_Dataset_Resized/images/003_image04_L.png  \n",
            "  inflating: /content/Vein_Dataset_Resized/images/003_image04_R.png  \n",
            "  inflating: /content/Vein_Dataset_Resized/images/003_image05_L.png  \n",
            "  inflating: /content/Vein_Dataset_Resized/images/003_image05_R.png  \n",
            "  inflating: /content/Vein_Dataset_Resized/images/003_image06_L.png  \n",
            "  inflating: /content/Vein_Dataset_Resized/images/003_image06_R.png  \n",
            "  inflating: /content/Vein_Dataset_Resized/images/003_image07_L.png  \n",
            "  inflating: /content/Vein_Dataset_Resized/images/003_image07_R.png  \n",
            "  inflating: /content/Vein_Dataset_Resized/images/003_image08_L.png  \n",
            "  inflating: /content/Vein_Dataset_Resized/images/003_image08_R.png  \n",
            "  inflating: /content/Vein_Dataset_Resized/images/003_image09_L.png  \n",
            "  inflating: /content/Vein_Dataset_Resized/images/003_image09_R.png  \n",
            "  inflating: /content/Vein_Dataset_Resized/images/003_image10_L.png  \n",
            "  inflating: /content/Vein_Dataset_Resized/images/003_image10_R.png  \n",
            "  inflating: /content/Vein_Dataset_Resized/images/003_image11_L.png  \n",
            "  inflating: /content/Vein_Dataset_Resized/images/003_image11_R.png  \n",
            "  inflating: /content/Vein_Dataset_Resized/images/003_image12_L.png  \n",
            "  inflating: /content/Vein_Dataset_Resized/images/003_image12_R.png  \n",
            "  inflating: /content/Vein_Dataset_Resized/images/003_image13_L.png  \n",
            "  inflating: /content/Vein_Dataset_Resized/images/003_image13_R.png  \n",
            "  inflating: /content/Vein_Dataset_Resized/images/003_image14_L.png  \n",
            "  inflating: /content/Vein_Dataset_Resized/images/003_image14_R.png  \n",
            "  inflating: /content/Vein_Dataset_Resized/images/003_image15_L.png  \n",
            "  inflating: /content/Vein_Dataset_Resized/images/003_image15_R.png  \n",
            "  inflating: /content/Vein_Dataset_Resized/images/003_image16_L.png  \n",
            "  inflating: /content/Vein_Dataset_Resized/images/003_image16_R.png  \n",
            "  inflating: /content/Vein_Dataset_Resized/images/003_image17_L.png  \n",
            "  inflating: /content/Vein_Dataset_Resized/images/003_image17_R.png  \n",
            "  inflating: /content/Vein_Dataset_Resized/images/003_image18_L.png  \n",
            "  inflating: /content/Vein_Dataset_Resized/images/003_image18_R.png  \n",
            "  inflating: /content/Vein_Dataset_Resized/images/003_image19_L.png  \n",
            "  inflating: /content/Vein_Dataset_Resized/images/003_image19_R.png  \n",
            "  inflating: /content/Vein_Dataset_Resized/images/003_image20_L.png  \n",
            "  inflating: /content/Vein_Dataset_Resized/images/003_image20_R.png  \n",
            "  inflating: /content/Vein_Dataset_Resized/images/004_image01_L.png  \n",
            "  inflating: /content/Vein_Dataset_Resized/images/004_image01_R.png  \n",
            "  inflating: /content/Vein_Dataset_Resized/images/004_image02_L.png  \n",
            "  inflating: /content/Vein_Dataset_Resized/images/004_image02_R.png  \n",
            "  inflating: /content/Vein_Dataset_Resized/images/004_image03_L.png  \n",
            "  inflating: /content/Vein_Dataset_Resized/images/004_image03_R.png  \n",
            "  inflating: /content/Vein_Dataset_Resized/images/004_image04_L.png  \n",
            "  inflating: /content/Vein_Dataset_Resized/images/004_image04_R.png  \n",
            "  inflating: /content/Vein_Dataset_Resized/images/004_image05_L.png  \n",
            "  inflating: /content/Vein_Dataset_Resized/images/004_image05_R.png  \n",
            "  inflating: /content/Vein_Dataset_Resized/images/004_image06_L.png  \n",
            "  inflating: /content/Vein_Dataset_Resized/images/004_image06_R.png  \n",
            "  inflating: /content/Vein_Dataset_Resized/images/004_image07_L.png  \n",
            "  inflating: /content/Vein_Dataset_Resized/images/004_image07_R.png  \n",
            "  inflating: /content/Vein_Dataset_Resized/images/004_image08_L.png  \n",
            "  inflating: /content/Vein_Dataset_Resized/images/004_image08_R.png  \n",
            "  inflating: /content/Vein_Dataset_Resized/images/004_image09_L.png  \n",
            "  inflating: /content/Vein_Dataset_Resized/images/004_image09_R.png  \n",
            "  inflating: /content/Vein_Dataset_Resized/images/004_image10_L.png  \n",
            "  inflating: /content/Vein_Dataset_Resized/images/004_image10_R.png  \n",
            "  inflating: /content/Vein_Dataset_Resized/images/004_image11_L.png  \n",
            "  inflating: /content/Vein_Dataset_Resized/images/004_image11_R.png  \n",
            "  inflating: /content/Vein_Dataset_Resized/images/004_image12_L.png  \n",
            "  inflating: /content/Vein_Dataset_Resized/images/004_image12_R.png  \n",
            "  inflating: /content/Vein_Dataset_Resized/images/004_image13_L.png  \n",
            "  inflating: /content/Vein_Dataset_Resized/images/004_image13_R.png  \n",
            "  inflating: /content/Vein_Dataset_Resized/images/004_image14_L.png  \n",
            "  inflating: /content/Vein_Dataset_Resized/images/004_image14_R.png  \n",
            "  inflating: /content/Vein_Dataset_Resized/images/004_image15_L.png  \n",
            "  inflating: /content/Vein_Dataset_Resized/images/004_image15_R.png  \n",
            "  inflating: /content/Vein_Dataset_Resized/images/004_image16_L.png  \n",
            "  inflating: /content/Vein_Dataset_Resized/images/004_image16_R.png  \n",
            "  inflating: /content/Vein_Dataset_Resized/images/004_image17_L.png  \n",
            "  inflating: /content/Vein_Dataset_Resized/images/004_image17_R.png  \n",
            "  inflating: /content/Vein_Dataset_Resized/images/004_image18_L.png  \n",
            "  inflating: /content/Vein_Dataset_Resized/images/004_image18_R.png  \n",
            "  inflating: /content/Vein_Dataset_Resized/images/004_image19_L.png  \n",
            "  inflating: /content/Vein_Dataset_Resized/images/004_image19_R.png  \n",
            "  inflating: /content/Vein_Dataset_Resized/images/004_image20_L.png  \n",
            "  inflating: /content/Vein_Dataset_Resized/images/004_image20_R.png  \n",
            "  inflating: /content/Vein_Dataset_Resized/images/005_image01_L.png  \n",
            "  inflating: /content/Vein_Dataset_Resized/images/005_image01_R.png  \n",
            "  inflating: /content/Vein_Dataset_Resized/images/005_image02_L.png  \n",
            "  inflating: /content/Vein_Dataset_Resized/images/005_image02_R.png  \n",
            "  inflating: /content/Vein_Dataset_Resized/images/005_image03_L.png  \n",
            "  inflating: /content/Vein_Dataset_Resized/images/005_image03_R.png  \n",
            "  inflating: /content/Vein_Dataset_Resized/images/005_image04_L.png  \n",
            "  inflating: /content/Vein_Dataset_Resized/images/005_image04_R.png  \n",
            "  inflating: /content/Vein_Dataset_Resized/images/005_image05_L.png  \n",
            "  inflating: /content/Vein_Dataset_Resized/images/005_image05_R.png  \n",
            "  inflating: /content/Vein_Dataset_Resized/images/005_image06_L.png  \n",
            "  inflating: /content/Vein_Dataset_Resized/images/005_image06_R.png  \n",
            "  inflating: /content/Vein_Dataset_Resized/images/005_image07_L.png  \n",
            "  inflating: /content/Vein_Dataset_Resized/images/005_image07_R.png  \n",
            "  inflating: /content/Vein_Dataset_Resized/images/005_image08_L.png  \n",
            "  inflating: /content/Vein_Dataset_Resized/images/005_image08_R.png  \n",
            "  inflating: /content/Vein_Dataset_Resized/images/005_image09_L.png  \n",
            "  inflating: /content/Vein_Dataset_Resized/images/005_image10_L.png  \n",
            "  inflating: /content/Vein_Dataset_Resized/images/005_image11_L.png  \n",
            "  inflating: /content/Vein_Dataset_Resized/images/005_image12_L.png  \n",
            "  inflating: /content/Vein_Dataset_Resized/images/005_image13_L.png  \n",
            "  inflating: /content/Vein_Dataset_Resized/images/005_image14_L.png  \n",
            "  inflating: /content/Vein_Dataset_Resized/images/005_image15_L.png  \n",
            "  inflating: /content/Vein_Dataset_Resized/images/005_image16_L.png  \n",
            "  inflating: /content/Vein_Dataset_Resized/images/005_image17_L.png  \n",
            "  inflating: /content/Vein_Dataset_Resized/images/005_image18_L.png  \n",
            "  inflating: /content/Vein_Dataset_Resized/images/005_image19_L.png  \n",
            "  inflating: /content/Vein_Dataset_Resized/images/005_image20_L.png  \n",
            "  inflating: /content/Vein_Dataset_Resized/images/006_image01_L.png  \n",
            "  inflating: /content/Vein_Dataset_Resized/images/006_image02_L.png  \n",
            "  inflating: /content/Vein_Dataset_Resized/images/006_image03_L.png  \n",
            "  inflating: /content/Vein_Dataset_Resized/images/006_image04_L.png  \n",
            "  inflating: /content/Vein_Dataset_Resized/images/006_image05_L.png  \n",
            "  inflating: /content/Vein_Dataset_Resized/images/006_image06_L.png  \n",
            "  inflating: /content/Vein_Dataset_Resized/images/006_image07_L.png  \n",
            "  inflating: /content/Vein_Dataset_Resized/images/006_image08_L.png  \n",
            "  inflating: /content/Vein_Dataset_Resized/images/006_image09_L.png  \n",
            "  inflating: /content/Vein_Dataset_Resized/images/006_image10_L.png  \n",
            "  inflating: /content/Vein_Dataset_Resized/images/006_image11_L.png  \n",
            "  inflating: /content/Vein_Dataset_Resized/images/006_image12_L.png  \n",
            "  inflating: /content/Vein_Dataset_Resized/images/006_image13_L.png  \n",
            "  inflating: /content/Vein_Dataset_Resized/images/006_image14_L.png  \n",
            "  inflating: /content/Vein_Dataset_Resized/images/006_image15_L.png  \n",
            "  inflating: /content/Vein_Dataset_Resized/images/006_image16_L.png  \n",
            "  inflating: /content/Vein_Dataset_Resized/images/006_image17_L.png  \n",
            "  inflating: /content/Vein_Dataset_Resized/images/006_image18_L.png  \n",
            "  inflating: /content/Vein_Dataset_Resized/images/006_image19_L.png  \n",
            "  inflating: /content/Vein_Dataset_Resized/images/006_image20_L.png  \n",
            "  inflating: /content/Vein_Dataset_Resized/images/007_image01_L.png  \n",
            "  inflating: /content/Vein_Dataset_Resized/images/007_image02_L.png  \n",
            "  inflating: /content/Vein_Dataset_Resized/images/007_image03_L.png  \n",
            "  inflating: /content/Vein_Dataset_Resized/images/007_image04_L.png  \n",
            "  inflating: /content/Vein_Dataset_Resized/images/007_image05_L.png  \n",
            "  inflating: /content/Vein_Dataset_Resized/images/007_image06_L.png  \n",
            "  inflating: /content/Vein_Dataset_Resized/images/007_image07_L.png  \n",
            "  inflating: /content/Vein_Dataset_Resized/images/007_image08_L.png  \n",
            "  inflating: /content/Vein_Dataset_Resized/images/007_image09_L.png  \n",
            "  inflating: /content/Vein_Dataset_Resized/images/007_image10_L.png  \n",
            "  inflating: /content/Vein_Dataset_Resized/images/007_image11_L.png  \n",
            "  inflating: /content/Vein_Dataset_Resized/images/007_image12_L.png  \n",
            "  inflating: /content/Vein_Dataset_Resized/images/007_image13_L.png  \n",
            "  inflating: /content/Vein_Dataset_Resized/images/007_image14_L.png  \n",
            "  inflating: /content/Vein_Dataset_Resized/images/007_image15_L.png  \n",
            "  inflating: /content/Vein_Dataset_Resized/images/007_image16_L.png  \n",
            "  inflating: /content/Vein_Dataset_Resized/images/007_image17_L.png  \n",
            "  inflating: /content/Vein_Dataset_Resized/images/007_image18_L.png  \n",
            "  inflating: /content/Vein_Dataset_Resized/images/007_image19_L.png  \n",
            "  inflating: /content/Vein_Dataset_Resized/images/007_image20_L.png  \n",
            "  inflating: /content/Vein_Dataset_Resized/images/008_image01_L.png  \n",
            "  inflating: /content/Vein_Dataset_Resized/images/008_image02_L.png  \n",
            "  inflating: /content/Vein_Dataset_Resized/images/008_image03_L.png  \n",
            "  inflating: /content/Vein_Dataset_Resized/images/008_image04_L.png  \n",
            "  inflating: /content/Vein_Dataset_Resized/images/008_image05_L.png  \n",
            "  inflating: /content/Vein_Dataset_Resized/images/008_image06_L.png  \n",
            "  inflating: /content/Vein_Dataset_Resized/images/008_image07_L.png  \n",
            "  inflating: /content/Vein_Dataset_Resized/images/008_image08_L.png  \n",
            "  inflating: /content/Vein_Dataset_Resized/images/008_image09_L.png  \n",
            "  inflating: /content/Vein_Dataset_Resized/images/008_image10_L.png  \n",
            "  inflating: /content/Vein_Dataset_Resized/images/008_image11_L.png  \n",
            "  inflating: /content/Vein_Dataset_Resized/images/008_image12_L.png  \n",
            "  inflating: /content/Vein_Dataset_Resized/images/008_image13_L.png  \n",
            "  inflating: /content/Vein_Dataset_Resized/images/008_image14_L.png  \n",
            "  inflating: /content/Vein_Dataset_Resized/images/008_image15_L.png  \n",
            "  inflating: /content/Vein_Dataset_Resized/images/008_image16_L.png  \n",
            "  inflating: /content/Vein_Dataset_Resized/images/008_image18_L.png  \n",
            "  inflating: /content/Vein_Dataset_Resized/images/008_image19_L.png  \n",
            "  inflating: /content/Vein_Dataset_Resized/images/008_image20_L.png  \n",
            "  inflating: /content/Vein_Dataset_Resized/images/009_image01_L.png  \n",
            "  inflating: /content/Vein_Dataset_Resized/images/009_image02_L.png  \n",
            "  inflating: /content/Vein_Dataset_Resized/images/009_image03_L.png  \n",
            "  inflating: /content/Vein_Dataset_Resized/images/009_image04_L.png  \n",
            "  inflating: /content/Vein_Dataset_Resized/images/009_image05_L.png  \n",
            "  inflating: /content/Vein_Dataset_Resized/images/009_image06_L.png  \n",
            "  inflating: /content/Vein_Dataset_Resized/images/009_image07_L.png  \n",
            "  inflating: /content/Vein_Dataset_Resized/images/009_image08_L.png  \n",
            "  inflating: /content/Vein_Dataset_Resized/images/009_image09_L.png  \n",
            "  inflating: /content/Vein_Dataset_Resized/images/009_image10_L.png  \n",
            "  inflating: /content/Vein_Dataset_Resized/images/009_image11_L.png  \n",
            "  inflating: /content/Vein_Dataset_Resized/images/009_image12_L.png  \n",
            "  inflating: /content/Vein_Dataset_Resized/images/009_image13_L.png  \n",
            "  inflating: /content/Vein_Dataset_Resized/images/009_image14_L.png  \n",
            "  inflating: /content/Vein_Dataset_Resized/images/009_image15_L.png  \n",
            "  inflating: /content/Vein_Dataset_Resized/images/009_image16_L.png  \n",
            "  inflating: /content/Vein_Dataset_Resized/images/009_image17_L.png  \n",
            "  inflating: /content/Vein_Dataset_Resized/images/009_image18_L.png  \n",
            "  inflating: /content/Vein_Dataset_Resized/images/009_image19_L.png  \n",
            "  inflating: /content/Vein_Dataset_Resized/images/009_image20_L.png  \n",
            "  inflating: /content/Vein_Dataset_Resized/images/010_image01_L.png  \n",
            "  inflating: /content/Vein_Dataset_Resized/images/010_image02_L.png  \n",
            "  inflating: /content/Vein_Dataset_Resized/images/010_image03_L.png  \n",
            "  inflating: /content/Vein_Dataset_Resized/images/010_image04_L.png  \n",
            "  inflating: /content/Vein_Dataset_Resized/images/010_image05_L.png  \n",
            "  inflating: /content/Vein_Dataset_Resized/images/010_image06_L.png  \n",
            "  inflating: /content/Vein_Dataset_Resized/images/010_image07_L.png  \n",
            "  inflating: /content/Vein_Dataset_Resized/images/010_image08_L.png  \n",
            "  inflating: /content/Vein_Dataset_Resized/images/010_image09_L.png  \n",
            "  inflating: /content/Vein_Dataset_Resized/images/010_image10_L.png  \n",
            "  inflating: /content/Vein_Dataset_Resized/images/010_image11_L.png  \n",
            "  inflating: /content/Vein_Dataset_Resized/images/010_image12_L.png  \n",
            "  inflating: /content/Vein_Dataset_Resized/images/010_image13_L.png  \n",
            "  inflating: /content/Vein_Dataset_Resized/images/010_image14_L.png  \n",
            "  inflating: /content/Vein_Dataset_Resized/images/010_image15_L.png  \n",
            "  inflating: /content/Vein_Dataset_Resized/images/010_image16_L.png  \n",
            "  inflating: /content/Vein_Dataset_Resized/images/010_image17_L.png  \n",
            "  inflating: /content/Vein_Dataset_Resized/images/010_image18_L.png  \n",
            "  inflating: /content/Vein_Dataset_Resized/images/010_image19_L.png  \n",
            "  inflating: /content/Vein_Dataset_Resized/images/010_image20_L.png  \n",
            "  inflating: /content/Vein_Dataset_Resized/images/011_image01_L.png  \n",
            "  inflating: /content/Vein_Dataset_Resized/images/011_image02_L.png  \n",
            "  inflating: /content/Vein_Dataset_Resized/images/011_image03_L.png  \n",
            "  inflating: /content/Vein_Dataset_Resized/images/011_image04_L.png  \n",
            "  inflating: /content/Vein_Dataset_Resized/images/011_image05_L.png  \n",
            "  inflating: /content/Vein_Dataset_Resized/images/011_image06_L.png  \n",
            "  inflating: /content/Vein_Dataset_Resized/images/011_image07_L.png  \n",
            "  inflating: /content/Vein_Dataset_Resized/images/011_image08_L.png  \n",
            "  inflating: /content/Vein_Dataset_Resized/images/011_image09_L.png  \n",
            "  inflating: /content/Vein_Dataset_Resized/images/011_image10_L.png  \n",
            "  inflating: /content/Vein_Dataset_Resized/images/011_image11_L.png  \n",
            "  inflating: /content/Vein_Dataset_Resized/images/011_image12_L.png  \n",
            "  inflating: /content/Vein_Dataset_Resized/images/011_image13_L.png  \n",
            "  inflating: /content/Vein_Dataset_Resized/images/011_image14_L.png  \n",
            "  inflating: /content/Vein_Dataset_Resized/images/011_image15_L.png  \n",
            "  inflating: /content/Vein_Dataset_Resized/images/011_image16_L.png  \n",
            "  inflating: /content/Vein_Dataset_Resized/images/011_image17_L.png  \n",
            "  inflating: /content/Vein_Dataset_Resized/images/011_image18_L.png  \n",
            "  inflating: /content/Vein_Dataset_Resized/images/011_image19_L.png  \n",
            "  inflating: /content/Vein_Dataset_Resized/images/011_image20_L.png  \n",
            "  inflating: /content/Vein_Dataset_Resized/images/012_image01_L.png  \n",
            "  inflating: /content/Vein_Dataset_Resized/images/012_image02_L.png  \n",
            "  inflating: /content/Vein_Dataset_Resized/images/012_image03_L.png  \n",
            "  inflating: /content/Vein_Dataset_Resized/images/012_image04_L.png  \n",
            "  inflating: /content/Vein_Dataset_Resized/images/012_image05_L.png  \n",
            "  inflating: /content/Vein_Dataset_Resized/images/012_image06_L.png  \n",
            "  inflating: /content/Vein_Dataset_Resized/images/012_image07_L.png  \n",
            "  inflating: /content/Vein_Dataset_Resized/images/012_image08_L.png  \n",
            "  inflating: /content/Vein_Dataset_Resized/images/012_image09_L.png  \n",
            "  inflating: /content/Vein_Dataset_Resized/images/012_image10_L.png  \n",
            "  inflating: /content/Vein_Dataset_Resized/images/012_image11_L.png  \n",
            "  inflating: /content/Vein_Dataset_Resized/images/012_image12_L.png  \n",
            "  inflating: /content/Vein_Dataset_Resized/images/012_image13_L.png  \n",
            "  inflating: /content/Vein_Dataset_Resized/images/012_image14_L.png  \n",
            "  inflating: /content/Vein_Dataset_Resized/images/012_image15_L.png  \n",
            "  inflating: /content/Vein_Dataset_Resized/images/012_image16_L.png  \n",
            "  inflating: /content/Vein_Dataset_Resized/images/012_image17_L.png  \n",
            "  inflating: /content/Vein_Dataset_Resized/images/012_image18_L.png  \n",
            "  inflating: /content/Vein_Dataset_Resized/images/012_image19_L.png  \n",
            "  inflating: /content/Vein_Dataset_Resized/images/012_image20_L.png  \n",
            "  inflating: /content/Vein_Dataset_Resized/images/013_image01_L.png  \n",
            "  inflating: /content/Vein_Dataset_Resized/images/013_image02_L.png  \n",
            "  inflating: /content/Vein_Dataset_Resized/images/013_image03_L.png  \n",
            "  inflating: /content/Vein_Dataset_Resized/images/013_image04_L.png  \n",
            "  inflating: /content/Vein_Dataset_Resized/images/013_image05_L.png  \n",
            "  inflating: /content/Vein_Dataset_Resized/images/013_image06_L.png  \n",
            "  inflating: /content/Vein_Dataset_Resized/images/013_image07_L.png  \n",
            "  inflating: /content/Vein_Dataset_Resized/images/013_image08_L.png  \n",
            "  inflating: /content/Vein_Dataset_Resized/images/013_image09_L.png  \n",
            "  inflating: /content/Vein_Dataset_Resized/images/013_image10_L.png  \n",
            "  inflating: /content/Vein_Dataset_Resized/images/013_image11_L.png  \n",
            "  inflating: /content/Vein_Dataset_Resized/images/013_image12_L.png  \n",
            "  inflating: /content/Vein_Dataset_Resized/images/013_image13_L.png  \n",
            "  inflating: /content/Vein_Dataset_Resized/images/013_image14_L.png  \n",
            "  inflating: /content/Vein_Dataset_Resized/images/013_image16_L.png  \n",
            "  inflating: /content/Vein_Dataset_Resized/images/013_image17_L.png  \n",
            "  inflating: /content/Vein_Dataset_Resized/images/013_image18_L.png  \n",
            "  inflating: /content/Vein_Dataset_Resized/images/013_image19_L.png  \n",
            "  inflating: /content/Vein_Dataset_Resized/images/013_image20_L.png  \n",
            "  inflating: /content/Vein_Dataset_Resized/images/014_image01_L.png  \n",
            "  inflating: /content/Vein_Dataset_Resized/images/014_image02_L.png  \n",
            "  inflating: /content/Vein_Dataset_Resized/images/014_image03_L.png  \n",
            "  inflating: /content/Vein_Dataset_Resized/images/014_image04_L.png  \n",
            "  inflating: /content/Vein_Dataset_Resized/images/014_image05_L.png  \n",
            "  inflating: /content/Vein_Dataset_Resized/images/014_image07_L.png  \n",
            "  inflating: /content/Vein_Dataset_Resized/images/014_image08_L.png  \n",
            "  inflating: /content/Vein_Dataset_Resized/images/014_image09_L.png  \n",
            "  inflating: /content/Vein_Dataset_Resized/images/014_image10_L.png  \n",
            "  inflating: /content/Vein_Dataset_Resized/images/014_image11_L.png  \n",
            "  inflating: /content/Vein_Dataset_Resized/images/014_image12_L.png  \n",
            "  inflating: /content/Vein_Dataset_Resized/images/014_image13_L.png  \n",
            "  inflating: /content/Vein_Dataset_Resized/images/014_image14_L.png  \n",
            "  inflating: /content/Vein_Dataset_Resized/images/014_image16_L.png  \n",
            "  inflating: /content/Vein_Dataset_Resized/images/014_image17_L.png  \n",
            "  inflating: /content/Vein_Dataset_Resized/images/014_image18_L.png  \n",
            "  inflating: /content/Vein_Dataset_Resized/images/014_image19_L.png  \n",
            "  inflating: /content/Vein_Dataset_Resized/images/014_image20_L.png  \n",
            "  inflating: /content/Vein_Dataset_Resized/images/015_image01_L.png  \n",
            "  inflating: /content/Vein_Dataset_Resized/images/015_image02_L.png  \n",
            "  inflating: /content/Vein_Dataset_Resized/images/015_image03_L.png  \n",
            "  inflating: /content/Vein_Dataset_Resized/images/015_image04_L.png  \n",
            "  inflating: /content/Vein_Dataset_Resized/images/015_image05_L.png  \n",
            "  inflating: /content/Vein_Dataset_Resized/images/015_image06_L.png  \n",
            "  inflating: /content/Vein_Dataset_Resized/images/015_image07_L.png  \n",
            "  inflating: /content/Vein_Dataset_Resized/images/015_image08_L.png  \n",
            "  inflating: /content/Vein_Dataset_Resized/images/015_image09_L.png  \n",
            "  inflating: /content/Vein_Dataset_Resized/images/015_image10_L.png  \n",
            "  inflating: /content/Vein_Dataset_Resized/images/015_image11_L.png  \n",
            "  inflating: /content/Vein_Dataset_Resized/images/015_image12_L.png  \n",
            "  inflating: /content/Vein_Dataset_Resized/images/015_image13_L.png  \n",
            "  inflating: /content/Vein_Dataset_Resized/images/015_image14_L.png  \n",
            "  inflating: /content/Vein_Dataset_Resized/images/015_image16_L.png  \n",
            "  inflating: /content/Vein_Dataset_Resized/images/015_image17_L.png  \n",
            "  inflating: /content/Vein_Dataset_Resized/images/015_image18_L.png  \n",
            "  inflating: /content/Vein_Dataset_Resized/images/015_image19_L.png  \n",
            "  inflating: /content/Vein_Dataset_Resized/images/015_image20_L.png  \n",
            "  inflating: /content/Vein_Dataset_Resized/images/016_image01_L.png  \n",
            "  inflating: /content/Vein_Dataset_Resized/images/016_image02_L.png  \n",
            "  inflating: /content/Vein_Dataset_Resized/images/016_image03_L.png  \n",
            "  inflating: /content/Vein_Dataset_Resized/images/016_image04_L.png  \n",
            "  inflating: /content/Vein_Dataset_Resized/images/016_image05_L.png  \n",
            "  inflating: /content/Vein_Dataset_Resized/images/016_image06_L.png  \n",
            "  inflating: /content/Vein_Dataset_Resized/images/016_image07_L.png  \n",
            "  inflating: /content/Vein_Dataset_Resized/images/016_image08_L.png  \n",
            "  inflating: /content/Vein_Dataset_Resized/images/016_image09_L.png  \n",
            "  inflating: /content/Vein_Dataset_Resized/images/016_image10_L.png  \n",
            "  inflating: /content/Vein_Dataset_Resized/images/016_image11_L.png  \n",
            "  inflating: /content/Vein_Dataset_Resized/images/016_image12_L.png  \n",
            "  inflating: /content/Vein_Dataset_Resized/images/016_image13_L.png  \n",
            "  inflating: /content/Vein_Dataset_Resized/images/016_image14_L.png  \n",
            "  inflating: /content/Vein_Dataset_Resized/images/016_image15_L.png  \n",
            "  inflating: /content/Vein_Dataset_Resized/images/016_image16_L.png  \n",
            "  inflating: /content/Vein_Dataset_Resized/images/016_image17_L.png  \n",
            "  inflating: /content/Vein_Dataset_Resized/images/016_image18_L.png  \n",
            "  inflating: /content/Vein_Dataset_Resized/images/016_image19_L.png  \n",
            "  inflating: /content/Vein_Dataset_Resized/images/016_image20_L.png  \n",
            "  inflating: /content/Vein_Dataset_Resized/images/017_image01_L.png  \n",
            "  inflating: /content/Vein_Dataset_Resized/images/017_image02_L.png  \n",
            "  inflating: /content/Vein_Dataset_Resized/images/017_image03_L.png  \n",
            "  inflating: /content/Vein_Dataset_Resized/images/017_image04_L.png  \n",
            "  inflating: /content/Vein_Dataset_Resized/images/017_image05_L.png  \n",
            "  inflating: /content/Vein_Dataset_Resized/images/017_image06_L.png  \n",
            "  inflating: /content/Vein_Dataset_Resized/images/017_image07_L.png  \n",
            "  inflating: /content/Vein_Dataset_Resized/images/017_image08_L.png  \n",
            "  inflating: /content/Vein_Dataset_Resized/images/017_image09_L.png  \n",
            "  inflating: /content/Vein_Dataset_Resized/images/017_image10_L.png  \n",
            "  inflating: /content/Vein_Dataset_Resized/images/017_image12_L.png  \n",
            "  inflating: /content/Vein_Dataset_Resized/images/017_image13_L.png  \n",
            "  inflating: /content/Vein_Dataset_Resized/images/017_image14_L.png  \n",
            "  inflating: /content/Vein_Dataset_Resized/images/017_image15_L.png  \n",
            "  inflating: /content/Vein_Dataset_Resized/images/017_image16_L.png  \n",
            "  inflating: /content/Vein_Dataset_Resized/images/017_image17_L.png  \n",
            "  inflating: /content/Vein_Dataset_Resized/images/017_image18_L.png  \n",
            "  inflating: /content/Vein_Dataset_Resized/images/017_image19_L.png  \n",
            "  inflating: /content/Vein_Dataset_Resized/images/017_image20_L.png  \n",
            "  inflating: /content/Vein_Dataset_Resized/images/018_image01_L.png  \n",
            "  inflating: /content/Vein_Dataset_Resized/images/018_image02_L.png  \n",
            "  inflating: /content/Vein_Dataset_Resized/images/018_image03_L.png  \n",
            "  inflating: /content/Vein_Dataset_Resized/images/018_image04_L.png  \n",
            "  inflating: /content/Vein_Dataset_Resized/images/018_image05_L.png  \n",
            "  inflating: /content/Vein_Dataset_Resized/images/018_image06_L.png  \n",
            "  inflating: /content/Vein_Dataset_Resized/images/018_image07_L.png  \n",
            "  inflating: /content/Vein_Dataset_Resized/images/018_image08_L.png  \n",
            "  inflating: /content/Vein_Dataset_Resized/images/018_image09_L.png  \n",
            "  inflating: /content/Vein_Dataset_Resized/images/018_image10_L.png  \n",
            "  inflating: /content/Vein_Dataset_Resized/images/018_image11_L.png  \n",
            "  inflating: /content/Vein_Dataset_Resized/images/018_image12_L.png  \n",
            "  inflating: /content/Vein_Dataset_Resized/images/018_image13_L.png  \n",
            "  inflating: /content/Vein_Dataset_Resized/images/018_image14_L.png  \n",
            "  inflating: /content/Vein_Dataset_Resized/images/018_image15_L.png  \n",
            "  inflating: /content/Vein_Dataset_Resized/images/018_image16_L.png  \n",
            "  inflating: /content/Vein_Dataset_Resized/images/018_image17_L.png  \n",
            "  inflating: /content/Vein_Dataset_Resized/images/018_image18_L.png  \n",
            "  inflating: /content/Vein_Dataset_Resized/images/018_image19_L.png  \n",
            "  inflating: /content/Vein_Dataset_Resized/images/018_image20_L.png  \n",
            "  inflating: /content/Vein_Dataset_Resized/images/019_image01_L.png  \n",
            "  inflating: /content/Vein_Dataset_Resized/images/019_image02_L.png  \n",
            "  inflating: /content/Vein_Dataset_Resized/images/019_image03_L.png  \n",
            "  inflating: /content/Vein_Dataset_Resized/images/019_image04_L.png  \n",
            "  inflating: /content/Vein_Dataset_Resized/images/019_image05_L.png  \n",
            "  inflating: /content/Vein_Dataset_Resized/images/019_image06_L.png  \n",
            "  inflating: /content/Vein_Dataset_Resized/images/019_image07_L.png  \n",
            "  inflating: /content/Vein_Dataset_Resized/images/019_image08_L.png  \n",
            "  inflating: /content/Vein_Dataset_Resized/images/019_image09_L.png  \n",
            "  inflating: /content/Vein_Dataset_Resized/images/019_image10_L.png  \n",
            "  inflating: /content/Vein_Dataset_Resized/images/019_image11_L.png  \n",
            "  inflating: /content/Vein_Dataset_Resized/images/019_image12_L.png  \n",
            "  inflating: /content/Vein_Dataset_Resized/images/019_image13_L.png  \n",
            "  inflating: /content/Vein_Dataset_Resized/images/019_image14_L.png  \n",
            "  inflating: /content/Vein_Dataset_Resized/images/019_image15_L.png  \n",
            "  inflating: /content/Vein_Dataset_Resized/images/019_image16_L.png  \n",
            "  inflating: /content/Vein_Dataset_Resized/images/019_image17_L.png  \n",
            "  inflating: /content/Vein_Dataset_Resized/images/019_image18_L.png  \n",
            "  inflating: /content/Vein_Dataset_Resized/images/019_image19_L.png  \n",
            "  inflating: /content/Vein_Dataset_Resized/images/019_image20_L.png  \n",
            "  inflating: /content/Vein_Dataset_Resized/images/020_image01_L.png  \n",
            "  inflating: /content/Vein_Dataset_Resized/images/020_image02_L.png  \n",
            "  inflating: /content/Vein_Dataset_Resized/images/020_image03_L.png  \n",
            "  inflating: /content/Vein_Dataset_Resized/images/020_image04_L.png  \n",
            "  inflating: /content/Vein_Dataset_Resized/images/020_image05_L.png  \n",
            "  inflating: /content/Vein_Dataset_Resized/images/020_image06_L.png  \n",
            "  inflating: /content/Vein_Dataset_Resized/images/020_image07_L.png  \n",
            "  inflating: /content/Vein_Dataset_Resized/images/020_image08_L.png  \n",
            "  inflating: /content/Vein_Dataset_Resized/images/020_image09_L.png  \n",
            "  inflating: /content/Vein_Dataset_Resized/images/020_image10_L.png  \n",
            "  inflating: /content/Vein_Dataset_Resized/images/020_image11_L.png  \n",
            "  inflating: /content/Vein_Dataset_Resized/images/020_image12_L.png  \n",
            "  inflating: /content/Vein_Dataset_Resized/images/020_image13_L.png  \n",
            "  inflating: /content/Vein_Dataset_Resized/images/020_image14_L.png  \n",
            "  inflating: /content/Vein_Dataset_Resized/images/020_image15_L.png  \n",
            "  inflating: /content/Vein_Dataset_Resized/images/020_image16_L.png  \n",
            "  inflating: /content/Vein_Dataset_Resized/images/020_image17_L.png  \n",
            "  inflating: /content/Vein_Dataset_Resized/images/020_image18_L.png  \n",
            "  inflating: /content/Vein_Dataset_Resized/images/020_image19_L.png  \n",
            "  inflating: /content/Vein_Dataset_Resized/images/020_image20_L.png  \n",
            "  inflating: /content/Vein_Dataset_Resized/images/021_image01_L.png  \n",
            "  inflating: /content/Vein_Dataset_Resized/images/021_image02_L.png  \n",
            "  inflating: /content/Vein_Dataset_Resized/images/021_image03_L.png  \n",
            "  inflating: /content/Vein_Dataset_Resized/images/021_image04_L.png  \n",
            "  inflating: /content/Vein_Dataset_Resized/images/021_image05_L.png  \n",
            "  inflating: /content/Vein_Dataset_Resized/images/021_image06_L.png  \n",
            "  inflating: /content/Vein_Dataset_Resized/images/021_image07_L.png  \n",
            "  inflating: /content/Vein_Dataset_Resized/images/021_image08_L.png  \n",
            "  inflating: /content/Vein_Dataset_Resized/images/021_image09_L.png  \n",
            "  inflating: /content/Vein_Dataset_Resized/images/021_image10_L.png  \n",
            "  inflating: /content/Vein_Dataset_Resized/images/021_image11_L.png  \n",
            "  inflating: /content/Vein_Dataset_Resized/images/021_image12_L.png  \n",
            "  inflating: /content/Vein_Dataset_Resized/images/021_image13_L.png  \n",
            "  inflating: /content/Vein_Dataset_Resized/images/021_image14_L.png  \n",
            "  inflating: /content/Vein_Dataset_Resized/images/021_image15_L.png  \n",
            "  inflating: /content/Vein_Dataset_Resized/images/021_image16_L.png  \n",
            "  inflating: /content/Vein_Dataset_Resized/images/021_image17_L.png  \n",
            "  inflating: /content/Vein_Dataset_Resized/images/021_image18_L.png  \n",
            "  inflating: /content/Vein_Dataset_Resized/images/021_image19_L.png  \n",
            "  inflating: /content/Vein_Dataset_Resized/images/021_image20_L.png  \n",
            "  inflating: /content/Vein_Dataset_Resized/images/022_image01_L.png  \n",
            "  inflating: /content/Vein_Dataset_Resized/images/022_image02_L.png  \n",
            "  inflating: /content/Vein_Dataset_Resized/images/022_image03_L.png  \n",
            "  inflating: /content/Vein_Dataset_Resized/images/022_image04_L.png  \n",
            "  inflating: /content/Vein_Dataset_Resized/images/022_image05_L.png  \n",
            "  inflating: /content/Vein_Dataset_Resized/images/022_image06_L.png  \n",
            "  inflating: /content/Vein_Dataset_Resized/images/022_image07_L.png  \n",
            "  inflating: /content/Vein_Dataset_Resized/images/022_image08_L.png  \n",
            "  inflating: /content/Vein_Dataset_Resized/images/022_image09_L.png  \n",
            "  inflating: /content/Vein_Dataset_Resized/images/022_image10_L.png  \n",
            "  inflating: /content/Vein_Dataset_Resized/images/022_image11_L.png  \n",
            "  inflating: /content/Vein_Dataset_Resized/images/022_image12_L.png  \n",
            "  inflating: /content/Vein_Dataset_Resized/images/022_image13_L.png  \n",
            "  inflating: /content/Vein_Dataset_Resized/images/022_image14_L.png  \n",
            "  inflating: /content/Vein_Dataset_Resized/images/022_image15_L.png  \n",
            "  inflating: /content/Vein_Dataset_Resized/images/022_image16_L.png  \n",
            "  inflating: /content/Vein_Dataset_Resized/images/022_image17_L.png  \n",
            "  inflating: /content/Vein_Dataset_Resized/images/022_image18_L.png  \n",
            "  inflating: /content/Vein_Dataset_Resized/images/022_image19_L.png  \n",
            "  inflating: /content/Vein_Dataset_Resized/images/022_image20_L.png  \n",
            "  inflating: /content/Vein_Dataset_Resized/images/023_image01_L.png  \n",
            "  inflating: /content/Vein_Dataset_Resized/images/023_image02_L.png  \n",
            "  inflating: /content/Vein_Dataset_Resized/images/023_image03_L.png  \n",
            "  inflating: /content/Vein_Dataset_Resized/images/023_image04_L.png  \n",
            "  inflating: /content/Vein_Dataset_Resized/images/023_image05_L.png  \n",
            "  inflating: /content/Vein_Dataset_Resized/images/023_image06_L.png  \n",
            "  inflating: /content/Vein_Dataset_Resized/images/023_image07_L.png  \n",
            "  inflating: /content/Vein_Dataset_Resized/images/023_image08_L.png  \n",
            "  inflating: /content/Vein_Dataset_Resized/images/023_image09_L.png  \n",
            "  inflating: /content/Vein_Dataset_Resized/images/023_image10_L.png  \n",
            "  inflating: /content/Vein_Dataset_Resized/images/023_image11_L.png  \n",
            "  inflating: /content/Vein_Dataset_Resized/images/023_image12_L.png  \n",
            "  inflating: /content/Vein_Dataset_Resized/images/023_image13_L.png  \n",
            "  inflating: /content/Vein_Dataset_Resized/images/023_image14_L.png  \n",
            "  inflating: /content/Vein_Dataset_Resized/images/023_image15_L.png  \n",
            "  inflating: /content/Vein_Dataset_Resized/images/023_image16_L.png  \n",
            "  inflating: /content/Vein_Dataset_Resized/images/023_image17_L.png  \n",
            "  inflating: /content/Vein_Dataset_Resized/images/023_image18_L.png  \n",
            "  inflating: /content/Vein_Dataset_Resized/images/023_image19_L.png  \n",
            "  inflating: /content/Vein_Dataset_Resized/images/023_image20_L.png  \n",
            "  inflating: /content/Vein_Dataset_Resized/images/024_image01_L.png  \n",
            "  inflating: /content/Vein_Dataset_Resized/images/024_image02_L.png  \n",
            "  inflating: /content/Vein_Dataset_Resized/images/024_image03_L.png  \n",
            "  inflating: /content/Vein_Dataset_Resized/images/024_image04_L.png  \n",
            "  inflating: /content/Vein_Dataset_Resized/images/024_image05_L.png  \n",
            "  inflating: /content/Vein_Dataset_Resized/images/024_image06_L.png  \n",
            "  inflating: /content/Vein_Dataset_Resized/images/024_image07_L.png  \n",
            "  inflating: /content/Vein_Dataset_Resized/images/024_image08_L.png  \n",
            "  inflating: /content/Vein_Dataset_Resized/images/024_image09_L.png  \n",
            "  inflating: /content/Vein_Dataset_Resized/images/024_image10_L.png  \n",
            "  inflating: /content/Vein_Dataset_Resized/images/024_image11_L.png  \n",
            "  inflating: /content/Vein_Dataset_Resized/images/024_image12_L.png  \n",
            "  inflating: /content/Vein_Dataset_Resized/images/024_image13_L.png  \n",
            "  inflating: /content/Vein_Dataset_Resized/images/024_image14_L.png  \n",
            "  inflating: /content/Vein_Dataset_Resized/images/024_image15_L.png  \n",
            "  inflating: /content/Vein_Dataset_Resized/images/024_image16_L.png  \n",
            "  inflating: /content/Vein_Dataset_Resized/images/024_image17_L.png  \n",
            "  inflating: /content/Vein_Dataset_Resized/images/024_image18_L.png  \n",
            "  inflating: /content/Vein_Dataset_Resized/images/024_image19_L.png  \n",
            "  inflating: /content/Vein_Dataset_Resized/images/024_image20_L.png  \n",
            "  inflating: /content/Vein_Dataset_Resized/images/025_image01_L.png  \n",
            "  inflating: /content/Vein_Dataset_Resized/images/025_image02_L.png  \n",
            "  inflating: /content/Vein_Dataset_Resized/images/025_image03_L.png  \n",
            "  inflating: /content/Vein_Dataset_Resized/images/025_image04_L.png  \n",
            "  inflating: /content/Vein_Dataset_Resized/images/025_image05_L.png  \n",
            "  inflating: /content/Vein_Dataset_Resized/images/025_image06_L.png  \n",
            "  inflating: /content/Vein_Dataset_Resized/images/025_image07_L.png  \n",
            "  inflating: /content/Vein_Dataset_Resized/images/025_image08_L.png  \n",
            "  inflating: /content/Vein_Dataset_Resized/images/025_image09_L.png  \n",
            "  inflating: /content/Vein_Dataset_Resized/images/025_image10_L.png  \n",
            "  inflating: /content/Vein_Dataset_Resized/images/025_image11_L.png  \n",
            "  inflating: /content/Vein_Dataset_Resized/images/025_image12_L.png  \n",
            "  inflating: /content/Vein_Dataset_Resized/images/025_image13_L.png  \n",
            "  inflating: /content/Vein_Dataset_Resized/images/025_image14_L.png  \n",
            "  inflating: /content/Vein_Dataset_Resized/images/025_image15_L.png  \n",
            "  inflating: /content/Vein_Dataset_Resized/images/025_image16_L.png  \n",
            "  inflating: /content/Vein_Dataset_Resized/images/025_image17_L.png  \n",
            "  inflating: /content/Vein_Dataset_Resized/images/025_image18_L.png  \n",
            "  inflating: /content/Vein_Dataset_Resized/images/025_image19_L.png  \n",
            "  inflating: /content/Vein_Dataset_Resized/images/025_image20_L.png  \n",
            "  inflating: /content/Vein_Dataset_Resized/images/026_image01_L.png  \n",
            "  inflating: /content/Vein_Dataset_Resized/images/026_image02_L.png  \n",
            "  inflating: /content/Vein_Dataset_Resized/images/026_image03_L.png  \n",
            "  inflating: /content/Vein_Dataset_Resized/images/026_image04_L.png  \n",
            "  inflating: /content/Vein_Dataset_Resized/images/026_image05_L.png  \n",
            "  inflating: /content/Vein_Dataset_Resized/images/026_image06_L.png  \n",
            "  inflating: /content/Vein_Dataset_Resized/images/026_image07_L.png  \n",
            "  inflating: /content/Vein_Dataset_Resized/images/026_image08_L.png  \n",
            "  inflating: /content/Vein_Dataset_Resized/images/026_image09_L.png  \n",
            "  inflating: /content/Vein_Dataset_Resized/images/026_image10_L.png  \n",
            "  inflating: /content/Vein_Dataset_Resized/images/026_image11_L.png  \n",
            "  inflating: /content/Vein_Dataset_Resized/images/026_image12_L.png  \n",
            "  inflating: /content/Vein_Dataset_Resized/images/026_image13_L.png  \n",
            "  inflating: /content/Vein_Dataset_Resized/images/026_image14_L.png  \n",
            "  inflating: /content/Vein_Dataset_Resized/images/026_image15_L.png  \n",
            "  inflating: /content/Vein_Dataset_Resized/images/026_image16_L.png  \n",
            "  inflating: /content/Vein_Dataset_Resized/images/026_image17_L.png  \n",
            "  inflating: /content/Vein_Dataset_Resized/images/026_image18_L.png  \n",
            "  inflating: /content/Vein_Dataset_Resized/images/026_image19_L.png  \n",
            "  inflating: /content/Vein_Dataset_Resized/images/026_image20_L.png  \n",
            "  inflating: /content/Vein_Dataset_Resized/images/027_image01_L.png  \n",
            "  inflating: /content/Vein_Dataset_Resized/images/027_image02_L.png  \n",
            "  inflating: /content/Vein_Dataset_Resized/images/027_image03_L.png  \n",
            "  inflating: /content/Vein_Dataset_Resized/images/027_image04_L.png  \n",
            "  inflating: /content/Vein_Dataset_Resized/images/027_image05_L.png  \n",
            "  inflating: /content/Vein_Dataset_Resized/images/027_image06_L.png  \n",
            "  inflating: /content/Vein_Dataset_Resized/images/027_image07_L.png  \n",
            "  inflating: /content/Vein_Dataset_Resized/images/027_image08_L.png  \n",
            "  inflating: /content/Vein_Dataset_Resized/images/027_image09_L.png  \n",
            "  inflating: /content/Vein_Dataset_Resized/images/027_image10_L.png  \n",
            "  inflating: /content/Vein_Dataset_Resized/images/027_image11_L.png  \n",
            "  inflating: /content/Vein_Dataset_Resized/images/027_image12_L.png  \n",
            "  inflating: /content/Vein_Dataset_Resized/images/027_image13_L.png  \n",
            "  inflating: /content/Vein_Dataset_Resized/images/027_image14_L.png  \n",
            "  inflating: /content/Vein_Dataset_Resized/images/027_image15_L.png  \n",
            "  inflating: /content/Vein_Dataset_Resized/images/027_image16_L.png  \n",
            "  inflating: /content/Vein_Dataset_Resized/images/027_image17_L.png  \n",
            "  inflating: /content/Vein_Dataset_Resized/images/027_image18_L.png  \n",
            "  inflating: /content/Vein_Dataset_Resized/images/027_image19_L.png  \n",
            "  inflating: /content/Vein_Dataset_Resized/images/027_image20_L.png  \n",
            "  inflating: /content/Vein_Dataset_Resized/images/028_image01_L.png  \n",
            "  inflating: /content/Vein_Dataset_Resized/images/028_image02_L.png  \n",
            "  inflating: /content/Vein_Dataset_Resized/images/028_image03_L.png  \n",
            "  inflating: /content/Vein_Dataset_Resized/images/028_image04_L.png  \n",
            "  inflating: /content/Vein_Dataset_Resized/images/028_image05_L.png  \n",
            "  inflating: /content/Vein_Dataset_Resized/images/028_image06_L.png  \n",
            "  inflating: /content/Vein_Dataset_Resized/images/028_image07_L.png  \n",
            "  inflating: /content/Vein_Dataset_Resized/images/028_image08_L.png  \n",
            "  inflating: /content/Vein_Dataset_Resized/images/028_image09_L.png  \n",
            "  inflating: /content/Vein_Dataset_Resized/images/028_image10_L.png  \n",
            "  inflating: /content/Vein_Dataset_Resized/images/028_image11_L.png  \n",
            "  inflating: /content/Vein_Dataset_Resized/images/028_image12_L.png  \n",
            "  inflating: /content/Vein_Dataset_Resized/images/028_image13_L.png  \n",
            "  inflating: /content/Vein_Dataset_Resized/images/028_image14_L.png  \n",
            "  inflating: /content/Vein_Dataset_Resized/images/028_image15_L.png  \n",
            "  inflating: /content/Vein_Dataset_Resized/images/028_image16_L.png  \n",
            "  inflating: /content/Vein_Dataset_Resized/images/028_image17_L.png  \n",
            "  inflating: /content/Vein_Dataset_Resized/images/028_image18_L.png  \n",
            "  inflating: /content/Vein_Dataset_Resized/images/028_image19_L.png  \n",
            "  inflating: /content/Vein_Dataset_Resized/images/028_image20_L.png  \n",
            "  inflating: /content/Vein_Dataset_Resized/images/029_image01_L.png  \n",
            "  inflating: /content/Vein_Dataset_Resized/images/029_image02_L.png  \n",
            "  inflating: /content/Vein_Dataset_Resized/images/029_image03_L.png  \n",
            "  inflating: /content/Vein_Dataset_Resized/images/029_image04_L.png  \n",
            "  inflating: /content/Vein_Dataset_Resized/images/029_image05_L.png  \n",
            "  inflating: /content/Vein_Dataset_Resized/images/029_image06_L.png  \n",
            "  inflating: /content/Vein_Dataset_Resized/images/029_image07_L.png  \n",
            "  inflating: /content/Vein_Dataset_Resized/images/029_image08_L.png  \n",
            "  inflating: /content/Vein_Dataset_Resized/images/029_image09_L.png  \n",
            "  inflating: /content/Vein_Dataset_Resized/images/029_image10_L.png  \n",
            "  inflating: /content/Vein_Dataset_Resized/images/029_image11_L.png  \n",
            "  inflating: /content/Vein_Dataset_Resized/images/029_image12_L.png  \n",
            "  inflating: /content/Vein_Dataset_Resized/images/029_image13_L.png  \n",
            "  inflating: /content/Vein_Dataset_Resized/images/029_image14_L.png  \n",
            "  inflating: /content/Vein_Dataset_Resized/images/029_image15_L.png  \n",
            "  inflating: /content/Vein_Dataset_Resized/images/029_image16_L.png  \n",
            "  inflating: /content/Vein_Dataset_Resized/images/029_image17_L.png  \n",
            "  inflating: /content/Vein_Dataset_Resized/images/029_image18_L.png  \n",
            "  inflating: /content/Vein_Dataset_Resized/images/029_image19_L.png  \n",
            "  inflating: /content/Vein_Dataset_Resized/images/029_image20_L.png  \n",
            "  inflating: /content/Vein_Dataset_Resized/images/030_image01_L.png  \n",
            "  inflating: /content/Vein_Dataset_Resized/images/030_image02_L.png  \n",
            "  inflating: /content/Vein_Dataset_Resized/images/030_image03_L.png  \n",
            "  inflating: /content/Vein_Dataset_Resized/images/030_image04_L.png  \n",
            "  inflating: /content/Vein_Dataset_Resized/images/030_image05_L.png  \n",
            "  inflating: /content/Vein_Dataset_Resized/images/030_image06_L.png  \n",
            "  inflating: /content/Vein_Dataset_Resized/images/030_image07_L.png  \n",
            "  inflating: /content/Vein_Dataset_Resized/images/030_image08_L.png  \n",
            "  inflating: /content/Vein_Dataset_Resized/images/030_image09_L.png  \n",
            "  inflating: /content/Vein_Dataset_Resized/images/030_image10_L.png  \n",
            "  inflating: /content/Vein_Dataset_Resized/images/030_image11_L.png  \n",
            "  inflating: /content/Vein_Dataset_Resized/images/030_image12_L.png  \n",
            "  inflating: /content/Vein_Dataset_Resized/images/030_image13_L.png  \n",
            "  inflating: /content/Vein_Dataset_Resized/images/030_image14_L.png  \n",
            "  inflating: /content/Vein_Dataset_Resized/images/030_image15_L.png  \n",
            "  inflating: /content/Vein_Dataset_Resized/images/030_image16_L.png  \n",
            "  inflating: /content/Vein_Dataset_Resized/images/030_image17_L.png  \n",
            "  inflating: /content/Vein_Dataset_Resized/images/030_image18_L.png  \n",
            "  inflating: /content/Vein_Dataset_Resized/images/030_image19_L.png  \n",
            "  inflating: /content/Vein_Dataset_Resized/images/030_image20_L.png  \n",
            "  inflating: /content/Vein_Dataset_Resized/images/031_image01_L.png  \n",
            "  inflating: /content/Vein_Dataset_Resized/images/031_image02_L.png  \n",
            "  inflating: /content/Vein_Dataset_Resized/images/031_image03_L.png  \n",
            "  inflating: /content/Vein_Dataset_Resized/images/031_image04_L.png  \n",
            "  inflating: /content/Vein_Dataset_Resized/images/031_image05_L.png  \n",
            "  inflating: /content/Vein_Dataset_Resized/images/031_image06_L.png  \n",
            "  inflating: /content/Vein_Dataset_Resized/images/031_image07_L.png  \n",
            "  inflating: /content/Vein_Dataset_Resized/images/031_image08_L.png  \n",
            "  inflating: /content/Vein_Dataset_Resized/images/031_image09_L.png  \n",
            "  inflating: /content/Vein_Dataset_Resized/images/031_image10_L.png  \n",
            "  inflating: /content/Vein_Dataset_Resized/images/031_image11_L.png  \n",
            "  inflating: /content/Vein_Dataset_Resized/images/031_image12_L.png  \n",
            "  inflating: /content/Vein_Dataset_Resized/images/031_image13_L.png  \n",
            "  inflating: /content/Vein_Dataset_Resized/images/031_image14_L.png  \n",
            "  inflating: /content/Vein_Dataset_Resized/images/031_image15_L.png  \n",
            "  inflating: /content/Vein_Dataset_Resized/images/031_image16_L.png  \n",
            "  inflating: /content/Vein_Dataset_Resized/images/031_image17_L.png  \n",
            "  inflating: /content/Vein_Dataset_Resized/images/031_image18_L.png  \n",
            "  inflating: /content/Vein_Dataset_Resized/images/031_image19_L.png  \n",
            "  inflating: /content/Vein_Dataset_Resized/images/031_image20_L.png  \n",
            "  inflating: /content/Vein_Dataset_Resized/images/032_image01_L.png  \n",
            "  inflating: /content/Vein_Dataset_Resized/images/032_image02_L.png  \n",
            "  inflating: /content/Vein_Dataset_Resized/images/032_image03_L.png  \n",
            "  inflating: /content/Vein_Dataset_Resized/images/032_image04_L.png  \n",
            "  inflating: /content/Vein_Dataset_Resized/images/032_image05_L.png  \n",
            "  inflating: /content/Vein_Dataset_Resized/images/032_image06_L.png  \n",
            "  inflating: /content/Vein_Dataset_Resized/images/032_image07_L.png  \n",
            "  inflating: /content/Vein_Dataset_Resized/images/032_image08_L.png  \n",
            "  inflating: /content/Vein_Dataset_Resized/images/032_image09_L.png  \n",
            "  inflating: /content/Vein_Dataset_Resized/images/032_image10_L.png  \n",
            "  inflating: /content/Vein_Dataset_Resized/images/032_image11_L.png  \n",
            "  inflating: /content/Vein_Dataset_Resized/images/032_image12_L.png  \n",
            "  inflating: /content/Vein_Dataset_Resized/images/032_image13_L.png  \n",
            "  inflating: /content/Vein_Dataset_Resized/images/032_image14_L.png  \n",
            "  inflating: /content/Vein_Dataset_Resized/images/032_image15_L.png  \n",
            "  inflating: /content/Vein_Dataset_Resized/images/032_image16_L.png  \n",
            "  inflating: /content/Vein_Dataset_Resized/images/032_image17_L.png  \n",
            "  inflating: /content/Vein_Dataset_Resized/images/032_image18_L.png  \n",
            "  inflating: /content/Vein_Dataset_Resized/images/032_image19_L.png  \n",
            "  inflating: /content/Vein_Dataset_Resized/images/032_image20_L.png  \n",
            "  inflating: /content/Vein_Dataset_Resized/images/033_image01_L.png  \n",
            "  inflating: /content/Vein_Dataset_Resized/images/033_image02_L.png  \n",
            "  inflating: /content/Vein_Dataset_Resized/images/033_image03_L.png  \n",
            "  inflating: /content/Vein_Dataset_Resized/images/033_image04_L.png  \n",
            "  inflating: /content/Vein_Dataset_Resized/images/033_image05_L.png  \n",
            "  inflating: /content/Vein_Dataset_Resized/images/033_image06_L.png  \n",
            "  inflating: /content/Vein_Dataset_Resized/images/033_image07_L.png  \n",
            "  inflating: /content/Vein_Dataset_Resized/images/033_image08_L.png  \n",
            "  inflating: /content/Vein_Dataset_Resized/images/033_image09_L.png  \n",
            "  inflating: /content/Vein_Dataset_Resized/images/033_image10_L.png  \n",
            "  inflating: /content/Vein_Dataset_Resized/images/033_image11_L.png  \n",
            "  inflating: /content/Vein_Dataset_Resized/images/033_image12_L.png  \n",
            "  inflating: /content/Vein_Dataset_Resized/images/033_image13_L.png  \n",
            "  inflating: /content/Vein_Dataset_Resized/images/033_image14_L.png  \n",
            "  inflating: /content/Vein_Dataset_Resized/images/033_image15_L.png  \n",
            "  inflating: /content/Vein_Dataset_Resized/images/033_image16_L.png  \n",
            "  inflating: /content/Vein_Dataset_Resized/images/033_image17_L.png  \n",
            "  inflating: /content/Vein_Dataset_Resized/images/033_image18_L.png  \n",
            "  inflating: /content/Vein_Dataset_Resized/images/033_image19_L.png  \n",
            "  inflating: /content/Vein_Dataset_Resized/images/033_image20_L.png  \n",
            "  inflating: /content/Vein_Dataset_Resized/images/034_image01_L.png  \n",
            "  inflating: /content/Vein_Dataset_Resized/images/034_image02_L.png  \n",
            "  inflating: /content/Vein_Dataset_Resized/images/034_image03_L.png  \n",
            "  inflating: /content/Vein_Dataset_Resized/images/034_image04_L.png  \n",
            "  inflating: /content/Vein_Dataset_Resized/images/034_image05_L.png  \n",
            "  inflating: /content/Vein_Dataset_Resized/images/034_image06_L.png  \n",
            "  inflating: /content/Vein_Dataset_Resized/images/034_image07_L.png  \n",
            "  inflating: /content/Vein_Dataset_Resized/images/034_image08_L.png  \n",
            "  inflating: /content/Vein_Dataset_Resized/images/034_image09_L.png  \n",
            "  inflating: /content/Vein_Dataset_Resized/images/034_image10_L.png  \n",
            "  inflating: /content/Vein_Dataset_Resized/images/034_image11_L.png  \n",
            "  inflating: /content/Vein_Dataset_Resized/images/034_image12_L.png  \n",
            "  inflating: /content/Vein_Dataset_Resized/images/034_image13_L.png  \n",
            "  inflating: /content/Vein_Dataset_Resized/images/034_image14_L.png  \n",
            "  inflating: /content/Vein_Dataset_Resized/images/034_image15_L.png  \n",
            "  inflating: /content/Vein_Dataset_Resized/images/034_image16_L.png  \n",
            "  inflating: /content/Vein_Dataset_Resized/images/034_image17_L.png  \n",
            "  inflating: /content/Vein_Dataset_Resized/images/034_image18_L.png  \n",
            "  inflating: /content/Vein_Dataset_Resized/images/034_image19_L.png  \n",
            "  inflating: /content/Vein_Dataset_Resized/images/034_image20_L.png  \n",
            "  inflating: /content/Vein_Dataset_Resized/images/035_image01_L.png  \n",
            "  inflating: /content/Vein_Dataset_Resized/images/035_image02_L.png  \n",
            "  inflating: /content/Vein_Dataset_Resized/images/035_image03_L.png  \n",
            "  inflating: /content/Vein_Dataset_Resized/images/035_image04_L.png  \n",
            "  inflating: /content/Vein_Dataset_Resized/images/035_image05_L.png  \n",
            "  inflating: /content/Vein_Dataset_Resized/images/035_image06_L.png  \n",
            "  inflating: /content/Vein_Dataset_Resized/images/035_image07_L.png  \n",
            "  inflating: /content/Vein_Dataset_Resized/images/035_image08_L.png  \n",
            "  inflating: /content/Vein_Dataset_Resized/images/035_image09_L.png  \n",
            "  inflating: /content/Vein_Dataset_Resized/images/035_image10_L.png  \n",
            "  inflating: /content/Vein_Dataset_Resized/images/035_image11_L.png  \n",
            "  inflating: /content/Vein_Dataset_Resized/images/035_image12_L.png  \n",
            "  inflating: /content/Vein_Dataset_Resized/images/035_image13_L.png  \n",
            "  inflating: /content/Vein_Dataset_Resized/images/035_image14_L.png  \n",
            "  inflating: /content/Vein_Dataset_Resized/images/035_image15_L.png  \n",
            "  inflating: /content/Vein_Dataset_Resized/images/035_image16_L.png  \n",
            "  inflating: /content/Vein_Dataset_Resized/images/035_image17_L.png  \n",
            "  inflating: /content/Vein_Dataset_Resized/images/035_image18_L.png  \n",
            "  inflating: /content/Vein_Dataset_Resized/images/035_image19_L.png  \n",
            "  inflating: /content/Vein_Dataset_Resized/images/035_image20_L.png  \n",
            "  inflating: /content/Vein_Dataset_Resized/images/036_image01_L.png  \n",
            "  inflating: /content/Vein_Dataset_Resized/images/036_image02_L.png  \n",
            "  inflating: /content/Vein_Dataset_Resized/images/036_image03_L.png  \n",
            "  inflating: /content/Vein_Dataset_Resized/images/036_image04_L.png  \n",
            "  inflating: /content/Vein_Dataset_Resized/images/036_image05_L.png  \n",
            "  inflating: /content/Vein_Dataset_Resized/images/036_image06_L.png  \n",
            "  inflating: /content/Vein_Dataset_Resized/images/036_image07_L.png  \n",
            "  inflating: /content/Vein_Dataset_Resized/images/036_image08_L.png  \n",
            "  inflating: /content/Vein_Dataset_Resized/images/036_image09_L.png  \n",
            "  inflating: /content/Vein_Dataset_Resized/images/036_image10_L.png  \n",
            "  inflating: /content/Vein_Dataset_Resized/images/036_image11_L.png  \n",
            "  inflating: /content/Vein_Dataset_Resized/images/036_image12_L.png  \n",
            "  inflating: /content/Vein_Dataset_Resized/images/036_image13_L.png  \n",
            "  inflating: /content/Vein_Dataset_Resized/images/036_image14_L.png  \n",
            "  inflating: /content/Vein_Dataset_Resized/images/036_image15_L.png  \n",
            "  inflating: /content/Vein_Dataset_Resized/images/036_image16_L.png  \n",
            "  inflating: /content/Vein_Dataset_Resized/images/036_image17_L.png  \n",
            "  inflating: /content/Vein_Dataset_Resized/images/036_image18_L.png  \n",
            "  inflating: /content/Vein_Dataset_Resized/images/036_image19_L.png  \n",
            "  inflating: /content/Vein_Dataset_Resized/images/036_image20_L.png  \n",
            "  inflating: /content/Vein_Dataset_Resized/images/037_image01_L.png  \n",
            "  inflating: /content/Vein_Dataset_Resized/images/037_image02_L.png  \n",
            "  inflating: /content/Vein_Dataset_Resized/images/037_image03_L.png  \n",
            "  inflating: /content/Vein_Dataset_Resized/images/037_image04_L.png  \n",
            "  inflating: /content/Vein_Dataset_Resized/images/037_image05_L.png  \n",
            "  inflating: /content/Vein_Dataset_Resized/images/037_image06_L.png  \n",
            "  inflating: /content/Vein_Dataset_Resized/images/037_image07_L.png  \n",
            "  inflating: /content/Vein_Dataset_Resized/images/037_image08_L.png  \n",
            "  inflating: /content/Vein_Dataset_Resized/images/037_image09_L.png  \n",
            "  inflating: /content/Vein_Dataset_Resized/images/037_image10_L.png  \n",
            "  inflating: /content/Vein_Dataset_Resized/images/037_image11_L.png  \n",
            "  inflating: /content/Vein_Dataset_Resized/images/037_image12_L.png  \n",
            "  inflating: /content/Vein_Dataset_Resized/images/037_image13_L.png  \n",
            "  inflating: /content/Vein_Dataset_Resized/images/037_image14_L.png  \n",
            "  inflating: /content/Vein_Dataset_Resized/images/037_image15_L.png  \n",
            "  inflating: /content/Vein_Dataset_Resized/images/037_image16_L.png  \n",
            "  inflating: /content/Vein_Dataset_Resized/images/037_image17_L.png  \n",
            "  inflating: /content/Vein_Dataset_Resized/images/037_image18_L.png  \n",
            "  inflating: /content/Vein_Dataset_Resized/images/037_image19_L.png  \n",
            "  inflating: /content/Vein_Dataset_Resized/images/037_image20_L.png  \n",
            "  inflating: /content/Vein_Dataset_Resized/images/038_image01_L.png  \n",
            "  inflating: /content/Vein_Dataset_Resized/images/038_image02_L.png  \n",
            "  inflating: /content/Vein_Dataset_Resized/images/038_image03_L.png  \n",
            "  inflating: /content/Vein_Dataset_Resized/images/038_image04_L.png  \n",
            "  inflating: /content/Vein_Dataset_Resized/images/038_image05_L.png  \n",
            "  inflating: /content/Vein_Dataset_Resized/images/038_image06_L.png  \n",
            "  inflating: /content/Vein_Dataset_Resized/images/038_image07_L.png  \n",
            "  inflating: /content/Vein_Dataset_Resized/images/038_image08_L.png  \n",
            "  inflating: /content/Vein_Dataset_Resized/images/038_image09_L.png  \n",
            "  inflating: /content/Vein_Dataset_Resized/images/038_image10_L.png  \n",
            "  inflating: /content/Vein_Dataset_Resized/images/038_image11_L.png  \n",
            "  inflating: /content/Vein_Dataset_Resized/images/038_image12_L.png  \n",
            "  inflating: /content/Vein_Dataset_Resized/images/038_image13_L.png  \n",
            "  inflating: /content/Vein_Dataset_Resized/images/038_image14_L.png  \n",
            "  inflating: /content/Vein_Dataset_Resized/images/038_image15_L.png  \n",
            "  inflating: /content/Vein_Dataset_Resized/images/038_image16_L.png  \n",
            "  inflating: /content/Vein_Dataset_Resized/images/038_image17_L.png  \n",
            "  inflating: /content/Vein_Dataset_Resized/images/038_image18_L.png  \n",
            "  inflating: /content/Vein_Dataset_Resized/images/038_image19_L.png  \n",
            "  inflating: /content/Vein_Dataset_Resized/images/038_image20_L.png  \n",
            "  inflating: /content/Vein_Dataset_Resized/images/039_image01_L.png  \n",
            "  inflating: /content/Vein_Dataset_Resized/images/039_image02_L.png  \n",
            "  inflating: /content/Vein_Dataset_Resized/images/039_image03_L.png  \n",
            "  inflating: /content/Vein_Dataset_Resized/images/039_image04_L.png  \n",
            "  inflating: /content/Vein_Dataset_Resized/images/039_image05_L.png  \n",
            "  inflating: /content/Vein_Dataset_Resized/images/039_image06_L.png  \n",
            "  inflating: /content/Vein_Dataset_Resized/images/039_image07_L.png  \n",
            "  inflating: /content/Vein_Dataset_Resized/images/039_image08_L.png  \n",
            "  inflating: /content/Vein_Dataset_Resized/images/039_image09_L.png  \n",
            "  inflating: /content/Vein_Dataset_Resized/images/039_image10_L.png  \n",
            "  inflating: /content/Vein_Dataset_Resized/images/039_image11_L.png  \n",
            "  inflating: /content/Vein_Dataset_Resized/images/039_image12_L.png  \n",
            "  inflating: /content/Vein_Dataset_Resized/images/039_image13_L.png  \n",
            "  inflating: /content/Vein_Dataset_Resized/images/039_image14_L.png  \n",
            "  inflating: /content/Vein_Dataset_Resized/images/039_image15_L.png  \n",
            "  inflating: /content/Vein_Dataset_Resized/images/039_image16_L.png  \n",
            "  inflating: /content/Vein_Dataset_Resized/images/039_image17_L.png  \n",
            "  inflating: /content/Vein_Dataset_Resized/images/039_image18_L.png  \n",
            "  inflating: /content/Vein_Dataset_Resized/images/039_image19_L.png  \n",
            "  inflating: /content/Vein_Dataset_Resized/images/039_image20_L.png  \n",
            "  inflating: /content/Vein_Dataset_Resized/images/040_image01_L.png  \n",
            "  inflating: /content/Vein_Dataset_Resized/images/040_image02_L.png  \n",
            "  inflating: /content/Vein_Dataset_Resized/images/040_image03_L.png  \n",
            "  inflating: /content/Vein_Dataset_Resized/images/040_image04_L.png  \n",
            "  inflating: /content/Vein_Dataset_Resized/images/040_image05_L.png  \n",
            "  inflating: /content/Vein_Dataset_Resized/images/040_image06_L.png  \n",
            "  inflating: /content/Vein_Dataset_Resized/images/040_image07_L.png  \n",
            "  inflating: /content/Vein_Dataset_Resized/images/040_image08_L.png  \n",
            "  inflating: /content/Vein_Dataset_Resized/images/040_image09_L.png  \n",
            "  inflating: /content/Vein_Dataset_Resized/images/040_image10_L.png  \n",
            "  inflating: /content/Vein_Dataset_Resized/images/040_image11_L.png  \n",
            "  inflating: /content/Vein_Dataset_Resized/images/040_image12_L.png  \n",
            "  inflating: /content/Vein_Dataset_Resized/images/040_image13_L.png  \n",
            "  inflating: /content/Vein_Dataset_Resized/images/040_image14_L.png  \n",
            "  inflating: /content/Vein_Dataset_Resized/images/040_image15_L.png  \n",
            "  inflating: /content/Vein_Dataset_Resized/images/040_image16_L.png  \n",
            "  inflating: /content/Vein_Dataset_Resized/images/040_image17_L.png  \n",
            "  inflating: /content/Vein_Dataset_Resized/images/040_image18_L.png  \n",
            "  inflating: /content/Vein_Dataset_Resized/images/040_image19_L.png  \n",
            "  inflating: /content/Vein_Dataset_Resized/images/040_image20_L.png  \n",
            "  inflating: /content/Vein_Dataset_Resized/images/041_image01_L.png  \n",
            "  inflating: /content/Vein_Dataset_Resized/images/041_image02_L.png  \n",
            "  inflating: /content/Vein_Dataset_Resized/images/041_image03_L.png  \n",
            "  inflating: /content/Vein_Dataset_Resized/images/041_image04_L.png  \n",
            "  inflating: /content/Vein_Dataset_Resized/images/041_image05_L.png  \n",
            "  inflating: /content/Vein_Dataset_Resized/images/041_image06_L.png  \n",
            "  inflating: /content/Vein_Dataset_Resized/images/041_image07_L.png  \n",
            "  inflating: /content/Vein_Dataset_Resized/images/041_image08_L.png  \n",
            "  inflating: /content/Vein_Dataset_Resized/images/041_image09_L.png  \n",
            "  inflating: /content/Vein_Dataset_Resized/images/041_image10_L.png  \n",
            "  inflating: /content/Vein_Dataset_Resized/images/041_image11_L.png  \n",
            "  inflating: /content/Vein_Dataset_Resized/images/041_image12_L.png  \n",
            "  inflating: /content/Vein_Dataset_Resized/images/041_image13_L.png  \n",
            "  inflating: /content/Vein_Dataset_Resized/images/041_image14_L.png  \n",
            "  inflating: /content/Vein_Dataset_Resized/images/041_image15_L.png  \n",
            "  inflating: /content/Vein_Dataset_Resized/images/041_image16_L.png  \n",
            "  inflating: /content/Vein_Dataset_Resized/images/041_image17_L.png  \n",
            "  inflating: /content/Vein_Dataset_Resized/images/041_image18_L.png  \n",
            "  inflating: /content/Vein_Dataset_Resized/images/041_image19_L.png  \n",
            "  inflating: /content/Vein_Dataset_Resized/images/041_image20_L.png  \n",
            "   creating: /content/Vein_Dataset_Resized/labels/\n",
            "  inflating: /content/Vein_Dataset_Resized/labels/001_mask01_L.png  \n",
            "  inflating: /content/Vein_Dataset_Resized/labels/001_mask01_R.png  \n",
            "  inflating: /content/Vein_Dataset_Resized/labels/001_mask02_L.png  \n",
            "  inflating: /content/Vein_Dataset_Resized/labels/001_mask02_R.png  \n",
            "  inflating: /content/Vein_Dataset_Resized/labels/001_mask03_L.png  \n",
            "  inflating: /content/Vein_Dataset_Resized/labels/001_mask03_R.png  \n",
            "  inflating: /content/Vein_Dataset_Resized/labels/001_mask04_L.png  \n",
            "  inflating: /content/Vein_Dataset_Resized/labels/001_mask04_R.png  \n",
            "  inflating: /content/Vein_Dataset_Resized/labels/001_mask05_L.png  \n",
            "  inflating: /content/Vein_Dataset_Resized/labels/001_mask05_R.png  \n",
            "  inflating: /content/Vein_Dataset_Resized/labels/001_mask06_L.png  \n",
            "  inflating: /content/Vein_Dataset_Resized/labels/001_mask06_R.png  \n",
            "  inflating: /content/Vein_Dataset_Resized/labels/001_mask07_L.png  \n",
            "  inflating: /content/Vein_Dataset_Resized/labels/001_mask07_R.png  \n",
            "  inflating: /content/Vein_Dataset_Resized/labels/001_mask08_L.png  \n",
            "  inflating: /content/Vein_Dataset_Resized/labels/001_mask08_R.png  \n",
            "  inflating: /content/Vein_Dataset_Resized/labels/001_mask09_L.png  \n",
            "  inflating: /content/Vein_Dataset_Resized/labels/001_mask09_R.png  \n",
            "  inflating: /content/Vein_Dataset_Resized/labels/001_mask10_L.png  \n",
            "  inflating: /content/Vein_Dataset_Resized/labels/001_mask10_R.png  \n",
            "  inflating: /content/Vein_Dataset_Resized/labels/001_mask11_L.png  \n",
            "  inflating: /content/Vein_Dataset_Resized/labels/001_mask11_R.png  \n",
            "  inflating: /content/Vein_Dataset_Resized/labels/001_mask12_L.png  \n",
            "  inflating: /content/Vein_Dataset_Resized/labels/001_mask12_R.png  \n",
            "  inflating: /content/Vein_Dataset_Resized/labels/001_mask13_L.png  \n",
            "  inflating: /content/Vein_Dataset_Resized/labels/001_mask13_R.png  \n",
            "  inflating: /content/Vein_Dataset_Resized/labels/001_mask14_L.png  \n",
            "  inflating: /content/Vein_Dataset_Resized/labels/001_mask14_R.png  \n",
            "  inflating: /content/Vein_Dataset_Resized/labels/001_mask15_L.png  \n",
            "  inflating: /content/Vein_Dataset_Resized/labels/001_mask15_R.png  \n",
            "  inflating: /content/Vein_Dataset_Resized/labels/001_mask16_L.png  \n",
            "  inflating: /content/Vein_Dataset_Resized/labels/001_mask16_R.png  \n",
            "  inflating: /content/Vein_Dataset_Resized/labels/001_mask17_L.png  \n",
            "  inflating: /content/Vein_Dataset_Resized/labels/001_mask17_R.png  \n",
            "  inflating: /content/Vein_Dataset_Resized/labels/001_mask18_L.png  \n",
            "  inflating: /content/Vein_Dataset_Resized/labels/001_mask18_R.png  \n",
            "  inflating: /content/Vein_Dataset_Resized/labels/001_mask19_L.png  \n",
            "  inflating: /content/Vein_Dataset_Resized/labels/001_mask19_R.png  \n",
            "  inflating: /content/Vein_Dataset_Resized/labels/002_mask01_L.png  \n",
            "  inflating: /content/Vein_Dataset_Resized/labels/002_mask01_R.png  \n",
            "  inflating: /content/Vein_Dataset_Resized/labels/002_mask02_L.png  \n",
            "  inflating: /content/Vein_Dataset_Resized/labels/002_mask02_R.png  \n",
            "  inflating: /content/Vein_Dataset_Resized/labels/002_mask03_L.png  \n",
            "  inflating: /content/Vein_Dataset_Resized/labels/002_mask03_R.png  \n",
            "  inflating: /content/Vein_Dataset_Resized/labels/002_mask04_L.png  \n",
            "  inflating: /content/Vein_Dataset_Resized/labels/002_mask04_R.png  \n",
            "  inflating: /content/Vein_Dataset_Resized/labels/002_mask05_L.png  \n",
            "  inflating: /content/Vein_Dataset_Resized/labels/002_mask05_R.png  \n",
            "  inflating: /content/Vein_Dataset_Resized/labels/002_mask06_L.png  \n",
            "  inflating: /content/Vein_Dataset_Resized/labels/002_mask06_R.png  \n",
            "  inflating: /content/Vein_Dataset_Resized/labels/002_mask07_L.png  \n",
            "  inflating: /content/Vein_Dataset_Resized/labels/002_mask07_R.png  \n",
            "  inflating: /content/Vein_Dataset_Resized/labels/002_mask08_L.png  \n",
            "  inflating: /content/Vein_Dataset_Resized/labels/002_mask08_R.png  \n",
            "  inflating: /content/Vein_Dataset_Resized/labels/002_mask09_L.png  \n",
            "  inflating: /content/Vein_Dataset_Resized/labels/002_mask09_R.png  \n",
            "  inflating: /content/Vein_Dataset_Resized/labels/002_mask10_L.png  \n",
            "  inflating: /content/Vein_Dataset_Resized/labels/002_mask10_R.png  \n",
            "  inflating: /content/Vein_Dataset_Resized/labels/002_mask11_L.png  \n",
            "  inflating: /content/Vein_Dataset_Resized/labels/002_mask11_R.png  \n",
            "  inflating: /content/Vein_Dataset_Resized/labels/002_mask12_L.png  \n",
            "  inflating: /content/Vein_Dataset_Resized/labels/002_mask12_R.png  \n",
            "  inflating: /content/Vein_Dataset_Resized/labels/002_mask13_L.png  \n",
            "  inflating: /content/Vein_Dataset_Resized/labels/002_mask13_R.png  \n",
            "  inflating: /content/Vein_Dataset_Resized/labels/002_mask14_L.png  \n",
            "  inflating: /content/Vein_Dataset_Resized/labels/002_mask14_R.png  \n",
            "  inflating: /content/Vein_Dataset_Resized/labels/002_mask15_L.png  \n",
            "  inflating: /content/Vein_Dataset_Resized/labels/002_mask15_R.png  \n",
            "  inflating: /content/Vein_Dataset_Resized/labels/002_mask16_L.png  \n",
            "  inflating: /content/Vein_Dataset_Resized/labels/002_mask16_R.png  \n",
            "  inflating: /content/Vein_Dataset_Resized/labels/002_mask17_L.png  \n",
            "  inflating: /content/Vein_Dataset_Resized/labels/002_mask17_R.png  \n",
            "  inflating: /content/Vein_Dataset_Resized/labels/002_mask18_L.png  \n",
            "  inflating: /content/Vein_Dataset_Resized/labels/002_mask18_R.png  \n",
            "  inflating: /content/Vein_Dataset_Resized/labels/002_mask19_L.png  \n",
            "  inflating: /content/Vein_Dataset_Resized/labels/002_mask19_R.png  \n",
            "  inflating: /content/Vein_Dataset_Resized/labels/002_mask20_L.png  \n",
            "  inflating: /content/Vein_Dataset_Resized/labels/002_mask20_R.png  \n",
            "  inflating: /content/Vein_Dataset_Resized/labels/003_mask01_L.png  \n",
            "  inflating: /content/Vein_Dataset_Resized/labels/003_mask01_R.png  \n",
            "  inflating: /content/Vein_Dataset_Resized/labels/003_mask02_L.png  \n",
            "  inflating: /content/Vein_Dataset_Resized/labels/003_mask02_R.png  \n",
            "  inflating: /content/Vein_Dataset_Resized/labels/003_mask03_L.png  \n",
            "  inflating: /content/Vein_Dataset_Resized/labels/003_mask03_R.png  \n",
            "  inflating: /content/Vein_Dataset_Resized/labels/003_mask04_L.png  \n",
            "  inflating: /content/Vein_Dataset_Resized/labels/003_mask04_R.png  \n",
            "  inflating: /content/Vein_Dataset_Resized/labels/003_mask05_L.png  \n",
            "  inflating: /content/Vein_Dataset_Resized/labels/003_mask05_R.png  \n",
            "  inflating: /content/Vein_Dataset_Resized/labels/003_mask06_L.png  \n",
            "  inflating: /content/Vein_Dataset_Resized/labels/003_mask06_R.png  \n",
            "  inflating: /content/Vein_Dataset_Resized/labels/003_mask07_L.png  \n",
            "  inflating: /content/Vein_Dataset_Resized/labels/003_mask07_R.png  \n",
            "  inflating: /content/Vein_Dataset_Resized/labels/003_mask08_L.png  \n",
            "  inflating: /content/Vein_Dataset_Resized/labels/003_mask08_R.png  \n",
            "  inflating: /content/Vein_Dataset_Resized/labels/003_mask09_L.png  \n",
            "  inflating: /content/Vein_Dataset_Resized/labels/003_mask09_R.png  \n",
            "  inflating: /content/Vein_Dataset_Resized/labels/003_mask10_L.png  \n",
            "  inflating: /content/Vein_Dataset_Resized/labels/003_mask10_R.png  \n",
            "  inflating: /content/Vein_Dataset_Resized/labels/003_mask11_L.png  \n",
            "  inflating: /content/Vein_Dataset_Resized/labels/003_mask11_R.png  \n",
            "  inflating: /content/Vein_Dataset_Resized/labels/003_mask12_L.png  \n",
            "  inflating: /content/Vein_Dataset_Resized/labels/003_mask12_R.png  \n",
            "  inflating: /content/Vein_Dataset_Resized/labels/003_mask13_L.png  \n",
            "  inflating: /content/Vein_Dataset_Resized/labels/003_mask13_R.png  \n",
            "  inflating: /content/Vein_Dataset_Resized/labels/003_mask14_L.png  \n",
            "  inflating: /content/Vein_Dataset_Resized/labels/003_mask14_R.png  \n",
            "  inflating: /content/Vein_Dataset_Resized/labels/003_mask15_L.png  \n",
            "  inflating: /content/Vein_Dataset_Resized/labels/003_mask15_R.png  \n",
            "  inflating: /content/Vein_Dataset_Resized/labels/003_mask16_L.png  \n",
            "  inflating: /content/Vein_Dataset_Resized/labels/003_mask16_R.png  \n",
            "  inflating: /content/Vein_Dataset_Resized/labels/003_mask17_L.png  \n",
            "  inflating: /content/Vein_Dataset_Resized/labels/003_mask17_R.png  \n",
            "  inflating: /content/Vein_Dataset_Resized/labels/003_mask18_L.png  \n",
            "  inflating: /content/Vein_Dataset_Resized/labels/003_mask18_R.png  \n",
            "  inflating: /content/Vein_Dataset_Resized/labels/003_mask19_L.png  \n",
            "  inflating: /content/Vein_Dataset_Resized/labels/003_mask19_R.png  \n",
            "  inflating: /content/Vein_Dataset_Resized/labels/003_mask20_L.png  \n",
            "  inflating: /content/Vein_Dataset_Resized/labels/003_mask20_R.png  \n",
            "  inflating: /content/Vein_Dataset_Resized/labels/004_mask01_L.png  \n",
            "  inflating: /content/Vein_Dataset_Resized/labels/004_mask01_R.png  \n",
            "  inflating: /content/Vein_Dataset_Resized/labels/004_mask02_L.png  \n",
            "  inflating: /content/Vein_Dataset_Resized/labels/004_mask02_R.png  \n",
            "  inflating: /content/Vein_Dataset_Resized/labels/004_mask03_L.png  \n",
            "  inflating: /content/Vein_Dataset_Resized/labels/004_mask03_R.png  \n",
            "  inflating: /content/Vein_Dataset_Resized/labels/004_mask04_L.png  \n",
            "  inflating: /content/Vein_Dataset_Resized/labels/004_mask04_R.png  \n",
            "  inflating: /content/Vein_Dataset_Resized/labels/004_mask05_L.png  \n",
            "  inflating: /content/Vein_Dataset_Resized/labels/004_mask05_R.png  \n",
            "  inflating: /content/Vein_Dataset_Resized/labels/004_mask06_L.png  \n",
            "  inflating: /content/Vein_Dataset_Resized/labels/004_mask06_R.png  \n",
            "  inflating: /content/Vein_Dataset_Resized/labels/004_mask07_L.png  \n",
            "  inflating: /content/Vein_Dataset_Resized/labels/004_mask07_R.png  \n",
            "  inflating: /content/Vein_Dataset_Resized/labels/004_mask08_L.png  \n",
            "  inflating: /content/Vein_Dataset_Resized/labels/004_mask08_R.png  \n",
            "  inflating: /content/Vein_Dataset_Resized/labels/004_mask09_L.png  \n",
            "  inflating: /content/Vein_Dataset_Resized/labels/004_mask09_R.png  \n",
            "  inflating: /content/Vein_Dataset_Resized/labels/004_mask10_L.png  \n",
            "  inflating: /content/Vein_Dataset_Resized/labels/004_mask10_R.png  \n",
            "  inflating: /content/Vein_Dataset_Resized/labels/004_mask11_L.png  \n",
            "  inflating: /content/Vein_Dataset_Resized/labels/004_mask11_R.png  \n",
            "  inflating: /content/Vein_Dataset_Resized/labels/004_mask12_L.png  \n",
            "  inflating: /content/Vein_Dataset_Resized/labels/004_mask12_R.png  \n",
            "  inflating: /content/Vein_Dataset_Resized/labels/004_mask13_L.png  \n",
            "  inflating: /content/Vein_Dataset_Resized/labels/004_mask13_R.png  \n",
            "  inflating: /content/Vein_Dataset_Resized/labels/004_mask14_L.png  \n",
            "  inflating: /content/Vein_Dataset_Resized/labels/004_mask14_R.png  \n",
            "  inflating: /content/Vein_Dataset_Resized/labels/004_mask15_L.png  \n",
            "  inflating: /content/Vein_Dataset_Resized/labels/004_mask15_R.png  \n",
            "  inflating: /content/Vein_Dataset_Resized/labels/004_mask16_L.png  \n",
            "  inflating: /content/Vein_Dataset_Resized/labels/004_mask16_R.png  \n",
            "  inflating: /content/Vein_Dataset_Resized/labels/004_mask17_L.png  \n",
            "  inflating: /content/Vein_Dataset_Resized/labels/004_mask17_R.png  \n",
            "  inflating: /content/Vein_Dataset_Resized/labels/004_mask18_L.png  \n",
            "  inflating: /content/Vein_Dataset_Resized/labels/004_mask18_R.png  \n",
            "  inflating: /content/Vein_Dataset_Resized/labels/004_mask19_L.png  \n",
            "  inflating: /content/Vein_Dataset_Resized/labels/004_mask19_R.png  \n",
            "  inflating: /content/Vein_Dataset_Resized/labels/004_mask20_L.png  \n",
            "  inflating: /content/Vein_Dataset_Resized/labels/004_mask20_R.png  \n",
            "  inflating: /content/Vein_Dataset_Resized/labels/005_mask01_L.png  \n",
            "  inflating: /content/Vein_Dataset_Resized/labels/005_mask01_R.png  \n",
            "  inflating: /content/Vein_Dataset_Resized/labels/005_mask02_L.png  \n",
            "  inflating: /content/Vein_Dataset_Resized/labels/005_mask02_R.png  \n",
            "  inflating: /content/Vein_Dataset_Resized/labels/005_mask03_L.png  \n",
            "  inflating: /content/Vein_Dataset_Resized/labels/005_mask03_R.png  \n",
            "  inflating: /content/Vein_Dataset_Resized/labels/005_mask04_L.png  \n",
            "  inflating: /content/Vein_Dataset_Resized/labels/005_mask04_R.png  \n",
            "  inflating: /content/Vein_Dataset_Resized/labels/005_mask05_L.png  \n",
            "  inflating: /content/Vein_Dataset_Resized/labels/005_mask05_R.png  \n",
            "  inflating: /content/Vein_Dataset_Resized/labels/005_mask06_L.png  \n",
            "  inflating: /content/Vein_Dataset_Resized/labels/005_mask06_R.png  \n",
            "  inflating: /content/Vein_Dataset_Resized/labels/005_mask07_L.png  \n",
            "  inflating: /content/Vein_Dataset_Resized/labels/005_mask07_R.png  \n",
            "  inflating: /content/Vein_Dataset_Resized/labels/005_mask08_L.png  \n",
            "  inflating: /content/Vein_Dataset_Resized/labels/005_mask08_R.png  \n",
            "  inflating: /content/Vein_Dataset_Resized/labels/005_mask09_L.png  \n",
            "  inflating: /content/Vein_Dataset_Resized/labels/005_mask10_L.png  \n",
            "  inflating: /content/Vein_Dataset_Resized/labels/005_mask11_L.png  \n",
            "  inflating: /content/Vein_Dataset_Resized/labels/005_mask12_L.png  \n",
            "  inflating: /content/Vein_Dataset_Resized/labels/005_mask13_L.png  \n",
            "  inflating: /content/Vein_Dataset_Resized/labels/005_mask14_L.png  \n",
            "  inflating: /content/Vein_Dataset_Resized/labels/005_mask15_L.png  \n",
            "  inflating: /content/Vein_Dataset_Resized/labels/005_mask16_L.png  \n",
            "  inflating: /content/Vein_Dataset_Resized/labels/005_mask17_L.png  \n",
            "  inflating: /content/Vein_Dataset_Resized/labels/005_mask18_L.png  \n",
            "  inflating: /content/Vein_Dataset_Resized/labels/005_mask19_L.png  \n",
            "  inflating: /content/Vein_Dataset_Resized/labels/005_mask20_L.png  \n",
            "  inflating: /content/Vein_Dataset_Resized/labels/006_mask01_L.png  \n",
            "  inflating: /content/Vein_Dataset_Resized/labels/006_mask02_L.png  \n",
            "  inflating: /content/Vein_Dataset_Resized/labels/006_mask03_L.png  \n",
            "  inflating: /content/Vein_Dataset_Resized/labels/006_mask04_L.png  \n",
            "  inflating: /content/Vein_Dataset_Resized/labels/006_mask05_L.png  \n",
            "  inflating: /content/Vein_Dataset_Resized/labels/006_mask06_L.png  \n",
            "  inflating: /content/Vein_Dataset_Resized/labels/006_mask07_L.png  \n",
            "  inflating: /content/Vein_Dataset_Resized/labels/006_mask08_L.png  \n",
            "  inflating: /content/Vein_Dataset_Resized/labels/006_mask09_L.png  \n",
            "  inflating: /content/Vein_Dataset_Resized/labels/006_mask10_L.png  \n",
            "  inflating: /content/Vein_Dataset_Resized/labels/006_mask11_L.png  \n",
            "  inflating: /content/Vein_Dataset_Resized/labels/006_mask12_L.png  \n",
            "  inflating: /content/Vein_Dataset_Resized/labels/006_mask13_L.png  \n",
            "  inflating: /content/Vein_Dataset_Resized/labels/006_mask14_L.png  \n",
            "  inflating: /content/Vein_Dataset_Resized/labels/006_mask15_L.png  \n",
            "  inflating: /content/Vein_Dataset_Resized/labels/006_mask16_L.png  \n",
            "  inflating: /content/Vein_Dataset_Resized/labels/006_mask17_L.png  \n",
            "  inflating: /content/Vein_Dataset_Resized/labels/006_mask18_L.png  \n",
            "  inflating: /content/Vein_Dataset_Resized/labels/006_mask19_L.png  \n",
            "  inflating: /content/Vein_Dataset_Resized/labels/006_mask20_L.png  \n",
            "  inflating: /content/Vein_Dataset_Resized/labels/007_mask01_L.png  \n",
            "  inflating: /content/Vein_Dataset_Resized/labels/007_mask02_L.png  \n",
            "  inflating: /content/Vein_Dataset_Resized/labels/007_mask03_L.png  \n",
            "  inflating: /content/Vein_Dataset_Resized/labels/007_mask04_L.png  \n",
            "  inflating: /content/Vein_Dataset_Resized/labels/007_mask05_L.png  \n",
            "  inflating: /content/Vein_Dataset_Resized/labels/007_mask06_L.png  \n",
            "  inflating: /content/Vein_Dataset_Resized/labels/007_mask07_L.png  \n",
            "  inflating: /content/Vein_Dataset_Resized/labels/007_mask08_L.png  \n",
            "  inflating: /content/Vein_Dataset_Resized/labels/007_mask09_L.png  \n",
            "  inflating: /content/Vein_Dataset_Resized/labels/007_mask10_L.png  \n",
            "  inflating: /content/Vein_Dataset_Resized/labels/007_mask11_L.png  \n",
            "  inflating: /content/Vein_Dataset_Resized/labels/007_mask12_L.png  \n",
            "  inflating: /content/Vein_Dataset_Resized/labels/007_mask13_L.png  \n",
            "  inflating: /content/Vein_Dataset_Resized/labels/007_mask14_L.png  \n",
            "  inflating: /content/Vein_Dataset_Resized/labels/007_mask15_L.png  \n",
            "  inflating: /content/Vein_Dataset_Resized/labels/007_mask16_L.png  \n",
            "  inflating: /content/Vein_Dataset_Resized/labels/007_mask17_L.png  \n",
            "  inflating: /content/Vein_Dataset_Resized/labels/007_mask18_L.png  \n",
            "  inflating: /content/Vein_Dataset_Resized/labels/007_mask19_L.png  \n",
            "  inflating: /content/Vein_Dataset_Resized/labels/007_mask20_L.png  \n",
            "  inflating: /content/Vein_Dataset_Resized/labels/008_mask01_L.png  \n",
            "  inflating: /content/Vein_Dataset_Resized/labels/008_mask02_L.png  \n",
            "  inflating: /content/Vein_Dataset_Resized/labels/008_mask03_L.png  \n",
            "  inflating: /content/Vein_Dataset_Resized/labels/008_mask04_L.png  \n",
            "  inflating: /content/Vein_Dataset_Resized/labels/008_mask05_L.png  \n",
            "  inflating: /content/Vein_Dataset_Resized/labels/008_mask06_L.png  \n",
            "  inflating: /content/Vein_Dataset_Resized/labels/008_mask07_L.png  \n",
            "  inflating: /content/Vein_Dataset_Resized/labels/008_mask08_L.png  \n",
            "  inflating: /content/Vein_Dataset_Resized/labels/008_mask09_L.png  \n",
            "  inflating: /content/Vein_Dataset_Resized/labels/008_mask10_L.png  \n",
            "  inflating: /content/Vein_Dataset_Resized/labels/008_mask11_L.png  \n",
            "  inflating: /content/Vein_Dataset_Resized/labels/008_mask12_L.png  \n",
            "  inflating: /content/Vein_Dataset_Resized/labels/008_mask13_L.png  \n",
            "  inflating: /content/Vein_Dataset_Resized/labels/008_mask14_L.png  \n",
            "  inflating: /content/Vein_Dataset_Resized/labels/008_mask15_L.png  \n",
            "  inflating: /content/Vein_Dataset_Resized/labels/008_mask16_L.png  \n",
            "  inflating: /content/Vein_Dataset_Resized/labels/008_mask18_L.png  \n",
            "  inflating: /content/Vein_Dataset_Resized/labels/008_mask19_L.png  \n",
            "  inflating: /content/Vein_Dataset_Resized/labels/008_mask20_L.png  \n",
            "  inflating: /content/Vein_Dataset_Resized/labels/009_mask01_L.png  \n",
            "  inflating: /content/Vein_Dataset_Resized/labels/009_mask02_L.png  \n",
            "  inflating: /content/Vein_Dataset_Resized/labels/009_mask03_L.png  \n",
            "  inflating: /content/Vein_Dataset_Resized/labels/009_mask04_L.png  \n",
            "  inflating: /content/Vein_Dataset_Resized/labels/009_mask05_L.png  \n",
            "  inflating: /content/Vein_Dataset_Resized/labels/009_mask06_L.png  \n",
            "  inflating: /content/Vein_Dataset_Resized/labels/009_mask07_L.png  \n",
            "  inflating: /content/Vein_Dataset_Resized/labels/009_mask08_L.png  \n",
            "  inflating: /content/Vein_Dataset_Resized/labels/009_mask09_L.png  \n",
            "  inflating: /content/Vein_Dataset_Resized/labels/009_mask10_L.png  \n",
            "  inflating: /content/Vein_Dataset_Resized/labels/009_mask11_L.png  \n",
            "  inflating: /content/Vein_Dataset_Resized/labels/009_mask12_L.png  \n",
            "  inflating: /content/Vein_Dataset_Resized/labels/009_mask13_L.png  \n",
            "  inflating: /content/Vein_Dataset_Resized/labels/009_mask14_L.png  \n",
            "  inflating: /content/Vein_Dataset_Resized/labels/009_mask15_L.png  \n",
            "  inflating: /content/Vein_Dataset_Resized/labels/009_mask16_L.png  \n",
            "  inflating: /content/Vein_Dataset_Resized/labels/009_mask17_L.png  \n",
            "  inflating: /content/Vein_Dataset_Resized/labels/009_mask18_L.png  \n",
            "  inflating: /content/Vein_Dataset_Resized/labels/009_mask19_L.png  \n",
            "  inflating: /content/Vein_Dataset_Resized/labels/009_mask20_L.png  \n",
            "  inflating: /content/Vein_Dataset_Resized/labels/010_mask01_L.png  \n",
            "  inflating: /content/Vein_Dataset_Resized/labels/010_mask02_L.png  \n",
            "  inflating: /content/Vein_Dataset_Resized/labels/010_mask03_L.png  \n",
            "  inflating: /content/Vein_Dataset_Resized/labels/010_mask04_L.png  \n",
            "  inflating: /content/Vein_Dataset_Resized/labels/010_mask05_L.png  \n",
            "  inflating: /content/Vein_Dataset_Resized/labels/010_mask06_L.png  \n",
            "  inflating: /content/Vein_Dataset_Resized/labels/010_mask07_L.png  \n",
            "  inflating: /content/Vein_Dataset_Resized/labels/010_mask08_L.png  \n",
            "  inflating: /content/Vein_Dataset_Resized/labels/010_mask09_L.png  \n",
            "  inflating: /content/Vein_Dataset_Resized/labels/010_mask10_L.png  \n",
            "  inflating: /content/Vein_Dataset_Resized/labels/010_mask11_L.png  \n",
            "  inflating: /content/Vein_Dataset_Resized/labels/010_mask12_L.png  \n",
            "  inflating: /content/Vein_Dataset_Resized/labels/010_mask13_L.png  \n",
            "  inflating: /content/Vein_Dataset_Resized/labels/010_mask14_L.png  \n",
            "  inflating: /content/Vein_Dataset_Resized/labels/010_mask15_L.png  \n",
            "  inflating: /content/Vein_Dataset_Resized/labels/010_mask16_L.png  \n",
            "  inflating: /content/Vein_Dataset_Resized/labels/010_mask17_L.png  \n",
            "  inflating: /content/Vein_Dataset_Resized/labels/010_mask18_L.png  \n",
            "  inflating: /content/Vein_Dataset_Resized/labels/010_mask19_L.png  \n",
            "  inflating: /content/Vein_Dataset_Resized/labels/010_mask20_L.png  \n",
            "  inflating: /content/Vein_Dataset_Resized/labels/011_mask01_L.png  \n",
            "  inflating: /content/Vein_Dataset_Resized/labels/011_mask02_L.png  \n",
            "  inflating: /content/Vein_Dataset_Resized/labels/011_mask03_L.png  \n",
            "  inflating: /content/Vein_Dataset_Resized/labels/011_mask04_L.png  \n",
            "  inflating: /content/Vein_Dataset_Resized/labels/011_mask05_L.png  \n",
            "  inflating: /content/Vein_Dataset_Resized/labels/011_mask06_L.png  \n",
            "  inflating: /content/Vein_Dataset_Resized/labels/011_mask07_L.png  \n",
            "  inflating: /content/Vein_Dataset_Resized/labels/011_mask08_L.png  \n",
            "  inflating: /content/Vein_Dataset_Resized/labels/011_mask09_L.png  \n",
            "  inflating: /content/Vein_Dataset_Resized/labels/011_mask10_L.png  \n",
            "  inflating: /content/Vein_Dataset_Resized/labels/011_mask11_L.png  \n",
            "  inflating: /content/Vein_Dataset_Resized/labels/011_mask12_L.png  \n",
            "  inflating: /content/Vein_Dataset_Resized/labels/011_mask13_L.png  \n",
            "  inflating: /content/Vein_Dataset_Resized/labels/011_mask14_L.png  \n",
            "  inflating: /content/Vein_Dataset_Resized/labels/011_mask15_L.png  \n",
            "  inflating: /content/Vein_Dataset_Resized/labels/011_mask16_L.png  \n",
            "  inflating: /content/Vein_Dataset_Resized/labels/011_mask17_L.png  \n",
            "  inflating: /content/Vein_Dataset_Resized/labels/011_mask18_L.png  \n",
            "  inflating: /content/Vein_Dataset_Resized/labels/011_mask19_L.png  \n",
            "  inflating: /content/Vein_Dataset_Resized/labels/011_mask20_L.png  \n",
            "  inflating: /content/Vein_Dataset_Resized/labels/012_mask01_L.png  \n",
            "  inflating: /content/Vein_Dataset_Resized/labels/012_mask02_L.png  \n",
            "  inflating: /content/Vein_Dataset_Resized/labels/012_mask03_L.png  \n",
            "  inflating: /content/Vein_Dataset_Resized/labels/012_mask04_L.png  \n",
            "  inflating: /content/Vein_Dataset_Resized/labels/012_mask05_L.png  \n",
            "  inflating: /content/Vein_Dataset_Resized/labels/012_mask06_L.png  \n",
            "  inflating: /content/Vein_Dataset_Resized/labels/012_mask07_L.png  \n",
            "  inflating: /content/Vein_Dataset_Resized/labels/012_mask08_L.png  \n",
            "  inflating: /content/Vein_Dataset_Resized/labels/012_mask09_L.png  \n",
            "  inflating: /content/Vein_Dataset_Resized/labels/012_mask10_L.png  \n",
            "  inflating: /content/Vein_Dataset_Resized/labels/012_mask11_L.png  \n",
            "  inflating: /content/Vein_Dataset_Resized/labels/012_mask12_L.png  \n",
            "  inflating: /content/Vein_Dataset_Resized/labels/012_mask13_L.png  \n",
            "  inflating: /content/Vein_Dataset_Resized/labels/012_mask14_L.png  \n",
            "  inflating: /content/Vein_Dataset_Resized/labels/012_mask15_L.png  \n",
            "  inflating: /content/Vein_Dataset_Resized/labels/012_mask16_L.png  \n",
            "  inflating: /content/Vein_Dataset_Resized/labels/012_mask17_L.png  \n",
            "  inflating: /content/Vein_Dataset_Resized/labels/012_mask18_L.png  \n",
            "  inflating: /content/Vein_Dataset_Resized/labels/012_mask19_L.png  \n",
            "  inflating: /content/Vein_Dataset_Resized/labels/012_mask20_L.png  \n",
            "  inflating: /content/Vein_Dataset_Resized/labels/013_mask01_L.png  \n",
            "  inflating: /content/Vein_Dataset_Resized/labels/013_mask02_L.png  \n",
            "  inflating: /content/Vein_Dataset_Resized/labels/013_mask03_L.png  \n",
            "  inflating: /content/Vein_Dataset_Resized/labels/013_mask04_L.png  \n",
            "  inflating: /content/Vein_Dataset_Resized/labels/013_mask05_L.png  \n",
            "  inflating: /content/Vein_Dataset_Resized/labels/013_mask06_L.png  \n",
            "  inflating: /content/Vein_Dataset_Resized/labels/013_mask07_L.png  \n",
            "  inflating: /content/Vein_Dataset_Resized/labels/013_mask08_L.png  \n",
            "  inflating: /content/Vein_Dataset_Resized/labels/013_mask09_L.png  \n",
            "  inflating: /content/Vein_Dataset_Resized/labels/013_mask10_L.png  \n",
            "  inflating: /content/Vein_Dataset_Resized/labels/013_mask11_L.png  \n",
            "  inflating: /content/Vein_Dataset_Resized/labels/013_mask12_L.png  \n",
            "  inflating: /content/Vein_Dataset_Resized/labels/013_mask13_L.png  \n",
            "  inflating: /content/Vein_Dataset_Resized/labels/013_mask14_L.png  \n",
            "  inflating: /content/Vein_Dataset_Resized/labels/013_mask16_L.png  \n",
            "  inflating: /content/Vein_Dataset_Resized/labels/013_mask17_L.png  \n",
            "  inflating: /content/Vein_Dataset_Resized/labels/013_mask18_L.png  \n",
            "  inflating: /content/Vein_Dataset_Resized/labels/013_mask19_L.png  \n",
            "  inflating: /content/Vein_Dataset_Resized/labels/013_mask20_L.png  \n",
            "  inflating: /content/Vein_Dataset_Resized/labels/014_mask01_L.png  \n",
            "  inflating: /content/Vein_Dataset_Resized/labels/014_mask02_L.png  \n",
            "  inflating: /content/Vein_Dataset_Resized/labels/014_mask03_L.png  \n",
            "  inflating: /content/Vein_Dataset_Resized/labels/014_mask04_L.png  \n",
            "  inflating: /content/Vein_Dataset_Resized/labels/014_mask05_L.png  \n",
            "  inflating: /content/Vein_Dataset_Resized/labels/014_mask07_L.png  \n",
            "  inflating: /content/Vein_Dataset_Resized/labels/014_mask08_L.png  \n",
            "  inflating: /content/Vein_Dataset_Resized/labels/014_mask09_L.png  \n",
            "  inflating: /content/Vein_Dataset_Resized/labels/014_mask10_L.png  \n",
            "  inflating: /content/Vein_Dataset_Resized/labels/014_mask11_L.png  \n",
            "  inflating: /content/Vein_Dataset_Resized/labels/014_mask12_L.png  \n",
            "  inflating: /content/Vein_Dataset_Resized/labels/014_mask13_L.png  \n",
            "  inflating: /content/Vein_Dataset_Resized/labels/014_mask14_L.png  \n",
            "  inflating: /content/Vein_Dataset_Resized/labels/014_mask16_L.png  \n",
            "  inflating: /content/Vein_Dataset_Resized/labels/014_mask17_L.png  \n",
            "  inflating: /content/Vein_Dataset_Resized/labels/014_mask18_L.png  \n",
            "  inflating: /content/Vein_Dataset_Resized/labels/014_mask19_L.png  \n",
            "  inflating: /content/Vein_Dataset_Resized/labels/014_mask20_L.png  \n",
            "  inflating: /content/Vein_Dataset_Resized/labels/015_mask01_L.png  \n",
            "  inflating: /content/Vein_Dataset_Resized/labels/015_mask02_L.png  \n",
            "  inflating: /content/Vein_Dataset_Resized/labels/015_mask03_L.png  \n",
            "  inflating: /content/Vein_Dataset_Resized/labels/015_mask04_L.png  \n",
            "  inflating: /content/Vein_Dataset_Resized/labels/015_mask05_L.png  \n",
            "  inflating: /content/Vein_Dataset_Resized/labels/015_mask06_L.png  \n",
            "  inflating: /content/Vein_Dataset_Resized/labels/015_mask07_L.png  \n",
            "  inflating: /content/Vein_Dataset_Resized/labels/015_mask08_L.png  \n",
            "  inflating: /content/Vein_Dataset_Resized/labels/015_mask09_L.png  \n",
            "  inflating: /content/Vein_Dataset_Resized/labels/015_mask10_L.png  \n",
            "  inflating: /content/Vein_Dataset_Resized/labels/015_mask11_L.png  \n",
            "  inflating: /content/Vein_Dataset_Resized/labels/015_mask12_L.png  \n",
            "  inflating: /content/Vein_Dataset_Resized/labels/015_mask13_L.png  \n",
            "  inflating: /content/Vein_Dataset_Resized/labels/015_mask14_L.png  \n",
            "  inflating: /content/Vein_Dataset_Resized/labels/015_mask16_L.png  \n",
            "  inflating: /content/Vein_Dataset_Resized/labels/015_mask17_L.png  \n",
            "  inflating: /content/Vein_Dataset_Resized/labels/015_mask18_L.png  \n",
            "  inflating: /content/Vein_Dataset_Resized/labels/015_mask19_L.png  \n",
            "  inflating: /content/Vein_Dataset_Resized/labels/015_mask20_L.png  \n",
            "  inflating: /content/Vein_Dataset_Resized/labels/016_mask01_L.png  \n",
            "  inflating: /content/Vein_Dataset_Resized/labels/016_mask02_L.png  \n",
            "  inflating: /content/Vein_Dataset_Resized/labels/016_mask03_L.png  \n",
            "  inflating: /content/Vein_Dataset_Resized/labels/016_mask04_L.png  \n",
            "  inflating: /content/Vein_Dataset_Resized/labels/016_mask05_L.png  \n",
            "  inflating: /content/Vein_Dataset_Resized/labels/016_mask06_L.png  \n",
            "  inflating: /content/Vein_Dataset_Resized/labels/016_mask07_L.png  \n",
            "  inflating: /content/Vein_Dataset_Resized/labels/016_mask08_L.png  \n",
            "  inflating: /content/Vein_Dataset_Resized/labels/016_mask09_L.png  \n",
            "  inflating: /content/Vein_Dataset_Resized/labels/016_mask10_L.png  \n",
            "  inflating: /content/Vein_Dataset_Resized/labels/016_mask11_L.png  \n",
            "  inflating: /content/Vein_Dataset_Resized/labels/016_mask12_L.png  \n",
            "  inflating: /content/Vein_Dataset_Resized/labels/016_mask13_L.png  \n",
            "  inflating: /content/Vein_Dataset_Resized/labels/016_mask14_L.png  \n",
            "  inflating: /content/Vein_Dataset_Resized/labels/016_mask15_L.png  \n",
            "  inflating: /content/Vein_Dataset_Resized/labels/016_mask16_L.png  \n",
            "  inflating: /content/Vein_Dataset_Resized/labels/016_mask17_L.png  \n",
            "  inflating: /content/Vein_Dataset_Resized/labels/016_mask18_L.png  \n",
            "  inflating: /content/Vein_Dataset_Resized/labels/016_mask19_L.png  \n",
            "  inflating: /content/Vein_Dataset_Resized/labels/016_mask20_L.png  \n",
            "  inflating: /content/Vein_Dataset_Resized/labels/017_mask01_L.png  \n",
            "  inflating: /content/Vein_Dataset_Resized/labels/017_mask02_L.png  \n",
            "  inflating: /content/Vein_Dataset_Resized/labels/017_mask03_L.png  \n",
            "  inflating: /content/Vein_Dataset_Resized/labels/017_mask04_L.png  \n",
            "  inflating: /content/Vein_Dataset_Resized/labels/017_mask05_L.png  \n",
            "  inflating: /content/Vein_Dataset_Resized/labels/017_mask06_L.png  \n",
            "  inflating: /content/Vein_Dataset_Resized/labels/017_mask07_L.png  \n",
            "  inflating: /content/Vein_Dataset_Resized/labels/017_mask08_L.png  \n",
            "  inflating: /content/Vein_Dataset_Resized/labels/017_mask09_L.png  \n",
            "  inflating: /content/Vein_Dataset_Resized/labels/017_mask10_L.png  \n",
            "  inflating: /content/Vein_Dataset_Resized/labels/017_mask12_L.png  \n",
            "  inflating: /content/Vein_Dataset_Resized/labels/017_mask13_L.png  \n",
            "  inflating: /content/Vein_Dataset_Resized/labels/017_mask14_L.png  \n",
            "  inflating: /content/Vein_Dataset_Resized/labels/017_mask15_L.png  \n",
            "  inflating: /content/Vein_Dataset_Resized/labels/017_mask16_L.png  \n",
            "  inflating: /content/Vein_Dataset_Resized/labels/017_mask17_L.png  \n",
            "  inflating: /content/Vein_Dataset_Resized/labels/017_mask18_L.png  \n",
            "  inflating: /content/Vein_Dataset_Resized/labels/017_mask19_L.png  \n",
            "  inflating: /content/Vein_Dataset_Resized/labels/017_mask20_L.png  \n",
            "  inflating: /content/Vein_Dataset_Resized/labels/018_mask01_L.png  \n",
            "  inflating: /content/Vein_Dataset_Resized/labels/018_mask02_L.png  \n",
            "  inflating: /content/Vein_Dataset_Resized/labels/018_mask03_L.png  \n",
            "  inflating: /content/Vein_Dataset_Resized/labels/018_mask04_L.png  \n",
            "  inflating: /content/Vein_Dataset_Resized/labels/018_mask05_L.png  \n",
            "  inflating: /content/Vein_Dataset_Resized/labels/018_mask06_L.png  \n",
            "  inflating: /content/Vein_Dataset_Resized/labels/018_mask07_L.png  \n",
            "  inflating: /content/Vein_Dataset_Resized/labels/018_mask08_L.png  \n",
            "  inflating: /content/Vein_Dataset_Resized/labels/018_mask09_L.png  \n",
            "  inflating: /content/Vein_Dataset_Resized/labels/018_mask10_L.png  \n",
            "  inflating: /content/Vein_Dataset_Resized/labels/018_mask11_L.png  \n",
            "  inflating: /content/Vein_Dataset_Resized/labels/018_mask12_L.png  \n",
            "  inflating: /content/Vein_Dataset_Resized/labels/018_mask13_L.png  \n",
            "  inflating: /content/Vein_Dataset_Resized/labels/018_mask14_L.png  \n",
            "  inflating: /content/Vein_Dataset_Resized/labels/018_mask15_L.png  \n",
            "  inflating: /content/Vein_Dataset_Resized/labels/018_mask16_L.png  \n",
            "  inflating: /content/Vein_Dataset_Resized/labels/018_mask17_L.png  \n",
            "  inflating: /content/Vein_Dataset_Resized/labels/018_mask18_L.png  \n",
            "  inflating: /content/Vein_Dataset_Resized/labels/018_mask19_L.png  \n",
            "  inflating: /content/Vein_Dataset_Resized/labels/018_mask20_L.png  \n",
            "  inflating: /content/Vein_Dataset_Resized/labels/019_mask01_L.png  \n",
            "  inflating: /content/Vein_Dataset_Resized/labels/019_mask02_L.png  \n",
            "  inflating: /content/Vein_Dataset_Resized/labels/019_mask03_L.png  \n",
            "  inflating: /content/Vein_Dataset_Resized/labels/019_mask04_L.png  \n",
            "  inflating: /content/Vein_Dataset_Resized/labels/019_mask05_L.png  \n",
            "  inflating: /content/Vein_Dataset_Resized/labels/019_mask06_L.png  \n",
            "  inflating: /content/Vein_Dataset_Resized/labels/019_mask07_L.png  \n",
            "  inflating: /content/Vein_Dataset_Resized/labels/019_mask08_L.png  \n",
            "  inflating: /content/Vein_Dataset_Resized/labels/019_mask09_L.png  \n",
            "  inflating: /content/Vein_Dataset_Resized/labels/019_mask10_L.png  \n",
            "  inflating: /content/Vein_Dataset_Resized/labels/019_mask11_L.png  \n",
            "  inflating: /content/Vein_Dataset_Resized/labels/019_mask12_L.png  \n",
            "  inflating: /content/Vein_Dataset_Resized/labels/019_mask13_L.png  \n",
            "  inflating: /content/Vein_Dataset_Resized/labels/019_mask14_L.png  \n",
            "  inflating: /content/Vein_Dataset_Resized/labels/019_mask15_L.png  \n",
            "  inflating: /content/Vein_Dataset_Resized/labels/019_mask16_L.png  \n",
            "  inflating: /content/Vein_Dataset_Resized/labels/019_mask17_L.png  \n",
            "  inflating: /content/Vein_Dataset_Resized/labels/019_mask18_L.png  \n",
            "  inflating: /content/Vein_Dataset_Resized/labels/019_mask19_L.png  \n",
            "  inflating: /content/Vein_Dataset_Resized/labels/019_mask20_L.png  \n",
            "  inflating: /content/Vein_Dataset_Resized/labels/020_mask01_L.png  \n",
            "  inflating: /content/Vein_Dataset_Resized/labels/020_mask02_L.png  \n",
            "  inflating: /content/Vein_Dataset_Resized/labels/020_mask03_L.png  \n",
            "  inflating: /content/Vein_Dataset_Resized/labels/020_mask04_L.png  \n",
            "  inflating: /content/Vein_Dataset_Resized/labels/020_mask05_L.png  \n",
            "  inflating: /content/Vein_Dataset_Resized/labels/020_mask06_L.png  \n",
            "  inflating: /content/Vein_Dataset_Resized/labels/020_mask07_L.png  \n",
            "  inflating: /content/Vein_Dataset_Resized/labels/020_mask08_L.png  \n",
            "  inflating: /content/Vein_Dataset_Resized/labels/020_mask09_L.png  \n",
            "  inflating: /content/Vein_Dataset_Resized/labels/020_mask10_L.png  \n",
            "  inflating: /content/Vein_Dataset_Resized/labels/020_mask11_L.png  \n",
            "  inflating: /content/Vein_Dataset_Resized/labels/020_mask12_L.png  \n",
            "  inflating: /content/Vein_Dataset_Resized/labels/020_mask13_L.png  \n",
            "  inflating: /content/Vein_Dataset_Resized/labels/020_mask14_L.png  \n",
            "  inflating: /content/Vein_Dataset_Resized/labels/020_mask15_L.png  \n",
            "  inflating: /content/Vein_Dataset_Resized/labels/020_mask16_L.png  \n",
            "  inflating: /content/Vein_Dataset_Resized/labels/020_mask17_L.png  \n",
            "  inflating: /content/Vein_Dataset_Resized/labels/020_mask18_L.png  \n",
            "  inflating: /content/Vein_Dataset_Resized/labels/020_mask19_L.png  \n",
            "  inflating: /content/Vein_Dataset_Resized/labels/020_mask20_L.png  \n",
            "  inflating: /content/Vein_Dataset_Resized/labels/021_mask01_L.png  \n",
            "  inflating: /content/Vein_Dataset_Resized/labels/021_mask02_L.png  \n",
            "  inflating: /content/Vein_Dataset_Resized/labels/021_mask03_L.png  \n",
            "  inflating: /content/Vein_Dataset_Resized/labels/021_mask04_L.png  \n",
            "  inflating: /content/Vein_Dataset_Resized/labels/021_mask05_L.png  \n",
            "  inflating: /content/Vein_Dataset_Resized/labels/021_mask06_L.png  \n",
            "  inflating: /content/Vein_Dataset_Resized/labels/021_mask07_L.png  \n",
            "  inflating: /content/Vein_Dataset_Resized/labels/021_mask08_L.png  \n",
            "  inflating: /content/Vein_Dataset_Resized/labels/021_mask09_L.png  \n",
            "  inflating: /content/Vein_Dataset_Resized/labels/021_mask10_L.png  \n",
            "  inflating: /content/Vein_Dataset_Resized/labels/021_mask11_L.png  \n",
            "  inflating: /content/Vein_Dataset_Resized/labels/021_mask12_L.png  \n",
            "  inflating: /content/Vein_Dataset_Resized/labels/021_mask13_L.png  \n",
            "  inflating: /content/Vein_Dataset_Resized/labels/021_mask14_L.png  \n",
            "  inflating: /content/Vein_Dataset_Resized/labels/021_mask15_L.png  \n",
            "  inflating: /content/Vein_Dataset_Resized/labels/021_mask16_L.png  \n",
            "  inflating: /content/Vein_Dataset_Resized/labels/021_mask17_L.png  \n",
            "  inflating: /content/Vein_Dataset_Resized/labels/021_mask18_L.png  \n",
            "  inflating: /content/Vein_Dataset_Resized/labels/021_mask19_L.png  \n",
            "  inflating: /content/Vein_Dataset_Resized/labels/021_mask20_L.png  \n",
            "  inflating: /content/Vein_Dataset_Resized/labels/022_mask01_L.png  \n",
            "  inflating: /content/Vein_Dataset_Resized/labels/022_mask02_L.png  \n",
            "  inflating: /content/Vein_Dataset_Resized/labels/022_mask03_L.png  \n",
            "  inflating: /content/Vein_Dataset_Resized/labels/022_mask04_L.png  \n",
            "  inflating: /content/Vein_Dataset_Resized/labels/022_mask05_L.png  \n",
            "  inflating: /content/Vein_Dataset_Resized/labels/022_mask06_L.png  \n",
            "  inflating: /content/Vein_Dataset_Resized/labels/022_mask07_L.png  \n",
            "  inflating: /content/Vein_Dataset_Resized/labels/022_mask08_L.png  \n",
            "  inflating: /content/Vein_Dataset_Resized/labels/022_mask09_L.png  \n",
            "  inflating: /content/Vein_Dataset_Resized/labels/022_mask10_L.png  \n",
            "  inflating: /content/Vein_Dataset_Resized/labels/022_mask11_L.png  \n",
            "  inflating: /content/Vein_Dataset_Resized/labels/022_mask12_L.png  \n",
            "  inflating: /content/Vein_Dataset_Resized/labels/022_mask13_L.png  \n",
            "  inflating: /content/Vein_Dataset_Resized/labels/022_mask14_L.png  \n",
            "  inflating: /content/Vein_Dataset_Resized/labels/022_mask15_L.png  \n",
            "  inflating: /content/Vein_Dataset_Resized/labels/022_mask16_L.png  \n",
            "  inflating: /content/Vein_Dataset_Resized/labels/022_mask17_L.png  \n",
            "  inflating: /content/Vein_Dataset_Resized/labels/022_mask18_L.png  \n",
            "  inflating: /content/Vein_Dataset_Resized/labels/022_mask19_L.png  \n",
            "  inflating: /content/Vein_Dataset_Resized/labels/022_mask20_L.png  \n",
            "  inflating: /content/Vein_Dataset_Resized/labels/023_mask01_L.png  \n",
            "  inflating: /content/Vein_Dataset_Resized/labels/023_mask02_L.png  \n",
            "  inflating: /content/Vein_Dataset_Resized/labels/023_mask03_L.png  \n",
            "  inflating: /content/Vein_Dataset_Resized/labels/023_mask04_L.png  \n",
            "  inflating: /content/Vein_Dataset_Resized/labels/023_mask05_L.png  \n",
            "  inflating: /content/Vein_Dataset_Resized/labels/023_mask06_L.png  \n",
            "  inflating: /content/Vein_Dataset_Resized/labels/023_mask07_L.png  \n",
            "  inflating: /content/Vein_Dataset_Resized/labels/023_mask08_L.png  \n",
            "  inflating: /content/Vein_Dataset_Resized/labels/023_mask09_L.png  \n",
            "  inflating: /content/Vein_Dataset_Resized/labels/023_mask10_L.png  \n",
            "  inflating: /content/Vein_Dataset_Resized/labels/023_mask11_L.png  \n",
            "  inflating: /content/Vein_Dataset_Resized/labels/023_mask12_L.png  \n",
            "  inflating: /content/Vein_Dataset_Resized/labels/023_mask13_L.png  \n",
            "  inflating: /content/Vein_Dataset_Resized/labels/023_mask14_L.png  \n",
            "  inflating: /content/Vein_Dataset_Resized/labels/023_mask15_L.png  \n",
            "  inflating: /content/Vein_Dataset_Resized/labels/023_mask16_L.png  \n",
            "  inflating: /content/Vein_Dataset_Resized/labels/023_mask17_L.png  \n",
            "  inflating: /content/Vein_Dataset_Resized/labels/023_mask18_L.png  \n",
            "  inflating: /content/Vein_Dataset_Resized/labels/023_mask19_L.png  \n",
            "  inflating: /content/Vein_Dataset_Resized/labels/023_mask20_L.png  \n",
            "  inflating: /content/Vein_Dataset_Resized/labels/024_mask01_L.png  \n",
            "  inflating: /content/Vein_Dataset_Resized/labels/024_mask02_L.png  \n",
            "  inflating: /content/Vein_Dataset_Resized/labels/024_mask03_L.png  \n",
            "  inflating: /content/Vein_Dataset_Resized/labels/024_mask04_L.png  \n",
            "  inflating: /content/Vein_Dataset_Resized/labels/024_mask05_L.png  \n",
            "  inflating: /content/Vein_Dataset_Resized/labels/024_mask06_L.png  \n",
            "  inflating: /content/Vein_Dataset_Resized/labels/024_mask07_L.png  \n",
            "  inflating: /content/Vein_Dataset_Resized/labels/024_mask08_L.png  \n",
            "  inflating: /content/Vein_Dataset_Resized/labels/024_mask09_L.png  \n",
            "  inflating: /content/Vein_Dataset_Resized/labels/024_mask10_L.png  \n",
            "  inflating: /content/Vein_Dataset_Resized/labels/024_mask11_L.png  \n",
            "  inflating: /content/Vein_Dataset_Resized/labels/024_mask12_L.png  \n",
            "  inflating: /content/Vein_Dataset_Resized/labels/024_mask13_L.png  \n",
            "  inflating: /content/Vein_Dataset_Resized/labels/024_mask14_L.png  \n",
            "  inflating: /content/Vein_Dataset_Resized/labels/024_mask15_L.png  \n",
            "  inflating: /content/Vein_Dataset_Resized/labels/024_mask16_L.png  \n",
            "  inflating: /content/Vein_Dataset_Resized/labels/024_mask17_L.png  \n",
            "  inflating: /content/Vein_Dataset_Resized/labels/024_mask18_L.png  \n",
            "  inflating: /content/Vein_Dataset_Resized/labels/024_mask19_L.png  \n",
            "  inflating: /content/Vein_Dataset_Resized/labels/024_mask20_L.png  \n",
            "  inflating: /content/Vein_Dataset_Resized/labels/025_mask01_L.png  \n",
            "  inflating: /content/Vein_Dataset_Resized/labels/025_mask02_L.png  \n",
            "  inflating: /content/Vein_Dataset_Resized/labels/025_mask03_L.png  \n",
            "  inflating: /content/Vein_Dataset_Resized/labels/025_mask04_L.png  \n",
            "  inflating: /content/Vein_Dataset_Resized/labels/025_mask05_L.png  \n",
            "  inflating: /content/Vein_Dataset_Resized/labels/025_mask06_L.png  \n",
            "  inflating: /content/Vein_Dataset_Resized/labels/025_mask07_L.png  \n",
            "  inflating: /content/Vein_Dataset_Resized/labels/025_mask08_L.png  \n",
            "  inflating: /content/Vein_Dataset_Resized/labels/025_mask09_L.png  \n",
            "  inflating: /content/Vein_Dataset_Resized/labels/025_mask10_L.png  \n",
            "  inflating: /content/Vein_Dataset_Resized/labels/025_mask11_L.png  \n",
            "  inflating: /content/Vein_Dataset_Resized/labels/025_mask12_L.png  \n",
            "  inflating: /content/Vein_Dataset_Resized/labels/025_mask13_L.png  \n",
            "  inflating: /content/Vein_Dataset_Resized/labels/025_mask14_L.png  \n",
            "  inflating: /content/Vein_Dataset_Resized/labels/025_mask15_L.png  \n",
            "  inflating: /content/Vein_Dataset_Resized/labels/025_mask16_L.png  \n",
            "  inflating: /content/Vein_Dataset_Resized/labels/025_mask17_L.png  \n",
            "  inflating: /content/Vein_Dataset_Resized/labels/025_mask18_L.png  \n",
            "  inflating: /content/Vein_Dataset_Resized/labels/025_mask19_L.png  \n",
            "  inflating: /content/Vein_Dataset_Resized/labels/025_mask20_L.png  \n",
            "  inflating: /content/Vein_Dataset_Resized/labels/026_mask01_L.png  \n",
            "  inflating: /content/Vein_Dataset_Resized/labels/026_mask02_L.png  \n",
            "  inflating: /content/Vein_Dataset_Resized/labels/026_mask03_L.png  \n",
            "  inflating: /content/Vein_Dataset_Resized/labels/026_mask04_L.png  \n",
            "  inflating: /content/Vein_Dataset_Resized/labels/026_mask05_L.png  \n",
            "  inflating: /content/Vein_Dataset_Resized/labels/026_mask06_L.png  \n",
            "  inflating: /content/Vein_Dataset_Resized/labels/026_mask07_L.png  \n",
            "  inflating: /content/Vein_Dataset_Resized/labels/026_mask08_L.png  \n",
            "  inflating: /content/Vein_Dataset_Resized/labels/026_mask09_L.png  \n",
            "  inflating: /content/Vein_Dataset_Resized/labels/026_mask10_L.png  \n",
            "  inflating: /content/Vein_Dataset_Resized/labels/026_mask11_L.png  \n",
            "  inflating: /content/Vein_Dataset_Resized/labels/026_mask12_L.png  \n",
            "  inflating: /content/Vein_Dataset_Resized/labels/026_mask13_L.png  \n",
            "  inflating: /content/Vein_Dataset_Resized/labels/026_mask14_L.png  \n",
            "  inflating: /content/Vein_Dataset_Resized/labels/026_mask15_L.png  \n",
            "  inflating: /content/Vein_Dataset_Resized/labels/026_mask16_L.png  \n",
            "  inflating: /content/Vein_Dataset_Resized/labels/026_mask17_L.png  \n",
            "  inflating: /content/Vein_Dataset_Resized/labels/026_mask18_L.png  \n",
            "  inflating: /content/Vein_Dataset_Resized/labels/026_mask19_L.png  \n",
            "  inflating: /content/Vein_Dataset_Resized/labels/026_mask20_L.png  \n",
            "  inflating: /content/Vein_Dataset_Resized/labels/027_mask01_L.png  \n",
            "  inflating: /content/Vein_Dataset_Resized/labels/027_mask02_L.png  \n",
            "  inflating: /content/Vein_Dataset_Resized/labels/027_mask03_L.png  \n",
            "  inflating: /content/Vein_Dataset_Resized/labels/027_mask04_L.png  \n",
            "  inflating: /content/Vein_Dataset_Resized/labels/027_mask05_L.png  \n",
            "  inflating: /content/Vein_Dataset_Resized/labels/027_mask06_L.png  \n",
            "  inflating: /content/Vein_Dataset_Resized/labels/027_mask07_L.png  \n",
            "  inflating: /content/Vein_Dataset_Resized/labels/027_mask08_L.png  \n",
            "  inflating: /content/Vein_Dataset_Resized/labels/027_mask09_L.png  \n",
            "  inflating: /content/Vein_Dataset_Resized/labels/027_mask10_L.png  \n",
            "  inflating: /content/Vein_Dataset_Resized/labels/027_mask11_L.png  \n",
            "  inflating: /content/Vein_Dataset_Resized/labels/027_mask12_L.png  \n",
            "  inflating: /content/Vein_Dataset_Resized/labels/027_mask13_L.png  \n",
            "  inflating: /content/Vein_Dataset_Resized/labels/027_mask14_L.png  \n",
            "  inflating: /content/Vein_Dataset_Resized/labels/027_mask15_L.png  \n",
            "  inflating: /content/Vein_Dataset_Resized/labels/027_mask16_L.png  \n",
            "  inflating: /content/Vein_Dataset_Resized/labels/027_mask17_L.png  \n",
            "  inflating: /content/Vein_Dataset_Resized/labels/027_mask18_L.png  \n",
            "  inflating: /content/Vein_Dataset_Resized/labels/027_mask19_L.png  \n",
            "  inflating: /content/Vein_Dataset_Resized/labels/027_mask20_L.png  \n",
            "  inflating: /content/Vein_Dataset_Resized/labels/028_mask01_L.png  \n",
            "  inflating: /content/Vein_Dataset_Resized/labels/028_mask02_L.png  \n",
            "  inflating: /content/Vein_Dataset_Resized/labels/028_mask03_L.png  \n",
            "  inflating: /content/Vein_Dataset_Resized/labels/028_mask04_L.png  \n",
            "  inflating: /content/Vein_Dataset_Resized/labels/028_mask05_L.png  \n",
            "  inflating: /content/Vein_Dataset_Resized/labels/028_mask06_L.png  \n",
            "  inflating: /content/Vein_Dataset_Resized/labels/028_mask07_L.png  \n",
            "  inflating: /content/Vein_Dataset_Resized/labels/028_mask08_L.png  \n",
            "  inflating: /content/Vein_Dataset_Resized/labels/028_mask09_L.png  \n",
            "  inflating: /content/Vein_Dataset_Resized/labels/028_mask10_L.png  \n",
            "  inflating: /content/Vein_Dataset_Resized/labels/028_mask11_L.png  \n",
            "  inflating: /content/Vein_Dataset_Resized/labels/028_mask12_L.png  \n",
            "  inflating: /content/Vein_Dataset_Resized/labels/028_mask13_L.png  \n",
            "  inflating: /content/Vein_Dataset_Resized/labels/028_mask14_L.png  \n",
            "  inflating: /content/Vein_Dataset_Resized/labels/028_mask15_L.png  \n",
            "  inflating: /content/Vein_Dataset_Resized/labels/028_mask16_L.png  \n",
            "  inflating: /content/Vein_Dataset_Resized/labels/028_mask17_L.png  \n",
            "  inflating: /content/Vein_Dataset_Resized/labels/028_mask18_L.png  \n",
            "  inflating: /content/Vein_Dataset_Resized/labels/028_mask19_L.png  \n",
            "  inflating: /content/Vein_Dataset_Resized/labels/028_mask20_L.png  \n",
            "  inflating: /content/Vein_Dataset_Resized/labels/029_mask01_L.png  \n",
            "  inflating: /content/Vein_Dataset_Resized/labels/029_mask02_L.png  \n",
            "  inflating: /content/Vein_Dataset_Resized/labels/029_mask03_L.png  \n",
            "  inflating: /content/Vein_Dataset_Resized/labels/029_mask04_L.png  \n",
            "  inflating: /content/Vein_Dataset_Resized/labels/029_mask05_L.png  \n",
            "  inflating: /content/Vein_Dataset_Resized/labels/029_mask06_L.png  \n",
            "  inflating: /content/Vein_Dataset_Resized/labels/029_mask07_L.png  \n",
            "  inflating: /content/Vein_Dataset_Resized/labels/029_mask08_L.png  \n",
            "  inflating: /content/Vein_Dataset_Resized/labels/029_mask09_L.png  \n",
            "  inflating: /content/Vein_Dataset_Resized/labels/029_mask10_L.png  \n",
            "  inflating: /content/Vein_Dataset_Resized/labels/029_mask11_L.png  \n",
            "  inflating: /content/Vein_Dataset_Resized/labels/029_mask12_L.png  \n",
            "  inflating: /content/Vein_Dataset_Resized/labels/029_mask13_L.png  \n",
            "  inflating: /content/Vein_Dataset_Resized/labels/029_mask14_L.png  \n",
            "  inflating: /content/Vein_Dataset_Resized/labels/029_mask15_L.png  \n",
            "  inflating: /content/Vein_Dataset_Resized/labels/029_mask16_L.png  \n",
            "  inflating: /content/Vein_Dataset_Resized/labels/029_mask17_L.png  \n",
            "  inflating: /content/Vein_Dataset_Resized/labels/029_mask18_L.png  \n",
            "  inflating: /content/Vein_Dataset_Resized/labels/029_mask19_L.png  \n",
            "  inflating: /content/Vein_Dataset_Resized/labels/029_mask20_L.png  \n",
            "  inflating: /content/Vein_Dataset_Resized/labels/030_mask01_L.png  \n",
            "  inflating: /content/Vein_Dataset_Resized/labels/030_mask02_L.png  \n",
            "  inflating: /content/Vein_Dataset_Resized/labels/030_mask03_L.png  \n",
            "  inflating: /content/Vein_Dataset_Resized/labels/030_mask04_L.png  \n",
            "  inflating: /content/Vein_Dataset_Resized/labels/030_mask05_L.png  \n",
            "  inflating: /content/Vein_Dataset_Resized/labels/030_mask06_L.png  \n",
            "  inflating: /content/Vein_Dataset_Resized/labels/030_mask07_L.png  \n",
            "  inflating: /content/Vein_Dataset_Resized/labels/030_mask08_L.png  \n",
            "  inflating: /content/Vein_Dataset_Resized/labels/030_mask09_L.png  \n",
            "  inflating: /content/Vein_Dataset_Resized/labels/030_mask10_L.png  \n",
            "  inflating: /content/Vein_Dataset_Resized/labels/030_mask11_L.png  \n",
            "  inflating: /content/Vein_Dataset_Resized/labels/030_mask12_L.png  \n",
            "  inflating: /content/Vein_Dataset_Resized/labels/030_mask13_L.png  \n",
            "  inflating: /content/Vein_Dataset_Resized/labels/030_mask14_L.png  \n",
            "  inflating: /content/Vein_Dataset_Resized/labels/030_mask15_L.png  \n",
            "  inflating: /content/Vein_Dataset_Resized/labels/030_mask16_L.png  \n",
            "  inflating: /content/Vein_Dataset_Resized/labels/030_mask17_L.png  \n",
            "  inflating: /content/Vein_Dataset_Resized/labels/030_mask18_L.png  \n",
            "  inflating: /content/Vein_Dataset_Resized/labels/030_mask19_L.png  \n",
            "  inflating: /content/Vein_Dataset_Resized/labels/030_mask20_L.png  \n",
            "  inflating: /content/Vein_Dataset_Resized/labels/031_mask01_L.png  \n",
            "  inflating: /content/Vein_Dataset_Resized/labels/031_mask02_L.png  \n",
            "  inflating: /content/Vein_Dataset_Resized/labels/031_mask03_L.png  \n",
            "  inflating: /content/Vein_Dataset_Resized/labels/031_mask04_L.png  \n",
            "  inflating: /content/Vein_Dataset_Resized/labels/031_mask05_L.png  \n",
            "  inflating: /content/Vein_Dataset_Resized/labels/031_mask06_L.png  \n",
            "  inflating: /content/Vein_Dataset_Resized/labels/031_mask07_L.png  \n",
            "  inflating: /content/Vein_Dataset_Resized/labels/031_mask08_L.png  \n",
            "  inflating: /content/Vein_Dataset_Resized/labels/031_mask09_L.png  \n",
            "  inflating: /content/Vein_Dataset_Resized/labels/031_mask10_L.png  \n",
            "  inflating: /content/Vein_Dataset_Resized/labels/031_mask11_L.png  \n",
            "  inflating: /content/Vein_Dataset_Resized/labels/031_mask12_L.png  \n",
            "  inflating: /content/Vein_Dataset_Resized/labels/031_mask13_L.png  \n",
            "  inflating: /content/Vein_Dataset_Resized/labels/031_mask14_L.png  \n",
            "  inflating: /content/Vein_Dataset_Resized/labels/031_mask15_L.png  \n",
            "  inflating: /content/Vein_Dataset_Resized/labels/031_mask16_L.png  \n",
            "  inflating: /content/Vein_Dataset_Resized/labels/031_mask17_L.png  \n",
            "  inflating: /content/Vein_Dataset_Resized/labels/031_mask18_L.png  \n",
            "  inflating: /content/Vein_Dataset_Resized/labels/031_mask19_L.png  \n",
            "  inflating: /content/Vein_Dataset_Resized/labels/031_mask20_L.png  \n",
            "  inflating: /content/Vein_Dataset_Resized/labels/032_mask01_L.png  \n",
            "  inflating: /content/Vein_Dataset_Resized/labels/032_mask02_L.png  \n",
            "  inflating: /content/Vein_Dataset_Resized/labels/032_mask03_L.png  \n",
            "  inflating: /content/Vein_Dataset_Resized/labels/032_mask04_L.png  \n",
            "  inflating: /content/Vein_Dataset_Resized/labels/032_mask05_L.png  \n",
            "  inflating: /content/Vein_Dataset_Resized/labels/032_mask06_L.png  \n",
            "  inflating: /content/Vein_Dataset_Resized/labels/032_mask07_L.png  \n",
            "  inflating: /content/Vein_Dataset_Resized/labels/032_mask08_L.png  \n",
            "  inflating: /content/Vein_Dataset_Resized/labels/032_mask09_L.png  \n",
            "  inflating: /content/Vein_Dataset_Resized/labels/032_mask10_L.png  \n",
            "  inflating: /content/Vein_Dataset_Resized/labels/032_mask11_L.png  \n",
            "  inflating: /content/Vein_Dataset_Resized/labels/032_mask12_L.png  \n",
            "  inflating: /content/Vein_Dataset_Resized/labels/032_mask13_L.png  \n",
            "  inflating: /content/Vein_Dataset_Resized/labels/032_mask14_L.png  \n",
            "  inflating: /content/Vein_Dataset_Resized/labels/032_mask15_L.png  \n",
            "  inflating: /content/Vein_Dataset_Resized/labels/032_mask16_L.png  \n",
            "  inflating: /content/Vein_Dataset_Resized/labels/032_mask17_L.png  \n",
            "  inflating: /content/Vein_Dataset_Resized/labels/032_mask18_L.png  \n",
            "  inflating: /content/Vein_Dataset_Resized/labels/032_mask19_L.png  \n",
            "  inflating: /content/Vein_Dataset_Resized/labels/032_mask20_L.png  \n",
            "  inflating: /content/Vein_Dataset_Resized/labels/033_mask01_L.png  \n",
            "  inflating: /content/Vein_Dataset_Resized/labels/033_mask02_L.png  \n",
            "  inflating: /content/Vein_Dataset_Resized/labels/033_mask03_L.png  \n",
            "  inflating: /content/Vein_Dataset_Resized/labels/033_mask04_L.png  \n",
            "  inflating: /content/Vein_Dataset_Resized/labels/033_mask05_L.png  \n",
            "  inflating: /content/Vein_Dataset_Resized/labels/033_mask06_L.png  \n",
            "  inflating: /content/Vein_Dataset_Resized/labels/033_mask07_L.png  \n",
            "  inflating: /content/Vein_Dataset_Resized/labels/033_mask08_L.png  \n",
            "  inflating: /content/Vein_Dataset_Resized/labels/033_mask09_L.png  \n",
            "  inflating: /content/Vein_Dataset_Resized/labels/033_mask10_L.png  \n",
            "  inflating: /content/Vein_Dataset_Resized/labels/033_mask11_L.png  \n",
            "  inflating: /content/Vein_Dataset_Resized/labels/033_mask12_L.png  \n",
            "  inflating: /content/Vein_Dataset_Resized/labels/033_mask13_L.png  \n",
            "  inflating: /content/Vein_Dataset_Resized/labels/033_mask14_L.png  \n",
            "  inflating: /content/Vein_Dataset_Resized/labels/033_mask15_L.png  \n",
            "  inflating: /content/Vein_Dataset_Resized/labels/033_mask16_L.png  \n",
            "  inflating: /content/Vein_Dataset_Resized/labels/033_mask17_L.png  \n",
            "  inflating: /content/Vein_Dataset_Resized/labels/033_mask18_L.png  \n",
            "  inflating: /content/Vein_Dataset_Resized/labels/033_mask19_L.png  \n",
            "  inflating: /content/Vein_Dataset_Resized/labels/033_mask20_L.png  \n",
            "  inflating: /content/Vein_Dataset_Resized/labels/034_mask01_L.png  \n",
            "  inflating: /content/Vein_Dataset_Resized/labels/034_mask02_L.png  \n",
            "  inflating: /content/Vein_Dataset_Resized/labels/034_mask03_L.png  \n",
            "  inflating: /content/Vein_Dataset_Resized/labels/034_mask04_L.png  \n",
            "  inflating: /content/Vein_Dataset_Resized/labels/034_mask05_L.png  \n",
            "  inflating: /content/Vein_Dataset_Resized/labels/034_mask06_L.png  \n",
            "  inflating: /content/Vein_Dataset_Resized/labels/034_mask07_L.png  \n",
            "  inflating: /content/Vein_Dataset_Resized/labels/034_mask08_L.png  \n",
            "  inflating: /content/Vein_Dataset_Resized/labels/034_mask09_L.png  \n",
            "  inflating: /content/Vein_Dataset_Resized/labels/034_mask10_L.png  \n",
            "  inflating: /content/Vein_Dataset_Resized/labels/034_mask11_L.png  \n",
            "  inflating: /content/Vein_Dataset_Resized/labels/034_mask12_L.png  \n",
            "  inflating: /content/Vein_Dataset_Resized/labels/034_mask13_L.png  \n",
            "  inflating: /content/Vein_Dataset_Resized/labels/034_mask14_L.png  \n",
            "  inflating: /content/Vein_Dataset_Resized/labels/034_mask15_L.png  \n",
            "  inflating: /content/Vein_Dataset_Resized/labels/034_mask16_L.png  \n",
            "  inflating: /content/Vein_Dataset_Resized/labels/034_mask17_L.png  \n",
            "  inflating: /content/Vein_Dataset_Resized/labels/034_mask18_L.png  \n",
            "  inflating: /content/Vein_Dataset_Resized/labels/034_mask19_L.png  \n",
            "  inflating: /content/Vein_Dataset_Resized/labels/034_mask20_L.png  \n",
            "  inflating: /content/Vein_Dataset_Resized/labels/035_mask01_L.png  \n",
            "  inflating: /content/Vein_Dataset_Resized/labels/035_mask02_L.png  \n",
            "  inflating: /content/Vein_Dataset_Resized/labels/035_mask03_L.png  \n",
            "  inflating: /content/Vein_Dataset_Resized/labels/035_mask04_L.png  \n",
            "  inflating: /content/Vein_Dataset_Resized/labels/035_mask05_L.png  \n",
            "  inflating: /content/Vein_Dataset_Resized/labels/035_mask06_L.png  \n",
            "  inflating: /content/Vein_Dataset_Resized/labels/035_mask07_L.png  \n",
            "  inflating: /content/Vein_Dataset_Resized/labels/035_mask08_L.png  \n",
            "  inflating: /content/Vein_Dataset_Resized/labels/035_mask09_L.png  \n",
            "  inflating: /content/Vein_Dataset_Resized/labels/035_mask10_L.png  \n",
            "  inflating: /content/Vein_Dataset_Resized/labels/035_mask11_L.png  \n",
            "  inflating: /content/Vein_Dataset_Resized/labels/035_mask12_L.png  \n",
            "  inflating: /content/Vein_Dataset_Resized/labels/035_mask13_L.png  \n",
            "  inflating: /content/Vein_Dataset_Resized/labels/035_mask14_L.png  \n",
            "  inflating: /content/Vein_Dataset_Resized/labels/035_mask15_L.png  \n",
            "  inflating: /content/Vein_Dataset_Resized/labels/035_mask16_L.png  \n",
            "  inflating: /content/Vein_Dataset_Resized/labels/035_mask17_L.png  \n",
            "  inflating: /content/Vein_Dataset_Resized/labels/035_mask18_L.png  \n",
            "  inflating: /content/Vein_Dataset_Resized/labels/035_mask19_L.png  \n",
            "  inflating: /content/Vein_Dataset_Resized/labels/035_mask20_L.png  \n",
            "  inflating: /content/Vein_Dataset_Resized/labels/036_mask01_L.png  \n",
            "  inflating: /content/Vein_Dataset_Resized/labels/036_mask02_L.png  \n",
            "  inflating: /content/Vein_Dataset_Resized/labels/036_mask03_L.png  \n",
            "  inflating: /content/Vein_Dataset_Resized/labels/036_mask04_L.png  \n",
            "  inflating: /content/Vein_Dataset_Resized/labels/036_mask05_L.png  \n",
            "  inflating: /content/Vein_Dataset_Resized/labels/036_mask06_L.png  \n",
            "  inflating: /content/Vein_Dataset_Resized/labels/036_mask07_L.png  \n",
            "  inflating: /content/Vein_Dataset_Resized/labels/036_mask08_L.png  \n",
            "  inflating: /content/Vein_Dataset_Resized/labels/036_mask09_L.png  \n",
            "  inflating: /content/Vein_Dataset_Resized/labels/036_mask10_L.png  \n",
            "  inflating: /content/Vein_Dataset_Resized/labels/036_mask11_L.png  \n",
            "  inflating: /content/Vein_Dataset_Resized/labels/036_mask12_L.png  \n",
            "  inflating: /content/Vein_Dataset_Resized/labels/036_mask13_L.png  \n",
            "  inflating: /content/Vein_Dataset_Resized/labels/036_mask14_L.png  \n",
            "  inflating: /content/Vein_Dataset_Resized/labels/036_mask15_L.png  \n",
            "  inflating: /content/Vein_Dataset_Resized/labels/036_mask16_L.png  \n",
            "  inflating: /content/Vein_Dataset_Resized/labels/036_mask17_L.png  \n",
            "  inflating: /content/Vein_Dataset_Resized/labels/036_mask18_L.png  \n",
            "  inflating: /content/Vein_Dataset_Resized/labels/036_mask19_L.png  \n",
            "  inflating: /content/Vein_Dataset_Resized/labels/036_mask20_L.png  \n",
            "  inflating: /content/Vein_Dataset_Resized/labels/037_mask01_L.png  \n",
            "  inflating: /content/Vein_Dataset_Resized/labels/037_mask02_L.png  \n",
            "  inflating: /content/Vein_Dataset_Resized/labels/037_mask03_L.png  \n",
            "  inflating: /content/Vein_Dataset_Resized/labels/037_mask04_L.png  \n",
            "  inflating: /content/Vein_Dataset_Resized/labels/037_mask05_L.png  \n",
            "  inflating: /content/Vein_Dataset_Resized/labels/037_mask06_L.png  \n",
            "  inflating: /content/Vein_Dataset_Resized/labels/037_mask07_L.png  \n",
            "  inflating: /content/Vein_Dataset_Resized/labels/037_mask08_L.png  \n",
            "  inflating: /content/Vein_Dataset_Resized/labels/037_mask09_L.png  \n",
            "  inflating: /content/Vein_Dataset_Resized/labels/037_mask10_L.png  \n",
            "  inflating: /content/Vein_Dataset_Resized/labels/037_mask11_L.png  \n",
            "  inflating: /content/Vein_Dataset_Resized/labels/037_mask12_L.png  \n",
            "  inflating: /content/Vein_Dataset_Resized/labels/037_mask13_L.png  \n",
            "  inflating: /content/Vein_Dataset_Resized/labels/037_mask14_L.png  \n",
            "  inflating: /content/Vein_Dataset_Resized/labels/037_mask15_L.png  \n",
            "  inflating: /content/Vein_Dataset_Resized/labels/037_mask16_L.png  \n",
            "  inflating: /content/Vein_Dataset_Resized/labels/037_mask17_L.png  \n",
            "  inflating: /content/Vein_Dataset_Resized/labels/037_mask18_L.png  \n",
            "  inflating: /content/Vein_Dataset_Resized/labels/037_mask19_L.png  \n",
            "  inflating: /content/Vein_Dataset_Resized/labels/037_mask20_L.png  \n",
            "  inflating: /content/Vein_Dataset_Resized/labels/038_mask01_L.png  \n",
            "  inflating: /content/Vein_Dataset_Resized/labels/038_mask02_L.png  \n",
            "  inflating: /content/Vein_Dataset_Resized/labels/038_mask03_L.png  \n",
            "  inflating: /content/Vein_Dataset_Resized/labels/038_mask04_L.png  \n",
            "  inflating: /content/Vein_Dataset_Resized/labels/038_mask05_L.png  \n",
            "  inflating: /content/Vein_Dataset_Resized/labels/038_mask06_L.png  \n",
            "  inflating: /content/Vein_Dataset_Resized/labels/038_mask07_L.png  \n",
            "  inflating: /content/Vein_Dataset_Resized/labels/038_mask08_L.png  \n",
            "  inflating: /content/Vein_Dataset_Resized/labels/038_mask09_L.png  \n",
            "  inflating: /content/Vein_Dataset_Resized/labels/038_mask10_L.png  \n",
            "  inflating: /content/Vein_Dataset_Resized/labels/038_mask11_L.png  \n",
            "  inflating: /content/Vein_Dataset_Resized/labels/038_mask12_L.png  \n",
            "  inflating: /content/Vein_Dataset_Resized/labels/038_mask13_L.png  \n",
            "  inflating: /content/Vein_Dataset_Resized/labels/038_mask14_L.png  \n",
            "  inflating: /content/Vein_Dataset_Resized/labels/038_mask15_L.png  \n",
            "  inflating: /content/Vein_Dataset_Resized/labels/038_mask16_L.png  \n",
            "  inflating: /content/Vein_Dataset_Resized/labels/038_mask17_L.png  \n",
            "  inflating: /content/Vein_Dataset_Resized/labels/038_mask18_L.png  \n",
            "  inflating: /content/Vein_Dataset_Resized/labels/038_mask19_L.png  \n",
            "  inflating: /content/Vein_Dataset_Resized/labels/038_mask20_L.png  \n",
            "  inflating: /content/Vein_Dataset_Resized/labels/039_mask01_L.png  \n",
            "  inflating: /content/Vein_Dataset_Resized/labels/039_mask02_L.png  \n",
            "  inflating: /content/Vein_Dataset_Resized/labels/039_mask03_L.png  \n",
            "  inflating: /content/Vein_Dataset_Resized/labels/039_mask04_L.png  \n",
            "  inflating: /content/Vein_Dataset_Resized/labels/039_mask05_L.png  \n",
            "  inflating: /content/Vein_Dataset_Resized/labels/039_mask06_L.png  \n",
            "  inflating: /content/Vein_Dataset_Resized/labels/039_mask07_L.png  \n",
            "  inflating: /content/Vein_Dataset_Resized/labels/039_mask08_L.png  \n",
            "  inflating: /content/Vein_Dataset_Resized/labels/039_mask09_L.png  \n",
            "  inflating: /content/Vein_Dataset_Resized/labels/039_mask10_L.png  \n",
            "  inflating: /content/Vein_Dataset_Resized/labels/039_mask11_L.png  \n",
            "  inflating: /content/Vein_Dataset_Resized/labels/039_mask12_L.png  \n",
            "  inflating: /content/Vein_Dataset_Resized/labels/039_mask13_L.png  \n",
            "  inflating: /content/Vein_Dataset_Resized/labels/039_mask14_L.png  \n",
            "  inflating: /content/Vein_Dataset_Resized/labels/039_mask15_L.png  \n",
            "  inflating: /content/Vein_Dataset_Resized/labels/039_mask16_L.png  \n",
            "  inflating: /content/Vein_Dataset_Resized/labels/039_mask17_L.png  \n",
            "  inflating: /content/Vein_Dataset_Resized/labels/039_mask18_L.png  \n",
            "  inflating: /content/Vein_Dataset_Resized/labels/039_mask19_L.png  \n",
            "  inflating: /content/Vein_Dataset_Resized/labels/039_mask20_L.png  \n",
            "  inflating: /content/Vein_Dataset_Resized/labels/040_mask01_L.png  \n",
            "  inflating: /content/Vein_Dataset_Resized/labels/040_mask02_L.png  \n",
            "  inflating: /content/Vein_Dataset_Resized/labels/040_mask03_L.png  \n",
            "  inflating: /content/Vein_Dataset_Resized/labels/040_mask04_L.png  \n",
            "  inflating: /content/Vein_Dataset_Resized/labels/040_mask05_L.png  \n",
            "  inflating: /content/Vein_Dataset_Resized/labels/040_mask06_L.png  \n",
            "  inflating: /content/Vein_Dataset_Resized/labels/040_mask07_L.png  \n",
            "  inflating: /content/Vein_Dataset_Resized/labels/040_mask08_L.png  \n",
            "  inflating: /content/Vein_Dataset_Resized/labels/040_mask09_L.png  \n",
            "  inflating: /content/Vein_Dataset_Resized/labels/040_mask10_L.png  \n",
            "  inflating: /content/Vein_Dataset_Resized/labels/040_mask11_L.png  \n",
            "  inflating: /content/Vein_Dataset_Resized/labels/040_mask12_L.png  \n",
            "  inflating: /content/Vein_Dataset_Resized/labels/040_mask13_L.png  \n",
            "  inflating: /content/Vein_Dataset_Resized/labels/040_mask14_L.png  \n",
            "  inflating: /content/Vein_Dataset_Resized/labels/040_mask15_L.png  \n",
            "  inflating: /content/Vein_Dataset_Resized/labels/040_mask16_L.png  \n",
            "  inflating: /content/Vein_Dataset_Resized/labels/040_mask17_L.png  \n",
            "  inflating: /content/Vein_Dataset_Resized/labels/040_mask18_L.png  \n",
            "  inflating: /content/Vein_Dataset_Resized/labels/040_mask19_L.png  \n",
            "  inflating: /content/Vein_Dataset_Resized/labels/040_mask20_L.png  \n",
            "  inflating: /content/Vein_Dataset_Resized/labels/041_mask01_L.png  \n",
            "  inflating: /content/Vein_Dataset_Resized/labels/041_mask02_L.png  \n",
            "  inflating: /content/Vein_Dataset_Resized/labels/041_mask03_L.png  \n",
            "  inflating: /content/Vein_Dataset_Resized/labels/041_mask04_L.png  \n",
            "  inflating: /content/Vein_Dataset_Resized/labels/041_mask05_L.png  \n",
            "  inflating: /content/Vein_Dataset_Resized/labels/041_mask06_L.png  \n",
            "  inflating: /content/Vein_Dataset_Resized/labels/041_mask07_L.png  \n",
            "  inflating: /content/Vein_Dataset_Resized/labels/041_mask08_L.png  \n",
            "  inflating: /content/Vein_Dataset_Resized/labels/041_mask09_L.png  \n",
            "  inflating: /content/Vein_Dataset_Resized/labels/041_mask10_L.png  \n",
            "  inflating: /content/Vein_Dataset_Resized/labels/041_mask11_L.png  \n",
            "  inflating: /content/Vein_Dataset_Resized/labels/041_mask12_L.png  \n",
            "  inflating: /content/Vein_Dataset_Resized/labels/041_mask13_L.png  \n",
            "  inflating: /content/Vein_Dataset_Resized/labels/041_mask14_L.png  \n",
            "  inflating: /content/Vein_Dataset_Resized/labels/041_mask15_L.png  \n",
            "  inflating: /content/Vein_Dataset_Resized/labels/041_mask16_L.png  \n",
            "  inflating: /content/Vein_Dataset_Resized/labels/041_mask17_L.png  \n",
            "  inflating: /content/Vein_Dataset_Resized/labels/041_mask18_L.png  \n",
            "  inflating: /content/Vein_Dataset_Resized/labels/041_mask19_L.png  \n",
            "  inflating: /content/Vein_Dataset_Resized/labels/041_mask20_L.png  \n"
          ]
        }
      ],
      "source": [
        "!unzip /content/gdrive/MyDrive/Vein_Dataset_Resized.zip -d /content/"
      ]
    },
    {
      "cell_type": "code",
      "execution_count": null,
      "metadata": {
        "id": "ipyKXiIWjPx4"
      },
      "outputs": [],
      "source": [
        "import tensorflow as tf\n",
        "\n",
        "def load_data():\n",
        "  dataset_images = tf.data\n",
        "  dataset_labels = tf.data\n",
        "  SIZE_X = 1632\n",
        "  SIZE_Y = 1216\n",
        "\n",
        "\n",
        "  dataset_images = tf.keras.utils.image_dataset_from_directory(\"Vein_Dataset_Resized/images\", labels=None, label_mode=None, color_mode=\"grayscale\", batch_size=1, image_size=(SIZE_Y, SIZE_X), shuffle=False, )\n",
        "  dataset_labels = tf.keras.utils.image_dataset_from_directory(\"Vein_Dataset_Resized/labels\", labels=None, label_mode=None, color_mode=\"grayscale\", batch_size=1, image_size=(SIZE_Y, SIZE_X), shuffle=False, )\n",
        "  normalization_layer = tf.keras.layers.Rescaling(1./255)\n",
        "  dataset_labels = dataset_labels.map(lambda x: (normalization_layer(x)))\n",
        "\n",
        "  Vein_Dataset = tf.data.Dataset.zip((dataset_images, dataset_labels))\n",
        "\n",
        "  Vein_Dataset = Vein_Dataset.shuffle(buffer_size = 1000)\n",
        "\n",
        "  Dataset_Size = 900\n",
        "\n",
        "  train_size = int(0.7 * Dataset_Size)\n",
        "  val_size = int(0.15 * Dataset_Size)\n",
        "  test_size = int(0.15 * Dataset_Size)\n",
        "\n",
        "  train_dataset = Vein_Dataset.take(train_size)\n",
        "  test_dataset = Vein_Dataset.skip(train_size)\n",
        "  val_dataset = test_dataset.skip(test_size)\n",
        "  test_dataset = test_dataset.take(test_size)\n",
        "\n",
        "  return train_dataset, val_dataset\n"
      ]
    },
    {
      "cell_type": "code",
      "execution_count": null,
      "metadata": {
        "id": "97mVFziabeZi"
      },
      "outputs": [],
      "source": [
        "from tensorflow.keras import models, layers, regularizers\n",
        "from tensorflow.keras import backend as K\n",
        "\n",
        "\n",
        "#convolutional block\n",
        "def conv_block(x, kernelsize, filters, dropout, batchnorm=False): \n",
        "    conv = layers.Conv2D(filters, (kernelsize, kernelsize), kernel_initializer='he_normal', padding=\"same\")(x)\n",
        "    if batchnorm is True:\n",
        "        conv = layers.BatchNormalization(axis=3)(conv)\n",
        "    conv = layers.Activation(\"relu\")(conv)\n",
        "    if dropout > 0:\n",
        "        conv = layers.Dropout(dropout)(conv)\n",
        "    conv = layers.Conv2D(filters, (kernelsize, kernelsize), kernel_initializer='he_normal', padding=\"same\")(conv)\n",
        "    if batchnorm is True:\n",
        "        conv = layers.BatchNormalization(axis=3)(conv)\n",
        "    conv = layers.Activation(\"relu\")(conv)\n",
        "    return conv\n",
        "\n",
        "        \n",
        "    #skip connection    \n",
        "    shortcut = layers.Conv2D(filters, kernel_size=(1, 1), kernel_initializer='he_normal', padding='same')(x)\n",
        "    if batchnorm is True:\n",
        "        shortcut = layers.BatchNormalization(axis=3)(shortcut)\n",
        "    shortcut = layers.Activation(\"relu\")(shortcut)\n",
        "    respath = layers.add([shortcut, conv2])       \n",
        "    return respath\n",
        "\n",
        "\n",
        "#gating signal for attention unit\n",
        "def gatingsignal(input, out_size, batchnorm=False):\n",
        "    x = layers.Conv2D(out_size, (1, 1), padding='same')(input)\n",
        "    if batchnorm:\n",
        "        x = layers.BatchNormalization()(x)\n",
        "    x = layers.Activation('relu')(x)\n",
        "    return x\n",
        "\n",
        "#attention unit/block based on soft attention\n",
        "def attention_block(x, gating, inter_shape):\n",
        "    shape_x = K.int_shape(x)\n",
        "    shape_g = K.int_shape(gating)\n",
        "    theta_x = layers.Conv2D(inter_shape, (2, 2), strides=(2, 2), kernel_initializer='he_normal', padding='same')(x) \n",
        "    shape_theta_x = K.int_shape(theta_x)\n",
        "    phi_g = layers.Conv2D(inter_shape, (1, 1), kernel_initializer='he_normal', padding='same')(gating)\n",
        "    upsample_g = layers.Conv2DTranspose(inter_shape, (3, 3), strides=(shape_theta_x[1] // shape_g[1], shape_theta_x[2] // shape_g[2]), kernel_initializer='he_normal', padding='same')(phi_g)\n",
        "    concat_xg = layers.add([upsample_g, theta_x])\n",
        "    act_xg = layers.Activation('relu')(concat_xg)\n",
        "    psi = layers.Conv2D(1, (1, 1), kernel_initializer='he_normal', padding='same')(act_xg)\n",
        "    sigmoid_xg = layers.Activation('sigmoid')(psi)\n",
        "    shape_sigmoid = K.int_shape(sigmoid_xg)\n",
        "    upsample_psi = layers.UpSampling2D(size=(shape_x[1] // shape_sigmoid[1], shape_x[2] // shape_sigmoid[2]))(sigmoid_xg) \n",
        "    upsample_psi = layers.Lambda(lambda x, repnum: K.repeat_elements(x, repnum, axis=3), arguments={'repnum': shape_x[3]})(upsample_psi)                          \n",
        "    y = layers.multiply([upsample_psi, x])\n",
        "    result = layers.Conv2D(shape_x[3], (1, 1), kernel_initializer='he_normal', padding='same')(y)\n",
        "    attenblock = layers.BatchNormalization()(result)\n",
        "    return attenblock\n",
        "\n",
        "#Attention U-NET\n",
        "def attentionunet(input_shape, dropout=0.2, batchnorm=True):\n",
        "    \n",
        "    filters = [16, 32, 64, 128, 256]\n",
        "    kernelsize = 3\n",
        "    upsample_size = 2\n",
        "\n",
        "    inputs = layers.Input(input_shape) \n",
        "\n",
        "    # Downsampling layers    \n",
        "    dn_1 = conv_block(inputs, kernelsize, filters[0], dropout, batchnorm)\n",
        "    pool_1 = layers.MaxPooling2D(pool_size=(2,2))(dn_1)\n",
        "    \n",
        "    dn_2 = conv_block(pool_1, kernelsize, filters[1], dropout, batchnorm)\n",
        "    pool_2 = layers.MaxPooling2D(pool_size=(2,2))(dn_2)\n",
        "    \n",
        "    dn_3 = conv_block(pool_2, kernelsize, filters[2], dropout, batchnorm)\n",
        "    pool_3 = layers.MaxPooling2D(pool_size=(2,2))(dn_3)\n",
        "    \n",
        "    dn_4 = conv_block(pool_3, kernelsize, filters[3], dropout, batchnorm)\n",
        "    pool_4 = layers.MaxPooling2D(pool_size=(2,2))(dn_4)\n",
        "    \n",
        "    dn_5 = conv_block(pool_4, kernelsize, filters[4], dropout, batchnorm)\n",
        "\n",
        "    # Upsampling layers    \n",
        "    gating_5 = gatingsignal(dn_5, filters[3], batchnorm)\n",
        "    att_5 = attention_block(dn_4, gating_5, filters[3])\n",
        "    up_5 = layers.UpSampling2D(size=(upsample_size, upsample_size), data_format=\"channels_last\")(dn_5)\n",
        "    up_5 = layers.concatenate([up_5, att_5], axis=3)\n",
        "    up_conv_5 = conv_block(up_5, kernelsize, filters[3], dropout, batchnorm)\n",
        "    \n",
        "    gating_4 = gatingsignal(up_conv_5, filters[2], batchnorm)\n",
        "    att_4 = attention_block(dn_3, gating_4, filters[2])\n",
        "    up_4 = layers.UpSampling2D(size=(upsample_size, upsample_size), data_format=\"channels_last\")(up_conv_5)\n",
        "    up_4 = layers.concatenate([up_4, att_4], axis=3)\n",
        "    up_conv_4 = conv_block(up_4, kernelsize, filters[2], dropout, batchnorm)\n",
        "   \n",
        "    gating_3 = gatingsignal(up_conv_4, filters[1], batchnorm)\n",
        "    att_3 = attention_block(dn_2, gating_3, filters[1])\n",
        "    up_3 = layers.UpSampling2D(size=(upsample_size, upsample_size), data_format=\"channels_last\")(up_conv_4)\n",
        "    up_3 = layers.concatenate([up_3, att_3], axis=3)\n",
        "    up_conv_3 = conv_block(up_3, kernelsize, filters[1], dropout, batchnorm)\n",
        "    \n",
        "    gating_2 = gatingsignal(up_conv_3, filters[0], batchnorm)\n",
        "    att_2 = attention_block(dn_1, gating_2, filters[0])\n",
        "    up_2 = layers.UpSampling2D(size=(upsample_size, upsample_size), data_format=\"channels_last\")(up_conv_3)\n",
        "    up_2 = layers.concatenate([up_2, att_2], axis=3)\n",
        "    up_conv_2 = conv_block(up_2, kernelsize, filters[0], dropout, batchnorm)\n",
        "    \n",
        "    conv_final = layers.Conv2D(1, kernel_size=(1,1))(up_conv_2)\n",
        "    conv_final = layers.BatchNormalization(axis=3)(conv_final)\n",
        "    outputs = layers.Activation('sigmoid')(conv_final)  \n",
        "\n",
        "    model = models.Model(inputs=[inputs], outputs=[outputs])\n",
        "    #model.summary()       \n",
        "    return model    "
      ]
    },
    {
      "cell_type": "code",
      "execution_count": null,
      "metadata": {
        "id": "_vuju19obgkv"
      },
      "outputs": [],
      "source": [
        "from tensorflow.keras import backend as K\n",
        "from sklearn.metrics import jaccard_score,confusion_matrix\n",
        "\n",
        "\n",
        "def IoU_coef(y_true, y_pred):\n",
        "    y_true_f = K.flatten(y_true)\n",
        "    y_pred_f = K.flatten(y_pred)\n",
        "    intersection = K.sum(y_true_f * y_pred_f)\n",
        "    return (intersection + 1.0) / (K.sum(y_true_f) + K.sum(y_pred_f) - intersection + 1.0)\n",
        "\n",
        "def IoU_loss(y_true, y_pred):\n",
        "    return -IoU_coef(y_true, y_pred)\n",
        " \n",
        "def dice_coef(y_true, y_pred):\n",
        "    y_true_f = K.flatten(y_true)\n",
        "    y_pred_f = K.flatten(y_pred)\n",
        "    intersection = K.sum(y_true_f * y_pred_f)\n",
        "    return (2.0 * intersection + 1.0) / (K.sum(y_true_f) + K.sum(y_pred_f) + 1.0)\n",
        " \n",
        "def dice_coef_loss(y_true, y_pred):\n",
        "    return -dice_coef(y_true, y_pred)\n",
        "  \n",
        "def accuracy(y_true, y_pred):\n",
        "    cm = confusion_matrix(y_true.flatten(),y_pred.flatten(), labels=[0, 1])\n",
        "    acc = (cm[0,0]+cm[1,1])/(cm[0,0]+cm[0,1]+cm[1,0]+cm[1,1])\n",
        "    return acc\n",
        "  \n",
        "def IoU(y_true, y_pred, labels = [0, 1]):\n",
        "   IoU = []\n",
        "   for label in labels:\n",
        "      jaccard = jaccard_score(y_pred.flatten(),y_true.flatten(), pos_label=label, average='binary')\n",
        "      IoU.append(jaccard)     \n",
        "   return np.mean(IoU) "
      ]
    },
    {
      "cell_type": "code",
      "execution_count": null,
      "metadata": {
        "id": "YRqRM0QcbmWh"
      },
      "outputs": [],
      "source": [
        "def Model(optim, drop):\n",
        "  tf.keras.backend.clear_session()\n",
        "\n",
        "  IMG_CHANNELS = 1\n",
        "  SIZE_X = 1632\n",
        "  SIZE_Y = 1216\n",
        "  IMG_HEIGHT = SIZE_Y\n",
        "  IMG_WIDTH = SIZE_X\n",
        "  input_shape = (IMG_HEIGHT, IMG_WIDTH, IMG_CHANNELS)\n",
        "\n",
        "  model = attentionunet(input_shape, dropout=drop)\n",
        "\n",
        "  #model.compile(optimizer = Adam(learning_rate = 1e-3), loss= IoU_loss, metrics= ['accuracy', IoU_coef])\n",
        "  model.compile(optimizer = optim, loss= IoU_loss, metrics= ['accuracy', IoU_coef])\n",
        "\n",
        "  return model\n",
        "\n",
        "def train_step(x, y, model, optimizer, loss_fn, train_acc_metric):\n",
        "  with tf.GradientTape() as tape:\n",
        "    logits = model(x, training=True)\n",
        "    loss_value = loss_fn(y, logits)\n",
        "  \n",
        "    grads = tape.gradient(loss_value, model.trainable_weights)\n",
        "    optimizer.apply_gradients(zip(grads, model.trainable_weights))\n",
        "\n",
        "    #train_acc_metric.update_state(y, logits)\n",
        "    acc_metric_value = train_acc_metric(y, logits)\n",
        "\n",
        "    return loss_value, acc_metric_value\n",
        "\n",
        "\n",
        "def test_step(x, y, model, loss_fn, val_acc_metric):\n",
        "    val_logits = model(x, training=False)\n",
        "    loss_value = loss_fn(y, val_logits)\n",
        "    #val_acc_metric.update_state(y, val_logits)\n",
        "    val_acc_metric_value = val_acc_metric(y, val_logits)\n",
        "\n",
        "    return loss_value, val_acc_metric_value\n",
        "\n",
        "from tensorflow.keras.optimizers import Adam\n",
        "from tensorflow.keras.optimizers import SGD\n",
        "\n",
        "def build_optimizer(optim, learning_rate):\n",
        "    if optim == \"sgd\":\n",
        "        optimizer = SGD(learning_rate=learning_rate, momentum=0.9)\n",
        "    elif optim == \"adam\":\n",
        "        optimizer = Adam(learning_rate=learning_rate)\n",
        "\n",
        "    return optimizer"
      ]
    },
    {
      "cell_type": "code",
      "execution_count": null,
      "metadata": {
        "id": "0dltC58fcpnk"
      },
      "outputs": [],
      "source": [
        "def train(train_dataset,\n",
        "          val_dataset, \n",
        "          model,\n",
        "          optimizer,\n",
        "          loss_fn,\n",
        "          train_acc_metric,\n",
        "          val_acc_metric,\n",
        "          epochs=10, \n",
        "          log_step=200, \n",
        "          val_log_step=50):\n",
        "  \n",
        "    for epoch in range(epochs):\n",
        "        print(\"\\nStart of epoch %d\" % (epoch,))\n",
        "\n",
        "        train_loss = []  \n",
        "        train_acc = [] \n",
        "        val_loss = []\n",
        "        val_acc = []\n",
        "\n",
        "        # Iterate over the batches of the dataset\n",
        "        for step, (x_batch_train, y_batch_train) in tqdm.tqdm(enumerate(train_dataset), total=len(train_dataset)):\n",
        "            loss_value, acc_metric_value = train_step(x_batch_train, y_batch_train, \n",
        "                                    model, optimizer, \n",
        "                                    loss_fn, train_acc_metric)\n",
        "            train_loss.append(float(loss_value))\n",
        "            train_acc.append(float(acc_metric_value))\n",
        "\n",
        "        # Run a validation loop at the end of each epoch\n",
        "        for step, (x_batch_val, y_batch_val) in enumerate(val_dataset):\n",
        "            val_loss_value, val_acc_metric_value = test_step(x_batch_val, y_batch_val, \n",
        "                                       model, loss_fn, \n",
        "                                       val_acc_metric)\n",
        "            val_loss.append(float(val_loss_value))\n",
        "            val_acc.append(float(val_acc_metric_value))\n",
        "            \n",
        "        # Display metrics at the end of each epoch\n",
        "        #train_acc = train_acc_metric.result()\n",
        "        train_IoU = np.mean(train_acc)\n",
        "        #print(\"Training acc over epoch: %.4f\" % (float(train_acc),))\n",
        "        print(\"Training IoU over epoch: \", train_IoU,)\n",
        "\n",
        "        #val_acc = val_acc_metric.result()\n",
        "        val_IoU = np.mean(val_acc)\n",
        "        #print(\"Validation acc: %.4f\" % (float(val_acc),))\n",
        "        print(\"Validation IoU over epoch: \", val_IoU)\n",
        "\n",
        "        # # Reset metrics at the end of each epoch\n",
        "        # train_acc_metric.reset_states()\n",
        "        # val_acc_metric.reset_states()\n",
        "\n",
        "        # 3️⃣ log metrics using wandb.log\n",
        "        wandb.log({'epochs': epoch,\n",
        "                   'loss': np.mean(train_loss),\n",
        "                   'acc': train_IoU, #float(train_acc), \n",
        "                   'val_loss': np.mean(val_loss),\n",
        "                   'val_acc': val_IoU }) #float(val_acc)})"
      ]
    },
    {
      "cell_type": "code",
      "execution_count": null,
      "metadata": {
        "id": "fBGAdXfadLKQ"
      },
      "outputs": [],
      "source": [
        "sweep_config = {\n",
        "  'method': 'random', \n",
        "  'metric': {\n",
        "      'name': 'loss', #'val_loss',\n",
        "      'goal': 'minimize'\n",
        "  },\n",
        "  'early_terminate':{\n",
        "      'type': 'hyperband',\n",
        "      'min_iter': 5\n",
        "  },\n",
        "  'parameters': {\n",
        "      'batch_size': {\n",
        "          'distribution': 'uniform',\n",
        "          'min': 3,\n",
        "          'max': 256\n",
        "          #'values': [3, 32, 64, 128, 256]\n",
        "      },\n",
        "      'learning_rate':{\n",
        "          'distribution': 'uniform',\n",
        "          'min': 0.01,\n",
        "          'max': 1.0\n",
        "          #'values': [0.01, 0.005, 0.001, 0.0005, 0.0001]\n",
        "      },\n",
        "      'dropout': {\n",
        "          'values': [0.1, 0.2, 0.3, 0.4, 0.5]\n",
        "      }\n",
        "      # 'optimizer': {\n",
        "      #   'values': ['adam', 'sgd']\n",
        "      # },\n",
        "  }\n",
        "}"
      ]
    },
    {
      "cell_type": "code",
      "execution_count": null,
      "metadata": {
        "id": "n1PpM6tneJcz"
      },
      "outputs": [],
      "source": [
        "from tensorflow.keras.optimizers import Adam\n",
        "def sweep_train(config_defaults=None):\n",
        "    # Set default values\n",
        "    config_defaults = {\n",
        "        \"batch_size\": 64,\n",
        "        \"learning_rate\": 0.01\n",
        "    }\n",
        "    # Initialize wandb with a sample project name\n",
        "    wandb.init(config=config_defaults)  # this gets over-written in the Sweep\n",
        "\n",
        "    # Specify the other hyperparameters to the configuration, if any\n",
        "    wandb.config.epochs = 1\n",
        "    wandb.config.log_step = 20\n",
        "    wandb.config.val_log_step = 50\n",
        "    #wandb.config.architecture_name = \"MLP\"\n",
        "    wandb.config.dataset_name = \"Vein_Dataset\"\n",
        "\n",
        "    train_dataset, val_dataset = load_data()\n",
        "\n",
        "    # # build input pipeline using tf.data\n",
        "    # train_dataset = (train_dataset.shuffle(buffer_size=1024)\n",
        "    #                               .batch(wandb.config.batch_size)\n",
        "    #                               .prefetch(buffer_size=tf.data.AUTOTUNE))\n",
        "\n",
        "    # val_dataset = (val_dataset.batch(wandb.config.batch_size)\n",
        "    #                           .prefetch(buffer_size=tf.data.AUTOTUNE))\n",
        "\n",
        "    # Instantiate an optimizer to train the model.\n",
        "    #optimizer = build_optimizer(wandb.config.optimizer, wandb.config.learning_rate)\n",
        "    optimizer = Adam(learning_rate=wandb.config.learning_rate)\n",
        "    #optimizer = keras.optimizers.SGD(learning_rate=wandb.config.learning_rate)\n",
        "\n",
        "    # initialize model\n",
        "    model = Model(optimizer, wandb.config.dropout)\n",
        "\n",
        "\n",
        "    \n",
        "    # Instantiate a loss function.\n",
        "    #loss_fn = keras.losses.SparseCategoricalCrossentropy(from_logits=True)\n",
        "    loss_fn = IoU_loss\n",
        "\n",
        "    # Prepare the metrics.\n",
        "    #train_acc_metric = keras.metrics.SparseCategoricalAccuracy()\n",
        "    train_acc_metric = IoU_coef\n",
        "    #val_acc_metric = keras.metrics.SparseCategoricalAccuracy()\n",
        "    val_acc_metric = IoU_coef\n",
        "\n",
        "    train(train_dataset,\n",
        "          val_dataset, \n",
        "          model,\n",
        "          optimizer,\n",
        "          loss_fn,\n",
        "          train_acc_metric,\n",
        "          val_acc_metric,\n",
        "          epochs=wandb.config.epochs, \n",
        "          log_step=wandb.config.log_step, \n",
        "          val_log_step=wandb.config.val_log_step)"
      ]
    },
    {
      "cell_type": "code",
      "execution_count": null,
      "metadata": {
        "colab": {
          "base_uri": "https://localhost:8080/"
        },
        "id": "MQqjiArbftKG",
        "outputId": "895df634-5c97-409b-c653-99af22869afd"
      },
      "outputs": [
        {
          "output_type": "stream",
          "name": "stdout",
          "text": [
            "Create sweep with ID: 099auu93\n",
            "Sweep URL: https://wandb.ai/regirau/Vein_Segmentation_Hyperparameters/sweeps/099auu93\n"
          ]
        }
      ],
      "source": [
        "sweep_id = wandb.sweep(sweep_config, project=\"Vein_Segmentation_Hyperparameters\")"
      ]
    },
    {
      "cell_type": "code",
      "execution_count": null,
      "metadata": {
        "id": "ega_9FY7fzTR",
        "colab": {
          "base_uri": "https://localhost:8080/",
          "height": 1000,
          "referenced_widgets": [
            "d119840475d746d6848eec05d1066d98",
            "455c68be93ae48b0a262e1dde6b44f40",
            "2192246094a8455b9d6c0b0bc3263271",
            "d2fd5e63531b4ae7a6c1906e74aaefbd",
            "417175d992aa422d8f009a11d7a22082",
            "0f42a3faeb5d47de9903a795bf221cc9",
            "2de9b666e88b4e059ac7c83669083685",
            "5495711be2744297ba2cabd9ff2b986d",
            "8d86ff9485924ec0aab70a5a4dfd0614",
            "e45c28782e7b41d48ea06315de4fc8eb",
            "addf6a4484bc41b1bf930ee72cf4b09c",
            "4be816f7c5ff47c6980bc689867e9f18",
            "09eb6054c2d54cef9f3eb9427385adf6",
            "480e1613ca514895b7ff31594c810d88",
            "4f433dc250a841d69f650ceb402a1e13",
            "134a360a688649a886d09f4cd98c3a4f",
            "64d8d53002e14195845ffd2860473ea8",
            "5ce17af349a14419b481df29c3e9ce5c",
            "82e016b1b4224a6197c0ea5d10b12319",
            "18e97a4aacd84281872d8c825dd8d094",
            "f2531add10084e9ca3773718c10bc8cc",
            "1da6951057ca4fa6ab701c6934172267",
            "fa94f367996240b3ad9eb31a620d607c",
            "144ac685622f4854baf4976c58bba8b6",
            "7899cfd2e5e74866bc69c084ffba0ab5",
            "29444c99b77443799d5a324a39dabf0c",
            "6ef338d28d9d4e33b485e69a0d37f188",
            "f315e0e578d7493f8e0d46babb7c26d9",
            "bbcf897e424d43b185d8b7eed2c2b511",
            "bb3242bc8a974badaf7f13b1c79c2a7b",
            "b9b3b9ca47a54b439e30f4f006d12501",
            "d66156886a8742cfafdf05bea23cdaf7",
            "3f00fa08f8114bf8bde9d9f7922fb7fc",
            "40d5cbb73f9f48a4856538f07931d53f",
            "1b4bf20844e44641b5ece8ea4fc588cb",
            "2ad5a11941dc4c6d8f5be18add762fd5",
            "74f7507031444e0696ec55d6d6731182",
            "1cd440d0e1ff4f6aa5ba912d66659e39",
            "b0fd78dddf9d4541bc6d470cdb6f82bf",
            "c0ef50e5557f4aa4aeab4ae9acfcc9b6",
            "97e80e4afead4af8bbc5e1c1f89a441e",
            "ef36c53a968b4d63930c9bf9fd99609d",
            "1f1d33152a74422996993f05fcdd400b",
            "da5b5d59d8824b23945bfa7945a328e8",
            "859659e5e1dd4f59b93fa091009cce07",
            "321681da64b14c00859e1b4151cacb02",
            "f44f11b9e5ae48ed849a8af53e8936a5",
            "7bdee1a4504845b69367a6e9686537c2",
            "1c48d7c4c46245028baf384af1140ef5",
            "7e9034bb927c4a05ad32b657808e5268",
            "91d86b3005cc487fbe445b18c2cb94a6",
            "165f9125c4624ba190c1e733c9c52830",
            "843f3d1649df438a841c2e6e8b5106ff",
            "f9411e8d19a546df8da92b47a4517222",
            "72bc3b2f654c48da93b52d97b147bb30",
            "3c62d04b70f049e4bfba83a8e3e322a9",
            "adcf7e545c4f4ecab8948e123a7cadb7",
            "59c063c7486243c5b803da27b59b50a4",
            "090c472e578542b0a13e0d40e0f060f9",
            "794dba3facf5455f8635ed342879722d",
            "3b13e5a9292347aeb50bddc9b66b523c",
            "2efccd1c26444954b79ca173f6bbf0a8",
            "3531149d5c7744b8abdf83ce4dbaad64",
            "955eaadbcec147419a681e54ce8dc3a8",
            "92daa247dff444f9804e115048cbda72",
            "11b608adabfa4d62b32df09d21a54eb9",
            "6cc3baedd404463b8a3bcc203209e099",
            "50cae25d20194c74a1b13d233edaded8",
            "2ed4bbb9cae349c1a7b2f47b27634d3b",
            "f7a9bbfb0a014c6fb1cbc285b3c96564",
            "8cb61d6eb033414d8bdbc7a8084ed74f",
            "7a59ac6851cf4d109918811b3b0cdf34",
            "9e7d729b828f4c688b7d7432cb46db33",
            "707736245f6d445d8191342dde08aabc",
            "66fd3fad60f94a0ab52525fc630b1364",
            "c1fbdcb8b05a497691e58667255c45a7",
            "b3718d35d656487196f0343882db53b2",
            "4e8e9d069acc4c6ea362fc9cf3e80af8",
            "3b06edc2f5b24e3185a7a5dc1e27bb69",
            "e396d69acf9d419d9c5320a1529f9826",
            "43e4cf70b0a6424c8e4a501b8e37dac7",
            "9bcaebd74f5640e098df0a2ed621d270",
            "d37ea02184f043fa9ebd5bd3abe104e5",
            "74d321420c2b4591aa9b8dab88fbb31a",
            "aaf8454ba03d428eb63143271cb03197",
            "8e7ad216738342b990aaaf21b869eaf9",
            "67dd8d6366e648c4b8cae445b3971915",
            "4cbb2cd488164f39aae08e88f2d05fce",
            "eb5518497a3f4b5db60221a93831d4cc",
            "b6673e670b8549178535e4066ea764c9",
            "c8ff359b499b4c75a5bb66636e576240",
            "9f37bbe59e8c45ba8e00bdd8a566a182",
            "9a27d6659eff43359466842cdbf18e29",
            "480efeca6e7e4473a7e6e094e7147706",
            "2f7c0c850b244beeb520e4c411746598",
            "07dca03bd2604346b15b96967123d4f1",
            "511d2f0f4e60431d827ccbd629af8c2a",
            "42e1f0ec949446dda42a0138516d7c6c",
            "d8173c150cab4475b0541cf430a9f822",
            "94357e71b6b149429063954687587e43",
            "2c5f34b9cc324d73850626bb8a849c88",
            "04d6fcf29a4645759c6d6fcd21c51fb5",
            "0d62d03a729546f7adbb5d2e3d0335bb",
            "2a1c7c84f9ed468c92de7e98a7f39f3a",
            "e5ee1a272eb5418f820c630d8c11ba3a",
            "3275f4b0f70a4f65ad0d1407d8390408",
            "f75fd6e5b9fc4c97b9c3cc15fdf28b33",
            "57e7f913a94d4736931703534e74ddab",
            "60feaef79ff944bd98dddf8b7b1444ff",
            "3e60c909d72740a198043f1dce08c511",
            "337a3366ffa14a84a900daf2a413f37a",
            "09a2fde3c99140a09060439f36099495",
            "3a5e74daf3fd40b59456eba254df7f08",
            "c58e67a06f664927830d6e3679f74383",
            "f8cedbd0c31447458310eda173e2d578",
            "c19450a095874c7ea8492d6dd08856c8",
            "5ba1baee930844058fffdcadea426956",
            "b8e2a65a026247f0921060964f39be53",
            "7a8523f95b124ee28616e6fe04b99f77",
            "8478e7c6826846e2acfd25bfe929839e",
            "485b799d7f7a4c85ac32d7fa52738737",
            "272e0619003b4a68a8bb6280fc8f5675",
            "407b386beec649bab3ea6bc9489f1103",
            "f3355d025215467ead06b0f811323a98",
            "728be2cfbcc24ef2858ca0f21c31d70c",
            "fa847d8f58bc4933873db4ca1b6ce023",
            "e3dd535694b14b1891d85d4e7ffa7f7f",
            "f22a03a2205a4d7388681614d537bcd4",
            "1a3e64927f644f94a953b61f51bc5401",
            "a6765db8a2e249ec974917429049b5b6",
            "1001b41008c9474fb625a78fc2ca8945",
            "f2f8fea6800b49bc98cb296b89e6bfae",
            "ba0bef98aeab47f1991bcceafb8e737b",
            "43fce0b7bbf74eff8db020d1f1b5e95d",
            "da37a47bf66a4811a06615c588d176f5",
            "116c687376bd4ef680798d3ef16d25ce",
            "db0cadefe0bc475480c16a2ba63afa35",
            "50ccbe3305834c79b8f33c7b1f370117",
            "011045cd83324d13a9ab3aacdc897588",
            "8a80c146e9b44d32ab2646558bbcf714",
            "12319fac3722407db5c8c962a0dd15de",
            "b56d93570fc1415093cc8521d5ab944d",
            "2da4c89615494cb5a848f1e5d4788a41",
            "6444ec1f36a749f78a900cb62ef89491",
            "88835b0c068b445a99dc4ef98bec396d",
            "b5da01969f20481681afb5d81276f55a",
            "23eae827bbb64ab19fbae01b403ebc75",
            "192a1997033a459da90bc01849343b23",
            "765a5ab37636403aa7ac4778e8589955",
            "cc7ec01164ab44ad9f7632a69a0da7ec",
            "3bbc5923713045c69e1cdd76b41d57f1",
            "e5dde4d401794f38b83bd4dd1eedacb3",
            "c90fdff30ce4442bbffe91e9ae18d3be",
            "2e950d214ac24d6c84646481af2f34a9",
            "9539952340c04c9eab867f0f9ab1bb8e",
            "88f50fa2ff144825a28d65320a0d6d16",
            "fed27a67d3a346918093601eda88c679",
            "828949f641cf4eca87181d95e59a9ad7",
            "585c7b8cfefb4654a255bfa516845f75",
            "682269d81b514682a91986087d204c25",
            "b25dffcff7ef4d278d758e055659370d",
            "6873322a195445a6bb24f04ad544222b",
            "270e980e1505492eab799753b77926fd",
            "69c75aee79614c4d8a072776d9c57306",
            "de2bae26e3854f1cb78d287e80ebfa65",
            "6ca1e24e4e254f148214a1e3a8d71674",
            "10e49220292247c9b04d7928e9771dbe",
            "ee699f78f9574aa3946100f29655d17b",
            "507dd9b460914770b0a70b0045f4bffb",
            "37a20d97d1b64743bb3f006b6ccac5a7",
            "e298b06c70ac4bfa8a1218330613847a",
            "940583d2922c4592a03fb1792b6b9c00",
            "6c6d9591d2e24e82b81ba4fc8329d377",
            "e22098a0b94b408f9e5ebbe694f2df12",
            "9c0e57d1267e49c08a0dcea7dbf24003",
            "26bd00aaa03143d89f9d1a96da6dd0cb",
            "11b7fee60b954881bc0e0592d05840ee",
            "07179d56bdea43b5a23ad7c9575d325e",
            "e1b884db57124da99a4fdb401681313d",
            "2fda6be3b82843438030f71e7d0d09b8",
            "77c582c1a9084b80ab872bc58379f2c3",
            "cb25cca13da645b1b522df76afcc50db",
            "42678fd736d74d29afe12a57a908ed7f",
            "c9b1be618e754f2096edb0befc058e6e",
            "8670d31aeca6424db33480ac63847668"
          ]
        },
        "outputId": "580de86a-f51f-41e5-e5bf-1aa6f2005fa2"
      },
      "outputs": [
        {
          "output_type": "stream",
          "name": "stderr",
          "text": [
            "\u001b[34m\u001b[1mwandb\u001b[0m: Agent Starting Run: 6y4emvo1 with config:\n",
            "\u001b[34m\u001b[1mwandb\u001b[0m: \tbatch_size: 250.61928740677936\n",
            "\u001b[34m\u001b[1mwandb\u001b[0m: \tdropout: 0.5\n",
            "\u001b[34m\u001b[1mwandb\u001b[0m: \tlearning_rate: 0.754727887822447\n",
            "\u001b[34m\u001b[1mwandb\u001b[0m: Currently logged in as: \u001b[33mregirau\u001b[0m (use `wandb login --relogin` to force relogin)\n"
          ]
        },
        {
          "output_type": "display_data",
          "data": {
            "text/plain": [
              "<IPython.core.display.HTML object>"
            ],
            "text/html": [
              "Tracking run with wandb version 0.12.14"
            ]
          },
          "metadata": {}
        },
        {
          "output_type": "display_data",
          "data": {
            "text/plain": [
              "<IPython.core.display.HTML object>"
            ],
            "text/html": [
              "Run data is saved locally in <code>/content/wandb/run-20220416_140946-6y4emvo1</code>"
            ]
          },
          "metadata": {}
        },
        {
          "output_type": "display_data",
          "data": {
            "text/plain": [
              "<IPython.core.display.HTML object>"
            ],
            "text/html": [
              "Syncing run <strong><a href=\"https://wandb.ai/regirau/Vein_Segmentation_Hyperparameters/runs/6y4emvo1\" target=\"_blank\">happy-sweep-1</a></strong> to <a href=\"https://wandb.ai/regirau/Vein_Segmentation_Hyperparameters\" target=\"_blank\">Weights & Biases</a> (<a href=\"https://wandb.me/run\" target=\"_blank\">docs</a>)<br/>Sweep page:  <a href=\"https://wandb.ai/regirau/Vein_Segmentation_Hyperparameters/sweeps/099auu93\" target=\"_blank\">https://wandb.ai/regirau/Vein_Segmentation_Hyperparameters/sweeps/099auu93</a>"
            ]
          },
          "metadata": {}
        },
        {
          "output_type": "stream",
          "name": "stdout",
          "text": [
            "Found 900 files belonging to 1 classes.\n",
            "Found 900 files belonging to 1 classes.\n",
            "\n",
            "Start of epoch 0\n"
          ]
        },
        {
          "output_type": "stream",
          "name": "stderr",
          "text": [
            "100%|██████████| 630/630 [08:11<00:00,  1.28it/s]\n"
          ]
        },
        {
          "output_type": "stream",
          "name": "stdout",
          "text": [
            "Training IoU over epoch:  0.2858263472000198\n",
            "Validation IoU over epoch:  0.2767301733767252\n",
            "\n"
          ]
        },
        {
          "output_type": "display_data",
          "data": {
            "text/plain": [
              "<IPython.core.display.HTML object>"
            ],
            "text/html": [
              "Waiting for W&B process to finish... <strong style=\"color:green\">(success).</strong>"
            ]
          },
          "metadata": {}
        },
        {
          "output_type": "display_data",
          "data": {
            "text/plain": [
              "VBox(children=(Label(value='0.001 MB of 0.001 MB uploaded (0.000 MB deduped)\\r'), FloatProgress(value=1.0, max…"
            ],
            "application/vnd.jupyter.widget-view+json": {
              "version_major": 2,
              "version_minor": 0,
              "model_id": "d119840475d746d6848eec05d1066d98"
            }
          },
          "metadata": {}
        },
        {
          "output_type": "display_data",
          "data": {
            "text/plain": [
              "<IPython.core.display.HTML object>"
            ],
            "text/html": [
              "<style>\n",
              "    table.wandb td:nth-child(1) { padding: 0 10px; text-align: right }\n",
              "    .wandb-row { display: flex; flex-direction: row; flex-wrap: wrap; width: 100% }\n",
              "    .wandb-col { display: flex; flex-direction: column; flex-basis: 100%; flex: 1; padding: 10px; }\n",
              "    </style>\n",
              "<div class=\"wandb-row\"><div class=\"wandb-col\"><h3>Run history:</h3><br/><table class=\"wandb\"><tr><td>acc</td><td>▁</td></tr><tr><td>epochs</td><td>▁</td></tr><tr><td>loss</td><td>▁</td></tr><tr><td>val_acc</td><td>▁</td></tr><tr><td>val_loss</td><td>▁</td></tr></table><br/></div><div class=\"wandb-col\"><h3>Run summary:</h3><br/><table class=\"wandb\"><tr><td>acc</td><td>0.28583</td></tr><tr><td>epochs</td><td>0</td></tr><tr><td>loss</td><td>-0.28583</td></tr><tr><td>val_acc</td><td>0.27673</td></tr><tr><td>val_loss</td><td>-0.27673</td></tr></table><br/></div></div>"
            ]
          },
          "metadata": {}
        },
        {
          "output_type": "display_data",
          "data": {
            "text/plain": [
              "<IPython.core.display.HTML object>"
            ],
            "text/html": [
              "Synced <strong style=\"color:#cdcd00\">happy-sweep-1</strong>: <a href=\"https://wandb.ai/regirau/Vein_Segmentation_Hyperparameters/runs/6y4emvo1\" target=\"_blank\">https://wandb.ai/regirau/Vein_Segmentation_Hyperparameters/runs/6y4emvo1</a><br/>Synced 5 W&B file(s), 0 media file(s), 0 artifact file(s) and 0 other file(s)"
            ]
          },
          "metadata": {}
        },
        {
          "output_type": "display_data",
          "data": {
            "text/plain": [
              "<IPython.core.display.HTML object>"
            ],
            "text/html": [
              "Find logs at: <code>./wandb/run-20220416_140946-6y4emvo1/logs</code>"
            ]
          },
          "metadata": {}
        },
        {
          "output_type": "stream",
          "name": "stderr",
          "text": [
            "\u001b[34m\u001b[1mwandb\u001b[0m: Agent Starting Run: l3d2onzw with config:\n",
            "\u001b[34m\u001b[1mwandb\u001b[0m: \tbatch_size: 36.56451820911444\n",
            "\u001b[34m\u001b[1mwandb\u001b[0m: \tdropout: 0.5\n",
            "\u001b[34m\u001b[1mwandb\u001b[0m: \tlearning_rate: 0.13175823528662822\n"
          ]
        },
        {
          "output_type": "display_data",
          "data": {
            "text/plain": [
              "<IPython.core.display.HTML object>"
            ],
            "text/html": [
              "Tracking run with wandb version 0.12.14"
            ]
          },
          "metadata": {}
        },
        {
          "output_type": "display_data",
          "data": {
            "text/plain": [
              "<IPython.core.display.HTML object>"
            ],
            "text/html": [
              "Run data is saved locally in <code>/content/wandb/run-20220416_141846-l3d2onzw</code>"
            ]
          },
          "metadata": {}
        },
        {
          "output_type": "display_data",
          "data": {
            "text/plain": [
              "<IPython.core.display.HTML object>"
            ],
            "text/html": [
              "Syncing run <strong><a href=\"https://wandb.ai/regirau/Vein_Segmentation_Hyperparameters/runs/l3d2onzw\" target=\"_blank\">distinctive-sweep-2</a></strong> to <a href=\"https://wandb.ai/regirau/Vein_Segmentation_Hyperparameters\" target=\"_blank\">Weights & Biases</a> (<a href=\"https://wandb.me/run\" target=\"_blank\">docs</a>)<br/>Sweep page:  <a href=\"https://wandb.ai/regirau/Vein_Segmentation_Hyperparameters/sweeps/099auu93\" target=\"_blank\">https://wandb.ai/regirau/Vein_Segmentation_Hyperparameters/sweeps/099auu93</a>"
            ]
          },
          "metadata": {}
        },
        {
          "output_type": "stream",
          "name": "stdout",
          "text": [
            "Found 900 files belonging to 1 classes.\n",
            "Found 900 files belonging to 1 classes.\n",
            "\n",
            "Start of epoch 0\n"
          ]
        },
        {
          "output_type": "stream",
          "name": "stderr",
          "text": [
            "100%|██████████| 630/630 [07:57<00:00,  1.32it/s]\n"
          ]
        },
        {
          "output_type": "stream",
          "name": "stdout",
          "text": [
            "Training IoU over epoch:  0.2662218920174397\n",
            "Validation IoU over epoch:  0.2925110297208583\n",
            "\n"
          ]
        },
        {
          "output_type": "display_data",
          "data": {
            "text/plain": [
              "<IPython.core.display.HTML object>"
            ],
            "text/html": [
              "Waiting for W&B process to finish... <strong style=\"color:green\">(success).</strong>"
            ]
          },
          "metadata": {}
        },
        {
          "output_type": "display_data",
          "data": {
            "text/plain": [
              "VBox(children=(Label(value='0.001 MB of 0.001 MB uploaded (0.000 MB deduped)\\r'), FloatProgress(value=1.0, max…"
            ],
            "application/vnd.jupyter.widget-view+json": {
              "version_major": 2,
              "version_minor": 0,
              "model_id": "8d86ff9485924ec0aab70a5a4dfd0614"
            }
          },
          "metadata": {}
        },
        {
          "output_type": "display_data",
          "data": {
            "text/plain": [
              "<IPython.core.display.HTML object>"
            ],
            "text/html": [
              "<style>\n",
              "    table.wandb td:nth-child(1) { padding: 0 10px; text-align: right }\n",
              "    .wandb-row { display: flex; flex-direction: row; flex-wrap: wrap; width: 100% }\n",
              "    .wandb-col { display: flex; flex-direction: column; flex-basis: 100%; flex: 1; padding: 10px; }\n",
              "    </style>\n",
              "<div class=\"wandb-row\"><div class=\"wandb-col\"><h3>Run history:</h3><br/><table class=\"wandb\"><tr><td>acc</td><td>▁</td></tr><tr><td>epochs</td><td>▁</td></tr><tr><td>loss</td><td>▁</td></tr><tr><td>val_acc</td><td>▁</td></tr><tr><td>val_loss</td><td>▁</td></tr></table><br/></div><div class=\"wandb-col\"><h3>Run summary:</h3><br/><table class=\"wandb\"><tr><td>acc</td><td>0.26622</td></tr><tr><td>epochs</td><td>0</td></tr><tr><td>loss</td><td>-0.26622</td></tr><tr><td>val_acc</td><td>0.29251</td></tr><tr><td>val_loss</td><td>-0.29251</td></tr></table><br/></div></div>"
            ]
          },
          "metadata": {}
        },
        {
          "output_type": "display_data",
          "data": {
            "text/plain": [
              "<IPython.core.display.HTML object>"
            ],
            "text/html": [
              "Synced <strong style=\"color:#cdcd00\">distinctive-sweep-2</strong>: <a href=\"https://wandb.ai/regirau/Vein_Segmentation_Hyperparameters/runs/l3d2onzw\" target=\"_blank\">https://wandb.ai/regirau/Vein_Segmentation_Hyperparameters/runs/l3d2onzw</a><br/>Synced 5 W&B file(s), 0 media file(s), 0 artifact file(s) and 0 other file(s)"
            ]
          },
          "metadata": {}
        },
        {
          "output_type": "display_data",
          "data": {
            "text/plain": [
              "<IPython.core.display.HTML object>"
            ],
            "text/html": [
              "Find logs at: <code>./wandb/run-20220416_141846-l3d2onzw/logs</code>"
            ]
          },
          "metadata": {}
        },
        {
          "output_type": "stream",
          "name": "stderr",
          "text": [
            "\u001b[34m\u001b[1mwandb\u001b[0m: Agent Starting Run: fzody8r1 with config:\n",
            "\u001b[34m\u001b[1mwandb\u001b[0m: \tbatch_size: 91.95832110937351\n",
            "\u001b[34m\u001b[1mwandb\u001b[0m: \tdropout: 0.4\n",
            "\u001b[34m\u001b[1mwandb\u001b[0m: \tlearning_rate: 0.679041250770061\n"
          ]
        },
        {
          "output_type": "display_data",
          "data": {
            "text/plain": [
              "<IPython.core.display.HTML object>"
            ],
            "text/html": [
              "Tracking run with wandb version 0.12.14"
            ]
          },
          "metadata": {}
        },
        {
          "output_type": "display_data",
          "data": {
            "text/plain": [
              "<IPython.core.display.HTML object>"
            ],
            "text/html": [
              "Run data is saved locally in <code>/content/wandb/run-20220416_142732-fzody8r1</code>"
            ]
          },
          "metadata": {}
        },
        {
          "output_type": "display_data",
          "data": {
            "text/plain": [
              "<IPython.core.display.HTML object>"
            ],
            "text/html": [
              "Syncing run <strong><a href=\"https://wandb.ai/regirau/Vein_Segmentation_Hyperparameters/runs/fzody8r1\" target=\"_blank\">fast-sweep-3</a></strong> to <a href=\"https://wandb.ai/regirau/Vein_Segmentation_Hyperparameters\" target=\"_blank\">Weights & Biases</a> (<a href=\"https://wandb.me/run\" target=\"_blank\">docs</a>)<br/>Sweep page:  <a href=\"https://wandb.ai/regirau/Vein_Segmentation_Hyperparameters/sweeps/099auu93\" target=\"_blank\">https://wandb.ai/regirau/Vein_Segmentation_Hyperparameters/sweeps/099auu93</a>"
            ]
          },
          "metadata": {}
        },
        {
          "output_type": "stream",
          "name": "stdout",
          "text": [
            "Found 900 files belonging to 1 classes.\n",
            "Found 900 files belonging to 1 classes.\n",
            "\n",
            "Start of epoch 0\n"
          ]
        },
        {
          "output_type": "stream",
          "name": "stderr",
          "text": [
            "100%|██████████| 630/630 [07:53<00:00,  1.33it/s]\n"
          ]
        },
        {
          "output_type": "stream",
          "name": "stdout",
          "text": [
            "Training IoU over epoch:  0.2027040710322689\n",
            "Validation IoU over epoch:  0.29916847665552737\n",
            "\n"
          ]
        },
        {
          "output_type": "display_data",
          "data": {
            "text/plain": [
              "<IPython.core.display.HTML object>"
            ],
            "text/html": [
              "Waiting for W&B process to finish... <strong style=\"color:green\">(success).</strong>"
            ]
          },
          "metadata": {}
        },
        {
          "output_type": "display_data",
          "data": {
            "text/plain": [
              "VBox(children=(Label(value='0.001 MB of 0.001 MB uploaded (0.000 MB deduped)\\r'), FloatProgress(value=1.0, max…"
            ],
            "application/vnd.jupyter.widget-view+json": {
              "version_major": 2,
              "version_minor": 0,
              "model_id": "64d8d53002e14195845ffd2860473ea8"
            }
          },
          "metadata": {}
        },
        {
          "output_type": "display_data",
          "data": {
            "text/plain": [
              "<IPython.core.display.HTML object>"
            ],
            "text/html": [
              "<style>\n",
              "    table.wandb td:nth-child(1) { padding: 0 10px; text-align: right }\n",
              "    .wandb-row { display: flex; flex-direction: row; flex-wrap: wrap; width: 100% }\n",
              "    .wandb-col { display: flex; flex-direction: column; flex-basis: 100%; flex: 1; padding: 10px; }\n",
              "    </style>\n",
              "<div class=\"wandb-row\"><div class=\"wandb-col\"><h3>Run history:</h3><br/><table class=\"wandb\"><tr><td>acc</td><td>▁</td></tr><tr><td>epochs</td><td>▁</td></tr><tr><td>loss</td><td>▁</td></tr><tr><td>val_acc</td><td>▁</td></tr><tr><td>val_loss</td><td>▁</td></tr></table><br/></div><div class=\"wandb-col\"><h3>Run summary:</h3><br/><table class=\"wandb\"><tr><td>acc</td><td>0.2027</td></tr><tr><td>epochs</td><td>0</td></tr><tr><td>loss</td><td>-0.2027</td></tr><tr><td>val_acc</td><td>0.29917</td></tr><tr><td>val_loss</td><td>-0.29917</td></tr></table><br/></div></div>"
            ]
          },
          "metadata": {}
        },
        {
          "output_type": "display_data",
          "data": {
            "text/plain": [
              "<IPython.core.display.HTML object>"
            ],
            "text/html": [
              "Synced <strong style=\"color:#cdcd00\">fast-sweep-3</strong>: <a href=\"https://wandb.ai/regirau/Vein_Segmentation_Hyperparameters/runs/fzody8r1\" target=\"_blank\">https://wandb.ai/regirau/Vein_Segmentation_Hyperparameters/runs/fzody8r1</a><br/>Synced 5 W&B file(s), 0 media file(s), 0 artifact file(s) and 0 other file(s)"
            ]
          },
          "metadata": {}
        },
        {
          "output_type": "display_data",
          "data": {
            "text/plain": [
              "<IPython.core.display.HTML object>"
            ],
            "text/html": [
              "Find logs at: <code>./wandb/run-20220416_142732-fzody8r1/logs</code>"
            ]
          },
          "metadata": {}
        },
        {
          "output_type": "stream",
          "name": "stderr",
          "text": [
            "\u001b[34m\u001b[1mwandb\u001b[0m: Sweep Agent: Waiting for job.\n",
            "\u001b[34m\u001b[1mwandb\u001b[0m: Job received.\n",
            "\u001b[34m\u001b[1mwandb\u001b[0m: Agent Starting Run: c7tm19fx with config:\n",
            "\u001b[34m\u001b[1mwandb\u001b[0m: \tbatch_size: 100.46573904620868\n",
            "\u001b[34m\u001b[1mwandb\u001b[0m: \tdropout: 0.1\n",
            "\u001b[34m\u001b[1mwandb\u001b[0m: \tlearning_rate: 0.16674493065159887\n"
          ]
        },
        {
          "output_type": "display_data",
          "data": {
            "text/plain": [
              "<IPython.core.display.HTML object>"
            ],
            "text/html": [
              "Tracking run with wandb version 0.12.14"
            ]
          },
          "metadata": {}
        },
        {
          "output_type": "display_data",
          "data": {
            "text/plain": [
              "<IPython.core.display.HTML object>"
            ],
            "text/html": [
              "Run data is saved locally in <code>/content/wandb/run-20220416_143621-c7tm19fx</code>"
            ]
          },
          "metadata": {}
        },
        {
          "output_type": "display_data",
          "data": {
            "text/plain": [
              "<IPython.core.display.HTML object>"
            ],
            "text/html": [
              "Syncing run <strong><a href=\"https://wandb.ai/regirau/Vein_Segmentation_Hyperparameters/runs/c7tm19fx\" target=\"_blank\">daily-sweep-4</a></strong> to <a href=\"https://wandb.ai/regirau/Vein_Segmentation_Hyperparameters\" target=\"_blank\">Weights & Biases</a> (<a href=\"https://wandb.me/run\" target=\"_blank\">docs</a>)<br/>Sweep page:  <a href=\"https://wandb.ai/regirau/Vein_Segmentation_Hyperparameters/sweeps/099auu93\" target=\"_blank\">https://wandb.ai/regirau/Vein_Segmentation_Hyperparameters/sweeps/099auu93</a>"
            ]
          },
          "metadata": {}
        },
        {
          "output_type": "stream",
          "name": "stdout",
          "text": [
            "Found 900 files belonging to 1 classes.\n",
            "Found 900 files belonging to 1 classes.\n",
            "\n",
            "Start of epoch 0\n"
          ]
        },
        {
          "output_type": "stream",
          "name": "stderr",
          "text": [
            "100%|██████████| 630/630 [07:57<00:00,  1.32it/s]\n"
          ]
        },
        {
          "output_type": "stream",
          "name": "stdout",
          "text": [
            "Training IoU over epoch:  0.29968130606344884\n",
            "Validation IoU over epoch:  0.11711363163259295\n",
            "\n"
          ]
        },
        {
          "output_type": "display_data",
          "data": {
            "text/plain": [
              "<IPython.core.display.HTML object>"
            ],
            "text/html": [
              "Waiting for W&B process to finish... <strong style=\"color:green\">(success).</strong>"
            ]
          },
          "metadata": {}
        },
        {
          "output_type": "display_data",
          "data": {
            "text/plain": [
              "VBox(children=(Label(value='0.001 MB of 0.001 MB uploaded (0.000 MB deduped)\\r'), FloatProgress(value=1.0, max…"
            ],
            "application/vnd.jupyter.widget-view+json": {
              "version_major": 2,
              "version_minor": 0,
              "model_id": "7899cfd2e5e74866bc69c084ffba0ab5"
            }
          },
          "metadata": {}
        },
        {
          "output_type": "display_data",
          "data": {
            "text/plain": [
              "<IPython.core.display.HTML object>"
            ],
            "text/html": [
              "<style>\n",
              "    table.wandb td:nth-child(1) { padding: 0 10px; text-align: right }\n",
              "    .wandb-row { display: flex; flex-direction: row; flex-wrap: wrap; width: 100% }\n",
              "    .wandb-col { display: flex; flex-direction: column; flex-basis: 100%; flex: 1; padding: 10px; }\n",
              "    </style>\n",
              "<div class=\"wandb-row\"><div class=\"wandb-col\"><h3>Run history:</h3><br/><table class=\"wandb\"><tr><td>acc</td><td>▁</td></tr><tr><td>epochs</td><td>▁</td></tr><tr><td>loss</td><td>▁</td></tr><tr><td>val_acc</td><td>▁</td></tr><tr><td>val_loss</td><td>▁</td></tr></table><br/></div><div class=\"wandb-col\"><h3>Run summary:</h3><br/><table class=\"wandb\"><tr><td>acc</td><td>0.29968</td></tr><tr><td>epochs</td><td>0</td></tr><tr><td>loss</td><td>-0.29968</td></tr><tr><td>val_acc</td><td>0.11711</td></tr><tr><td>val_loss</td><td>-0.11711</td></tr></table><br/></div></div>"
            ]
          },
          "metadata": {}
        },
        {
          "output_type": "display_data",
          "data": {
            "text/plain": [
              "<IPython.core.display.HTML object>"
            ],
            "text/html": [
              "Synced <strong style=\"color:#cdcd00\">daily-sweep-4</strong>: <a href=\"https://wandb.ai/regirau/Vein_Segmentation_Hyperparameters/runs/c7tm19fx\" target=\"_blank\">https://wandb.ai/regirau/Vein_Segmentation_Hyperparameters/runs/c7tm19fx</a><br/>Synced 5 W&B file(s), 0 media file(s), 0 artifact file(s) and 0 other file(s)"
            ]
          },
          "metadata": {}
        },
        {
          "output_type": "display_data",
          "data": {
            "text/plain": [
              "<IPython.core.display.HTML object>"
            ],
            "text/html": [
              "Find logs at: <code>./wandb/run-20220416_143621-c7tm19fx/logs</code>"
            ]
          },
          "metadata": {}
        },
        {
          "output_type": "stream",
          "name": "stderr",
          "text": [
            "\u001b[34m\u001b[1mwandb\u001b[0m: Agent Starting Run: 00m5qaka with config:\n",
            "\u001b[34m\u001b[1mwandb\u001b[0m: \tbatch_size: 46.25004994452373\n",
            "\u001b[34m\u001b[1mwandb\u001b[0m: \tdropout: 0.1\n",
            "\u001b[34m\u001b[1mwandb\u001b[0m: \tlearning_rate: 0.48116894219572\n"
          ]
        },
        {
          "output_type": "display_data",
          "data": {
            "text/plain": [
              "<IPython.core.display.HTML object>"
            ],
            "text/html": [
              "Tracking run with wandb version 0.12.14"
            ]
          },
          "metadata": {}
        },
        {
          "output_type": "display_data",
          "data": {
            "text/plain": [
              "<IPython.core.display.HTML object>"
            ],
            "text/html": [
              "Run data is saved locally in <code>/content/wandb/run-20220416_144506-00m5qaka</code>"
            ]
          },
          "metadata": {}
        },
        {
          "output_type": "display_data",
          "data": {
            "text/plain": [
              "<IPython.core.display.HTML object>"
            ],
            "text/html": [
              "Syncing run <strong><a href=\"https://wandb.ai/regirau/Vein_Segmentation_Hyperparameters/runs/00m5qaka\" target=\"_blank\">giddy-sweep-5</a></strong> to <a href=\"https://wandb.ai/regirau/Vein_Segmentation_Hyperparameters\" target=\"_blank\">Weights & Biases</a> (<a href=\"https://wandb.me/run\" target=\"_blank\">docs</a>)<br/>Sweep page:  <a href=\"https://wandb.ai/regirau/Vein_Segmentation_Hyperparameters/sweeps/099auu93\" target=\"_blank\">https://wandb.ai/regirau/Vein_Segmentation_Hyperparameters/sweeps/099auu93</a>"
            ]
          },
          "metadata": {}
        },
        {
          "output_type": "stream",
          "name": "stdout",
          "text": [
            "Found 900 files belonging to 1 classes.\n",
            "Found 900 files belonging to 1 classes.\n",
            "\n",
            "Start of epoch 0\n"
          ]
        },
        {
          "output_type": "stream",
          "name": "stderr",
          "text": [
            "100%|██████████| 630/630 [07:56<00:00,  1.32it/s]\n"
          ]
        },
        {
          "output_type": "stream",
          "name": "stdout",
          "text": [
            "Training IoU over epoch:  0.3006603986613632\n",
            "Validation IoU over epoch:  0.2809857686636624\n",
            "\n"
          ]
        },
        {
          "output_type": "display_data",
          "data": {
            "text/plain": [
              "<IPython.core.display.HTML object>"
            ],
            "text/html": [
              "Waiting for W&B process to finish... <strong style=\"color:green\">(success).</strong>"
            ]
          },
          "metadata": {}
        },
        {
          "output_type": "display_data",
          "data": {
            "text/plain": [
              "VBox(children=(Label(value='0.001 MB of 0.001 MB uploaded (0.000 MB deduped)\\r'), FloatProgress(value=1.0, max…"
            ],
            "application/vnd.jupyter.widget-view+json": {
              "version_major": 2,
              "version_minor": 0,
              "model_id": "3f00fa08f8114bf8bde9d9f7922fb7fc"
            }
          },
          "metadata": {}
        },
        {
          "output_type": "display_data",
          "data": {
            "text/plain": [
              "<IPython.core.display.HTML object>"
            ],
            "text/html": [
              "<style>\n",
              "    table.wandb td:nth-child(1) { padding: 0 10px; text-align: right }\n",
              "    .wandb-row { display: flex; flex-direction: row; flex-wrap: wrap; width: 100% }\n",
              "    .wandb-col { display: flex; flex-direction: column; flex-basis: 100%; flex: 1; padding: 10px; }\n",
              "    </style>\n",
              "<div class=\"wandb-row\"><div class=\"wandb-col\"><h3>Run history:</h3><br/><table class=\"wandb\"><tr><td>acc</td><td>▁</td></tr><tr><td>epochs</td><td>▁</td></tr><tr><td>loss</td><td>▁</td></tr><tr><td>val_acc</td><td>▁</td></tr><tr><td>val_loss</td><td>▁</td></tr></table><br/></div><div class=\"wandb-col\"><h3>Run summary:</h3><br/><table class=\"wandb\"><tr><td>acc</td><td>0.30066</td></tr><tr><td>epochs</td><td>0</td></tr><tr><td>loss</td><td>-0.30066</td></tr><tr><td>val_acc</td><td>0.28099</td></tr><tr><td>val_loss</td><td>-0.28099</td></tr></table><br/></div></div>"
            ]
          },
          "metadata": {}
        },
        {
          "output_type": "display_data",
          "data": {
            "text/plain": [
              "<IPython.core.display.HTML object>"
            ],
            "text/html": [
              "Synced <strong style=\"color:#cdcd00\">giddy-sweep-5</strong>: <a href=\"https://wandb.ai/regirau/Vein_Segmentation_Hyperparameters/runs/00m5qaka\" target=\"_blank\">https://wandb.ai/regirau/Vein_Segmentation_Hyperparameters/runs/00m5qaka</a><br/>Synced 5 W&B file(s), 0 media file(s), 0 artifact file(s) and 0 other file(s)"
            ]
          },
          "metadata": {}
        },
        {
          "output_type": "display_data",
          "data": {
            "text/plain": [
              "<IPython.core.display.HTML object>"
            ],
            "text/html": [
              "Find logs at: <code>./wandb/run-20220416_144506-00m5qaka/logs</code>"
            ]
          },
          "metadata": {}
        },
        {
          "output_type": "stream",
          "name": "stderr",
          "text": [
            "\u001b[34m\u001b[1mwandb\u001b[0m: Agent Starting Run: e4w9vfri with config:\n",
            "\u001b[34m\u001b[1mwandb\u001b[0m: \tbatch_size: 77.7987946034859\n",
            "\u001b[34m\u001b[1mwandb\u001b[0m: \tdropout: 0.3\n",
            "\u001b[34m\u001b[1mwandb\u001b[0m: \tlearning_rate: 0.42689682720656263\n"
          ]
        },
        {
          "output_type": "display_data",
          "data": {
            "text/plain": [
              "<IPython.core.display.HTML object>"
            ],
            "text/html": [
              "Tracking run with wandb version 0.12.14"
            ]
          },
          "metadata": {}
        },
        {
          "output_type": "display_data",
          "data": {
            "text/plain": [
              "<IPython.core.display.HTML object>"
            ],
            "text/html": [
              "Run data is saved locally in <code>/content/wandb/run-20220416_145351-e4w9vfri</code>"
            ]
          },
          "metadata": {}
        },
        {
          "output_type": "display_data",
          "data": {
            "text/plain": [
              "<IPython.core.display.HTML object>"
            ],
            "text/html": [
              "Syncing run <strong><a href=\"https://wandb.ai/regirau/Vein_Segmentation_Hyperparameters/runs/e4w9vfri\" target=\"_blank\">ruby-sweep-6</a></strong> to <a href=\"https://wandb.ai/regirau/Vein_Segmentation_Hyperparameters\" target=\"_blank\">Weights & Biases</a> (<a href=\"https://wandb.me/run\" target=\"_blank\">docs</a>)<br/>Sweep page:  <a href=\"https://wandb.ai/regirau/Vein_Segmentation_Hyperparameters/sweeps/099auu93\" target=\"_blank\">https://wandb.ai/regirau/Vein_Segmentation_Hyperparameters/sweeps/099auu93</a>"
            ]
          },
          "metadata": {}
        },
        {
          "output_type": "stream",
          "name": "stdout",
          "text": [
            "Found 900 files belonging to 1 classes.\n",
            "Found 900 files belonging to 1 classes.\n",
            "\n",
            "Start of epoch 0\n"
          ]
        },
        {
          "output_type": "stream",
          "name": "stderr",
          "text": [
            "100%|██████████| 630/630 [07:53<00:00,  1.33it/s]\n"
          ]
        },
        {
          "output_type": "stream",
          "name": "stdout",
          "text": [
            "Training IoU over epoch:  0.30033932199815655\n",
            "Validation IoU over epoch:  0.15552569352997428\n",
            "\n"
          ]
        },
        {
          "output_type": "display_data",
          "data": {
            "text/plain": [
              "<IPython.core.display.HTML object>"
            ],
            "text/html": [
              "Waiting for W&B process to finish... <strong style=\"color:green\">(success).</strong>"
            ]
          },
          "metadata": {}
        },
        {
          "output_type": "display_data",
          "data": {
            "text/plain": [
              "VBox(children=(Label(value='0.001 MB of 0.001 MB uploaded (0.000 MB deduped)\\r'), FloatProgress(value=1.0, max…"
            ],
            "application/vnd.jupyter.widget-view+json": {
              "version_major": 2,
              "version_minor": 0,
              "model_id": "97e80e4afead4af8bbc5e1c1f89a441e"
            }
          },
          "metadata": {}
        },
        {
          "output_type": "display_data",
          "data": {
            "text/plain": [
              "<IPython.core.display.HTML object>"
            ],
            "text/html": [
              "<style>\n",
              "    table.wandb td:nth-child(1) { padding: 0 10px; text-align: right }\n",
              "    .wandb-row { display: flex; flex-direction: row; flex-wrap: wrap; width: 100% }\n",
              "    .wandb-col { display: flex; flex-direction: column; flex-basis: 100%; flex: 1; padding: 10px; }\n",
              "    </style>\n",
              "<div class=\"wandb-row\"><div class=\"wandb-col\"><h3>Run history:</h3><br/><table class=\"wandb\"><tr><td>acc</td><td>▁</td></tr><tr><td>epochs</td><td>▁</td></tr><tr><td>loss</td><td>▁</td></tr><tr><td>val_acc</td><td>▁</td></tr><tr><td>val_loss</td><td>▁</td></tr></table><br/></div><div class=\"wandb-col\"><h3>Run summary:</h3><br/><table class=\"wandb\"><tr><td>acc</td><td>0.30034</td></tr><tr><td>epochs</td><td>0</td></tr><tr><td>loss</td><td>-0.30034</td></tr><tr><td>val_acc</td><td>0.15553</td></tr><tr><td>val_loss</td><td>-0.15553</td></tr></table><br/></div></div>"
            ]
          },
          "metadata": {}
        },
        {
          "output_type": "display_data",
          "data": {
            "text/plain": [
              "<IPython.core.display.HTML object>"
            ],
            "text/html": [
              "Synced <strong style=\"color:#cdcd00\">ruby-sweep-6</strong>: <a href=\"https://wandb.ai/regirau/Vein_Segmentation_Hyperparameters/runs/e4w9vfri\" target=\"_blank\">https://wandb.ai/regirau/Vein_Segmentation_Hyperparameters/runs/e4w9vfri</a><br/>Synced 5 W&B file(s), 0 media file(s), 0 artifact file(s) and 0 other file(s)"
            ]
          },
          "metadata": {}
        },
        {
          "output_type": "display_data",
          "data": {
            "text/plain": [
              "<IPython.core.display.HTML object>"
            ],
            "text/html": [
              "Find logs at: <code>./wandb/run-20220416_145351-e4w9vfri/logs</code>"
            ]
          },
          "metadata": {}
        },
        {
          "output_type": "stream",
          "name": "stderr",
          "text": [
            "\u001b[34m\u001b[1mwandb\u001b[0m: Sweep Agent: Waiting for job.\n",
            "\u001b[34m\u001b[1mwandb\u001b[0m: Job received.\n",
            "\u001b[34m\u001b[1mwandb\u001b[0m: Agent Starting Run: 4o9pdp7y with config:\n",
            "\u001b[34m\u001b[1mwandb\u001b[0m: \tbatch_size: 128.96366844383783\n",
            "\u001b[34m\u001b[1mwandb\u001b[0m: \tdropout: 0.3\n",
            "\u001b[34m\u001b[1mwandb\u001b[0m: \tlearning_rate: 0.1279631210177577\n"
          ]
        },
        {
          "output_type": "display_data",
          "data": {
            "text/plain": [
              "<IPython.core.display.HTML object>"
            ],
            "text/html": [
              "Tracking run with wandb version 0.12.14"
            ]
          },
          "metadata": {}
        },
        {
          "output_type": "display_data",
          "data": {
            "text/plain": [
              "<IPython.core.display.HTML object>"
            ],
            "text/html": [
              "Run data is saved locally in <code>/content/wandb/run-20220416_150240-4o9pdp7y</code>"
            ]
          },
          "metadata": {}
        },
        {
          "output_type": "display_data",
          "data": {
            "text/plain": [
              "<IPython.core.display.HTML object>"
            ],
            "text/html": [
              "Syncing run <strong><a href=\"https://wandb.ai/regirau/Vein_Segmentation_Hyperparameters/runs/4o9pdp7y\" target=\"_blank\">crisp-sweep-7</a></strong> to <a href=\"https://wandb.ai/regirau/Vein_Segmentation_Hyperparameters\" target=\"_blank\">Weights & Biases</a> (<a href=\"https://wandb.me/run\" target=\"_blank\">docs</a>)<br/>Sweep page:  <a href=\"https://wandb.ai/regirau/Vein_Segmentation_Hyperparameters/sweeps/099auu93\" target=\"_blank\">https://wandb.ai/regirau/Vein_Segmentation_Hyperparameters/sweeps/099auu93</a>"
            ]
          },
          "metadata": {}
        },
        {
          "output_type": "stream",
          "name": "stdout",
          "text": [
            "Found 900 files belonging to 1 classes.\n",
            "Found 900 files belonging to 1 classes.\n",
            "\n",
            "Start of epoch 0\n"
          ]
        },
        {
          "output_type": "stream",
          "name": "stderr",
          "text": [
            "100%|██████████| 630/630 [07:54<00:00,  1.33it/s]\n"
          ]
        },
        {
          "output_type": "stream",
          "name": "stdout",
          "text": [
            "Training IoU over epoch:  0.2771496383009954\n",
            "Validation IoU over epoch:  0.20065696567501248\n",
            "\n"
          ]
        },
        {
          "output_type": "display_data",
          "data": {
            "text/plain": [
              "<IPython.core.display.HTML object>"
            ],
            "text/html": [
              "Waiting for W&B process to finish... <strong style=\"color:green\">(success).</strong>"
            ]
          },
          "metadata": {}
        },
        {
          "output_type": "display_data",
          "data": {
            "text/plain": [
              "VBox(children=(Label(value='0.001 MB of 0.001 MB uploaded (0.000 MB deduped)\\r'), FloatProgress(value=1.0, max…"
            ],
            "application/vnd.jupyter.widget-view+json": {
              "version_major": 2,
              "version_minor": 0,
              "model_id": "1c48d7c4c46245028baf384af1140ef5"
            }
          },
          "metadata": {}
        },
        {
          "output_type": "display_data",
          "data": {
            "text/plain": [
              "<IPython.core.display.HTML object>"
            ],
            "text/html": [
              "<style>\n",
              "    table.wandb td:nth-child(1) { padding: 0 10px; text-align: right }\n",
              "    .wandb-row { display: flex; flex-direction: row; flex-wrap: wrap; width: 100% }\n",
              "    .wandb-col { display: flex; flex-direction: column; flex-basis: 100%; flex: 1; padding: 10px; }\n",
              "    </style>\n",
              "<div class=\"wandb-row\"><div class=\"wandb-col\"><h3>Run history:</h3><br/><table class=\"wandb\"><tr><td>acc</td><td>▁</td></tr><tr><td>epochs</td><td>▁</td></tr><tr><td>loss</td><td>▁</td></tr><tr><td>val_acc</td><td>▁</td></tr><tr><td>val_loss</td><td>▁</td></tr></table><br/></div><div class=\"wandb-col\"><h3>Run summary:</h3><br/><table class=\"wandb\"><tr><td>acc</td><td>0.27715</td></tr><tr><td>epochs</td><td>0</td></tr><tr><td>loss</td><td>-0.27715</td></tr><tr><td>val_acc</td><td>0.20066</td></tr><tr><td>val_loss</td><td>-0.20066</td></tr></table><br/></div></div>"
            ]
          },
          "metadata": {}
        },
        {
          "output_type": "display_data",
          "data": {
            "text/plain": [
              "<IPython.core.display.HTML object>"
            ],
            "text/html": [
              "Synced <strong style=\"color:#cdcd00\">crisp-sweep-7</strong>: <a href=\"https://wandb.ai/regirau/Vein_Segmentation_Hyperparameters/runs/4o9pdp7y\" target=\"_blank\">https://wandb.ai/regirau/Vein_Segmentation_Hyperparameters/runs/4o9pdp7y</a><br/>Synced 5 W&B file(s), 0 media file(s), 0 artifact file(s) and 0 other file(s)"
            ]
          },
          "metadata": {}
        },
        {
          "output_type": "display_data",
          "data": {
            "text/plain": [
              "<IPython.core.display.HTML object>"
            ],
            "text/html": [
              "Find logs at: <code>./wandb/run-20220416_150240-4o9pdp7y/logs</code>"
            ]
          },
          "metadata": {}
        },
        {
          "output_type": "stream",
          "name": "stderr",
          "text": [
            "\u001b[34m\u001b[1mwandb\u001b[0m: Sweep Agent: Waiting for job.\n",
            "\u001b[34m\u001b[1mwandb\u001b[0m: Job received.\n",
            "\u001b[34m\u001b[1mwandb\u001b[0m: Agent Starting Run: 546omvtt with config:\n",
            "\u001b[34m\u001b[1mwandb\u001b[0m: \tbatch_size: 140.27847787431438\n",
            "\u001b[34m\u001b[1mwandb\u001b[0m: \tdropout: 0.5\n",
            "\u001b[34m\u001b[1mwandb\u001b[0m: \tlearning_rate: 0.640812107670795\n"
          ]
        },
        {
          "output_type": "display_data",
          "data": {
            "text/plain": [
              "<IPython.core.display.HTML object>"
            ],
            "text/html": [
              "Tracking run with wandb version 0.12.14"
            ]
          },
          "metadata": {}
        },
        {
          "output_type": "display_data",
          "data": {
            "text/plain": [
              "<IPython.core.display.HTML object>"
            ],
            "text/html": [
              "Run data is saved locally in <code>/content/wandb/run-20220416_151130-546omvtt</code>"
            ]
          },
          "metadata": {}
        },
        {
          "output_type": "display_data",
          "data": {
            "text/plain": [
              "<IPython.core.display.HTML object>"
            ],
            "text/html": [
              "Syncing run <strong><a href=\"https://wandb.ai/regirau/Vein_Segmentation_Hyperparameters/runs/546omvtt\" target=\"_blank\">drawn-sweep-8</a></strong> to <a href=\"https://wandb.ai/regirau/Vein_Segmentation_Hyperparameters\" target=\"_blank\">Weights & Biases</a> (<a href=\"https://wandb.me/run\" target=\"_blank\">docs</a>)<br/>Sweep page:  <a href=\"https://wandb.ai/regirau/Vein_Segmentation_Hyperparameters/sweeps/099auu93\" target=\"_blank\">https://wandb.ai/regirau/Vein_Segmentation_Hyperparameters/sweeps/099auu93</a>"
            ]
          },
          "metadata": {}
        },
        {
          "output_type": "stream",
          "name": "stdout",
          "text": [
            "Found 900 files belonging to 1 classes.\n",
            "Found 900 files belonging to 1 classes.\n",
            "\n",
            "Start of epoch 0\n"
          ]
        },
        {
          "output_type": "stream",
          "name": "stderr",
          "text": [
            "100%|██████████| 630/630 [07:57<00:00,  1.32it/s]\n"
          ]
        },
        {
          "output_type": "stream",
          "name": "stdout",
          "text": [
            "Training IoU over epoch:  0.27555099912707437\n",
            "Validation IoU over epoch:  0.2502774392183508\n",
            "\n"
          ]
        },
        {
          "output_type": "display_data",
          "data": {
            "text/plain": [
              "<IPython.core.display.HTML object>"
            ],
            "text/html": [
              "Waiting for W&B process to finish... <strong style=\"color:green\">(success).</strong>"
            ]
          },
          "metadata": {}
        },
        {
          "output_type": "display_data",
          "data": {
            "text/plain": [
              "VBox(children=(Label(value='0.001 MB of 0.001 MB uploaded (0.000 MB deduped)\\r'), FloatProgress(value=1.0, max…"
            ],
            "application/vnd.jupyter.widget-view+json": {
              "version_major": 2,
              "version_minor": 0,
              "model_id": "adcf7e545c4f4ecab8948e123a7cadb7"
            }
          },
          "metadata": {}
        },
        {
          "output_type": "display_data",
          "data": {
            "text/plain": [
              "<IPython.core.display.HTML object>"
            ],
            "text/html": [
              "<style>\n",
              "    table.wandb td:nth-child(1) { padding: 0 10px; text-align: right }\n",
              "    .wandb-row { display: flex; flex-direction: row; flex-wrap: wrap; width: 100% }\n",
              "    .wandb-col { display: flex; flex-direction: column; flex-basis: 100%; flex: 1; padding: 10px; }\n",
              "    </style>\n",
              "<div class=\"wandb-row\"><div class=\"wandb-col\"><h3>Run history:</h3><br/><table class=\"wandb\"><tr><td>acc</td><td>▁</td></tr><tr><td>epochs</td><td>▁</td></tr><tr><td>loss</td><td>▁</td></tr><tr><td>val_acc</td><td>▁</td></tr><tr><td>val_loss</td><td>▁</td></tr></table><br/></div><div class=\"wandb-col\"><h3>Run summary:</h3><br/><table class=\"wandb\"><tr><td>acc</td><td>0.27555</td></tr><tr><td>epochs</td><td>0</td></tr><tr><td>loss</td><td>-0.27555</td></tr><tr><td>val_acc</td><td>0.25028</td></tr><tr><td>val_loss</td><td>-0.25028</td></tr></table><br/></div></div>"
            ]
          },
          "metadata": {}
        },
        {
          "output_type": "display_data",
          "data": {
            "text/plain": [
              "<IPython.core.display.HTML object>"
            ],
            "text/html": [
              "Synced <strong style=\"color:#cdcd00\">drawn-sweep-8</strong>: <a href=\"https://wandb.ai/regirau/Vein_Segmentation_Hyperparameters/runs/546omvtt\" target=\"_blank\">https://wandb.ai/regirau/Vein_Segmentation_Hyperparameters/runs/546omvtt</a><br/>Synced 5 W&B file(s), 0 media file(s), 0 artifact file(s) and 0 other file(s)"
            ]
          },
          "metadata": {}
        },
        {
          "output_type": "display_data",
          "data": {
            "text/plain": [
              "<IPython.core.display.HTML object>"
            ],
            "text/html": [
              "Find logs at: <code>./wandb/run-20220416_151130-546omvtt/logs</code>"
            ]
          },
          "metadata": {}
        },
        {
          "output_type": "stream",
          "name": "stderr",
          "text": [
            "\u001b[34m\u001b[1mwandb\u001b[0m: Agent Starting Run: dy557rcz with config:\n",
            "\u001b[34m\u001b[1mwandb\u001b[0m: \tbatch_size: 22.286687226000108\n",
            "\u001b[34m\u001b[1mwandb\u001b[0m: \tdropout: 0.2\n",
            "\u001b[34m\u001b[1mwandb\u001b[0m: \tlearning_rate: 0.6841806153355479\n"
          ]
        },
        {
          "output_type": "display_data",
          "data": {
            "text/plain": [
              "<IPython.core.display.HTML object>"
            ],
            "text/html": [
              "Tracking run with wandb version 0.12.14"
            ]
          },
          "metadata": {}
        },
        {
          "output_type": "display_data",
          "data": {
            "text/plain": [
              "<IPython.core.display.HTML object>"
            ],
            "text/html": [
              "Run data is saved locally in <code>/content/wandb/run-20220416_152017-dy557rcz</code>"
            ]
          },
          "metadata": {}
        },
        {
          "output_type": "display_data",
          "data": {
            "text/plain": [
              "<IPython.core.display.HTML object>"
            ],
            "text/html": [
              "Syncing run <strong><a href=\"https://wandb.ai/regirau/Vein_Segmentation_Hyperparameters/runs/dy557rcz\" target=\"_blank\">youthful-sweep-9</a></strong> to <a href=\"https://wandb.ai/regirau/Vein_Segmentation_Hyperparameters\" target=\"_blank\">Weights & Biases</a> (<a href=\"https://wandb.me/run\" target=\"_blank\">docs</a>)<br/>Sweep page:  <a href=\"https://wandb.ai/regirau/Vein_Segmentation_Hyperparameters/sweeps/099auu93\" target=\"_blank\">https://wandb.ai/regirau/Vein_Segmentation_Hyperparameters/sweeps/099auu93</a>"
            ]
          },
          "metadata": {}
        },
        {
          "output_type": "stream",
          "name": "stdout",
          "text": [
            "Found 900 files belonging to 1 classes.\n",
            "Found 900 files belonging to 1 classes.\n",
            "\n",
            "Start of epoch 0\n"
          ]
        },
        {
          "output_type": "stream",
          "name": "stderr",
          "text": [
            "100%|██████████| 630/630 [07:53<00:00,  1.33it/s]\n"
          ]
        },
        {
          "output_type": "stream",
          "name": "stdout",
          "text": [
            "Training IoU over epoch:  0.2971555842306453\n",
            "Validation IoU over epoch:  0.029183887930338204\n",
            "\n"
          ]
        },
        {
          "output_type": "display_data",
          "data": {
            "text/plain": [
              "<IPython.core.display.HTML object>"
            ],
            "text/html": [
              "Waiting for W&B process to finish... <strong style=\"color:green\">(success).</strong>"
            ]
          },
          "metadata": {}
        },
        {
          "output_type": "display_data",
          "data": {
            "text/plain": [
              "VBox(children=(Label(value='0.001 MB of 0.001 MB uploaded (0.000 MB deduped)\\r'), FloatProgress(value=1.0, max…"
            ],
            "application/vnd.jupyter.widget-view+json": {
              "version_major": 2,
              "version_minor": 0,
              "model_id": "92daa247dff444f9804e115048cbda72"
            }
          },
          "metadata": {}
        },
        {
          "output_type": "display_data",
          "data": {
            "text/plain": [
              "<IPython.core.display.HTML object>"
            ],
            "text/html": [
              "<style>\n",
              "    table.wandb td:nth-child(1) { padding: 0 10px; text-align: right }\n",
              "    .wandb-row { display: flex; flex-direction: row; flex-wrap: wrap; width: 100% }\n",
              "    .wandb-col { display: flex; flex-direction: column; flex-basis: 100%; flex: 1; padding: 10px; }\n",
              "    </style>\n",
              "<div class=\"wandb-row\"><div class=\"wandb-col\"><h3>Run history:</h3><br/><table class=\"wandb\"><tr><td>acc</td><td>▁</td></tr><tr><td>epochs</td><td>▁</td></tr><tr><td>loss</td><td>▁</td></tr><tr><td>val_acc</td><td>▁</td></tr><tr><td>val_loss</td><td>▁</td></tr></table><br/></div><div class=\"wandb-col\"><h3>Run summary:</h3><br/><table class=\"wandb\"><tr><td>acc</td><td>0.29716</td></tr><tr><td>epochs</td><td>0</td></tr><tr><td>loss</td><td>-0.29716</td></tr><tr><td>val_acc</td><td>0.02918</td></tr><tr><td>val_loss</td><td>-0.02918</td></tr></table><br/></div></div>"
            ]
          },
          "metadata": {}
        },
        {
          "output_type": "display_data",
          "data": {
            "text/plain": [
              "<IPython.core.display.HTML object>"
            ],
            "text/html": [
              "Synced <strong style=\"color:#cdcd00\">youthful-sweep-9</strong>: <a href=\"https://wandb.ai/regirau/Vein_Segmentation_Hyperparameters/runs/dy557rcz\" target=\"_blank\">https://wandb.ai/regirau/Vein_Segmentation_Hyperparameters/runs/dy557rcz</a><br/>Synced 5 W&B file(s), 0 media file(s), 0 artifact file(s) and 0 other file(s)"
            ]
          },
          "metadata": {}
        },
        {
          "output_type": "display_data",
          "data": {
            "text/plain": [
              "<IPython.core.display.HTML object>"
            ],
            "text/html": [
              "Find logs at: <code>./wandb/run-20220416_152017-dy557rcz/logs</code>"
            ]
          },
          "metadata": {}
        },
        {
          "output_type": "stream",
          "name": "stderr",
          "text": [
            "\u001b[34m\u001b[1mwandb\u001b[0m: Agent Starting Run: cjfc9m9a with config:\n",
            "\u001b[34m\u001b[1mwandb\u001b[0m: \tbatch_size: 249.32500425130576\n",
            "\u001b[34m\u001b[1mwandb\u001b[0m: \tdropout: 0.5\n",
            "\u001b[34m\u001b[1mwandb\u001b[0m: \tlearning_rate: 0.6775561387047775\n"
          ]
        },
        {
          "output_type": "display_data",
          "data": {
            "text/plain": [
              "<IPython.core.display.HTML object>"
            ],
            "text/html": [
              "Tracking run with wandb version 0.12.14"
            ]
          },
          "metadata": {}
        },
        {
          "output_type": "display_data",
          "data": {
            "text/plain": [
              "<IPython.core.display.HTML object>"
            ],
            "text/html": [
              "Run data is saved locally in <code>/content/wandb/run-20220416_152859-cjfc9m9a</code>"
            ]
          },
          "metadata": {}
        },
        {
          "output_type": "display_data",
          "data": {
            "text/plain": [
              "<IPython.core.display.HTML object>"
            ],
            "text/html": [
              "Syncing run <strong><a href=\"https://wandb.ai/regirau/Vein_Segmentation_Hyperparameters/runs/cjfc9m9a\" target=\"_blank\">comfy-sweep-10</a></strong> to <a href=\"https://wandb.ai/regirau/Vein_Segmentation_Hyperparameters\" target=\"_blank\">Weights & Biases</a> (<a href=\"https://wandb.me/run\" target=\"_blank\">docs</a>)<br/>Sweep page:  <a href=\"https://wandb.ai/regirau/Vein_Segmentation_Hyperparameters/sweeps/099auu93\" target=\"_blank\">https://wandb.ai/regirau/Vein_Segmentation_Hyperparameters/sweeps/099auu93</a>"
            ]
          },
          "metadata": {}
        },
        {
          "output_type": "stream",
          "name": "stdout",
          "text": [
            "Found 900 files belonging to 1 classes.\n",
            "Found 900 files belonging to 1 classes.\n",
            "\n",
            "Start of epoch 0\n"
          ]
        },
        {
          "output_type": "stream",
          "name": "stderr",
          "text": [
            "100%|██████████| 630/630 [07:56<00:00,  1.32it/s]\n"
          ]
        },
        {
          "output_type": "stream",
          "name": "stdout",
          "text": [
            "Training IoU over epoch:  0.26747989488972557\n",
            "Validation IoU over epoch:  0.14894901006310074\n",
            "\n"
          ]
        },
        {
          "output_type": "display_data",
          "data": {
            "text/plain": [
              "<IPython.core.display.HTML object>"
            ],
            "text/html": [
              "Waiting for W&B process to finish... <strong style=\"color:green\">(success).</strong>"
            ]
          },
          "metadata": {}
        },
        {
          "output_type": "display_data",
          "data": {
            "text/plain": [
              "VBox(children=(Label(value='0.001 MB of 0.001 MB uploaded (0.000 MB deduped)\\r'), FloatProgress(value=1.0, max…"
            ],
            "application/vnd.jupyter.widget-view+json": {
              "version_major": 2,
              "version_minor": 0,
              "model_id": "9e7d729b828f4c688b7d7432cb46db33"
            }
          },
          "metadata": {}
        },
        {
          "output_type": "display_data",
          "data": {
            "text/plain": [
              "<IPython.core.display.HTML object>"
            ],
            "text/html": [
              "<style>\n",
              "    table.wandb td:nth-child(1) { padding: 0 10px; text-align: right }\n",
              "    .wandb-row { display: flex; flex-direction: row; flex-wrap: wrap; width: 100% }\n",
              "    .wandb-col { display: flex; flex-direction: column; flex-basis: 100%; flex: 1; padding: 10px; }\n",
              "    </style>\n",
              "<div class=\"wandb-row\"><div class=\"wandb-col\"><h3>Run history:</h3><br/><table class=\"wandb\"><tr><td>acc</td><td>▁</td></tr><tr><td>epochs</td><td>▁</td></tr><tr><td>loss</td><td>▁</td></tr><tr><td>val_acc</td><td>▁</td></tr><tr><td>val_loss</td><td>▁</td></tr></table><br/></div><div class=\"wandb-col\"><h3>Run summary:</h3><br/><table class=\"wandb\"><tr><td>acc</td><td>0.26748</td></tr><tr><td>epochs</td><td>0</td></tr><tr><td>loss</td><td>-0.26748</td></tr><tr><td>val_acc</td><td>0.14895</td></tr><tr><td>val_loss</td><td>-0.14895</td></tr></table><br/></div></div>"
            ]
          },
          "metadata": {}
        },
        {
          "output_type": "display_data",
          "data": {
            "text/plain": [
              "<IPython.core.display.HTML object>"
            ],
            "text/html": [
              "Synced <strong style=\"color:#cdcd00\">comfy-sweep-10</strong>: <a href=\"https://wandb.ai/regirau/Vein_Segmentation_Hyperparameters/runs/cjfc9m9a\" target=\"_blank\">https://wandb.ai/regirau/Vein_Segmentation_Hyperparameters/runs/cjfc9m9a</a><br/>Synced 5 W&B file(s), 0 media file(s), 0 artifact file(s) and 0 other file(s)"
            ]
          },
          "metadata": {}
        },
        {
          "output_type": "display_data",
          "data": {
            "text/plain": [
              "<IPython.core.display.HTML object>"
            ],
            "text/html": [
              "Find logs at: <code>./wandb/run-20220416_152859-cjfc9m9a/logs</code>"
            ]
          },
          "metadata": {}
        },
        {
          "output_type": "stream",
          "name": "stderr",
          "text": [
            "\u001b[34m\u001b[1mwandb\u001b[0m: Agent Starting Run: g1nua85a with config:\n",
            "\u001b[34m\u001b[1mwandb\u001b[0m: \tbatch_size: 60.050236121099545\n",
            "\u001b[34m\u001b[1mwandb\u001b[0m: \tdropout: 0.3\n",
            "\u001b[34m\u001b[1mwandb\u001b[0m: \tlearning_rate: 0.21895773096030344\n"
          ]
        },
        {
          "output_type": "display_data",
          "data": {
            "text/plain": [
              "<IPython.core.display.HTML object>"
            ],
            "text/html": [
              "Tracking run with wandb version 0.12.14"
            ]
          },
          "metadata": {}
        },
        {
          "output_type": "display_data",
          "data": {
            "text/plain": [
              "<IPython.core.display.HTML object>"
            ],
            "text/html": [
              "Run data is saved locally in <code>/content/wandb/run-20220416_153743-g1nua85a</code>"
            ]
          },
          "metadata": {}
        },
        {
          "output_type": "display_data",
          "data": {
            "text/plain": [
              "<IPython.core.display.HTML object>"
            ],
            "text/html": [
              "Syncing run <strong><a href=\"https://wandb.ai/regirau/Vein_Segmentation_Hyperparameters/runs/g1nua85a\" target=\"_blank\">stellar-sweep-11</a></strong> to <a href=\"https://wandb.ai/regirau/Vein_Segmentation_Hyperparameters\" target=\"_blank\">Weights & Biases</a> (<a href=\"https://wandb.me/run\" target=\"_blank\">docs</a>)<br/>Sweep page:  <a href=\"https://wandb.ai/regirau/Vein_Segmentation_Hyperparameters/sweeps/099auu93\" target=\"_blank\">https://wandb.ai/regirau/Vein_Segmentation_Hyperparameters/sweeps/099auu93</a>"
            ]
          },
          "metadata": {}
        },
        {
          "output_type": "stream",
          "name": "stdout",
          "text": [
            "Found 900 files belonging to 1 classes.\n",
            "Found 900 files belonging to 1 classes.\n",
            "\n",
            "Start of epoch 0\n"
          ]
        },
        {
          "output_type": "stream",
          "name": "stderr",
          "text": [
            "100%|██████████| 630/630 [07:54<00:00,  1.33it/s]\n"
          ]
        },
        {
          "output_type": "stream",
          "name": "stdout",
          "text": [
            "Training IoU over epoch:  0.26995136502339284\n",
            "Validation IoU over epoch:  0.00040831759421322474\n",
            "\n"
          ]
        },
        {
          "output_type": "display_data",
          "data": {
            "text/plain": [
              "<IPython.core.display.HTML object>"
            ],
            "text/html": [
              "Waiting for W&B process to finish... <strong style=\"color:green\">(success).</strong>"
            ]
          },
          "metadata": {}
        },
        {
          "output_type": "display_data",
          "data": {
            "text/plain": [
              "VBox(children=(Label(value='0.001 MB of 0.001 MB uploaded (0.000 MB deduped)\\r'), FloatProgress(value=1.0, max…"
            ],
            "application/vnd.jupyter.widget-view+json": {
              "version_major": 2,
              "version_minor": 0,
              "model_id": "43e4cf70b0a6424c8e4a501b8e37dac7"
            }
          },
          "metadata": {}
        },
        {
          "output_type": "display_data",
          "data": {
            "text/plain": [
              "<IPython.core.display.HTML object>"
            ],
            "text/html": [
              "<style>\n",
              "    table.wandb td:nth-child(1) { padding: 0 10px; text-align: right }\n",
              "    .wandb-row { display: flex; flex-direction: row; flex-wrap: wrap; width: 100% }\n",
              "    .wandb-col { display: flex; flex-direction: column; flex-basis: 100%; flex: 1; padding: 10px; }\n",
              "    </style>\n",
              "<div class=\"wandb-row\"><div class=\"wandb-col\"><h3>Run history:</h3><br/><table class=\"wandb\"><tr><td>acc</td><td>▁</td></tr><tr><td>epochs</td><td>▁</td></tr><tr><td>loss</td><td>▁</td></tr><tr><td>val_acc</td><td>▁</td></tr><tr><td>val_loss</td><td>▁</td></tr></table><br/></div><div class=\"wandb-col\"><h3>Run summary:</h3><br/><table class=\"wandb\"><tr><td>acc</td><td>0.26995</td></tr><tr><td>epochs</td><td>0</td></tr><tr><td>loss</td><td>-0.26995</td></tr><tr><td>val_acc</td><td>0.00041</td></tr><tr><td>val_loss</td><td>-0.00041</td></tr></table><br/></div></div>"
            ]
          },
          "metadata": {}
        },
        {
          "output_type": "display_data",
          "data": {
            "text/plain": [
              "<IPython.core.display.HTML object>"
            ],
            "text/html": [
              "Synced <strong style=\"color:#cdcd00\">stellar-sweep-11</strong>: <a href=\"https://wandb.ai/regirau/Vein_Segmentation_Hyperparameters/runs/g1nua85a\" target=\"_blank\">https://wandb.ai/regirau/Vein_Segmentation_Hyperparameters/runs/g1nua85a</a><br/>Synced 5 W&B file(s), 0 media file(s), 0 artifact file(s) and 0 other file(s)"
            ]
          },
          "metadata": {}
        },
        {
          "output_type": "display_data",
          "data": {
            "text/plain": [
              "<IPython.core.display.HTML object>"
            ],
            "text/html": [
              "Find logs at: <code>./wandb/run-20220416_153743-g1nua85a/logs</code>"
            ]
          },
          "metadata": {}
        },
        {
          "output_type": "stream",
          "name": "stderr",
          "text": [
            "\u001b[34m\u001b[1mwandb\u001b[0m: Agent Starting Run: k94eq4lu with config:\n",
            "\u001b[34m\u001b[1mwandb\u001b[0m: \tbatch_size: 27.112571200967903\n",
            "\u001b[34m\u001b[1mwandb\u001b[0m: \tdropout: 0.5\n",
            "\u001b[34m\u001b[1mwandb\u001b[0m: \tlearning_rate: 0.0764253708728651\n"
          ]
        },
        {
          "output_type": "display_data",
          "data": {
            "text/plain": [
              "<IPython.core.display.HTML object>"
            ],
            "text/html": [
              "Tracking run with wandb version 0.12.14"
            ]
          },
          "metadata": {}
        },
        {
          "output_type": "display_data",
          "data": {
            "text/plain": [
              "<IPython.core.display.HTML object>"
            ],
            "text/html": [
              "Run data is saved locally in <code>/content/wandb/run-20220416_154628-k94eq4lu</code>"
            ]
          },
          "metadata": {}
        },
        {
          "output_type": "display_data",
          "data": {
            "text/plain": [
              "<IPython.core.display.HTML object>"
            ],
            "text/html": [
              "Syncing run <strong><a href=\"https://wandb.ai/regirau/Vein_Segmentation_Hyperparameters/runs/k94eq4lu\" target=\"_blank\">pleasant-sweep-12</a></strong> to <a href=\"https://wandb.ai/regirau/Vein_Segmentation_Hyperparameters\" target=\"_blank\">Weights & Biases</a> (<a href=\"https://wandb.me/run\" target=\"_blank\">docs</a>)<br/>Sweep page:  <a href=\"https://wandb.ai/regirau/Vein_Segmentation_Hyperparameters/sweeps/099auu93\" target=\"_blank\">https://wandb.ai/regirau/Vein_Segmentation_Hyperparameters/sweeps/099auu93</a>"
            ]
          },
          "metadata": {}
        },
        {
          "output_type": "stream",
          "name": "stdout",
          "text": [
            "Found 900 files belonging to 1 classes.\n",
            "Found 900 files belonging to 1 classes.\n",
            "\n",
            "Start of epoch 0\n"
          ]
        },
        {
          "output_type": "stream",
          "name": "stderr",
          "text": [
            "100%|██████████| 630/630 [07:58<00:00,  1.32it/s]\n"
          ]
        },
        {
          "output_type": "stream",
          "name": "stdout",
          "text": [
            "Training IoU over epoch:  0.251083386422394\n",
            "Validation IoU over epoch:  0.31079482634862265\n",
            "\n"
          ]
        },
        {
          "output_type": "display_data",
          "data": {
            "text/plain": [
              "<IPython.core.display.HTML object>"
            ],
            "text/html": [
              "Waiting for W&B process to finish... <strong style=\"color:green\">(success).</strong>"
            ]
          },
          "metadata": {}
        },
        {
          "output_type": "display_data",
          "data": {
            "text/plain": [
              "VBox(children=(Label(value='0.001 MB of 0.001 MB uploaded (0.000 MB deduped)\\r'), FloatProgress(value=1.0, max…"
            ],
            "application/vnd.jupyter.widget-view+json": {
              "version_major": 2,
              "version_minor": 0,
              "model_id": "eb5518497a3f4b5db60221a93831d4cc"
            }
          },
          "metadata": {}
        },
        {
          "output_type": "display_data",
          "data": {
            "text/plain": [
              "<IPython.core.display.HTML object>"
            ],
            "text/html": [
              "<style>\n",
              "    table.wandb td:nth-child(1) { padding: 0 10px; text-align: right }\n",
              "    .wandb-row { display: flex; flex-direction: row; flex-wrap: wrap; width: 100% }\n",
              "    .wandb-col { display: flex; flex-direction: column; flex-basis: 100%; flex: 1; padding: 10px; }\n",
              "    </style>\n",
              "<div class=\"wandb-row\"><div class=\"wandb-col\"><h3>Run history:</h3><br/><table class=\"wandb\"><tr><td>acc</td><td>▁</td></tr><tr><td>epochs</td><td>▁</td></tr><tr><td>loss</td><td>▁</td></tr><tr><td>val_acc</td><td>▁</td></tr><tr><td>val_loss</td><td>▁</td></tr></table><br/></div><div class=\"wandb-col\"><h3>Run summary:</h3><br/><table class=\"wandb\"><tr><td>acc</td><td>0.25108</td></tr><tr><td>epochs</td><td>0</td></tr><tr><td>loss</td><td>-0.25108</td></tr><tr><td>val_acc</td><td>0.31079</td></tr><tr><td>val_loss</td><td>-0.31079</td></tr></table><br/></div></div>"
            ]
          },
          "metadata": {}
        },
        {
          "output_type": "display_data",
          "data": {
            "text/plain": [
              "<IPython.core.display.HTML object>"
            ],
            "text/html": [
              "Synced <strong style=\"color:#cdcd00\">pleasant-sweep-12</strong>: <a href=\"https://wandb.ai/regirau/Vein_Segmentation_Hyperparameters/runs/k94eq4lu\" target=\"_blank\">https://wandb.ai/regirau/Vein_Segmentation_Hyperparameters/runs/k94eq4lu</a><br/>Synced 5 W&B file(s), 0 media file(s), 0 artifact file(s) and 0 other file(s)"
            ]
          },
          "metadata": {}
        },
        {
          "output_type": "display_data",
          "data": {
            "text/plain": [
              "<IPython.core.display.HTML object>"
            ],
            "text/html": [
              "Find logs at: <code>./wandb/run-20220416_154628-k94eq4lu/logs</code>"
            ]
          },
          "metadata": {}
        },
        {
          "output_type": "stream",
          "name": "stderr",
          "text": [
            "\u001b[34m\u001b[1mwandb\u001b[0m: Agent Starting Run: 89ackrcw with config:\n",
            "\u001b[34m\u001b[1mwandb\u001b[0m: \tbatch_size: 248.16763917444808\n",
            "\u001b[34m\u001b[1mwandb\u001b[0m: \tdropout: 0.2\n",
            "\u001b[34m\u001b[1mwandb\u001b[0m: \tlearning_rate: 0.8806520114556171\n"
          ]
        },
        {
          "output_type": "display_data",
          "data": {
            "text/plain": [
              "<IPython.core.display.HTML object>"
            ],
            "text/html": [
              "Tracking run with wandb version 0.12.14"
            ]
          },
          "metadata": {}
        },
        {
          "output_type": "display_data",
          "data": {
            "text/plain": [
              "<IPython.core.display.HTML object>"
            ],
            "text/html": [
              "Run data is saved locally in <code>/content/wandb/run-20220416_155513-89ackrcw</code>"
            ]
          },
          "metadata": {}
        },
        {
          "output_type": "display_data",
          "data": {
            "text/plain": [
              "<IPython.core.display.HTML object>"
            ],
            "text/html": [
              "Syncing run <strong><a href=\"https://wandb.ai/regirau/Vein_Segmentation_Hyperparameters/runs/89ackrcw\" target=\"_blank\">fast-sweep-13</a></strong> to <a href=\"https://wandb.ai/regirau/Vein_Segmentation_Hyperparameters\" target=\"_blank\">Weights & Biases</a> (<a href=\"https://wandb.me/run\" target=\"_blank\">docs</a>)<br/>Sweep page:  <a href=\"https://wandb.ai/regirau/Vein_Segmentation_Hyperparameters/sweeps/099auu93\" target=\"_blank\">https://wandb.ai/regirau/Vein_Segmentation_Hyperparameters/sweeps/099auu93</a>"
            ]
          },
          "metadata": {}
        },
        {
          "output_type": "stream",
          "name": "stdout",
          "text": [
            "Found 900 files belonging to 1 classes.\n",
            "Found 900 files belonging to 1 classes.\n",
            "\n",
            "Start of epoch 0\n"
          ]
        },
        {
          "output_type": "stream",
          "name": "stderr",
          "text": [
            "100%|██████████| 630/630 [07:57<00:00,  1.32it/s]\n"
          ]
        },
        {
          "output_type": "stream",
          "name": "stdout",
          "text": [
            "Training IoU over epoch:  0.28126828067649784\n",
            "Validation IoU over epoch:  0.05207849438129752\n",
            "\n"
          ]
        },
        {
          "output_type": "display_data",
          "data": {
            "text/plain": [
              "<IPython.core.display.HTML object>"
            ],
            "text/html": [
              "Waiting for W&B process to finish... <strong style=\"color:green\">(success).</strong>"
            ]
          },
          "metadata": {}
        },
        {
          "output_type": "display_data",
          "data": {
            "text/plain": [
              "VBox(children=(Label(value='0.001 MB of 0.001 MB uploaded (0.000 MB deduped)\\r'), FloatProgress(value=1.0, max…"
            ],
            "application/vnd.jupyter.widget-view+json": {
              "version_major": 2,
              "version_minor": 0,
              "model_id": "511d2f0f4e60431d827ccbd629af8c2a"
            }
          },
          "metadata": {}
        },
        {
          "output_type": "display_data",
          "data": {
            "text/plain": [
              "<IPython.core.display.HTML object>"
            ],
            "text/html": [
              "<style>\n",
              "    table.wandb td:nth-child(1) { padding: 0 10px; text-align: right }\n",
              "    .wandb-row { display: flex; flex-direction: row; flex-wrap: wrap; width: 100% }\n",
              "    .wandb-col { display: flex; flex-direction: column; flex-basis: 100%; flex: 1; padding: 10px; }\n",
              "    </style>\n",
              "<div class=\"wandb-row\"><div class=\"wandb-col\"><h3>Run history:</h3><br/><table class=\"wandb\"><tr><td>acc</td><td>▁</td></tr><tr><td>epochs</td><td>▁</td></tr><tr><td>loss</td><td>▁</td></tr><tr><td>val_acc</td><td>▁</td></tr><tr><td>val_loss</td><td>▁</td></tr></table><br/></div><div class=\"wandb-col\"><h3>Run summary:</h3><br/><table class=\"wandb\"><tr><td>acc</td><td>0.28127</td></tr><tr><td>epochs</td><td>0</td></tr><tr><td>loss</td><td>-0.28127</td></tr><tr><td>val_acc</td><td>0.05208</td></tr><tr><td>val_loss</td><td>-0.05208</td></tr></table><br/></div></div>"
            ]
          },
          "metadata": {}
        },
        {
          "output_type": "display_data",
          "data": {
            "text/plain": [
              "<IPython.core.display.HTML object>"
            ],
            "text/html": [
              "Synced <strong style=\"color:#cdcd00\">fast-sweep-13</strong>: <a href=\"https://wandb.ai/regirau/Vein_Segmentation_Hyperparameters/runs/89ackrcw\" target=\"_blank\">https://wandb.ai/regirau/Vein_Segmentation_Hyperparameters/runs/89ackrcw</a><br/>Synced 5 W&B file(s), 0 media file(s), 0 artifact file(s) and 0 other file(s)"
            ]
          },
          "metadata": {}
        },
        {
          "output_type": "display_data",
          "data": {
            "text/plain": [
              "<IPython.core.display.HTML object>"
            ],
            "text/html": [
              "Find logs at: <code>./wandb/run-20220416_155513-89ackrcw/logs</code>"
            ]
          },
          "metadata": {}
        },
        {
          "output_type": "stream",
          "name": "stderr",
          "text": [
            "\u001b[34m\u001b[1mwandb\u001b[0m: Agent Starting Run: 8c7iefqy with config:\n",
            "\u001b[34m\u001b[1mwandb\u001b[0m: \tbatch_size: 16.245070359323186\n",
            "\u001b[34m\u001b[1mwandb\u001b[0m: \tdropout: 0.1\n",
            "\u001b[34m\u001b[1mwandb\u001b[0m: \tlearning_rate: 0.6861116057939683\n"
          ]
        },
        {
          "output_type": "display_data",
          "data": {
            "text/plain": [
              "<IPython.core.display.HTML object>"
            ],
            "text/html": [
              "Tracking run with wandb version 0.12.14"
            ]
          },
          "metadata": {}
        },
        {
          "output_type": "display_data",
          "data": {
            "text/plain": [
              "<IPython.core.display.HTML object>"
            ],
            "text/html": [
              "Run data is saved locally in <code>/content/wandb/run-20220416_160358-8c7iefqy</code>"
            ]
          },
          "metadata": {}
        },
        {
          "output_type": "display_data",
          "data": {
            "text/plain": [
              "<IPython.core.display.HTML object>"
            ],
            "text/html": [
              "Syncing run <strong><a href=\"https://wandb.ai/regirau/Vein_Segmentation_Hyperparameters/runs/8c7iefqy\" target=\"_blank\">celestial-sweep-14</a></strong> to <a href=\"https://wandb.ai/regirau/Vein_Segmentation_Hyperparameters\" target=\"_blank\">Weights & Biases</a> (<a href=\"https://wandb.me/run\" target=\"_blank\">docs</a>)<br/>Sweep page:  <a href=\"https://wandb.ai/regirau/Vein_Segmentation_Hyperparameters/sweeps/099auu93\" target=\"_blank\">https://wandb.ai/regirau/Vein_Segmentation_Hyperparameters/sweeps/099auu93</a>"
            ]
          },
          "metadata": {}
        },
        {
          "output_type": "stream",
          "name": "stdout",
          "text": [
            "Found 900 files belonging to 1 classes.\n",
            "Found 900 files belonging to 1 classes.\n",
            "\n",
            "Start of epoch 0\n"
          ]
        },
        {
          "output_type": "stream",
          "name": "stderr",
          "text": [
            "100%|██████████| 630/630 [07:57<00:00,  1.32it/s]\n"
          ]
        },
        {
          "output_type": "stream",
          "name": "stdout",
          "text": [
            "Training IoU over epoch:  0.30798548789411256\n",
            "Validation IoU over epoch:  0.22467381548550394\n",
            "\n"
          ]
        },
        {
          "output_type": "display_data",
          "data": {
            "text/plain": [
              "<IPython.core.display.HTML object>"
            ],
            "text/html": [
              "Waiting for W&B process to finish... <strong style=\"color:green\">(success).</strong>"
            ]
          },
          "metadata": {}
        },
        {
          "output_type": "display_data",
          "data": {
            "text/plain": [
              "VBox(children=(Label(value='0.001 MB of 0.001 MB uploaded (0.000 MB deduped)\\r'), FloatProgress(value=1.0, max…"
            ],
            "application/vnd.jupyter.widget-view+json": {
              "version_major": 2,
              "version_minor": 0,
              "model_id": "e5ee1a272eb5418f820c630d8c11ba3a"
            }
          },
          "metadata": {}
        },
        {
          "output_type": "display_data",
          "data": {
            "text/plain": [
              "<IPython.core.display.HTML object>"
            ],
            "text/html": [
              "<style>\n",
              "    table.wandb td:nth-child(1) { padding: 0 10px; text-align: right }\n",
              "    .wandb-row { display: flex; flex-direction: row; flex-wrap: wrap; width: 100% }\n",
              "    .wandb-col { display: flex; flex-direction: column; flex-basis: 100%; flex: 1; padding: 10px; }\n",
              "    </style>\n",
              "<div class=\"wandb-row\"><div class=\"wandb-col\"><h3>Run history:</h3><br/><table class=\"wandb\"><tr><td>acc</td><td>▁</td></tr><tr><td>epochs</td><td>▁</td></tr><tr><td>loss</td><td>▁</td></tr><tr><td>val_acc</td><td>▁</td></tr><tr><td>val_loss</td><td>▁</td></tr></table><br/></div><div class=\"wandb-col\"><h3>Run summary:</h3><br/><table class=\"wandb\"><tr><td>acc</td><td>0.30799</td></tr><tr><td>epochs</td><td>0</td></tr><tr><td>loss</td><td>-0.30799</td></tr><tr><td>val_acc</td><td>0.22467</td></tr><tr><td>val_loss</td><td>-0.22467</td></tr></table><br/></div></div>"
            ]
          },
          "metadata": {}
        },
        {
          "output_type": "display_data",
          "data": {
            "text/plain": [
              "<IPython.core.display.HTML object>"
            ],
            "text/html": [
              "Synced <strong style=\"color:#cdcd00\">celestial-sweep-14</strong>: <a href=\"https://wandb.ai/regirau/Vein_Segmentation_Hyperparameters/runs/8c7iefqy\" target=\"_blank\">https://wandb.ai/regirau/Vein_Segmentation_Hyperparameters/runs/8c7iefqy</a><br/>Synced 5 W&B file(s), 0 media file(s), 0 artifact file(s) and 0 other file(s)"
            ]
          },
          "metadata": {}
        },
        {
          "output_type": "display_data",
          "data": {
            "text/plain": [
              "<IPython.core.display.HTML object>"
            ],
            "text/html": [
              "Find logs at: <code>./wandb/run-20220416_160358-8c7iefqy/logs</code>"
            ]
          },
          "metadata": {}
        },
        {
          "output_type": "stream",
          "name": "stderr",
          "text": [
            "\u001b[34m\u001b[1mwandb\u001b[0m: Agent Starting Run: xx68jrv7 with config:\n",
            "\u001b[34m\u001b[1mwandb\u001b[0m: \tbatch_size: 156.36918366262\n",
            "\u001b[34m\u001b[1mwandb\u001b[0m: \tdropout: 0.3\n",
            "\u001b[34m\u001b[1mwandb\u001b[0m: \tlearning_rate: 0.7022556095108282\n"
          ]
        },
        {
          "output_type": "display_data",
          "data": {
            "text/plain": [
              "<IPython.core.display.HTML object>"
            ],
            "text/html": [
              "Tracking run with wandb version 0.12.14"
            ]
          },
          "metadata": {}
        },
        {
          "output_type": "display_data",
          "data": {
            "text/plain": [
              "<IPython.core.display.HTML object>"
            ],
            "text/html": [
              "Run data is saved locally in <code>/content/wandb/run-20220416_161244-xx68jrv7</code>"
            ]
          },
          "metadata": {}
        },
        {
          "output_type": "display_data",
          "data": {
            "text/plain": [
              "<IPython.core.display.HTML object>"
            ],
            "text/html": [
              "Syncing run <strong><a href=\"https://wandb.ai/regirau/Vein_Segmentation_Hyperparameters/runs/xx68jrv7\" target=\"_blank\">revived-sweep-15</a></strong> to <a href=\"https://wandb.ai/regirau/Vein_Segmentation_Hyperparameters\" target=\"_blank\">Weights & Biases</a> (<a href=\"https://wandb.me/run\" target=\"_blank\">docs</a>)<br/>Sweep page:  <a href=\"https://wandb.ai/regirau/Vein_Segmentation_Hyperparameters/sweeps/099auu93\" target=\"_blank\">https://wandb.ai/regirau/Vein_Segmentation_Hyperparameters/sweeps/099auu93</a>"
            ]
          },
          "metadata": {}
        },
        {
          "output_type": "stream",
          "name": "stdout",
          "text": [
            "Found 900 files belonging to 1 classes.\n",
            "Found 900 files belonging to 1 classes.\n",
            "\n",
            "Start of epoch 0\n"
          ]
        },
        {
          "output_type": "stream",
          "name": "stderr",
          "text": [
            "100%|██████████| 630/630 [07:56<00:00,  1.32it/s]\n"
          ]
        },
        {
          "output_type": "stream",
          "name": "stdout",
          "text": [
            "Training IoU over epoch:  0.2902477115602417\n",
            "Validation IoU over epoch:  0.23371139030765603\n",
            "\n"
          ]
        },
        {
          "output_type": "display_data",
          "data": {
            "text/plain": [
              "<IPython.core.display.HTML object>"
            ],
            "text/html": [
              "Waiting for W&B process to finish... <strong style=\"color:green\">(success).</strong>"
            ]
          },
          "metadata": {}
        },
        {
          "output_type": "display_data",
          "data": {
            "text/plain": [
              "VBox(children=(Label(value='0.001 MB of 0.001 MB uploaded (0.000 MB deduped)\\r'), FloatProgress(value=1.0, max…"
            ],
            "application/vnd.jupyter.widget-view+json": {
              "version_major": 2,
              "version_minor": 0,
              "model_id": "3a5e74daf3fd40b59456eba254df7f08"
            }
          },
          "metadata": {}
        },
        {
          "output_type": "display_data",
          "data": {
            "text/plain": [
              "<IPython.core.display.HTML object>"
            ],
            "text/html": [
              "<style>\n",
              "    table.wandb td:nth-child(1) { padding: 0 10px; text-align: right }\n",
              "    .wandb-row { display: flex; flex-direction: row; flex-wrap: wrap; width: 100% }\n",
              "    .wandb-col { display: flex; flex-direction: column; flex-basis: 100%; flex: 1; padding: 10px; }\n",
              "    </style>\n",
              "<div class=\"wandb-row\"><div class=\"wandb-col\"><h3>Run history:</h3><br/><table class=\"wandb\"><tr><td>acc</td><td>▁</td></tr><tr><td>epochs</td><td>▁</td></tr><tr><td>loss</td><td>▁</td></tr><tr><td>val_acc</td><td>▁</td></tr><tr><td>val_loss</td><td>▁</td></tr></table><br/></div><div class=\"wandb-col\"><h3>Run summary:</h3><br/><table class=\"wandb\"><tr><td>acc</td><td>0.29025</td></tr><tr><td>epochs</td><td>0</td></tr><tr><td>loss</td><td>-0.29025</td></tr><tr><td>val_acc</td><td>0.23371</td></tr><tr><td>val_loss</td><td>-0.23371</td></tr></table><br/></div></div>"
            ]
          },
          "metadata": {}
        },
        {
          "output_type": "display_data",
          "data": {
            "text/plain": [
              "<IPython.core.display.HTML object>"
            ],
            "text/html": [
              "Synced <strong style=\"color:#cdcd00\">revived-sweep-15</strong>: <a href=\"https://wandb.ai/regirau/Vein_Segmentation_Hyperparameters/runs/xx68jrv7\" target=\"_blank\">https://wandb.ai/regirau/Vein_Segmentation_Hyperparameters/runs/xx68jrv7</a><br/>Synced 5 W&B file(s), 0 media file(s), 0 artifact file(s) and 0 other file(s)"
            ]
          },
          "metadata": {}
        },
        {
          "output_type": "display_data",
          "data": {
            "text/plain": [
              "<IPython.core.display.HTML object>"
            ],
            "text/html": [
              "Find logs at: <code>./wandb/run-20220416_161244-xx68jrv7/logs</code>"
            ]
          },
          "metadata": {}
        },
        {
          "output_type": "stream",
          "name": "stderr",
          "text": [
            "\u001b[34m\u001b[1mwandb\u001b[0m: Sweep Agent: Waiting for job.\n",
            "\u001b[34m\u001b[1mwandb\u001b[0m: Job received.\n",
            "\u001b[34m\u001b[1mwandb\u001b[0m: Agent Starting Run: 12fvfive with config:\n",
            "\u001b[34m\u001b[1mwandb\u001b[0m: \tbatch_size: 172.58059474168712\n",
            "\u001b[34m\u001b[1mwandb\u001b[0m: \tdropout: 0.5\n",
            "\u001b[34m\u001b[1mwandb\u001b[0m: \tlearning_rate: 0.7055061444826598\n"
          ]
        },
        {
          "output_type": "display_data",
          "data": {
            "text/plain": [
              "<IPython.core.display.HTML object>"
            ],
            "text/html": [
              "Tracking run with wandb version 0.12.14"
            ]
          },
          "metadata": {}
        },
        {
          "output_type": "display_data",
          "data": {
            "text/plain": [
              "<IPython.core.display.HTML object>"
            ],
            "text/html": [
              "Run data is saved locally in <code>/content/wandb/run-20220416_162138-12fvfive</code>"
            ]
          },
          "metadata": {}
        },
        {
          "output_type": "display_data",
          "data": {
            "text/plain": [
              "<IPython.core.display.HTML object>"
            ],
            "text/html": [
              "Syncing run <strong><a href=\"https://wandb.ai/regirau/Vein_Segmentation_Hyperparameters/runs/12fvfive\" target=\"_blank\">amber-sweep-16</a></strong> to <a href=\"https://wandb.ai/regirau/Vein_Segmentation_Hyperparameters\" target=\"_blank\">Weights & Biases</a> (<a href=\"https://wandb.me/run\" target=\"_blank\">docs</a>)<br/>Sweep page:  <a href=\"https://wandb.ai/regirau/Vein_Segmentation_Hyperparameters/sweeps/099auu93\" target=\"_blank\">https://wandb.ai/regirau/Vein_Segmentation_Hyperparameters/sweeps/099auu93</a>"
            ]
          },
          "metadata": {}
        },
        {
          "output_type": "stream",
          "name": "stdout",
          "text": [
            "Found 900 files belonging to 1 classes.\n",
            "Found 900 files belonging to 1 classes.\n",
            "\n",
            "Start of epoch 0\n"
          ]
        },
        {
          "output_type": "stream",
          "name": "stderr",
          "text": [
            "100%|██████████| 630/630 [07:57<00:00,  1.32it/s]\n"
          ]
        },
        {
          "output_type": "stream",
          "name": "stdout",
          "text": [
            "Training IoU over epoch:  0.2852473957119458\n",
            "Validation IoU over epoch:  0.0688237787742057\n",
            "\n"
          ]
        },
        {
          "output_type": "display_data",
          "data": {
            "text/plain": [
              "<IPython.core.display.HTML object>"
            ],
            "text/html": [
              "Waiting for W&B process to finish... <strong style=\"color:green\">(success).</strong>"
            ]
          },
          "metadata": {}
        },
        {
          "output_type": "display_data",
          "data": {
            "text/plain": [
              "VBox(children=(Label(value='0.001 MB of 0.001 MB uploaded (0.000 MB deduped)\\r'), FloatProgress(value=1.0, max…"
            ],
            "application/vnd.jupyter.widget-view+json": {
              "version_major": 2,
              "version_minor": 0,
              "model_id": "c58e67a06f664927830d6e3679f74383"
            }
          },
          "metadata": {}
        },
        {
          "output_type": "display_data",
          "data": {
            "text/plain": [
              "<IPython.core.display.HTML object>"
            ],
            "text/html": [
              "<style>\n",
              "    table.wandb td:nth-child(1) { padding: 0 10px; text-align: right }\n",
              "    .wandb-row { display: flex; flex-direction: row; flex-wrap: wrap; width: 100% }\n",
              "    .wandb-col { display: flex; flex-direction: column; flex-basis: 100%; flex: 1; padding: 10px; }\n",
              "    </style>\n",
              "<div class=\"wandb-row\"><div class=\"wandb-col\"><h3>Run history:</h3><br/><table class=\"wandb\"><tr><td>acc</td><td>▁</td></tr><tr><td>epochs</td><td>▁</td></tr><tr><td>loss</td><td>▁</td></tr><tr><td>val_acc</td><td>▁</td></tr><tr><td>val_loss</td><td>▁</td></tr></table><br/></div><div class=\"wandb-col\"><h3>Run summary:</h3><br/><table class=\"wandb\"><tr><td>acc</td><td>0.28525</td></tr><tr><td>epochs</td><td>0</td></tr><tr><td>loss</td><td>-0.28525</td></tr><tr><td>val_acc</td><td>0.06882</td></tr><tr><td>val_loss</td><td>-0.06882</td></tr></table><br/></div></div>"
            ]
          },
          "metadata": {}
        },
        {
          "output_type": "display_data",
          "data": {
            "text/plain": [
              "<IPython.core.display.HTML object>"
            ],
            "text/html": [
              "Synced <strong style=\"color:#cdcd00\">amber-sweep-16</strong>: <a href=\"https://wandb.ai/regirau/Vein_Segmentation_Hyperparameters/runs/12fvfive\" target=\"_blank\">https://wandb.ai/regirau/Vein_Segmentation_Hyperparameters/runs/12fvfive</a><br/>Synced 5 W&B file(s), 0 media file(s), 0 artifact file(s) and 0 other file(s)"
            ]
          },
          "metadata": {}
        },
        {
          "output_type": "display_data",
          "data": {
            "text/plain": [
              "<IPython.core.display.HTML object>"
            ],
            "text/html": [
              "Find logs at: <code>./wandb/run-20220416_162138-12fvfive/logs</code>"
            ]
          },
          "metadata": {}
        },
        {
          "output_type": "stream",
          "name": "stderr",
          "text": [
            "\u001b[34m\u001b[1mwandb\u001b[0m: Agent Starting Run: l2ryf61n with config:\n",
            "\u001b[34m\u001b[1mwandb\u001b[0m: \tbatch_size: 102.61386189439531\n",
            "\u001b[34m\u001b[1mwandb\u001b[0m: \tdropout: 0.3\n",
            "\u001b[34m\u001b[1mwandb\u001b[0m: \tlearning_rate: 0.7866123746423628\n"
          ]
        },
        {
          "output_type": "display_data",
          "data": {
            "text/plain": [
              "<IPython.core.display.HTML object>"
            ],
            "text/html": [
              "Tracking run with wandb version 0.12.14"
            ]
          },
          "metadata": {}
        },
        {
          "output_type": "display_data",
          "data": {
            "text/plain": [
              "<IPython.core.display.HTML object>"
            ],
            "text/html": [
              "Run data is saved locally in <code>/content/wandb/run-20220416_163023-l2ryf61n</code>"
            ]
          },
          "metadata": {}
        },
        {
          "output_type": "display_data",
          "data": {
            "text/plain": [
              "<IPython.core.display.HTML object>"
            ],
            "text/html": [
              "Syncing run <strong><a href=\"https://wandb.ai/regirau/Vein_Segmentation_Hyperparameters/runs/l2ryf61n\" target=\"_blank\">worldly-sweep-17</a></strong> to <a href=\"https://wandb.ai/regirau/Vein_Segmentation_Hyperparameters\" target=\"_blank\">Weights & Biases</a> (<a href=\"https://wandb.me/run\" target=\"_blank\">docs</a>)<br/>Sweep page:  <a href=\"https://wandb.ai/regirau/Vein_Segmentation_Hyperparameters/sweeps/099auu93\" target=\"_blank\">https://wandb.ai/regirau/Vein_Segmentation_Hyperparameters/sweeps/099auu93</a>"
            ]
          },
          "metadata": {}
        },
        {
          "output_type": "stream",
          "name": "stdout",
          "text": [
            "Found 900 files belonging to 1 classes.\n",
            "Found 900 files belonging to 1 classes.\n",
            "\n",
            "Start of epoch 0\n"
          ]
        },
        {
          "output_type": "stream",
          "name": "stderr",
          "text": [
            "100%|██████████| 630/630 [07:55<00:00,  1.32it/s]\n"
          ]
        },
        {
          "output_type": "stream",
          "name": "stdout",
          "text": [
            "Training IoU over epoch:  0.2844514358103778\n",
            "Validation IoU over epoch:  0.04975263377375625\n",
            "\n"
          ]
        },
        {
          "output_type": "display_data",
          "data": {
            "text/plain": [
              "<IPython.core.display.HTML object>"
            ],
            "text/html": [
              "Waiting for W&B process to finish... <strong style=\"color:green\">(success).</strong>"
            ]
          },
          "metadata": {}
        },
        {
          "output_type": "display_data",
          "data": {
            "text/plain": [
              "VBox(children=(Label(value='0.001 MB of 0.001 MB uploaded (0.000 MB deduped)\\r'), FloatProgress(value=1.0, max…"
            ],
            "application/vnd.jupyter.widget-view+json": {
              "version_major": 2,
              "version_minor": 0,
              "model_id": "272e0619003b4a68a8bb6280fc8f5675"
            }
          },
          "metadata": {}
        },
        {
          "output_type": "display_data",
          "data": {
            "text/plain": [
              "<IPython.core.display.HTML object>"
            ],
            "text/html": [
              "<style>\n",
              "    table.wandb td:nth-child(1) { padding: 0 10px; text-align: right }\n",
              "    .wandb-row { display: flex; flex-direction: row; flex-wrap: wrap; width: 100% }\n",
              "    .wandb-col { display: flex; flex-direction: column; flex-basis: 100%; flex: 1; padding: 10px; }\n",
              "    </style>\n",
              "<div class=\"wandb-row\"><div class=\"wandb-col\"><h3>Run history:</h3><br/><table class=\"wandb\"><tr><td>acc</td><td>▁</td></tr><tr><td>epochs</td><td>▁</td></tr><tr><td>loss</td><td>▁</td></tr><tr><td>val_acc</td><td>▁</td></tr><tr><td>val_loss</td><td>▁</td></tr></table><br/></div><div class=\"wandb-col\"><h3>Run summary:</h3><br/><table class=\"wandb\"><tr><td>acc</td><td>0.28445</td></tr><tr><td>epochs</td><td>0</td></tr><tr><td>loss</td><td>-0.28445</td></tr><tr><td>val_acc</td><td>0.04975</td></tr><tr><td>val_loss</td><td>-0.04975</td></tr></table><br/></div></div>"
            ]
          },
          "metadata": {}
        },
        {
          "output_type": "display_data",
          "data": {
            "text/plain": [
              "<IPython.core.display.HTML object>"
            ],
            "text/html": [
              "Synced <strong style=\"color:#cdcd00\">worldly-sweep-17</strong>: <a href=\"https://wandb.ai/regirau/Vein_Segmentation_Hyperparameters/runs/l2ryf61n\" target=\"_blank\">https://wandb.ai/regirau/Vein_Segmentation_Hyperparameters/runs/l2ryf61n</a><br/>Synced 5 W&B file(s), 0 media file(s), 0 artifact file(s) and 0 other file(s)"
            ]
          },
          "metadata": {}
        },
        {
          "output_type": "display_data",
          "data": {
            "text/plain": [
              "<IPython.core.display.HTML object>"
            ],
            "text/html": [
              "Find logs at: <code>./wandb/run-20220416_163023-l2ryf61n/logs</code>"
            ]
          },
          "metadata": {}
        },
        {
          "output_type": "stream",
          "name": "stderr",
          "text": [
            "\u001b[34m\u001b[1mwandb\u001b[0m: Agent Starting Run: v48gllxk with config:\n",
            "\u001b[34m\u001b[1mwandb\u001b[0m: \tbatch_size: 190.5346553390273\n",
            "\u001b[34m\u001b[1mwandb\u001b[0m: \tdropout: 0.4\n",
            "\u001b[34m\u001b[1mwandb\u001b[0m: \tlearning_rate: 0.9929100794816262\n"
          ]
        },
        {
          "output_type": "display_data",
          "data": {
            "text/plain": [
              "<IPython.core.display.HTML object>"
            ],
            "text/html": [
              "Tracking run with wandb version 0.12.14"
            ]
          },
          "metadata": {}
        },
        {
          "output_type": "display_data",
          "data": {
            "text/plain": [
              "<IPython.core.display.HTML object>"
            ],
            "text/html": [
              "Run data is saved locally in <code>/content/wandb/run-20220416_163908-v48gllxk</code>"
            ]
          },
          "metadata": {}
        },
        {
          "output_type": "display_data",
          "data": {
            "text/plain": [
              "<IPython.core.display.HTML object>"
            ],
            "text/html": [
              "Syncing run <strong><a href=\"https://wandb.ai/regirau/Vein_Segmentation_Hyperparameters/runs/v48gllxk\" target=\"_blank\">dark-sweep-18</a></strong> to <a href=\"https://wandb.ai/regirau/Vein_Segmentation_Hyperparameters\" target=\"_blank\">Weights & Biases</a> (<a href=\"https://wandb.me/run\" target=\"_blank\">docs</a>)<br/>Sweep page:  <a href=\"https://wandb.ai/regirau/Vein_Segmentation_Hyperparameters/sweeps/099auu93\" target=\"_blank\">https://wandb.ai/regirau/Vein_Segmentation_Hyperparameters/sweeps/099auu93</a>"
            ]
          },
          "metadata": {}
        },
        {
          "output_type": "stream",
          "name": "stdout",
          "text": [
            "Found 900 files belonging to 1 classes.\n",
            "Found 900 files belonging to 1 classes.\n",
            "\n",
            "Start of epoch 0\n"
          ]
        },
        {
          "output_type": "stream",
          "name": "stderr",
          "text": [
            "100%|██████████| 630/630 [07:56<00:00,  1.32it/s]\n"
          ]
        },
        {
          "output_type": "stream",
          "name": "stdout",
          "text": [
            "Training IoU over epoch:  0.25820445830808064\n",
            "Validation IoU over epoch:  0.050476790509290166\n",
            "\n"
          ]
        },
        {
          "output_type": "display_data",
          "data": {
            "text/plain": [
              "<IPython.core.display.HTML object>"
            ],
            "text/html": [
              "Waiting for W&B process to finish... <strong style=\"color:green\">(success).</strong>"
            ]
          },
          "metadata": {}
        },
        {
          "output_type": "display_data",
          "data": {
            "text/plain": [
              "VBox(children=(Label(value='0.001 MB of 0.001 MB uploaded (0.000 MB deduped)\\r'), FloatProgress(value=1.0, max…"
            ],
            "application/vnd.jupyter.widget-view+json": {
              "version_major": 2,
              "version_minor": 0,
              "model_id": "a6765db8a2e249ec974917429049b5b6"
            }
          },
          "metadata": {}
        },
        {
          "output_type": "display_data",
          "data": {
            "text/plain": [
              "<IPython.core.display.HTML object>"
            ],
            "text/html": [
              "<style>\n",
              "    table.wandb td:nth-child(1) { padding: 0 10px; text-align: right }\n",
              "    .wandb-row { display: flex; flex-direction: row; flex-wrap: wrap; width: 100% }\n",
              "    .wandb-col { display: flex; flex-direction: column; flex-basis: 100%; flex: 1; padding: 10px; }\n",
              "    </style>\n",
              "<div class=\"wandb-row\"><div class=\"wandb-col\"><h3>Run history:</h3><br/><table class=\"wandb\"><tr><td>acc</td><td>▁</td></tr><tr><td>epochs</td><td>▁</td></tr><tr><td>loss</td><td>▁</td></tr><tr><td>val_acc</td><td>▁</td></tr><tr><td>val_loss</td><td>▁</td></tr></table><br/></div><div class=\"wandb-col\"><h3>Run summary:</h3><br/><table class=\"wandb\"><tr><td>acc</td><td>0.2582</td></tr><tr><td>epochs</td><td>0</td></tr><tr><td>loss</td><td>-0.2582</td></tr><tr><td>val_acc</td><td>0.05048</td></tr><tr><td>val_loss</td><td>-0.05048</td></tr></table><br/></div></div>"
            ]
          },
          "metadata": {}
        },
        {
          "output_type": "display_data",
          "data": {
            "text/plain": [
              "<IPython.core.display.HTML object>"
            ],
            "text/html": [
              "Synced <strong style=\"color:#cdcd00\">dark-sweep-18</strong>: <a href=\"https://wandb.ai/regirau/Vein_Segmentation_Hyperparameters/runs/v48gllxk\" target=\"_blank\">https://wandb.ai/regirau/Vein_Segmentation_Hyperparameters/runs/v48gllxk</a><br/>Synced 5 W&B file(s), 0 media file(s), 0 artifact file(s) and 0 other file(s)"
            ]
          },
          "metadata": {}
        },
        {
          "output_type": "display_data",
          "data": {
            "text/plain": [
              "<IPython.core.display.HTML object>"
            ],
            "text/html": [
              "Find logs at: <code>./wandb/run-20220416_163908-v48gllxk/logs</code>"
            ]
          },
          "metadata": {}
        },
        {
          "output_type": "stream",
          "name": "stderr",
          "text": [
            "\u001b[34m\u001b[1mwandb\u001b[0m: Agent Starting Run: mp2j5vzh with config:\n",
            "\u001b[34m\u001b[1mwandb\u001b[0m: \tbatch_size: 177.55652737619948\n",
            "\u001b[34m\u001b[1mwandb\u001b[0m: \tdropout: 0.4\n",
            "\u001b[34m\u001b[1mwandb\u001b[0m: \tlearning_rate: 0.05766246710373335\n"
          ]
        },
        {
          "output_type": "display_data",
          "data": {
            "text/plain": [
              "<IPython.core.display.HTML object>"
            ],
            "text/html": [
              "Tracking run with wandb version 0.12.14"
            ]
          },
          "metadata": {}
        },
        {
          "output_type": "display_data",
          "data": {
            "text/plain": [
              "<IPython.core.display.HTML object>"
            ],
            "text/html": [
              "Run data is saved locally in <code>/content/wandb/run-20220416_164752-mp2j5vzh</code>"
            ]
          },
          "metadata": {}
        },
        {
          "output_type": "display_data",
          "data": {
            "text/plain": [
              "<IPython.core.display.HTML object>"
            ],
            "text/html": [
              "Syncing run <strong><a href=\"https://wandb.ai/regirau/Vein_Segmentation_Hyperparameters/runs/mp2j5vzh\" target=\"_blank\">zany-sweep-19</a></strong> to <a href=\"https://wandb.ai/regirau/Vein_Segmentation_Hyperparameters\" target=\"_blank\">Weights & Biases</a> (<a href=\"https://wandb.me/run\" target=\"_blank\">docs</a>)<br/>Sweep page:  <a href=\"https://wandb.ai/regirau/Vein_Segmentation_Hyperparameters/sweeps/099auu93\" target=\"_blank\">https://wandb.ai/regirau/Vein_Segmentation_Hyperparameters/sweeps/099auu93</a>"
            ]
          },
          "metadata": {}
        },
        {
          "output_type": "stream",
          "name": "stdout",
          "text": [
            "Found 900 files belonging to 1 classes.\n",
            "Found 900 files belonging to 1 classes.\n",
            "\n",
            "Start of epoch 0\n"
          ]
        },
        {
          "output_type": "stream",
          "name": "stderr",
          "text": [
            "100%|██████████| 630/630 [07:58<00:00,  1.32it/s]\n"
          ]
        },
        {
          "output_type": "stream",
          "name": "stdout",
          "text": [
            "Training IoU over epoch:  0.29941967866084485\n",
            "Validation IoU over epoch:  0.28235047020845944\n",
            "\n"
          ]
        },
        {
          "output_type": "display_data",
          "data": {
            "text/plain": [
              "<IPython.core.display.HTML object>"
            ],
            "text/html": [
              "Waiting for W&B process to finish... <strong style=\"color:green\">(success).</strong>"
            ]
          },
          "metadata": {}
        },
        {
          "output_type": "display_data",
          "data": {
            "text/plain": [
              "VBox(children=(Label(value='0.001 MB of 0.001 MB uploaded (0.000 MB deduped)\\r'), FloatProgress(value=1.0, max…"
            ],
            "application/vnd.jupyter.widget-view+json": {
              "version_major": 2,
              "version_minor": 0,
              "model_id": "50ccbe3305834c79b8f33c7b1f370117"
            }
          },
          "metadata": {}
        },
        {
          "output_type": "display_data",
          "data": {
            "text/plain": [
              "<IPython.core.display.HTML object>"
            ],
            "text/html": [
              "<style>\n",
              "    table.wandb td:nth-child(1) { padding: 0 10px; text-align: right }\n",
              "    .wandb-row { display: flex; flex-direction: row; flex-wrap: wrap; width: 100% }\n",
              "    .wandb-col { display: flex; flex-direction: column; flex-basis: 100%; flex: 1; padding: 10px; }\n",
              "    </style>\n",
              "<div class=\"wandb-row\"><div class=\"wandb-col\"><h3>Run history:</h3><br/><table class=\"wandb\"><tr><td>acc</td><td>▁</td></tr><tr><td>epochs</td><td>▁</td></tr><tr><td>loss</td><td>▁</td></tr><tr><td>val_acc</td><td>▁</td></tr><tr><td>val_loss</td><td>▁</td></tr></table><br/></div><div class=\"wandb-col\"><h3>Run summary:</h3><br/><table class=\"wandb\"><tr><td>acc</td><td>0.29942</td></tr><tr><td>epochs</td><td>0</td></tr><tr><td>loss</td><td>-0.29942</td></tr><tr><td>val_acc</td><td>0.28235</td></tr><tr><td>val_loss</td><td>-0.28235</td></tr></table><br/></div></div>"
            ]
          },
          "metadata": {}
        },
        {
          "output_type": "display_data",
          "data": {
            "text/plain": [
              "<IPython.core.display.HTML object>"
            ],
            "text/html": [
              "Synced <strong style=\"color:#cdcd00\">zany-sweep-19</strong>: <a href=\"https://wandb.ai/regirau/Vein_Segmentation_Hyperparameters/runs/mp2j5vzh\" target=\"_blank\">https://wandb.ai/regirau/Vein_Segmentation_Hyperparameters/runs/mp2j5vzh</a><br/>Synced 5 W&B file(s), 0 media file(s), 0 artifact file(s) and 0 other file(s)"
            ]
          },
          "metadata": {}
        },
        {
          "output_type": "display_data",
          "data": {
            "text/plain": [
              "<IPython.core.display.HTML object>"
            ],
            "text/html": [
              "Find logs at: <code>./wandb/run-20220416_164752-mp2j5vzh/logs</code>"
            ]
          },
          "metadata": {}
        },
        {
          "output_type": "stream",
          "name": "stderr",
          "text": [
            "\u001b[34m\u001b[1mwandb\u001b[0m: Agent Starting Run: bggpzbu9 with config:\n",
            "\u001b[34m\u001b[1mwandb\u001b[0m: \tbatch_size: 105.61986816027348\n",
            "\u001b[34m\u001b[1mwandb\u001b[0m: \tdropout: 0.1\n",
            "\u001b[34m\u001b[1mwandb\u001b[0m: \tlearning_rate: 0.7611925747554558\n"
          ]
        },
        {
          "output_type": "display_data",
          "data": {
            "text/plain": [
              "<IPython.core.display.HTML object>"
            ],
            "text/html": [
              "Tracking run with wandb version 0.12.14"
            ]
          },
          "metadata": {}
        },
        {
          "output_type": "display_data",
          "data": {
            "text/plain": [
              "<IPython.core.display.HTML object>"
            ],
            "text/html": [
              "Run data is saved locally in <code>/content/wandb/run-20220416_165641-bggpzbu9</code>"
            ]
          },
          "metadata": {}
        },
        {
          "output_type": "display_data",
          "data": {
            "text/plain": [
              "<IPython.core.display.HTML object>"
            ],
            "text/html": [
              "Syncing run <strong><a href=\"https://wandb.ai/regirau/Vein_Segmentation_Hyperparameters/runs/bggpzbu9\" target=\"_blank\">decent-sweep-20</a></strong> to <a href=\"https://wandb.ai/regirau/Vein_Segmentation_Hyperparameters\" target=\"_blank\">Weights & Biases</a> (<a href=\"https://wandb.me/run\" target=\"_blank\">docs</a>)<br/>Sweep page:  <a href=\"https://wandb.ai/regirau/Vein_Segmentation_Hyperparameters/sweeps/099auu93\" target=\"_blank\">https://wandb.ai/regirau/Vein_Segmentation_Hyperparameters/sweeps/099auu93</a>"
            ]
          },
          "metadata": {}
        },
        {
          "output_type": "stream",
          "name": "stdout",
          "text": [
            "Found 900 files belonging to 1 classes.\n",
            "Found 900 files belonging to 1 classes.\n",
            "\n",
            "Start of epoch 0\n"
          ]
        },
        {
          "output_type": "stream",
          "name": "stderr",
          "text": [
            "100%|██████████| 630/630 [07:55<00:00,  1.32it/s]\n"
          ]
        },
        {
          "output_type": "stream",
          "name": "stdout",
          "text": [
            "Training IoU over epoch:  0.27519219310407705\n",
            "Validation IoU over epoch:  0.13521197658997994\n",
            "\n"
          ]
        },
        {
          "output_type": "display_data",
          "data": {
            "text/plain": [
              "<IPython.core.display.HTML object>"
            ],
            "text/html": [
              "Waiting for W&B process to finish... <strong style=\"color:green\">(success).</strong>"
            ]
          },
          "metadata": {}
        },
        {
          "output_type": "display_data",
          "data": {
            "text/plain": [
              "VBox(children=(Label(value='0.001 MB of 0.001 MB uploaded (0.000 MB deduped)\\r'), FloatProgress(value=1.0, max…"
            ],
            "application/vnd.jupyter.widget-view+json": {
              "version_major": 2,
              "version_minor": 0,
              "model_id": "b5da01969f20481681afb5d81276f55a"
            }
          },
          "metadata": {}
        },
        {
          "output_type": "display_data",
          "data": {
            "text/plain": [
              "<IPython.core.display.HTML object>"
            ],
            "text/html": [
              "<style>\n",
              "    table.wandb td:nth-child(1) { padding: 0 10px; text-align: right }\n",
              "    .wandb-row { display: flex; flex-direction: row; flex-wrap: wrap; width: 100% }\n",
              "    .wandb-col { display: flex; flex-direction: column; flex-basis: 100%; flex: 1; padding: 10px; }\n",
              "    </style>\n",
              "<div class=\"wandb-row\"><div class=\"wandb-col\"><h3>Run history:</h3><br/><table class=\"wandb\"><tr><td>acc</td><td>▁</td></tr><tr><td>epochs</td><td>▁</td></tr><tr><td>loss</td><td>▁</td></tr><tr><td>val_acc</td><td>▁</td></tr><tr><td>val_loss</td><td>▁</td></tr></table><br/></div><div class=\"wandb-col\"><h3>Run summary:</h3><br/><table class=\"wandb\"><tr><td>acc</td><td>0.27519</td></tr><tr><td>epochs</td><td>0</td></tr><tr><td>loss</td><td>-0.27519</td></tr><tr><td>val_acc</td><td>0.13521</td></tr><tr><td>val_loss</td><td>-0.13521</td></tr></table><br/></div></div>"
            ]
          },
          "metadata": {}
        },
        {
          "output_type": "display_data",
          "data": {
            "text/plain": [
              "<IPython.core.display.HTML object>"
            ],
            "text/html": [
              "Synced <strong style=\"color:#cdcd00\">decent-sweep-20</strong>: <a href=\"https://wandb.ai/regirau/Vein_Segmentation_Hyperparameters/runs/bggpzbu9\" target=\"_blank\">https://wandb.ai/regirau/Vein_Segmentation_Hyperparameters/runs/bggpzbu9</a><br/>Synced 5 W&B file(s), 0 media file(s), 0 artifact file(s) and 0 other file(s)"
            ]
          },
          "metadata": {}
        },
        {
          "output_type": "display_data",
          "data": {
            "text/plain": [
              "<IPython.core.display.HTML object>"
            ],
            "text/html": [
              "Find logs at: <code>./wandb/run-20220416_165641-bggpzbu9/logs</code>"
            ]
          },
          "metadata": {}
        },
        {
          "output_type": "stream",
          "name": "stderr",
          "text": [
            "\u001b[34m\u001b[1mwandb\u001b[0m: Agent Starting Run: of98cnpw with config:\n",
            "\u001b[34m\u001b[1mwandb\u001b[0m: \tbatch_size: 150.753251873091\n",
            "\u001b[34m\u001b[1mwandb\u001b[0m: \tdropout: 0.2\n",
            "\u001b[34m\u001b[1mwandb\u001b[0m: \tlearning_rate: 0.0774619177235524\n"
          ]
        },
        {
          "output_type": "display_data",
          "data": {
            "text/plain": [
              "<IPython.core.display.HTML object>"
            ],
            "text/html": [
              "Tracking run with wandb version 0.12.14"
            ]
          },
          "metadata": {}
        },
        {
          "output_type": "display_data",
          "data": {
            "text/plain": [
              "<IPython.core.display.HTML object>"
            ],
            "text/html": [
              "Run data is saved locally in <code>/content/wandb/run-20220416_170525-of98cnpw</code>"
            ]
          },
          "metadata": {}
        },
        {
          "output_type": "display_data",
          "data": {
            "text/plain": [
              "<IPython.core.display.HTML object>"
            ],
            "text/html": [
              "Syncing run <strong><a href=\"https://wandb.ai/regirau/Vein_Segmentation_Hyperparameters/runs/of98cnpw\" target=\"_blank\">earthy-sweep-21</a></strong> to <a href=\"https://wandb.ai/regirau/Vein_Segmentation_Hyperparameters\" target=\"_blank\">Weights & Biases</a> (<a href=\"https://wandb.me/run\" target=\"_blank\">docs</a>)<br/>Sweep page:  <a href=\"https://wandb.ai/regirau/Vein_Segmentation_Hyperparameters/sweeps/099auu93\" target=\"_blank\">https://wandb.ai/regirau/Vein_Segmentation_Hyperparameters/sweeps/099auu93</a>"
            ]
          },
          "metadata": {}
        },
        {
          "output_type": "stream",
          "name": "stdout",
          "text": [
            "Found 900 files belonging to 1 classes.\n",
            "Found 900 files belonging to 1 classes.\n",
            "\n",
            "Start of epoch 0\n"
          ]
        },
        {
          "output_type": "stream",
          "name": "stderr",
          "text": [
            "100%|██████████| 630/630 [07:57<00:00,  1.32it/s]\n"
          ]
        },
        {
          "output_type": "stream",
          "name": "stdout",
          "text": [
            "Training IoU over epoch:  0.28845407147171154\n",
            "Validation IoU over epoch:  0.2479303200859889\n",
            "\n"
          ]
        },
        {
          "output_type": "display_data",
          "data": {
            "text/plain": [
              "<IPython.core.display.HTML object>"
            ],
            "text/html": [
              "Waiting for W&B process to finish... <strong style=\"color:green\">(success).</strong>"
            ]
          },
          "metadata": {}
        },
        {
          "output_type": "display_data",
          "data": {
            "text/plain": [
              "VBox(children=(Label(value='0.001 MB of 0.001 MB uploaded (0.000 MB deduped)\\r'), FloatProgress(value=1.0, max…"
            ],
            "application/vnd.jupyter.widget-view+json": {
              "version_major": 2,
              "version_minor": 0,
              "model_id": "2e950d214ac24d6c84646481af2f34a9"
            }
          },
          "metadata": {}
        },
        {
          "output_type": "display_data",
          "data": {
            "text/plain": [
              "<IPython.core.display.HTML object>"
            ],
            "text/html": [
              "<style>\n",
              "    table.wandb td:nth-child(1) { padding: 0 10px; text-align: right }\n",
              "    .wandb-row { display: flex; flex-direction: row; flex-wrap: wrap; width: 100% }\n",
              "    .wandb-col { display: flex; flex-direction: column; flex-basis: 100%; flex: 1; padding: 10px; }\n",
              "    </style>\n",
              "<div class=\"wandb-row\"><div class=\"wandb-col\"><h3>Run history:</h3><br/><table class=\"wandb\"><tr><td>acc</td><td>▁</td></tr><tr><td>epochs</td><td>▁</td></tr><tr><td>loss</td><td>▁</td></tr><tr><td>val_acc</td><td>▁</td></tr><tr><td>val_loss</td><td>▁</td></tr></table><br/></div><div class=\"wandb-col\"><h3>Run summary:</h3><br/><table class=\"wandb\"><tr><td>acc</td><td>0.28845</td></tr><tr><td>epochs</td><td>0</td></tr><tr><td>loss</td><td>-0.28845</td></tr><tr><td>val_acc</td><td>0.24793</td></tr><tr><td>val_loss</td><td>-0.24793</td></tr></table><br/></div></div>"
            ]
          },
          "metadata": {}
        },
        {
          "output_type": "display_data",
          "data": {
            "text/plain": [
              "<IPython.core.display.HTML object>"
            ],
            "text/html": [
              "Synced <strong style=\"color:#cdcd00\">earthy-sweep-21</strong>: <a href=\"https://wandb.ai/regirau/Vein_Segmentation_Hyperparameters/runs/of98cnpw\" target=\"_blank\">https://wandb.ai/regirau/Vein_Segmentation_Hyperparameters/runs/of98cnpw</a><br/>Synced 5 W&B file(s), 0 media file(s), 0 artifact file(s) and 0 other file(s)"
            ]
          },
          "metadata": {}
        },
        {
          "output_type": "display_data",
          "data": {
            "text/plain": [
              "<IPython.core.display.HTML object>"
            ],
            "text/html": [
              "Find logs at: <code>./wandb/run-20220416_170525-of98cnpw/logs</code>"
            ]
          },
          "metadata": {}
        },
        {
          "output_type": "stream",
          "name": "stderr",
          "text": [
            "\u001b[34m\u001b[1mwandb\u001b[0m: Sweep Agent: Waiting for job.\n",
            "\u001b[34m\u001b[1mwandb\u001b[0m: Job received.\n",
            "\u001b[34m\u001b[1mwandb\u001b[0m: Agent Starting Run: tu09s45k with config:\n",
            "\u001b[34m\u001b[1mwandb\u001b[0m: \tbatch_size: 157.96685478790175\n",
            "\u001b[34m\u001b[1mwandb\u001b[0m: \tdropout: 0.3\n",
            "\u001b[34m\u001b[1mwandb\u001b[0m: \tlearning_rate: 0.21772201986874395\n"
          ]
        },
        {
          "output_type": "display_data",
          "data": {
            "text/plain": [
              "<IPython.core.display.HTML object>"
            ],
            "text/html": [
              "Tracking run with wandb version 0.12.14"
            ]
          },
          "metadata": {}
        },
        {
          "output_type": "display_data",
          "data": {
            "text/plain": [
              "<IPython.core.display.HTML object>"
            ],
            "text/html": [
              "Run data is saved locally in <code>/content/wandb/run-20220416_171421-tu09s45k</code>"
            ]
          },
          "metadata": {}
        },
        {
          "output_type": "display_data",
          "data": {
            "text/plain": [
              "<IPython.core.display.HTML object>"
            ],
            "text/html": [
              "Syncing run <strong><a href=\"https://wandb.ai/regirau/Vein_Segmentation_Hyperparameters/runs/tu09s45k\" target=\"_blank\">wobbly-sweep-22</a></strong> to <a href=\"https://wandb.ai/regirau/Vein_Segmentation_Hyperparameters\" target=\"_blank\">Weights & Biases</a> (<a href=\"https://wandb.me/run\" target=\"_blank\">docs</a>)<br/>Sweep page:  <a href=\"https://wandb.ai/regirau/Vein_Segmentation_Hyperparameters/sweeps/099auu93\" target=\"_blank\">https://wandb.ai/regirau/Vein_Segmentation_Hyperparameters/sweeps/099auu93</a>"
            ]
          },
          "metadata": {}
        },
        {
          "output_type": "stream",
          "name": "stdout",
          "text": [
            "Found 900 files belonging to 1 classes.\n",
            "Found 900 files belonging to 1 classes.\n",
            "\n",
            "Start of epoch 0\n"
          ]
        },
        {
          "output_type": "stream",
          "name": "stderr",
          "text": [
            "100%|██████████| 630/630 [07:56<00:00,  1.32it/s]\n"
          ]
        },
        {
          "output_type": "stream",
          "name": "stdout",
          "text": [
            "Training IoU over epoch:  0.30506273794670424\n",
            "Validation IoU over epoch:  0.1961324907011456\n",
            "\n"
          ]
        },
        {
          "output_type": "display_data",
          "data": {
            "text/plain": [
              "<IPython.core.display.HTML object>"
            ],
            "text/html": [
              "Waiting for W&B process to finish... <strong style=\"color:green\">(success).</strong>"
            ]
          },
          "metadata": {}
        },
        {
          "output_type": "display_data",
          "data": {
            "text/plain": [
              "VBox(children=(Label(value='0.001 MB of 0.001 MB uploaded (0.000 MB deduped)\\r'), FloatProgress(value=1.0, max…"
            ],
            "application/vnd.jupyter.widget-view+json": {
              "version_major": 2,
              "version_minor": 0,
              "model_id": "6873322a195445a6bb24f04ad544222b"
            }
          },
          "metadata": {}
        },
        {
          "output_type": "display_data",
          "data": {
            "text/plain": [
              "<IPython.core.display.HTML object>"
            ],
            "text/html": [
              "<style>\n",
              "    table.wandb td:nth-child(1) { padding: 0 10px; text-align: right }\n",
              "    .wandb-row { display: flex; flex-direction: row; flex-wrap: wrap; width: 100% }\n",
              "    .wandb-col { display: flex; flex-direction: column; flex-basis: 100%; flex: 1; padding: 10px; }\n",
              "    </style>\n",
              "<div class=\"wandb-row\"><div class=\"wandb-col\"><h3>Run history:</h3><br/><table class=\"wandb\"><tr><td>acc</td><td>▁</td></tr><tr><td>epochs</td><td>▁</td></tr><tr><td>loss</td><td>▁</td></tr><tr><td>val_acc</td><td>▁</td></tr><tr><td>val_loss</td><td>▁</td></tr></table><br/></div><div class=\"wandb-col\"><h3>Run summary:</h3><br/><table class=\"wandb\"><tr><td>acc</td><td>0.30506</td></tr><tr><td>epochs</td><td>0</td></tr><tr><td>loss</td><td>-0.30506</td></tr><tr><td>val_acc</td><td>0.19613</td></tr><tr><td>val_loss</td><td>-0.19613</td></tr></table><br/></div></div>"
            ]
          },
          "metadata": {}
        },
        {
          "output_type": "display_data",
          "data": {
            "text/plain": [
              "<IPython.core.display.HTML object>"
            ],
            "text/html": [
              "Synced <strong style=\"color:#cdcd00\">wobbly-sweep-22</strong>: <a href=\"https://wandb.ai/regirau/Vein_Segmentation_Hyperparameters/runs/tu09s45k\" target=\"_blank\">https://wandb.ai/regirau/Vein_Segmentation_Hyperparameters/runs/tu09s45k</a><br/>Synced 5 W&B file(s), 0 media file(s), 0 artifact file(s) and 0 other file(s)"
            ]
          },
          "metadata": {}
        },
        {
          "output_type": "display_data",
          "data": {
            "text/plain": [
              "<IPython.core.display.HTML object>"
            ],
            "text/html": [
              "Find logs at: <code>./wandb/run-20220416_171421-tu09s45k/logs</code>"
            ]
          },
          "metadata": {}
        },
        {
          "output_type": "stream",
          "name": "stderr",
          "text": [
            "\u001b[34m\u001b[1mwandb\u001b[0m: Agent Starting Run: qn4hpeyi with config:\n",
            "\u001b[34m\u001b[1mwandb\u001b[0m: \tbatch_size: 177.2452695084706\n",
            "\u001b[34m\u001b[1mwandb\u001b[0m: \tdropout: 0.1\n",
            "\u001b[34m\u001b[1mwandb\u001b[0m: \tlearning_rate: 0.8876753100800161\n"
          ]
        },
        {
          "output_type": "display_data",
          "data": {
            "text/plain": [
              "<IPython.core.display.HTML object>"
            ],
            "text/html": [
              "Tracking run with wandb version 0.12.14"
            ]
          },
          "metadata": {}
        },
        {
          "output_type": "display_data",
          "data": {
            "text/plain": [
              "<IPython.core.display.HTML object>"
            ],
            "text/html": [
              "Run data is saved locally in <code>/content/wandb/run-20220416_172311-qn4hpeyi</code>"
            ]
          },
          "metadata": {}
        },
        {
          "output_type": "display_data",
          "data": {
            "text/plain": [
              "<IPython.core.display.HTML object>"
            ],
            "text/html": [
              "Syncing run <strong><a href=\"https://wandb.ai/regirau/Vein_Segmentation_Hyperparameters/runs/qn4hpeyi\" target=\"_blank\">eternal-sweep-23</a></strong> to <a href=\"https://wandb.ai/regirau/Vein_Segmentation_Hyperparameters\" target=\"_blank\">Weights & Biases</a> (<a href=\"https://wandb.me/run\" target=\"_blank\">docs</a>)<br/>Sweep page:  <a href=\"https://wandb.ai/regirau/Vein_Segmentation_Hyperparameters/sweeps/099auu93\" target=\"_blank\">https://wandb.ai/regirau/Vein_Segmentation_Hyperparameters/sweeps/099auu93</a>"
            ]
          },
          "metadata": {}
        },
        {
          "output_type": "stream",
          "name": "stdout",
          "text": [
            "Found 900 files belonging to 1 classes.\n",
            "Found 900 files belonging to 1 classes.\n",
            "\n",
            "Start of epoch 0\n"
          ]
        },
        {
          "output_type": "stream",
          "name": "stderr",
          "text": [
            "100%|██████████| 630/630 [08:03<00:00,  1.30it/s]\n"
          ]
        },
        {
          "output_type": "stream",
          "name": "stdout",
          "text": [
            "Training IoU over epoch:  0.05022813211091691\n",
            "Validation IoU over epoch:  0.048139026850737905\n",
            "\n"
          ]
        },
        {
          "output_type": "display_data",
          "data": {
            "text/plain": [
              "<IPython.core.display.HTML object>"
            ],
            "text/html": [
              "Waiting for W&B process to finish... <strong style=\"color:green\">(success).</strong>"
            ]
          },
          "metadata": {}
        },
        {
          "output_type": "display_data",
          "data": {
            "text/plain": [
              "VBox(children=(Label(value='0.001 MB of 0.001 MB uploaded (0.000 MB deduped)\\r'), FloatProgress(value=1.0, max…"
            ],
            "application/vnd.jupyter.widget-view+json": {
              "version_major": 2,
              "version_minor": 0,
              "model_id": "37a20d97d1b64743bb3f006b6ccac5a7"
            }
          },
          "metadata": {}
        },
        {
          "output_type": "display_data",
          "data": {
            "text/plain": [
              "<IPython.core.display.HTML object>"
            ],
            "text/html": [
              "<style>\n",
              "    table.wandb td:nth-child(1) { padding: 0 10px; text-align: right }\n",
              "    .wandb-row { display: flex; flex-direction: row; flex-wrap: wrap; width: 100% }\n",
              "    .wandb-col { display: flex; flex-direction: column; flex-basis: 100%; flex: 1; padding: 10px; }\n",
              "    </style>\n",
              "<div class=\"wandb-row\"><div class=\"wandb-col\"><h3>Run history:</h3><br/><table class=\"wandb\"><tr><td>acc</td><td>▁</td></tr><tr><td>epochs</td><td>▁</td></tr><tr><td>loss</td><td>▁</td></tr><tr><td>val_acc</td><td>▁</td></tr><tr><td>val_loss</td><td>▁</td></tr></table><br/></div><div class=\"wandb-col\"><h3>Run summary:</h3><br/><table class=\"wandb\"><tr><td>acc</td><td>0.05023</td></tr><tr><td>epochs</td><td>0</td></tr><tr><td>loss</td><td>-0.05023</td></tr><tr><td>val_acc</td><td>0.04814</td></tr><tr><td>val_loss</td><td>-0.04814</td></tr></table><br/></div></div>"
            ]
          },
          "metadata": {}
        },
        {
          "output_type": "display_data",
          "data": {
            "text/plain": [
              "<IPython.core.display.HTML object>"
            ],
            "text/html": [
              "Synced <strong style=\"color:#cdcd00\">eternal-sweep-23</strong>: <a href=\"https://wandb.ai/regirau/Vein_Segmentation_Hyperparameters/runs/qn4hpeyi\" target=\"_blank\">https://wandb.ai/regirau/Vein_Segmentation_Hyperparameters/runs/qn4hpeyi</a><br/>Synced 5 W&B file(s), 0 media file(s), 0 artifact file(s) and 0 other file(s)"
            ]
          },
          "metadata": {}
        },
        {
          "output_type": "display_data",
          "data": {
            "text/plain": [
              "<IPython.core.display.HTML object>"
            ],
            "text/html": [
              "Find logs at: <code>./wandb/run-20220416_172311-qn4hpeyi/logs</code>"
            ]
          },
          "metadata": {}
        },
        {
          "output_type": "stream",
          "name": "stderr",
          "text": [
            "\u001b[34m\u001b[1mwandb\u001b[0m: Agent Starting Run: ej3maz2q with config:\n",
            "\u001b[34m\u001b[1mwandb\u001b[0m: \tbatch_size: 216.32192192280297\n",
            "\u001b[34m\u001b[1mwandb\u001b[0m: \tdropout: 0.1\n",
            "\u001b[34m\u001b[1mwandb\u001b[0m: \tlearning_rate: 0.47922439239340264\n"
          ]
        },
        {
          "output_type": "display_data",
          "data": {
            "text/plain": [
              "<IPython.core.display.HTML object>"
            ],
            "text/html": [
              "Tracking run with wandb version 0.12.14"
            ]
          },
          "metadata": {}
        },
        {
          "output_type": "display_data",
          "data": {
            "text/plain": [
              "<IPython.core.display.HTML object>"
            ],
            "text/html": [
              "Run data is saved locally in <code>/content/wandb/run-20220416_173203-ej3maz2q</code>"
            ]
          },
          "metadata": {}
        },
        {
          "output_type": "display_data",
          "data": {
            "text/plain": [
              "<IPython.core.display.HTML object>"
            ],
            "text/html": [
              "Syncing run <strong><a href=\"https://wandb.ai/regirau/Vein_Segmentation_Hyperparameters/runs/ej3maz2q\" target=\"_blank\">lilac-sweep-24</a></strong> to <a href=\"https://wandb.ai/regirau/Vein_Segmentation_Hyperparameters\" target=\"_blank\">Weights & Biases</a> (<a href=\"https://wandb.me/run\" target=\"_blank\">docs</a>)<br/>Sweep page:  <a href=\"https://wandb.ai/regirau/Vein_Segmentation_Hyperparameters/sweeps/099auu93\" target=\"_blank\">https://wandb.ai/regirau/Vein_Segmentation_Hyperparameters/sweeps/099auu93</a>"
            ]
          },
          "metadata": {}
        },
        {
          "output_type": "stream",
          "name": "stdout",
          "text": [
            "Found 900 files belonging to 1 classes.\n",
            "Found 900 files belonging to 1 classes.\n",
            "\n",
            "Start of epoch 0\n"
          ]
        },
        {
          "output_type": "stream",
          "name": "stderr",
          "text": [
            "100%|██████████| 630/630 [08:00<00:00,  1.31it/s]\n"
          ]
        },
        {
          "output_type": "stream",
          "name": "stdout",
          "text": [
            "Training IoU over epoch:  0.28032591708876664\n",
            "Validation IoU over epoch:  0.1932364073269195\n",
            "\n"
          ]
        },
        {
          "output_type": "display_data",
          "data": {
            "text/plain": [
              "<IPython.core.display.HTML object>"
            ],
            "text/html": [
              "Waiting for W&B process to finish... <strong style=\"color:green\">(success).</strong>"
            ]
          },
          "metadata": {}
        },
        {
          "output_type": "display_data",
          "data": {
            "text/plain": [
              "VBox(children=(Label(value='0.001 MB of 0.001 MB uploaded (0.000 MB deduped)\\r'), FloatProgress(value=1.0, max…"
            ],
            "application/vnd.jupyter.widget-view+json": {
              "version_major": 2,
              "version_minor": 0,
              "model_id": "07179d56bdea43b5a23ad7c9575d325e"
            }
          },
          "metadata": {}
        },
        {
          "output_type": "display_data",
          "data": {
            "text/plain": [
              "<IPython.core.display.HTML object>"
            ],
            "text/html": [
              "<style>\n",
              "    table.wandb td:nth-child(1) { padding: 0 10px; text-align: right }\n",
              "    .wandb-row { display: flex; flex-direction: row; flex-wrap: wrap; width: 100% }\n",
              "    .wandb-col { display: flex; flex-direction: column; flex-basis: 100%; flex: 1; padding: 10px; }\n",
              "    </style>\n",
              "<div class=\"wandb-row\"><div class=\"wandb-col\"><h3>Run history:</h3><br/><table class=\"wandb\"><tr><td>acc</td><td>▁</td></tr><tr><td>epochs</td><td>▁</td></tr><tr><td>loss</td><td>▁</td></tr><tr><td>val_acc</td><td>▁</td></tr><tr><td>val_loss</td><td>▁</td></tr></table><br/></div><div class=\"wandb-col\"><h3>Run summary:</h3><br/><table class=\"wandb\"><tr><td>acc</td><td>0.28033</td></tr><tr><td>epochs</td><td>0</td></tr><tr><td>loss</td><td>-0.28033</td></tr><tr><td>val_acc</td><td>0.19324</td></tr><tr><td>val_loss</td><td>-0.19324</td></tr></table><br/></div></div>"
            ]
          },
          "metadata": {}
        },
        {
          "output_type": "display_data",
          "data": {
            "text/plain": [
              "<IPython.core.display.HTML object>"
            ],
            "text/html": [
              "Synced <strong style=\"color:#cdcd00\">lilac-sweep-24</strong>: <a href=\"https://wandb.ai/regirau/Vein_Segmentation_Hyperparameters/runs/ej3maz2q\" target=\"_blank\">https://wandb.ai/regirau/Vein_Segmentation_Hyperparameters/runs/ej3maz2q</a><br/>Synced 5 W&B file(s), 0 media file(s), 0 artifact file(s) and 0 other file(s)"
            ]
          },
          "metadata": {}
        },
        {
          "output_type": "display_data",
          "data": {
            "text/plain": [
              "<IPython.core.display.HTML object>"
            ],
            "text/html": [
              "Find logs at: <code>./wandb/run-20220416_173203-ej3maz2q/logs</code>"
            ]
          },
          "metadata": {}
        },
        {
          "output_type": "stream",
          "name": "stderr",
          "text": [
            "\u001b[34m\u001b[1mwandb\u001b[0m: Agent Starting Run: pj2wrojq with config:\n",
            "\u001b[34m\u001b[1mwandb\u001b[0m: \tbatch_size: 123.40475819389484\n",
            "\u001b[34m\u001b[1mwandb\u001b[0m: \tdropout: 0.3\n",
            "\u001b[34m\u001b[1mwandb\u001b[0m: \tlearning_rate: 0.8015761526839753\n"
          ]
        },
        {
          "output_type": "display_data",
          "data": {
            "text/plain": [
              "<IPython.core.display.HTML object>"
            ],
            "text/html": [
              "Tracking run with wandb version 0.12.14"
            ]
          },
          "metadata": {}
        },
        {
          "output_type": "display_data",
          "data": {
            "text/plain": [
              "<IPython.core.display.HTML object>"
            ],
            "text/html": [
              "Run data is saved locally in <code>/content/wandb/run-20220416_174053-pj2wrojq</code>"
            ]
          },
          "metadata": {}
        },
        {
          "output_type": "display_data",
          "data": {
            "text/plain": [
              "<IPython.core.display.HTML object>"
            ],
            "text/html": [
              "Syncing run <strong><a href=\"https://wandb.ai/regirau/Vein_Segmentation_Hyperparameters/runs/pj2wrojq\" target=\"_blank\">whole-sweep-25</a></strong> to <a href=\"https://wandb.ai/regirau/Vein_Segmentation_Hyperparameters\" target=\"_blank\">Weights & Biases</a> (<a href=\"https://wandb.me/run\" target=\"_blank\">docs</a>)<br/>Sweep page:  <a href=\"https://wandb.ai/regirau/Vein_Segmentation_Hyperparameters/sweeps/099auu93\" target=\"_blank\">https://wandb.ai/regirau/Vein_Segmentation_Hyperparameters/sweeps/099auu93</a>"
            ]
          },
          "metadata": {}
        },
        {
          "output_type": "stream",
          "name": "stdout",
          "text": [
            "Found 900 files belonging to 1 classes.\n",
            "Found 900 files belonging to 1 classes.\n",
            "\n",
            "Start of epoch 0\n"
          ]
        },
        {
          "output_type": "stream",
          "name": "stderr",
          "text": [
            " 53%|█████▎    | 333/630 [04:19<03:40,  1.35it/s]"
          ]
        }
      ],
      "source": [
        "wandb.agent(sweep_id, function=sweep_train, count=100)"
      ]
    }
  ],
  "metadata": {
    "accelerator": "GPU",
    "colab": {
      "machine_shape": "hm",
      "name": "Vein_Segmentation_Sweeps.ipynb",
      "provenance": [],
      "collapsed_sections": [],
      "authorship_tag": "ABX9TyNNpiExDlAAfKRYirPcmENS",
      "include_colab_link": true
    },
    "kernelspec": {
      "display_name": "Python 3",
      "name": "python3"
    },
    "language_info": {
      "name": "python"
    },
    "widgets": {
      "application/vnd.jupyter.widget-state+json": {
        "d119840475d746d6848eec05d1066d98": {
          "model_module": "@jupyter-widgets/controls",
          "model_name": "VBoxModel",
          "model_module_version": "1.5.0",
          "state": {
            "_dom_classes": [],
            "_model_module": "@jupyter-widgets/controls",
            "_model_module_version": "1.5.0",
            "_model_name": "VBoxModel",
            "_view_count": null,
            "_view_module": "@jupyter-widgets/controls",
            "_view_module_version": "1.5.0",
            "_view_name": "VBoxView",
            "box_style": "",
            "children": [
              "IPY_MODEL_455c68be93ae48b0a262e1dde6b44f40",
              "IPY_MODEL_2192246094a8455b9d6c0b0bc3263271"
            ],
            "layout": "IPY_MODEL_d2fd5e63531b4ae7a6c1906e74aaefbd"
          }
        },
        "455c68be93ae48b0a262e1dde6b44f40": {
          "model_module": "@jupyter-widgets/controls",
          "model_name": "LabelModel",
          "model_module_version": "1.5.0",
          "state": {
            "_dom_classes": [],
            "_model_module": "@jupyter-widgets/controls",
            "_model_module_version": "1.5.0",
            "_model_name": "LabelModel",
            "_view_count": null,
            "_view_module": "@jupyter-widgets/controls",
            "_view_module_version": "1.5.0",
            "_view_name": "LabelView",
            "description": "",
            "description_tooltip": null,
            "layout": "IPY_MODEL_417175d992aa422d8f009a11d7a22082",
            "placeholder": "​",
            "style": "IPY_MODEL_0f42a3faeb5d47de9903a795bf221cc9",
            "value": "0.009 MB of 0.009 MB uploaded (0.000 MB deduped)\r"
          }
        },
        "2192246094a8455b9d6c0b0bc3263271": {
          "model_module": "@jupyter-widgets/controls",
          "model_name": "FloatProgressModel",
          "model_module_version": "1.5.0",
          "state": {
            "_dom_classes": [],
            "_model_module": "@jupyter-widgets/controls",
            "_model_module_version": "1.5.0",
            "_model_name": "FloatProgressModel",
            "_view_count": null,
            "_view_module": "@jupyter-widgets/controls",
            "_view_module_version": "1.5.0",
            "_view_name": "ProgressView",
            "bar_style": "",
            "description": "",
            "description_tooltip": null,
            "layout": "IPY_MODEL_2de9b666e88b4e059ac7c83669083685",
            "max": 1,
            "min": 0,
            "orientation": "horizontal",
            "style": "IPY_MODEL_5495711be2744297ba2cabd9ff2b986d",
            "value": 1
          }
        },
        "d2fd5e63531b4ae7a6c1906e74aaefbd": {
          "model_module": "@jupyter-widgets/base",
          "model_name": "LayoutModel",
          "model_module_version": "1.2.0",
          "state": {
            "_model_module": "@jupyter-widgets/base",
            "_model_module_version": "1.2.0",
            "_model_name": "LayoutModel",
            "_view_count": null,
            "_view_module": "@jupyter-widgets/base",
            "_view_module_version": "1.2.0",
            "_view_name": "LayoutView",
            "align_content": null,
            "align_items": null,
            "align_self": null,
            "border": null,
            "bottom": null,
            "display": null,
            "flex": null,
            "flex_flow": null,
            "grid_area": null,
            "grid_auto_columns": null,
            "grid_auto_flow": null,
            "grid_auto_rows": null,
            "grid_column": null,
            "grid_gap": null,
            "grid_row": null,
            "grid_template_areas": null,
            "grid_template_columns": null,
            "grid_template_rows": null,
            "height": null,
            "justify_content": null,
            "justify_items": null,
            "left": null,
            "margin": null,
            "max_height": null,
            "max_width": null,
            "min_height": null,
            "min_width": null,
            "object_fit": null,
            "object_position": null,
            "order": null,
            "overflow": null,
            "overflow_x": null,
            "overflow_y": null,
            "padding": null,
            "right": null,
            "top": null,
            "visibility": null,
            "width": null
          }
        },
        "417175d992aa422d8f009a11d7a22082": {
          "model_module": "@jupyter-widgets/base",
          "model_name": "LayoutModel",
          "model_module_version": "1.2.0",
          "state": {
            "_model_module": "@jupyter-widgets/base",
            "_model_module_version": "1.2.0",
            "_model_name": "LayoutModel",
            "_view_count": null,
            "_view_module": "@jupyter-widgets/base",
            "_view_module_version": "1.2.0",
            "_view_name": "LayoutView",
            "align_content": null,
            "align_items": null,
            "align_self": null,
            "border": null,
            "bottom": null,
            "display": null,
            "flex": null,
            "flex_flow": null,
            "grid_area": null,
            "grid_auto_columns": null,
            "grid_auto_flow": null,
            "grid_auto_rows": null,
            "grid_column": null,
            "grid_gap": null,
            "grid_row": null,
            "grid_template_areas": null,
            "grid_template_columns": null,
            "grid_template_rows": null,
            "height": null,
            "justify_content": null,
            "justify_items": null,
            "left": null,
            "margin": null,
            "max_height": null,
            "max_width": null,
            "min_height": null,
            "min_width": null,
            "object_fit": null,
            "object_position": null,
            "order": null,
            "overflow": null,
            "overflow_x": null,
            "overflow_y": null,
            "padding": null,
            "right": null,
            "top": null,
            "visibility": null,
            "width": null
          }
        },
        "0f42a3faeb5d47de9903a795bf221cc9": {
          "model_module": "@jupyter-widgets/controls",
          "model_name": "DescriptionStyleModel",
          "model_module_version": "1.5.0",
          "state": {
            "_model_module": "@jupyter-widgets/controls",
            "_model_module_version": "1.5.0",
            "_model_name": "DescriptionStyleModel",
            "_view_count": null,
            "_view_module": "@jupyter-widgets/base",
            "_view_module_version": "1.2.0",
            "_view_name": "StyleView",
            "description_width": ""
          }
        },
        "2de9b666e88b4e059ac7c83669083685": {
          "model_module": "@jupyter-widgets/base",
          "model_name": "LayoutModel",
          "model_module_version": "1.2.0",
          "state": {
            "_model_module": "@jupyter-widgets/base",
            "_model_module_version": "1.2.0",
            "_model_name": "LayoutModel",
            "_view_count": null,
            "_view_module": "@jupyter-widgets/base",
            "_view_module_version": "1.2.0",
            "_view_name": "LayoutView",
            "align_content": null,
            "align_items": null,
            "align_self": null,
            "border": null,
            "bottom": null,
            "display": null,
            "flex": null,
            "flex_flow": null,
            "grid_area": null,
            "grid_auto_columns": null,
            "grid_auto_flow": null,
            "grid_auto_rows": null,
            "grid_column": null,
            "grid_gap": null,
            "grid_row": null,
            "grid_template_areas": null,
            "grid_template_columns": null,
            "grid_template_rows": null,
            "height": null,
            "justify_content": null,
            "justify_items": null,
            "left": null,
            "margin": null,
            "max_height": null,
            "max_width": null,
            "min_height": null,
            "min_width": null,
            "object_fit": null,
            "object_position": null,
            "order": null,
            "overflow": null,
            "overflow_x": null,
            "overflow_y": null,
            "padding": null,
            "right": null,
            "top": null,
            "visibility": null,
            "width": null
          }
        },
        "5495711be2744297ba2cabd9ff2b986d": {
          "model_module": "@jupyter-widgets/controls",
          "model_name": "ProgressStyleModel",
          "model_module_version": "1.5.0",
          "state": {
            "_model_module": "@jupyter-widgets/controls",
            "_model_module_version": "1.5.0",
            "_model_name": "ProgressStyleModel",
            "_view_count": null,
            "_view_module": "@jupyter-widgets/base",
            "_view_module_version": "1.2.0",
            "_view_name": "StyleView",
            "bar_color": null,
            "description_width": ""
          }
        },
        "8d86ff9485924ec0aab70a5a4dfd0614": {
          "model_module": "@jupyter-widgets/controls",
          "model_name": "VBoxModel",
          "model_module_version": "1.5.0",
          "state": {
            "_dom_classes": [],
            "_model_module": "@jupyter-widgets/controls",
            "_model_module_version": "1.5.0",
            "_model_name": "VBoxModel",
            "_view_count": null,
            "_view_module": "@jupyter-widgets/controls",
            "_view_module_version": "1.5.0",
            "_view_name": "VBoxView",
            "box_style": "",
            "children": [
              "IPY_MODEL_e45c28782e7b41d48ea06315de4fc8eb",
              "IPY_MODEL_addf6a4484bc41b1bf930ee72cf4b09c"
            ],
            "layout": "IPY_MODEL_4be816f7c5ff47c6980bc689867e9f18"
          }
        },
        "e45c28782e7b41d48ea06315de4fc8eb": {
          "model_module": "@jupyter-widgets/controls",
          "model_name": "LabelModel",
          "model_module_version": "1.5.0",
          "state": {
            "_dom_classes": [],
            "_model_module": "@jupyter-widgets/controls",
            "_model_module_version": "1.5.0",
            "_model_name": "LabelModel",
            "_view_count": null,
            "_view_module": "@jupyter-widgets/controls",
            "_view_module_version": "1.5.0",
            "_view_name": "LabelView",
            "description": "",
            "description_tooltip": null,
            "layout": "IPY_MODEL_09eb6054c2d54cef9f3eb9427385adf6",
            "placeholder": "​",
            "style": "IPY_MODEL_480e1613ca514895b7ff31594c810d88",
            "value": "0.009 MB of 0.009 MB uploaded (0.000 MB deduped)\r"
          }
        },
        "addf6a4484bc41b1bf930ee72cf4b09c": {
          "model_module": "@jupyter-widgets/controls",
          "model_name": "FloatProgressModel",
          "model_module_version": "1.5.0",
          "state": {
            "_dom_classes": [],
            "_model_module": "@jupyter-widgets/controls",
            "_model_module_version": "1.5.0",
            "_model_name": "FloatProgressModel",
            "_view_count": null,
            "_view_module": "@jupyter-widgets/controls",
            "_view_module_version": "1.5.0",
            "_view_name": "ProgressView",
            "bar_style": "",
            "description": "",
            "description_tooltip": null,
            "layout": "IPY_MODEL_4f433dc250a841d69f650ceb402a1e13",
            "max": 1,
            "min": 0,
            "orientation": "horizontal",
            "style": "IPY_MODEL_134a360a688649a886d09f4cd98c3a4f",
            "value": 1
          }
        },
        "4be816f7c5ff47c6980bc689867e9f18": {
          "model_module": "@jupyter-widgets/base",
          "model_name": "LayoutModel",
          "model_module_version": "1.2.0",
          "state": {
            "_model_module": "@jupyter-widgets/base",
            "_model_module_version": "1.2.0",
            "_model_name": "LayoutModel",
            "_view_count": null,
            "_view_module": "@jupyter-widgets/base",
            "_view_module_version": "1.2.0",
            "_view_name": "LayoutView",
            "align_content": null,
            "align_items": null,
            "align_self": null,
            "border": null,
            "bottom": null,
            "display": null,
            "flex": null,
            "flex_flow": null,
            "grid_area": null,
            "grid_auto_columns": null,
            "grid_auto_flow": null,
            "grid_auto_rows": null,
            "grid_column": null,
            "grid_gap": null,
            "grid_row": null,
            "grid_template_areas": null,
            "grid_template_columns": null,
            "grid_template_rows": null,
            "height": null,
            "justify_content": null,
            "justify_items": null,
            "left": null,
            "margin": null,
            "max_height": null,
            "max_width": null,
            "min_height": null,
            "min_width": null,
            "object_fit": null,
            "object_position": null,
            "order": null,
            "overflow": null,
            "overflow_x": null,
            "overflow_y": null,
            "padding": null,
            "right": null,
            "top": null,
            "visibility": null,
            "width": null
          }
        },
        "09eb6054c2d54cef9f3eb9427385adf6": {
          "model_module": "@jupyter-widgets/base",
          "model_name": "LayoutModel",
          "model_module_version": "1.2.0",
          "state": {
            "_model_module": "@jupyter-widgets/base",
            "_model_module_version": "1.2.0",
            "_model_name": "LayoutModel",
            "_view_count": null,
            "_view_module": "@jupyter-widgets/base",
            "_view_module_version": "1.2.0",
            "_view_name": "LayoutView",
            "align_content": null,
            "align_items": null,
            "align_self": null,
            "border": null,
            "bottom": null,
            "display": null,
            "flex": null,
            "flex_flow": null,
            "grid_area": null,
            "grid_auto_columns": null,
            "grid_auto_flow": null,
            "grid_auto_rows": null,
            "grid_column": null,
            "grid_gap": null,
            "grid_row": null,
            "grid_template_areas": null,
            "grid_template_columns": null,
            "grid_template_rows": null,
            "height": null,
            "justify_content": null,
            "justify_items": null,
            "left": null,
            "margin": null,
            "max_height": null,
            "max_width": null,
            "min_height": null,
            "min_width": null,
            "object_fit": null,
            "object_position": null,
            "order": null,
            "overflow": null,
            "overflow_x": null,
            "overflow_y": null,
            "padding": null,
            "right": null,
            "top": null,
            "visibility": null,
            "width": null
          }
        },
        "480e1613ca514895b7ff31594c810d88": {
          "model_module": "@jupyter-widgets/controls",
          "model_name": "DescriptionStyleModel",
          "model_module_version": "1.5.0",
          "state": {
            "_model_module": "@jupyter-widgets/controls",
            "_model_module_version": "1.5.0",
            "_model_name": "DescriptionStyleModel",
            "_view_count": null,
            "_view_module": "@jupyter-widgets/base",
            "_view_module_version": "1.2.0",
            "_view_name": "StyleView",
            "description_width": ""
          }
        },
        "4f433dc250a841d69f650ceb402a1e13": {
          "model_module": "@jupyter-widgets/base",
          "model_name": "LayoutModel",
          "model_module_version": "1.2.0",
          "state": {
            "_model_module": "@jupyter-widgets/base",
            "_model_module_version": "1.2.0",
            "_model_name": "LayoutModel",
            "_view_count": null,
            "_view_module": "@jupyter-widgets/base",
            "_view_module_version": "1.2.0",
            "_view_name": "LayoutView",
            "align_content": null,
            "align_items": null,
            "align_self": null,
            "border": null,
            "bottom": null,
            "display": null,
            "flex": null,
            "flex_flow": null,
            "grid_area": null,
            "grid_auto_columns": null,
            "grid_auto_flow": null,
            "grid_auto_rows": null,
            "grid_column": null,
            "grid_gap": null,
            "grid_row": null,
            "grid_template_areas": null,
            "grid_template_columns": null,
            "grid_template_rows": null,
            "height": null,
            "justify_content": null,
            "justify_items": null,
            "left": null,
            "margin": null,
            "max_height": null,
            "max_width": null,
            "min_height": null,
            "min_width": null,
            "object_fit": null,
            "object_position": null,
            "order": null,
            "overflow": null,
            "overflow_x": null,
            "overflow_y": null,
            "padding": null,
            "right": null,
            "top": null,
            "visibility": null,
            "width": null
          }
        },
        "134a360a688649a886d09f4cd98c3a4f": {
          "model_module": "@jupyter-widgets/controls",
          "model_name": "ProgressStyleModel",
          "model_module_version": "1.5.0",
          "state": {
            "_model_module": "@jupyter-widgets/controls",
            "_model_module_version": "1.5.0",
            "_model_name": "ProgressStyleModel",
            "_view_count": null,
            "_view_module": "@jupyter-widgets/base",
            "_view_module_version": "1.2.0",
            "_view_name": "StyleView",
            "bar_color": null,
            "description_width": ""
          }
        },
        "64d8d53002e14195845ffd2860473ea8": {
          "model_module": "@jupyter-widgets/controls",
          "model_name": "VBoxModel",
          "model_module_version": "1.5.0",
          "state": {
            "_dom_classes": [],
            "_model_module": "@jupyter-widgets/controls",
            "_model_module_version": "1.5.0",
            "_model_name": "VBoxModel",
            "_view_count": null,
            "_view_module": "@jupyter-widgets/controls",
            "_view_module_version": "1.5.0",
            "_view_name": "VBoxView",
            "box_style": "",
            "children": [
              "IPY_MODEL_5ce17af349a14419b481df29c3e9ce5c",
              "IPY_MODEL_82e016b1b4224a6197c0ea5d10b12319"
            ],
            "layout": "IPY_MODEL_18e97a4aacd84281872d8c825dd8d094"
          }
        },
        "5ce17af349a14419b481df29c3e9ce5c": {
          "model_module": "@jupyter-widgets/controls",
          "model_name": "LabelModel",
          "model_module_version": "1.5.0",
          "state": {
            "_dom_classes": [],
            "_model_module": "@jupyter-widgets/controls",
            "_model_module_version": "1.5.0",
            "_model_name": "LabelModel",
            "_view_count": null,
            "_view_module": "@jupyter-widgets/controls",
            "_view_module_version": "1.5.0",
            "_view_name": "LabelView",
            "description": "",
            "description_tooltip": null,
            "layout": "IPY_MODEL_f2531add10084e9ca3773718c10bc8cc",
            "placeholder": "​",
            "style": "IPY_MODEL_1da6951057ca4fa6ab701c6934172267",
            "value": "0.009 MB of 0.009 MB uploaded (0.000 MB deduped)\r"
          }
        },
        "82e016b1b4224a6197c0ea5d10b12319": {
          "model_module": "@jupyter-widgets/controls",
          "model_name": "FloatProgressModel",
          "model_module_version": "1.5.0",
          "state": {
            "_dom_classes": [],
            "_model_module": "@jupyter-widgets/controls",
            "_model_module_version": "1.5.0",
            "_model_name": "FloatProgressModel",
            "_view_count": null,
            "_view_module": "@jupyter-widgets/controls",
            "_view_module_version": "1.5.0",
            "_view_name": "ProgressView",
            "bar_style": "",
            "description": "",
            "description_tooltip": null,
            "layout": "IPY_MODEL_fa94f367996240b3ad9eb31a620d607c",
            "max": 1,
            "min": 0,
            "orientation": "horizontal",
            "style": "IPY_MODEL_144ac685622f4854baf4976c58bba8b6",
            "value": 1
          }
        },
        "18e97a4aacd84281872d8c825dd8d094": {
          "model_module": "@jupyter-widgets/base",
          "model_name": "LayoutModel",
          "model_module_version": "1.2.0",
          "state": {
            "_model_module": "@jupyter-widgets/base",
            "_model_module_version": "1.2.0",
            "_model_name": "LayoutModel",
            "_view_count": null,
            "_view_module": "@jupyter-widgets/base",
            "_view_module_version": "1.2.0",
            "_view_name": "LayoutView",
            "align_content": null,
            "align_items": null,
            "align_self": null,
            "border": null,
            "bottom": null,
            "display": null,
            "flex": null,
            "flex_flow": null,
            "grid_area": null,
            "grid_auto_columns": null,
            "grid_auto_flow": null,
            "grid_auto_rows": null,
            "grid_column": null,
            "grid_gap": null,
            "grid_row": null,
            "grid_template_areas": null,
            "grid_template_columns": null,
            "grid_template_rows": null,
            "height": null,
            "justify_content": null,
            "justify_items": null,
            "left": null,
            "margin": null,
            "max_height": null,
            "max_width": null,
            "min_height": null,
            "min_width": null,
            "object_fit": null,
            "object_position": null,
            "order": null,
            "overflow": null,
            "overflow_x": null,
            "overflow_y": null,
            "padding": null,
            "right": null,
            "top": null,
            "visibility": null,
            "width": null
          }
        },
        "f2531add10084e9ca3773718c10bc8cc": {
          "model_module": "@jupyter-widgets/base",
          "model_name": "LayoutModel",
          "model_module_version": "1.2.0",
          "state": {
            "_model_module": "@jupyter-widgets/base",
            "_model_module_version": "1.2.0",
            "_model_name": "LayoutModel",
            "_view_count": null,
            "_view_module": "@jupyter-widgets/base",
            "_view_module_version": "1.2.0",
            "_view_name": "LayoutView",
            "align_content": null,
            "align_items": null,
            "align_self": null,
            "border": null,
            "bottom": null,
            "display": null,
            "flex": null,
            "flex_flow": null,
            "grid_area": null,
            "grid_auto_columns": null,
            "grid_auto_flow": null,
            "grid_auto_rows": null,
            "grid_column": null,
            "grid_gap": null,
            "grid_row": null,
            "grid_template_areas": null,
            "grid_template_columns": null,
            "grid_template_rows": null,
            "height": null,
            "justify_content": null,
            "justify_items": null,
            "left": null,
            "margin": null,
            "max_height": null,
            "max_width": null,
            "min_height": null,
            "min_width": null,
            "object_fit": null,
            "object_position": null,
            "order": null,
            "overflow": null,
            "overflow_x": null,
            "overflow_y": null,
            "padding": null,
            "right": null,
            "top": null,
            "visibility": null,
            "width": null
          }
        },
        "1da6951057ca4fa6ab701c6934172267": {
          "model_module": "@jupyter-widgets/controls",
          "model_name": "DescriptionStyleModel",
          "model_module_version": "1.5.0",
          "state": {
            "_model_module": "@jupyter-widgets/controls",
            "_model_module_version": "1.5.0",
            "_model_name": "DescriptionStyleModel",
            "_view_count": null,
            "_view_module": "@jupyter-widgets/base",
            "_view_module_version": "1.2.0",
            "_view_name": "StyleView",
            "description_width": ""
          }
        },
        "fa94f367996240b3ad9eb31a620d607c": {
          "model_module": "@jupyter-widgets/base",
          "model_name": "LayoutModel",
          "model_module_version": "1.2.0",
          "state": {
            "_model_module": "@jupyter-widgets/base",
            "_model_module_version": "1.2.0",
            "_model_name": "LayoutModel",
            "_view_count": null,
            "_view_module": "@jupyter-widgets/base",
            "_view_module_version": "1.2.0",
            "_view_name": "LayoutView",
            "align_content": null,
            "align_items": null,
            "align_self": null,
            "border": null,
            "bottom": null,
            "display": null,
            "flex": null,
            "flex_flow": null,
            "grid_area": null,
            "grid_auto_columns": null,
            "grid_auto_flow": null,
            "grid_auto_rows": null,
            "grid_column": null,
            "grid_gap": null,
            "grid_row": null,
            "grid_template_areas": null,
            "grid_template_columns": null,
            "grid_template_rows": null,
            "height": null,
            "justify_content": null,
            "justify_items": null,
            "left": null,
            "margin": null,
            "max_height": null,
            "max_width": null,
            "min_height": null,
            "min_width": null,
            "object_fit": null,
            "object_position": null,
            "order": null,
            "overflow": null,
            "overflow_x": null,
            "overflow_y": null,
            "padding": null,
            "right": null,
            "top": null,
            "visibility": null,
            "width": null
          }
        },
        "144ac685622f4854baf4976c58bba8b6": {
          "model_module": "@jupyter-widgets/controls",
          "model_name": "ProgressStyleModel",
          "model_module_version": "1.5.0",
          "state": {
            "_model_module": "@jupyter-widgets/controls",
            "_model_module_version": "1.5.0",
            "_model_name": "ProgressStyleModel",
            "_view_count": null,
            "_view_module": "@jupyter-widgets/base",
            "_view_module_version": "1.2.0",
            "_view_name": "StyleView",
            "bar_color": null,
            "description_width": ""
          }
        },
        "7899cfd2e5e74866bc69c084ffba0ab5": {
          "model_module": "@jupyter-widgets/controls",
          "model_name": "VBoxModel",
          "model_module_version": "1.5.0",
          "state": {
            "_dom_classes": [],
            "_model_module": "@jupyter-widgets/controls",
            "_model_module_version": "1.5.0",
            "_model_name": "VBoxModel",
            "_view_count": null,
            "_view_module": "@jupyter-widgets/controls",
            "_view_module_version": "1.5.0",
            "_view_name": "VBoxView",
            "box_style": "",
            "children": [
              "IPY_MODEL_29444c99b77443799d5a324a39dabf0c",
              "IPY_MODEL_6ef338d28d9d4e33b485e69a0d37f188"
            ],
            "layout": "IPY_MODEL_f315e0e578d7493f8e0d46babb7c26d9"
          }
        },
        "29444c99b77443799d5a324a39dabf0c": {
          "model_module": "@jupyter-widgets/controls",
          "model_name": "LabelModel",
          "model_module_version": "1.5.0",
          "state": {
            "_dom_classes": [],
            "_model_module": "@jupyter-widgets/controls",
            "_model_module_version": "1.5.0",
            "_model_name": "LabelModel",
            "_view_count": null,
            "_view_module": "@jupyter-widgets/controls",
            "_view_module_version": "1.5.0",
            "_view_name": "LabelView",
            "description": "",
            "description_tooltip": null,
            "layout": "IPY_MODEL_bbcf897e424d43b185d8b7eed2c2b511",
            "placeholder": "​",
            "style": "IPY_MODEL_bb3242bc8a974badaf7f13b1c79c2a7b",
            "value": "0.009 MB of 0.009 MB uploaded (0.000 MB deduped)\r"
          }
        },
        "6ef338d28d9d4e33b485e69a0d37f188": {
          "model_module": "@jupyter-widgets/controls",
          "model_name": "FloatProgressModel",
          "model_module_version": "1.5.0",
          "state": {
            "_dom_classes": [],
            "_model_module": "@jupyter-widgets/controls",
            "_model_module_version": "1.5.0",
            "_model_name": "FloatProgressModel",
            "_view_count": null,
            "_view_module": "@jupyter-widgets/controls",
            "_view_module_version": "1.5.0",
            "_view_name": "ProgressView",
            "bar_style": "",
            "description": "",
            "description_tooltip": null,
            "layout": "IPY_MODEL_b9b3b9ca47a54b439e30f4f006d12501",
            "max": 1,
            "min": 0,
            "orientation": "horizontal",
            "style": "IPY_MODEL_d66156886a8742cfafdf05bea23cdaf7",
            "value": 1
          }
        },
        "f315e0e578d7493f8e0d46babb7c26d9": {
          "model_module": "@jupyter-widgets/base",
          "model_name": "LayoutModel",
          "model_module_version": "1.2.0",
          "state": {
            "_model_module": "@jupyter-widgets/base",
            "_model_module_version": "1.2.0",
            "_model_name": "LayoutModel",
            "_view_count": null,
            "_view_module": "@jupyter-widgets/base",
            "_view_module_version": "1.2.0",
            "_view_name": "LayoutView",
            "align_content": null,
            "align_items": null,
            "align_self": null,
            "border": null,
            "bottom": null,
            "display": null,
            "flex": null,
            "flex_flow": null,
            "grid_area": null,
            "grid_auto_columns": null,
            "grid_auto_flow": null,
            "grid_auto_rows": null,
            "grid_column": null,
            "grid_gap": null,
            "grid_row": null,
            "grid_template_areas": null,
            "grid_template_columns": null,
            "grid_template_rows": null,
            "height": null,
            "justify_content": null,
            "justify_items": null,
            "left": null,
            "margin": null,
            "max_height": null,
            "max_width": null,
            "min_height": null,
            "min_width": null,
            "object_fit": null,
            "object_position": null,
            "order": null,
            "overflow": null,
            "overflow_x": null,
            "overflow_y": null,
            "padding": null,
            "right": null,
            "top": null,
            "visibility": null,
            "width": null
          }
        },
        "bbcf897e424d43b185d8b7eed2c2b511": {
          "model_module": "@jupyter-widgets/base",
          "model_name": "LayoutModel",
          "model_module_version": "1.2.0",
          "state": {
            "_model_module": "@jupyter-widgets/base",
            "_model_module_version": "1.2.0",
            "_model_name": "LayoutModel",
            "_view_count": null,
            "_view_module": "@jupyter-widgets/base",
            "_view_module_version": "1.2.0",
            "_view_name": "LayoutView",
            "align_content": null,
            "align_items": null,
            "align_self": null,
            "border": null,
            "bottom": null,
            "display": null,
            "flex": null,
            "flex_flow": null,
            "grid_area": null,
            "grid_auto_columns": null,
            "grid_auto_flow": null,
            "grid_auto_rows": null,
            "grid_column": null,
            "grid_gap": null,
            "grid_row": null,
            "grid_template_areas": null,
            "grid_template_columns": null,
            "grid_template_rows": null,
            "height": null,
            "justify_content": null,
            "justify_items": null,
            "left": null,
            "margin": null,
            "max_height": null,
            "max_width": null,
            "min_height": null,
            "min_width": null,
            "object_fit": null,
            "object_position": null,
            "order": null,
            "overflow": null,
            "overflow_x": null,
            "overflow_y": null,
            "padding": null,
            "right": null,
            "top": null,
            "visibility": null,
            "width": null
          }
        },
        "bb3242bc8a974badaf7f13b1c79c2a7b": {
          "model_module": "@jupyter-widgets/controls",
          "model_name": "DescriptionStyleModel",
          "model_module_version": "1.5.0",
          "state": {
            "_model_module": "@jupyter-widgets/controls",
            "_model_module_version": "1.5.0",
            "_model_name": "DescriptionStyleModel",
            "_view_count": null,
            "_view_module": "@jupyter-widgets/base",
            "_view_module_version": "1.2.0",
            "_view_name": "StyleView",
            "description_width": ""
          }
        },
        "b9b3b9ca47a54b439e30f4f006d12501": {
          "model_module": "@jupyter-widgets/base",
          "model_name": "LayoutModel",
          "model_module_version": "1.2.0",
          "state": {
            "_model_module": "@jupyter-widgets/base",
            "_model_module_version": "1.2.0",
            "_model_name": "LayoutModel",
            "_view_count": null,
            "_view_module": "@jupyter-widgets/base",
            "_view_module_version": "1.2.0",
            "_view_name": "LayoutView",
            "align_content": null,
            "align_items": null,
            "align_self": null,
            "border": null,
            "bottom": null,
            "display": null,
            "flex": null,
            "flex_flow": null,
            "grid_area": null,
            "grid_auto_columns": null,
            "grid_auto_flow": null,
            "grid_auto_rows": null,
            "grid_column": null,
            "grid_gap": null,
            "grid_row": null,
            "grid_template_areas": null,
            "grid_template_columns": null,
            "grid_template_rows": null,
            "height": null,
            "justify_content": null,
            "justify_items": null,
            "left": null,
            "margin": null,
            "max_height": null,
            "max_width": null,
            "min_height": null,
            "min_width": null,
            "object_fit": null,
            "object_position": null,
            "order": null,
            "overflow": null,
            "overflow_x": null,
            "overflow_y": null,
            "padding": null,
            "right": null,
            "top": null,
            "visibility": null,
            "width": null
          }
        },
        "d66156886a8742cfafdf05bea23cdaf7": {
          "model_module": "@jupyter-widgets/controls",
          "model_name": "ProgressStyleModel",
          "model_module_version": "1.5.0",
          "state": {
            "_model_module": "@jupyter-widgets/controls",
            "_model_module_version": "1.5.0",
            "_model_name": "ProgressStyleModel",
            "_view_count": null,
            "_view_module": "@jupyter-widgets/base",
            "_view_module_version": "1.2.0",
            "_view_name": "StyleView",
            "bar_color": null,
            "description_width": ""
          }
        },
        "3f00fa08f8114bf8bde9d9f7922fb7fc": {
          "model_module": "@jupyter-widgets/controls",
          "model_name": "VBoxModel",
          "model_module_version": "1.5.0",
          "state": {
            "_dom_classes": [],
            "_model_module": "@jupyter-widgets/controls",
            "_model_module_version": "1.5.0",
            "_model_name": "VBoxModel",
            "_view_count": null,
            "_view_module": "@jupyter-widgets/controls",
            "_view_module_version": "1.5.0",
            "_view_name": "VBoxView",
            "box_style": "",
            "children": [
              "IPY_MODEL_40d5cbb73f9f48a4856538f07931d53f",
              "IPY_MODEL_1b4bf20844e44641b5ece8ea4fc588cb"
            ],
            "layout": "IPY_MODEL_2ad5a11941dc4c6d8f5be18add762fd5"
          }
        },
        "40d5cbb73f9f48a4856538f07931d53f": {
          "model_module": "@jupyter-widgets/controls",
          "model_name": "LabelModel",
          "model_module_version": "1.5.0",
          "state": {
            "_dom_classes": [],
            "_model_module": "@jupyter-widgets/controls",
            "_model_module_version": "1.5.0",
            "_model_name": "LabelModel",
            "_view_count": null,
            "_view_module": "@jupyter-widgets/controls",
            "_view_module_version": "1.5.0",
            "_view_name": "LabelView",
            "description": "",
            "description_tooltip": null,
            "layout": "IPY_MODEL_74f7507031444e0696ec55d6d6731182",
            "placeholder": "​",
            "style": "IPY_MODEL_1cd440d0e1ff4f6aa5ba912d66659e39",
            "value": "0.009 MB of 0.009 MB uploaded (0.000 MB deduped)\r"
          }
        },
        "1b4bf20844e44641b5ece8ea4fc588cb": {
          "model_module": "@jupyter-widgets/controls",
          "model_name": "FloatProgressModel",
          "model_module_version": "1.5.0",
          "state": {
            "_dom_classes": [],
            "_model_module": "@jupyter-widgets/controls",
            "_model_module_version": "1.5.0",
            "_model_name": "FloatProgressModel",
            "_view_count": null,
            "_view_module": "@jupyter-widgets/controls",
            "_view_module_version": "1.5.0",
            "_view_name": "ProgressView",
            "bar_style": "",
            "description": "",
            "description_tooltip": null,
            "layout": "IPY_MODEL_b0fd78dddf9d4541bc6d470cdb6f82bf",
            "max": 1,
            "min": 0,
            "orientation": "horizontal",
            "style": "IPY_MODEL_c0ef50e5557f4aa4aeab4ae9acfcc9b6",
            "value": 1
          }
        },
        "2ad5a11941dc4c6d8f5be18add762fd5": {
          "model_module": "@jupyter-widgets/base",
          "model_name": "LayoutModel",
          "model_module_version": "1.2.0",
          "state": {
            "_model_module": "@jupyter-widgets/base",
            "_model_module_version": "1.2.0",
            "_model_name": "LayoutModel",
            "_view_count": null,
            "_view_module": "@jupyter-widgets/base",
            "_view_module_version": "1.2.0",
            "_view_name": "LayoutView",
            "align_content": null,
            "align_items": null,
            "align_self": null,
            "border": null,
            "bottom": null,
            "display": null,
            "flex": null,
            "flex_flow": null,
            "grid_area": null,
            "grid_auto_columns": null,
            "grid_auto_flow": null,
            "grid_auto_rows": null,
            "grid_column": null,
            "grid_gap": null,
            "grid_row": null,
            "grid_template_areas": null,
            "grid_template_columns": null,
            "grid_template_rows": null,
            "height": null,
            "justify_content": null,
            "justify_items": null,
            "left": null,
            "margin": null,
            "max_height": null,
            "max_width": null,
            "min_height": null,
            "min_width": null,
            "object_fit": null,
            "object_position": null,
            "order": null,
            "overflow": null,
            "overflow_x": null,
            "overflow_y": null,
            "padding": null,
            "right": null,
            "top": null,
            "visibility": null,
            "width": null
          }
        },
        "74f7507031444e0696ec55d6d6731182": {
          "model_module": "@jupyter-widgets/base",
          "model_name": "LayoutModel",
          "model_module_version": "1.2.0",
          "state": {
            "_model_module": "@jupyter-widgets/base",
            "_model_module_version": "1.2.0",
            "_model_name": "LayoutModel",
            "_view_count": null,
            "_view_module": "@jupyter-widgets/base",
            "_view_module_version": "1.2.0",
            "_view_name": "LayoutView",
            "align_content": null,
            "align_items": null,
            "align_self": null,
            "border": null,
            "bottom": null,
            "display": null,
            "flex": null,
            "flex_flow": null,
            "grid_area": null,
            "grid_auto_columns": null,
            "grid_auto_flow": null,
            "grid_auto_rows": null,
            "grid_column": null,
            "grid_gap": null,
            "grid_row": null,
            "grid_template_areas": null,
            "grid_template_columns": null,
            "grid_template_rows": null,
            "height": null,
            "justify_content": null,
            "justify_items": null,
            "left": null,
            "margin": null,
            "max_height": null,
            "max_width": null,
            "min_height": null,
            "min_width": null,
            "object_fit": null,
            "object_position": null,
            "order": null,
            "overflow": null,
            "overflow_x": null,
            "overflow_y": null,
            "padding": null,
            "right": null,
            "top": null,
            "visibility": null,
            "width": null
          }
        },
        "1cd440d0e1ff4f6aa5ba912d66659e39": {
          "model_module": "@jupyter-widgets/controls",
          "model_name": "DescriptionStyleModel",
          "model_module_version": "1.5.0",
          "state": {
            "_model_module": "@jupyter-widgets/controls",
            "_model_module_version": "1.5.0",
            "_model_name": "DescriptionStyleModel",
            "_view_count": null,
            "_view_module": "@jupyter-widgets/base",
            "_view_module_version": "1.2.0",
            "_view_name": "StyleView",
            "description_width": ""
          }
        },
        "b0fd78dddf9d4541bc6d470cdb6f82bf": {
          "model_module": "@jupyter-widgets/base",
          "model_name": "LayoutModel",
          "model_module_version": "1.2.0",
          "state": {
            "_model_module": "@jupyter-widgets/base",
            "_model_module_version": "1.2.0",
            "_model_name": "LayoutModel",
            "_view_count": null,
            "_view_module": "@jupyter-widgets/base",
            "_view_module_version": "1.2.0",
            "_view_name": "LayoutView",
            "align_content": null,
            "align_items": null,
            "align_self": null,
            "border": null,
            "bottom": null,
            "display": null,
            "flex": null,
            "flex_flow": null,
            "grid_area": null,
            "grid_auto_columns": null,
            "grid_auto_flow": null,
            "grid_auto_rows": null,
            "grid_column": null,
            "grid_gap": null,
            "grid_row": null,
            "grid_template_areas": null,
            "grid_template_columns": null,
            "grid_template_rows": null,
            "height": null,
            "justify_content": null,
            "justify_items": null,
            "left": null,
            "margin": null,
            "max_height": null,
            "max_width": null,
            "min_height": null,
            "min_width": null,
            "object_fit": null,
            "object_position": null,
            "order": null,
            "overflow": null,
            "overflow_x": null,
            "overflow_y": null,
            "padding": null,
            "right": null,
            "top": null,
            "visibility": null,
            "width": null
          }
        },
        "c0ef50e5557f4aa4aeab4ae9acfcc9b6": {
          "model_module": "@jupyter-widgets/controls",
          "model_name": "ProgressStyleModel",
          "model_module_version": "1.5.0",
          "state": {
            "_model_module": "@jupyter-widgets/controls",
            "_model_module_version": "1.5.0",
            "_model_name": "ProgressStyleModel",
            "_view_count": null,
            "_view_module": "@jupyter-widgets/base",
            "_view_module_version": "1.2.0",
            "_view_name": "StyleView",
            "bar_color": null,
            "description_width": ""
          }
        },
        "97e80e4afead4af8bbc5e1c1f89a441e": {
          "model_module": "@jupyter-widgets/controls",
          "model_name": "VBoxModel",
          "model_module_version": "1.5.0",
          "state": {
            "_dom_classes": [],
            "_model_module": "@jupyter-widgets/controls",
            "_model_module_version": "1.5.0",
            "_model_name": "VBoxModel",
            "_view_count": null,
            "_view_module": "@jupyter-widgets/controls",
            "_view_module_version": "1.5.0",
            "_view_name": "VBoxView",
            "box_style": "",
            "children": [
              "IPY_MODEL_ef36c53a968b4d63930c9bf9fd99609d",
              "IPY_MODEL_1f1d33152a74422996993f05fcdd400b"
            ],
            "layout": "IPY_MODEL_da5b5d59d8824b23945bfa7945a328e8"
          }
        },
        "ef36c53a968b4d63930c9bf9fd99609d": {
          "model_module": "@jupyter-widgets/controls",
          "model_name": "LabelModel",
          "model_module_version": "1.5.0",
          "state": {
            "_dom_classes": [],
            "_model_module": "@jupyter-widgets/controls",
            "_model_module_version": "1.5.0",
            "_model_name": "LabelModel",
            "_view_count": null,
            "_view_module": "@jupyter-widgets/controls",
            "_view_module_version": "1.5.0",
            "_view_name": "LabelView",
            "description": "",
            "description_tooltip": null,
            "layout": "IPY_MODEL_859659e5e1dd4f59b93fa091009cce07",
            "placeholder": "​",
            "style": "IPY_MODEL_321681da64b14c00859e1b4151cacb02",
            "value": "0.009 MB of 0.009 MB uploaded (0.000 MB deduped)\r"
          }
        },
        "1f1d33152a74422996993f05fcdd400b": {
          "model_module": "@jupyter-widgets/controls",
          "model_name": "FloatProgressModel",
          "model_module_version": "1.5.0",
          "state": {
            "_dom_classes": [],
            "_model_module": "@jupyter-widgets/controls",
            "_model_module_version": "1.5.0",
            "_model_name": "FloatProgressModel",
            "_view_count": null,
            "_view_module": "@jupyter-widgets/controls",
            "_view_module_version": "1.5.0",
            "_view_name": "ProgressView",
            "bar_style": "",
            "description": "",
            "description_tooltip": null,
            "layout": "IPY_MODEL_f44f11b9e5ae48ed849a8af53e8936a5",
            "max": 1,
            "min": 0,
            "orientation": "horizontal",
            "style": "IPY_MODEL_7bdee1a4504845b69367a6e9686537c2",
            "value": 1
          }
        },
        "da5b5d59d8824b23945bfa7945a328e8": {
          "model_module": "@jupyter-widgets/base",
          "model_name": "LayoutModel",
          "model_module_version": "1.2.0",
          "state": {
            "_model_module": "@jupyter-widgets/base",
            "_model_module_version": "1.2.0",
            "_model_name": "LayoutModel",
            "_view_count": null,
            "_view_module": "@jupyter-widgets/base",
            "_view_module_version": "1.2.0",
            "_view_name": "LayoutView",
            "align_content": null,
            "align_items": null,
            "align_self": null,
            "border": null,
            "bottom": null,
            "display": null,
            "flex": null,
            "flex_flow": null,
            "grid_area": null,
            "grid_auto_columns": null,
            "grid_auto_flow": null,
            "grid_auto_rows": null,
            "grid_column": null,
            "grid_gap": null,
            "grid_row": null,
            "grid_template_areas": null,
            "grid_template_columns": null,
            "grid_template_rows": null,
            "height": null,
            "justify_content": null,
            "justify_items": null,
            "left": null,
            "margin": null,
            "max_height": null,
            "max_width": null,
            "min_height": null,
            "min_width": null,
            "object_fit": null,
            "object_position": null,
            "order": null,
            "overflow": null,
            "overflow_x": null,
            "overflow_y": null,
            "padding": null,
            "right": null,
            "top": null,
            "visibility": null,
            "width": null
          }
        },
        "859659e5e1dd4f59b93fa091009cce07": {
          "model_module": "@jupyter-widgets/base",
          "model_name": "LayoutModel",
          "model_module_version": "1.2.0",
          "state": {
            "_model_module": "@jupyter-widgets/base",
            "_model_module_version": "1.2.0",
            "_model_name": "LayoutModel",
            "_view_count": null,
            "_view_module": "@jupyter-widgets/base",
            "_view_module_version": "1.2.0",
            "_view_name": "LayoutView",
            "align_content": null,
            "align_items": null,
            "align_self": null,
            "border": null,
            "bottom": null,
            "display": null,
            "flex": null,
            "flex_flow": null,
            "grid_area": null,
            "grid_auto_columns": null,
            "grid_auto_flow": null,
            "grid_auto_rows": null,
            "grid_column": null,
            "grid_gap": null,
            "grid_row": null,
            "grid_template_areas": null,
            "grid_template_columns": null,
            "grid_template_rows": null,
            "height": null,
            "justify_content": null,
            "justify_items": null,
            "left": null,
            "margin": null,
            "max_height": null,
            "max_width": null,
            "min_height": null,
            "min_width": null,
            "object_fit": null,
            "object_position": null,
            "order": null,
            "overflow": null,
            "overflow_x": null,
            "overflow_y": null,
            "padding": null,
            "right": null,
            "top": null,
            "visibility": null,
            "width": null
          }
        },
        "321681da64b14c00859e1b4151cacb02": {
          "model_module": "@jupyter-widgets/controls",
          "model_name": "DescriptionStyleModel",
          "model_module_version": "1.5.0",
          "state": {
            "_model_module": "@jupyter-widgets/controls",
            "_model_module_version": "1.5.0",
            "_model_name": "DescriptionStyleModel",
            "_view_count": null,
            "_view_module": "@jupyter-widgets/base",
            "_view_module_version": "1.2.0",
            "_view_name": "StyleView",
            "description_width": ""
          }
        },
        "f44f11b9e5ae48ed849a8af53e8936a5": {
          "model_module": "@jupyter-widgets/base",
          "model_name": "LayoutModel",
          "model_module_version": "1.2.0",
          "state": {
            "_model_module": "@jupyter-widgets/base",
            "_model_module_version": "1.2.0",
            "_model_name": "LayoutModel",
            "_view_count": null,
            "_view_module": "@jupyter-widgets/base",
            "_view_module_version": "1.2.0",
            "_view_name": "LayoutView",
            "align_content": null,
            "align_items": null,
            "align_self": null,
            "border": null,
            "bottom": null,
            "display": null,
            "flex": null,
            "flex_flow": null,
            "grid_area": null,
            "grid_auto_columns": null,
            "grid_auto_flow": null,
            "grid_auto_rows": null,
            "grid_column": null,
            "grid_gap": null,
            "grid_row": null,
            "grid_template_areas": null,
            "grid_template_columns": null,
            "grid_template_rows": null,
            "height": null,
            "justify_content": null,
            "justify_items": null,
            "left": null,
            "margin": null,
            "max_height": null,
            "max_width": null,
            "min_height": null,
            "min_width": null,
            "object_fit": null,
            "object_position": null,
            "order": null,
            "overflow": null,
            "overflow_x": null,
            "overflow_y": null,
            "padding": null,
            "right": null,
            "top": null,
            "visibility": null,
            "width": null
          }
        },
        "7bdee1a4504845b69367a6e9686537c2": {
          "model_module": "@jupyter-widgets/controls",
          "model_name": "ProgressStyleModel",
          "model_module_version": "1.5.0",
          "state": {
            "_model_module": "@jupyter-widgets/controls",
            "_model_module_version": "1.5.0",
            "_model_name": "ProgressStyleModel",
            "_view_count": null,
            "_view_module": "@jupyter-widgets/base",
            "_view_module_version": "1.2.0",
            "_view_name": "StyleView",
            "bar_color": null,
            "description_width": ""
          }
        },
        "1c48d7c4c46245028baf384af1140ef5": {
          "model_module": "@jupyter-widgets/controls",
          "model_name": "VBoxModel",
          "model_module_version": "1.5.0",
          "state": {
            "_dom_classes": [],
            "_model_module": "@jupyter-widgets/controls",
            "_model_module_version": "1.5.0",
            "_model_name": "VBoxModel",
            "_view_count": null,
            "_view_module": "@jupyter-widgets/controls",
            "_view_module_version": "1.5.0",
            "_view_name": "VBoxView",
            "box_style": "",
            "children": [
              "IPY_MODEL_7e9034bb927c4a05ad32b657808e5268",
              "IPY_MODEL_91d86b3005cc487fbe445b18c2cb94a6"
            ],
            "layout": "IPY_MODEL_165f9125c4624ba190c1e733c9c52830"
          }
        },
        "7e9034bb927c4a05ad32b657808e5268": {
          "model_module": "@jupyter-widgets/controls",
          "model_name": "LabelModel",
          "model_module_version": "1.5.0",
          "state": {
            "_dom_classes": [],
            "_model_module": "@jupyter-widgets/controls",
            "_model_module_version": "1.5.0",
            "_model_name": "LabelModel",
            "_view_count": null,
            "_view_module": "@jupyter-widgets/controls",
            "_view_module_version": "1.5.0",
            "_view_name": "LabelView",
            "description": "",
            "description_tooltip": null,
            "layout": "IPY_MODEL_843f3d1649df438a841c2e6e8b5106ff",
            "placeholder": "​",
            "style": "IPY_MODEL_f9411e8d19a546df8da92b47a4517222",
            "value": "0.009 MB of 0.009 MB uploaded (0.000 MB deduped)\r"
          }
        },
        "91d86b3005cc487fbe445b18c2cb94a6": {
          "model_module": "@jupyter-widgets/controls",
          "model_name": "FloatProgressModel",
          "model_module_version": "1.5.0",
          "state": {
            "_dom_classes": [],
            "_model_module": "@jupyter-widgets/controls",
            "_model_module_version": "1.5.0",
            "_model_name": "FloatProgressModel",
            "_view_count": null,
            "_view_module": "@jupyter-widgets/controls",
            "_view_module_version": "1.5.0",
            "_view_name": "ProgressView",
            "bar_style": "",
            "description": "",
            "description_tooltip": null,
            "layout": "IPY_MODEL_72bc3b2f654c48da93b52d97b147bb30",
            "max": 1,
            "min": 0,
            "orientation": "horizontal",
            "style": "IPY_MODEL_3c62d04b70f049e4bfba83a8e3e322a9",
            "value": 1
          }
        },
        "165f9125c4624ba190c1e733c9c52830": {
          "model_module": "@jupyter-widgets/base",
          "model_name": "LayoutModel",
          "model_module_version": "1.2.0",
          "state": {
            "_model_module": "@jupyter-widgets/base",
            "_model_module_version": "1.2.0",
            "_model_name": "LayoutModel",
            "_view_count": null,
            "_view_module": "@jupyter-widgets/base",
            "_view_module_version": "1.2.0",
            "_view_name": "LayoutView",
            "align_content": null,
            "align_items": null,
            "align_self": null,
            "border": null,
            "bottom": null,
            "display": null,
            "flex": null,
            "flex_flow": null,
            "grid_area": null,
            "grid_auto_columns": null,
            "grid_auto_flow": null,
            "grid_auto_rows": null,
            "grid_column": null,
            "grid_gap": null,
            "grid_row": null,
            "grid_template_areas": null,
            "grid_template_columns": null,
            "grid_template_rows": null,
            "height": null,
            "justify_content": null,
            "justify_items": null,
            "left": null,
            "margin": null,
            "max_height": null,
            "max_width": null,
            "min_height": null,
            "min_width": null,
            "object_fit": null,
            "object_position": null,
            "order": null,
            "overflow": null,
            "overflow_x": null,
            "overflow_y": null,
            "padding": null,
            "right": null,
            "top": null,
            "visibility": null,
            "width": null
          }
        },
        "843f3d1649df438a841c2e6e8b5106ff": {
          "model_module": "@jupyter-widgets/base",
          "model_name": "LayoutModel",
          "model_module_version": "1.2.0",
          "state": {
            "_model_module": "@jupyter-widgets/base",
            "_model_module_version": "1.2.0",
            "_model_name": "LayoutModel",
            "_view_count": null,
            "_view_module": "@jupyter-widgets/base",
            "_view_module_version": "1.2.0",
            "_view_name": "LayoutView",
            "align_content": null,
            "align_items": null,
            "align_self": null,
            "border": null,
            "bottom": null,
            "display": null,
            "flex": null,
            "flex_flow": null,
            "grid_area": null,
            "grid_auto_columns": null,
            "grid_auto_flow": null,
            "grid_auto_rows": null,
            "grid_column": null,
            "grid_gap": null,
            "grid_row": null,
            "grid_template_areas": null,
            "grid_template_columns": null,
            "grid_template_rows": null,
            "height": null,
            "justify_content": null,
            "justify_items": null,
            "left": null,
            "margin": null,
            "max_height": null,
            "max_width": null,
            "min_height": null,
            "min_width": null,
            "object_fit": null,
            "object_position": null,
            "order": null,
            "overflow": null,
            "overflow_x": null,
            "overflow_y": null,
            "padding": null,
            "right": null,
            "top": null,
            "visibility": null,
            "width": null
          }
        },
        "f9411e8d19a546df8da92b47a4517222": {
          "model_module": "@jupyter-widgets/controls",
          "model_name": "DescriptionStyleModel",
          "model_module_version": "1.5.0",
          "state": {
            "_model_module": "@jupyter-widgets/controls",
            "_model_module_version": "1.5.0",
            "_model_name": "DescriptionStyleModel",
            "_view_count": null,
            "_view_module": "@jupyter-widgets/base",
            "_view_module_version": "1.2.0",
            "_view_name": "StyleView",
            "description_width": ""
          }
        },
        "72bc3b2f654c48da93b52d97b147bb30": {
          "model_module": "@jupyter-widgets/base",
          "model_name": "LayoutModel",
          "model_module_version": "1.2.0",
          "state": {
            "_model_module": "@jupyter-widgets/base",
            "_model_module_version": "1.2.0",
            "_model_name": "LayoutModel",
            "_view_count": null,
            "_view_module": "@jupyter-widgets/base",
            "_view_module_version": "1.2.0",
            "_view_name": "LayoutView",
            "align_content": null,
            "align_items": null,
            "align_self": null,
            "border": null,
            "bottom": null,
            "display": null,
            "flex": null,
            "flex_flow": null,
            "grid_area": null,
            "grid_auto_columns": null,
            "grid_auto_flow": null,
            "grid_auto_rows": null,
            "grid_column": null,
            "grid_gap": null,
            "grid_row": null,
            "grid_template_areas": null,
            "grid_template_columns": null,
            "grid_template_rows": null,
            "height": null,
            "justify_content": null,
            "justify_items": null,
            "left": null,
            "margin": null,
            "max_height": null,
            "max_width": null,
            "min_height": null,
            "min_width": null,
            "object_fit": null,
            "object_position": null,
            "order": null,
            "overflow": null,
            "overflow_x": null,
            "overflow_y": null,
            "padding": null,
            "right": null,
            "top": null,
            "visibility": null,
            "width": null
          }
        },
        "3c62d04b70f049e4bfba83a8e3e322a9": {
          "model_module": "@jupyter-widgets/controls",
          "model_name": "ProgressStyleModel",
          "model_module_version": "1.5.0",
          "state": {
            "_model_module": "@jupyter-widgets/controls",
            "_model_module_version": "1.5.0",
            "_model_name": "ProgressStyleModel",
            "_view_count": null,
            "_view_module": "@jupyter-widgets/base",
            "_view_module_version": "1.2.0",
            "_view_name": "StyleView",
            "bar_color": null,
            "description_width": ""
          }
        },
        "adcf7e545c4f4ecab8948e123a7cadb7": {
          "model_module": "@jupyter-widgets/controls",
          "model_name": "VBoxModel",
          "model_module_version": "1.5.0",
          "state": {
            "_dom_classes": [],
            "_model_module": "@jupyter-widgets/controls",
            "_model_module_version": "1.5.0",
            "_model_name": "VBoxModel",
            "_view_count": null,
            "_view_module": "@jupyter-widgets/controls",
            "_view_module_version": "1.5.0",
            "_view_name": "VBoxView",
            "box_style": "",
            "children": [
              "IPY_MODEL_59c063c7486243c5b803da27b59b50a4",
              "IPY_MODEL_090c472e578542b0a13e0d40e0f060f9"
            ],
            "layout": "IPY_MODEL_794dba3facf5455f8635ed342879722d"
          }
        },
        "59c063c7486243c5b803da27b59b50a4": {
          "model_module": "@jupyter-widgets/controls",
          "model_name": "LabelModel",
          "model_module_version": "1.5.0",
          "state": {
            "_dom_classes": [],
            "_model_module": "@jupyter-widgets/controls",
            "_model_module_version": "1.5.0",
            "_model_name": "LabelModel",
            "_view_count": null,
            "_view_module": "@jupyter-widgets/controls",
            "_view_module_version": "1.5.0",
            "_view_name": "LabelView",
            "description": "",
            "description_tooltip": null,
            "layout": "IPY_MODEL_3b13e5a9292347aeb50bddc9b66b523c",
            "placeholder": "​",
            "style": "IPY_MODEL_2efccd1c26444954b79ca173f6bbf0a8",
            "value": "0.009 MB of 0.009 MB uploaded (0.000 MB deduped)\r"
          }
        },
        "090c472e578542b0a13e0d40e0f060f9": {
          "model_module": "@jupyter-widgets/controls",
          "model_name": "FloatProgressModel",
          "model_module_version": "1.5.0",
          "state": {
            "_dom_classes": [],
            "_model_module": "@jupyter-widgets/controls",
            "_model_module_version": "1.5.0",
            "_model_name": "FloatProgressModel",
            "_view_count": null,
            "_view_module": "@jupyter-widgets/controls",
            "_view_module_version": "1.5.0",
            "_view_name": "ProgressView",
            "bar_style": "",
            "description": "",
            "description_tooltip": null,
            "layout": "IPY_MODEL_3531149d5c7744b8abdf83ce4dbaad64",
            "max": 1,
            "min": 0,
            "orientation": "horizontal",
            "style": "IPY_MODEL_955eaadbcec147419a681e54ce8dc3a8",
            "value": 1
          }
        },
        "794dba3facf5455f8635ed342879722d": {
          "model_module": "@jupyter-widgets/base",
          "model_name": "LayoutModel",
          "model_module_version": "1.2.0",
          "state": {
            "_model_module": "@jupyter-widgets/base",
            "_model_module_version": "1.2.0",
            "_model_name": "LayoutModel",
            "_view_count": null,
            "_view_module": "@jupyter-widgets/base",
            "_view_module_version": "1.2.0",
            "_view_name": "LayoutView",
            "align_content": null,
            "align_items": null,
            "align_self": null,
            "border": null,
            "bottom": null,
            "display": null,
            "flex": null,
            "flex_flow": null,
            "grid_area": null,
            "grid_auto_columns": null,
            "grid_auto_flow": null,
            "grid_auto_rows": null,
            "grid_column": null,
            "grid_gap": null,
            "grid_row": null,
            "grid_template_areas": null,
            "grid_template_columns": null,
            "grid_template_rows": null,
            "height": null,
            "justify_content": null,
            "justify_items": null,
            "left": null,
            "margin": null,
            "max_height": null,
            "max_width": null,
            "min_height": null,
            "min_width": null,
            "object_fit": null,
            "object_position": null,
            "order": null,
            "overflow": null,
            "overflow_x": null,
            "overflow_y": null,
            "padding": null,
            "right": null,
            "top": null,
            "visibility": null,
            "width": null
          }
        },
        "3b13e5a9292347aeb50bddc9b66b523c": {
          "model_module": "@jupyter-widgets/base",
          "model_name": "LayoutModel",
          "model_module_version": "1.2.0",
          "state": {
            "_model_module": "@jupyter-widgets/base",
            "_model_module_version": "1.2.0",
            "_model_name": "LayoutModel",
            "_view_count": null,
            "_view_module": "@jupyter-widgets/base",
            "_view_module_version": "1.2.0",
            "_view_name": "LayoutView",
            "align_content": null,
            "align_items": null,
            "align_self": null,
            "border": null,
            "bottom": null,
            "display": null,
            "flex": null,
            "flex_flow": null,
            "grid_area": null,
            "grid_auto_columns": null,
            "grid_auto_flow": null,
            "grid_auto_rows": null,
            "grid_column": null,
            "grid_gap": null,
            "grid_row": null,
            "grid_template_areas": null,
            "grid_template_columns": null,
            "grid_template_rows": null,
            "height": null,
            "justify_content": null,
            "justify_items": null,
            "left": null,
            "margin": null,
            "max_height": null,
            "max_width": null,
            "min_height": null,
            "min_width": null,
            "object_fit": null,
            "object_position": null,
            "order": null,
            "overflow": null,
            "overflow_x": null,
            "overflow_y": null,
            "padding": null,
            "right": null,
            "top": null,
            "visibility": null,
            "width": null
          }
        },
        "2efccd1c26444954b79ca173f6bbf0a8": {
          "model_module": "@jupyter-widgets/controls",
          "model_name": "DescriptionStyleModel",
          "model_module_version": "1.5.0",
          "state": {
            "_model_module": "@jupyter-widgets/controls",
            "_model_module_version": "1.5.0",
            "_model_name": "DescriptionStyleModel",
            "_view_count": null,
            "_view_module": "@jupyter-widgets/base",
            "_view_module_version": "1.2.0",
            "_view_name": "StyleView",
            "description_width": ""
          }
        },
        "3531149d5c7744b8abdf83ce4dbaad64": {
          "model_module": "@jupyter-widgets/base",
          "model_name": "LayoutModel",
          "model_module_version": "1.2.0",
          "state": {
            "_model_module": "@jupyter-widgets/base",
            "_model_module_version": "1.2.0",
            "_model_name": "LayoutModel",
            "_view_count": null,
            "_view_module": "@jupyter-widgets/base",
            "_view_module_version": "1.2.0",
            "_view_name": "LayoutView",
            "align_content": null,
            "align_items": null,
            "align_self": null,
            "border": null,
            "bottom": null,
            "display": null,
            "flex": null,
            "flex_flow": null,
            "grid_area": null,
            "grid_auto_columns": null,
            "grid_auto_flow": null,
            "grid_auto_rows": null,
            "grid_column": null,
            "grid_gap": null,
            "grid_row": null,
            "grid_template_areas": null,
            "grid_template_columns": null,
            "grid_template_rows": null,
            "height": null,
            "justify_content": null,
            "justify_items": null,
            "left": null,
            "margin": null,
            "max_height": null,
            "max_width": null,
            "min_height": null,
            "min_width": null,
            "object_fit": null,
            "object_position": null,
            "order": null,
            "overflow": null,
            "overflow_x": null,
            "overflow_y": null,
            "padding": null,
            "right": null,
            "top": null,
            "visibility": null,
            "width": null
          }
        },
        "955eaadbcec147419a681e54ce8dc3a8": {
          "model_module": "@jupyter-widgets/controls",
          "model_name": "ProgressStyleModel",
          "model_module_version": "1.5.0",
          "state": {
            "_model_module": "@jupyter-widgets/controls",
            "_model_module_version": "1.5.0",
            "_model_name": "ProgressStyleModel",
            "_view_count": null,
            "_view_module": "@jupyter-widgets/base",
            "_view_module_version": "1.2.0",
            "_view_name": "StyleView",
            "bar_color": null,
            "description_width": ""
          }
        },
        "92daa247dff444f9804e115048cbda72": {
          "model_module": "@jupyter-widgets/controls",
          "model_name": "VBoxModel",
          "model_module_version": "1.5.0",
          "state": {
            "_dom_classes": [],
            "_model_module": "@jupyter-widgets/controls",
            "_model_module_version": "1.5.0",
            "_model_name": "VBoxModel",
            "_view_count": null,
            "_view_module": "@jupyter-widgets/controls",
            "_view_module_version": "1.5.0",
            "_view_name": "VBoxView",
            "box_style": "",
            "children": [
              "IPY_MODEL_11b608adabfa4d62b32df09d21a54eb9",
              "IPY_MODEL_6cc3baedd404463b8a3bcc203209e099"
            ],
            "layout": "IPY_MODEL_50cae25d20194c74a1b13d233edaded8"
          }
        },
        "11b608adabfa4d62b32df09d21a54eb9": {
          "model_module": "@jupyter-widgets/controls",
          "model_name": "LabelModel",
          "model_module_version": "1.5.0",
          "state": {
            "_dom_classes": [],
            "_model_module": "@jupyter-widgets/controls",
            "_model_module_version": "1.5.0",
            "_model_name": "LabelModel",
            "_view_count": null,
            "_view_module": "@jupyter-widgets/controls",
            "_view_module_version": "1.5.0",
            "_view_name": "LabelView",
            "description": "",
            "description_tooltip": null,
            "layout": "IPY_MODEL_2ed4bbb9cae349c1a7b2f47b27634d3b",
            "placeholder": "​",
            "style": "IPY_MODEL_f7a9bbfb0a014c6fb1cbc285b3c96564",
            "value": "0.009 MB of 0.009 MB uploaded (0.000 MB deduped)\r"
          }
        },
        "6cc3baedd404463b8a3bcc203209e099": {
          "model_module": "@jupyter-widgets/controls",
          "model_name": "FloatProgressModel",
          "model_module_version": "1.5.0",
          "state": {
            "_dom_classes": [],
            "_model_module": "@jupyter-widgets/controls",
            "_model_module_version": "1.5.0",
            "_model_name": "FloatProgressModel",
            "_view_count": null,
            "_view_module": "@jupyter-widgets/controls",
            "_view_module_version": "1.5.0",
            "_view_name": "ProgressView",
            "bar_style": "",
            "description": "",
            "description_tooltip": null,
            "layout": "IPY_MODEL_8cb61d6eb033414d8bdbc7a8084ed74f",
            "max": 1,
            "min": 0,
            "orientation": "horizontal",
            "style": "IPY_MODEL_7a59ac6851cf4d109918811b3b0cdf34",
            "value": 1
          }
        },
        "50cae25d20194c74a1b13d233edaded8": {
          "model_module": "@jupyter-widgets/base",
          "model_name": "LayoutModel",
          "model_module_version": "1.2.0",
          "state": {
            "_model_module": "@jupyter-widgets/base",
            "_model_module_version": "1.2.0",
            "_model_name": "LayoutModel",
            "_view_count": null,
            "_view_module": "@jupyter-widgets/base",
            "_view_module_version": "1.2.0",
            "_view_name": "LayoutView",
            "align_content": null,
            "align_items": null,
            "align_self": null,
            "border": null,
            "bottom": null,
            "display": null,
            "flex": null,
            "flex_flow": null,
            "grid_area": null,
            "grid_auto_columns": null,
            "grid_auto_flow": null,
            "grid_auto_rows": null,
            "grid_column": null,
            "grid_gap": null,
            "grid_row": null,
            "grid_template_areas": null,
            "grid_template_columns": null,
            "grid_template_rows": null,
            "height": null,
            "justify_content": null,
            "justify_items": null,
            "left": null,
            "margin": null,
            "max_height": null,
            "max_width": null,
            "min_height": null,
            "min_width": null,
            "object_fit": null,
            "object_position": null,
            "order": null,
            "overflow": null,
            "overflow_x": null,
            "overflow_y": null,
            "padding": null,
            "right": null,
            "top": null,
            "visibility": null,
            "width": null
          }
        },
        "2ed4bbb9cae349c1a7b2f47b27634d3b": {
          "model_module": "@jupyter-widgets/base",
          "model_name": "LayoutModel",
          "model_module_version": "1.2.0",
          "state": {
            "_model_module": "@jupyter-widgets/base",
            "_model_module_version": "1.2.0",
            "_model_name": "LayoutModel",
            "_view_count": null,
            "_view_module": "@jupyter-widgets/base",
            "_view_module_version": "1.2.0",
            "_view_name": "LayoutView",
            "align_content": null,
            "align_items": null,
            "align_self": null,
            "border": null,
            "bottom": null,
            "display": null,
            "flex": null,
            "flex_flow": null,
            "grid_area": null,
            "grid_auto_columns": null,
            "grid_auto_flow": null,
            "grid_auto_rows": null,
            "grid_column": null,
            "grid_gap": null,
            "grid_row": null,
            "grid_template_areas": null,
            "grid_template_columns": null,
            "grid_template_rows": null,
            "height": null,
            "justify_content": null,
            "justify_items": null,
            "left": null,
            "margin": null,
            "max_height": null,
            "max_width": null,
            "min_height": null,
            "min_width": null,
            "object_fit": null,
            "object_position": null,
            "order": null,
            "overflow": null,
            "overflow_x": null,
            "overflow_y": null,
            "padding": null,
            "right": null,
            "top": null,
            "visibility": null,
            "width": null
          }
        },
        "f7a9bbfb0a014c6fb1cbc285b3c96564": {
          "model_module": "@jupyter-widgets/controls",
          "model_name": "DescriptionStyleModel",
          "model_module_version": "1.5.0",
          "state": {
            "_model_module": "@jupyter-widgets/controls",
            "_model_module_version": "1.5.0",
            "_model_name": "DescriptionStyleModel",
            "_view_count": null,
            "_view_module": "@jupyter-widgets/base",
            "_view_module_version": "1.2.0",
            "_view_name": "StyleView",
            "description_width": ""
          }
        },
        "8cb61d6eb033414d8bdbc7a8084ed74f": {
          "model_module": "@jupyter-widgets/base",
          "model_name": "LayoutModel",
          "model_module_version": "1.2.0",
          "state": {
            "_model_module": "@jupyter-widgets/base",
            "_model_module_version": "1.2.0",
            "_model_name": "LayoutModel",
            "_view_count": null,
            "_view_module": "@jupyter-widgets/base",
            "_view_module_version": "1.2.0",
            "_view_name": "LayoutView",
            "align_content": null,
            "align_items": null,
            "align_self": null,
            "border": null,
            "bottom": null,
            "display": null,
            "flex": null,
            "flex_flow": null,
            "grid_area": null,
            "grid_auto_columns": null,
            "grid_auto_flow": null,
            "grid_auto_rows": null,
            "grid_column": null,
            "grid_gap": null,
            "grid_row": null,
            "grid_template_areas": null,
            "grid_template_columns": null,
            "grid_template_rows": null,
            "height": null,
            "justify_content": null,
            "justify_items": null,
            "left": null,
            "margin": null,
            "max_height": null,
            "max_width": null,
            "min_height": null,
            "min_width": null,
            "object_fit": null,
            "object_position": null,
            "order": null,
            "overflow": null,
            "overflow_x": null,
            "overflow_y": null,
            "padding": null,
            "right": null,
            "top": null,
            "visibility": null,
            "width": null
          }
        },
        "7a59ac6851cf4d109918811b3b0cdf34": {
          "model_module": "@jupyter-widgets/controls",
          "model_name": "ProgressStyleModel",
          "model_module_version": "1.5.0",
          "state": {
            "_model_module": "@jupyter-widgets/controls",
            "_model_module_version": "1.5.0",
            "_model_name": "ProgressStyleModel",
            "_view_count": null,
            "_view_module": "@jupyter-widgets/base",
            "_view_module_version": "1.2.0",
            "_view_name": "StyleView",
            "bar_color": null,
            "description_width": ""
          }
        },
        "9e7d729b828f4c688b7d7432cb46db33": {
          "model_module": "@jupyter-widgets/controls",
          "model_name": "VBoxModel",
          "model_module_version": "1.5.0",
          "state": {
            "_dom_classes": [],
            "_model_module": "@jupyter-widgets/controls",
            "_model_module_version": "1.5.0",
            "_model_name": "VBoxModel",
            "_view_count": null,
            "_view_module": "@jupyter-widgets/controls",
            "_view_module_version": "1.5.0",
            "_view_name": "VBoxView",
            "box_style": "",
            "children": [
              "IPY_MODEL_707736245f6d445d8191342dde08aabc",
              "IPY_MODEL_66fd3fad60f94a0ab52525fc630b1364"
            ],
            "layout": "IPY_MODEL_c1fbdcb8b05a497691e58667255c45a7"
          }
        },
        "707736245f6d445d8191342dde08aabc": {
          "model_module": "@jupyter-widgets/controls",
          "model_name": "LabelModel",
          "model_module_version": "1.5.0",
          "state": {
            "_dom_classes": [],
            "_model_module": "@jupyter-widgets/controls",
            "_model_module_version": "1.5.0",
            "_model_name": "LabelModel",
            "_view_count": null,
            "_view_module": "@jupyter-widgets/controls",
            "_view_module_version": "1.5.0",
            "_view_name": "LabelView",
            "description": "",
            "description_tooltip": null,
            "layout": "IPY_MODEL_b3718d35d656487196f0343882db53b2",
            "placeholder": "​",
            "style": "IPY_MODEL_4e8e9d069acc4c6ea362fc9cf3e80af8",
            "value": "0.009 MB of 0.009 MB uploaded (0.000 MB deduped)\r"
          }
        },
        "66fd3fad60f94a0ab52525fc630b1364": {
          "model_module": "@jupyter-widgets/controls",
          "model_name": "FloatProgressModel",
          "model_module_version": "1.5.0",
          "state": {
            "_dom_classes": [],
            "_model_module": "@jupyter-widgets/controls",
            "_model_module_version": "1.5.0",
            "_model_name": "FloatProgressModel",
            "_view_count": null,
            "_view_module": "@jupyter-widgets/controls",
            "_view_module_version": "1.5.0",
            "_view_name": "ProgressView",
            "bar_style": "",
            "description": "",
            "description_tooltip": null,
            "layout": "IPY_MODEL_3b06edc2f5b24e3185a7a5dc1e27bb69",
            "max": 1,
            "min": 0,
            "orientation": "horizontal",
            "style": "IPY_MODEL_e396d69acf9d419d9c5320a1529f9826",
            "value": 1
          }
        },
        "c1fbdcb8b05a497691e58667255c45a7": {
          "model_module": "@jupyter-widgets/base",
          "model_name": "LayoutModel",
          "model_module_version": "1.2.0",
          "state": {
            "_model_module": "@jupyter-widgets/base",
            "_model_module_version": "1.2.0",
            "_model_name": "LayoutModel",
            "_view_count": null,
            "_view_module": "@jupyter-widgets/base",
            "_view_module_version": "1.2.0",
            "_view_name": "LayoutView",
            "align_content": null,
            "align_items": null,
            "align_self": null,
            "border": null,
            "bottom": null,
            "display": null,
            "flex": null,
            "flex_flow": null,
            "grid_area": null,
            "grid_auto_columns": null,
            "grid_auto_flow": null,
            "grid_auto_rows": null,
            "grid_column": null,
            "grid_gap": null,
            "grid_row": null,
            "grid_template_areas": null,
            "grid_template_columns": null,
            "grid_template_rows": null,
            "height": null,
            "justify_content": null,
            "justify_items": null,
            "left": null,
            "margin": null,
            "max_height": null,
            "max_width": null,
            "min_height": null,
            "min_width": null,
            "object_fit": null,
            "object_position": null,
            "order": null,
            "overflow": null,
            "overflow_x": null,
            "overflow_y": null,
            "padding": null,
            "right": null,
            "top": null,
            "visibility": null,
            "width": null
          }
        },
        "b3718d35d656487196f0343882db53b2": {
          "model_module": "@jupyter-widgets/base",
          "model_name": "LayoutModel",
          "model_module_version": "1.2.0",
          "state": {
            "_model_module": "@jupyter-widgets/base",
            "_model_module_version": "1.2.0",
            "_model_name": "LayoutModel",
            "_view_count": null,
            "_view_module": "@jupyter-widgets/base",
            "_view_module_version": "1.2.0",
            "_view_name": "LayoutView",
            "align_content": null,
            "align_items": null,
            "align_self": null,
            "border": null,
            "bottom": null,
            "display": null,
            "flex": null,
            "flex_flow": null,
            "grid_area": null,
            "grid_auto_columns": null,
            "grid_auto_flow": null,
            "grid_auto_rows": null,
            "grid_column": null,
            "grid_gap": null,
            "grid_row": null,
            "grid_template_areas": null,
            "grid_template_columns": null,
            "grid_template_rows": null,
            "height": null,
            "justify_content": null,
            "justify_items": null,
            "left": null,
            "margin": null,
            "max_height": null,
            "max_width": null,
            "min_height": null,
            "min_width": null,
            "object_fit": null,
            "object_position": null,
            "order": null,
            "overflow": null,
            "overflow_x": null,
            "overflow_y": null,
            "padding": null,
            "right": null,
            "top": null,
            "visibility": null,
            "width": null
          }
        },
        "4e8e9d069acc4c6ea362fc9cf3e80af8": {
          "model_module": "@jupyter-widgets/controls",
          "model_name": "DescriptionStyleModel",
          "model_module_version": "1.5.0",
          "state": {
            "_model_module": "@jupyter-widgets/controls",
            "_model_module_version": "1.5.0",
            "_model_name": "DescriptionStyleModel",
            "_view_count": null,
            "_view_module": "@jupyter-widgets/base",
            "_view_module_version": "1.2.0",
            "_view_name": "StyleView",
            "description_width": ""
          }
        },
        "3b06edc2f5b24e3185a7a5dc1e27bb69": {
          "model_module": "@jupyter-widgets/base",
          "model_name": "LayoutModel",
          "model_module_version": "1.2.0",
          "state": {
            "_model_module": "@jupyter-widgets/base",
            "_model_module_version": "1.2.0",
            "_model_name": "LayoutModel",
            "_view_count": null,
            "_view_module": "@jupyter-widgets/base",
            "_view_module_version": "1.2.0",
            "_view_name": "LayoutView",
            "align_content": null,
            "align_items": null,
            "align_self": null,
            "border": null,
            "bottom": null,
            "display": null,
            "flex": null,
            "flex_flow": null,
            "grid_area": null,
            "grid_auto_columns": null,
            "grid_auto_flow": null,
            "grid_auto_rows": null,
            "grid_column": null,
            "grid_gap": null,
            "grid_row": null,
            "grid_template_areas": null,
            "grid_template_columns": null,
            "grid_template_rows": null,
            "height": null,
            "justify_content": null,
            "justify_items": null,
            "left": null,
            "margin": null,
            "max_height": null,
            "max_width": null,
            "min_height": null,
            "min_width": null,
            "object_fit": null,
            "object_position": null,
            "order": null,
            "overflow": null,
            "overflow_x": null,
            "overflow_y": null,
            "padding": null,
            "right": null,
            "top": null,
            "visibility": null,
            "width": null
          }
        },
        "e396d69acf9d419d9c5320a1529f9826": {
          "model_module": "@jupyter-widgets/controls",
          "model_name": "ProgressStyleModel",
          "model_module_version": "1.5.0",
          "state": {
            "_model_module": "@jupyter-widgets/controls",
            "_model_module_version": "1.5.0",
            "_model_name": "ProgressStyleModel",
            "_view_count": null,
            "_view_module": "@jupyter-widgets/base",
            "_view_module_version": "1.2.0",
            "_view_name": "StyleView",
            "bar_color": null,
            "description_width": ""
          }
        },
        "43e4cf70b0a6424c8e4a501b8e37dac7": {
          "model_module": "@jupyter-widgets/controls",
          "model_name": "VBoxModel",
          "model_module_version": "1.5.0",
          "state": {
            "_dom_classes": [],
            "_model_module": "@jupyter-widgets/controls",
            "_model_module_version": "1.5.0",
            "_model_name": "VBoxModel",
            "_view_count": null,
            "_view_module": "@jupyter-widgets/controls",
            "_view_module_version": "1.5.0",
            "_view_name": "VBoxView",
            "box_style": "",
            "children": [
              "IPY_MODEL_9bcaebd74f5640e098df0a2ed621d270",
              "IPY_MODEL_d37ea02184f043fa9ebd5bd3abe104e5"
            ],
            "layout": "IPY_MODEL_74d321420c2b4591aa9b8dab88fbb31a"
          }
        },
        "9bcaebd74f5640e098df0a2ed621d270": {
          "model_module": "@jupyter-widgets/controls",
          "model_name": "LabelModel",
          "model_module_version": "1.5.0",
          "state": {
            "_dom_classes": [],
            "_model_module": "@jupyter-widgets/controls",
            "_model_module_version": "1.5.0",
            "_model_name": "LabelModel",
            "_view_count": null,
            "_view_module": "@jupyter-widgets/controls",
            "_view_module_version": "1.5.0",
            "_view_name": "LabelView",
            "description": "",
            "description_tooltip": null,
            "layout": "IPY_MODEL_aaf8454ba03d428eb63143271cb03197",
            "placeholder": "​",
            "style": "IPY_MODEL_8e7ad216738342b990aaaf21b869eaf9",
            "value": "0.009 MB of 0.009 MB uploaded (0.000 MB deduped)\r"
          }
        },
        "d37ea02184f043fa9ebd5bd3abe104e5": {
          "model_module": "@jupyter-widgets/controls",
          "model_name": "FloatProgressModel",
          "model_module_version": "1.5.0",
          "state": {
            "_dom_classes": [],
            "_model_module": "@jupyter-widgets/controls",
            "_model_module_version": "1.5.0",
            "_model_name": "FloatProgressModel",
            "_view_count": null,
            "_view_module": "@jupyter-widgets/controls",
            "_view_module_version": "1.5.0",
            "_view_name": "ProgressView",
            "bar_style": "",
            "description": "",
            "description_tooltip": null,
            "layout": "IPY_MODEL_67dd8d6366e648c4b8cae445b3971915",
            "max": 1,
            "min": 0,
            "orientation": "horizontal",
            "style": "IPY_MODEL_4cbb2cd488164f39aae08e88f2d05fce",
            "value": 1
          }
        },
        "74d321420c2b4591aa9b8dab88fbb31a": {
          "model_module": "@jupyter-widgets/base",
          "model_name": "LayoutModel",
          "model_module_version": "1.2.0",
          "state": {
            "_model_module": "@jupyter-widgets/base",
            "_model_module_version": "1.2.0",
            "_model_name": "LayoutModel",
            "_view_count": null,
            "_view_module": "@jupyter-widgets/base",
            "_view_module_version": "1.2.0",
            "_view_name": "LayoutView",
            "align_content": null,
            "align_items": null,
            "align_self": null,
            "border": null,
            "bottom": null,
            "display": null,
            "flex": null,
            "flex_flow": null,
            "grid_area": null,
            "grid_auto_columns": null,
            "grid_auto_flow": null,
            "grid_auto_rows": null,
            "grid_column": null,
            "grid_gap": null,
            "grid_row": null,
            "grid_template_areas": null,
            "grid_template_columns": null,
            "grid_template_rows": null,
            "height": null,
            "justify_content": null,
            "justify_items": null,
            "left": null,
            "margin": null,
            "max_height": null,
            "max_width": null,
            "min_height": null,
            "min_width": null,
            "object_fit": null,
            "object_position": null,
            "order": null,
            "overflow": null,
            "overflow_x": null,
            "overflow_y": null,
            "padding": null,
            "right": null,
            "top": null,
            "visibility": null,
            "width": null
          }
        },
        "aaf8454ba03d428eb63143271cb03197": {
          "model_module": "@jupyter-widgets/base",
          "model_name": "LayoutModel",
          "model_module_version": "1.2.0",
          "state": {
            "_model_module": "@jupyter-widgets/base",
            "_model_module_version": "1.2.0",
            "_model_name": "LayoutModel",
            "_view_count": null,
            "_view_module": "@jupyter-widgets/base",
            "_view_module_version": "1.2.0",
            "_view_name": "LayoutView",
            "align_content": null,
            "align_items": null,
            "align_self": null,
            "border": null,
            "bottom": null,
            "display": null,
            "flex": null,
            "flex_flow": null,
            "grid_area": null,
            "grid_auto_columns": null,
            "grid_auto_flow": null,
            "grid_auto_rows": null,
            "grid_column": null,
            "grid_gap": null,
            "grid_row": null,
            "grid_template_areas": null,
            "grid_template_columns": null,
            "grid_template_rows": null,
            "height": null,
            "justify_content": null,
            "justify_items": null,
            "left": null,
            "margin": null,
            "max_height": null,
            "max_width": null,
            "min_height": null,
            "min_width": null,
            "object_fit": null,
            "object_position": null,
            "order": null,
            "overflow": null,
            "overflow_x": null,
            "overflow_y": null,
            "padding": null,
            "right": null,
            "top": null,
            "visibility": null,
            "width": null
          }
        },
        "8e7ad216738342b990aaaf21b869eaf9": {
          "model_module": "@jupyter-widgets/controls",
          "model_name": "DescriptionStyleModel",
          "model_module_version": "1.5.0",
          "state": {
            "_model_module": "@jupyter-widgets/controls",
            "_model_module_version": "1.5.0",
            "_model_name": "DescriptionStyleModel",
            "_view_count": null,
            "_view_module": "@jupyter-widgets/base",
            "_view_module_version": "1.2.0",
            "_view_name": "StyleView",
            "description_width": ""
          }
        },
        "67dd8d6366e648c4b8cae445b3971915": {
          "model_module": "@jupyter-widgets/base",
          "model_name": "LayoutModel",
          "model_module_version": "1.2.0",
          "state": {
            "_model_module": "@jupyter-widgets/base",
            "_model_module_version": "1.2.0",
            "_model_name": "LayoutModel",
            "_view_count": null,
            "_view_module": "@jupyter-widgets/base",
            "_view_module_version": "1.2.0",
            "_view_name": "LayoutView",
            "align_content": null,
            "align_items": null,
            "align_self": null,
            "border": null,
            "bottom": null,
            "display": null,
            "flex": null,
            "flex_flow": null,
            "grid_area": null,
            "grid_auto_columns": null,
            "grid_auto_flow": null,
            "grid_auto_rows": null,
            "grid_column": null,
            "grid_gap": null,
            "grid_row": null,
            "grid_template_areas": null,
            "grid_template_columns": null,
            "grid_template_rows": null,
            "height": null,
            "justify_content": null,
            "justify_items": null,
            "left": null,
            "margin": null,
            "max_height": null,
            "max_width": null,
            "min_height": null,
            "min_width": null,
            "object_fit": null,
            "object_position": null,
            "order": null,
            "overflow": null,
            "overflow_x": null,
            "overflow_y": null,
            "padding": null,
            "right": null,
            "top": null,
            "visibility": null,
            "width": null
          }
        },
        "4cbb2cd488164f39aae08e88f2d05fce": {
          "model_module": "@jupyter-widgets/controls",
          "model_name": "ProgressStyleModel",
          "model_module_version": "1.5.0",
          "state": {
            "_model_module": "@jupyter-widgets/controls",
            "_model_module_version": "1.5.0",
            "_model_name": "ProgressStyleModel",
            "_view_count": null,
            "_view_module": "@jupyter-widgets/base",
            "_view_module_version": "1.2.0",
            "_view_name": "StyleView",
            "bar_color": null,
            "description_width": ""
          }
        },
        "eb5518497a3f4b5db60221a93831d4cc": {
          "model_module": "@jupyter-widgets/controls",
          "model_name": "VBoxModel",
          "model_module_version": "1.5.0",
          "state": {
            "_dom_classes": [],
            "_model_module": "@jupyter-widgets/controls",
            "_model_module_version": "1.5.0",
            "_model_name": "VBoxModel",
            "_view_count": null,
            "_view_module": "@jupyter-widgets/controls",
            "_view_module_version": "1.5.0",
            "_view_name": "VBoxView",
            "box_style": "",
            "children": [
              "IPY_MODEL_b6673e670b8549178535e4066ea764c9",
              "IPY_MODEL_c8ff359b499b4c75a5bb66636e576240"
            ],
            "layout": "IPY_MODEL_9f37bbe59e8c45ba8e00bdd8a566a182"
          }
        },
        "b6673e670b8549178535e4066ea764c9": {
          "model_module": "@jupyter-widgets/controls",
          "model_name": "LabelModel",
          "model_module_version": "1.5.0",
          "state": {
            "_dom_classes": [],
            "_model_module": "@jupyter-widgets/controls",
            "_model_module_version": "1.5.0",
            "_model_name": "LabelModel",
            "_view_count": null,
            "_view_module": "@jupyter-widgets/controls",
            "_view_module_version": "1.5.0",
            "_view_name": "LabelView",
            "description": "",
            "description_tooltip": null,
            "layout": "IPY_MODEL_9a27d6659eff43359466842cdbf18e29",
            "placeholder": "​",
            "style": "IPY_MODEL_480efeca6e7e4473a7e6e094e7147706",
            "value": "0.009 MB of 0.009 MB uploaded (0.000 MB deduped)\r"
          }
        },
        "c8ff359b499b4c75a5bb66636e576240": {
          "model_module": "@jupyter-widgets/controls",
          "model_name": "FloatProgressModel",
          "model_module_version": "1.5.0",
          "state": {
            "_dom_classes": [],
            "_model_module": "@jupyter-widgets/controls",
            "_model_module_version": "1.5.0",
            "_model_name": "FloatProgressModel",
            "_view_count": null,
            "_view_module": "@jupyter-widgets/controls",
            "_view_module_version": "1.5.0",
            "_view_name": "ProgressView",
            "bar_style": "",
            "description": "",
            "description_tooltip": null,
            "layout": "IPY_MODEL_2f7c0c850b244beeb520e4c411746598",
            "max": 1,
            "min": 0,
            "orientation": "horizontal",
            "style": "IPY_MODEL_07dca03bd2604346b15b96967123d4f1",
            "value": 1
          }
        },
        "9f37bbe59e8c45ba8e00bdd8a566a182": {
          "model_module": "@jupyter-widgets/base",
          "model_name": "LayoutModel",
          "model_module_version": "1.2.0",
          "state": {
            "_model_module": "@jupyter-widgets/base",
            "_model_module_version": "1.2.0",
            "_model_name": "LayoutModel",
            "_view_count": null,
            "_view_module": "@jupyter-widgets/base",
            "_view_module_version": "1.2.0",
            "_view_name": "LayoutView",
            "align_content": null,
            "align_items": null,
            "align_self": null,
            "border": null,
            "bottom": null,
            "display": null,
            "flex": null,
            "flex_flow": null,
            "grid_area": null,
            "grid_auto_columns": null,
            "grid_auto_flow": null,
            "grid_auto_rows": null,
            "grid_column": null,
            "grid_gap": null,
            "grid_row": null,
            "grid_template_areas": null,
            "grid_template_columns": null,
            "grid_template_rows": null,
            "height": null,
            "justify_content": null,
            "justify_items": null,
            "left": null,
            "margin": null,
            "max_height": null,
            "max_width": null,
            "min_height": null,
            "min_width": null,
            "object_fit": null,
            "object_position": null,
            "order": null,
            "overflow": null,
            "overflow_x": null,
            "overflow_y": null,
            "padding": null,
            "right": null,
            "top": null,
            "visibility": null,
            "width": null
          }
        },
        "9a27d6659eff43359466842cdbf18e29": {
          "model_module": "@jupyter-widgets/base",
          "model_name": "LayoutModel",
          "model_module_version": "1.2.0",
          "state": {
            "_model_module": "@jupyter-widgets/base",
            "_model_module_version": "1.2.0",
            "_model_name": "LayoutModel",
            "_view_count": null,
            "_view_module": "@jupyter-widgets/base",
            "_view_module_version": "1.2.0",
            "_view_name": "LayoutView",
            "align_content": null,
            "align_items": null,
            "align_self": null,
            "border": null,
            "bottom": null,
            "display": null,
            "flex": null,
            "flex_flow": null,
            "grid_area": null,
            "grid_auto_columns": null,
            "grid_auto_flow": null,
            "grid_auto_rows": null,
            "grid_column": null,
            "grid_gap": null,
            "grid_row": null,
            "grid_template_areas": null,
            "grid_template_columns": null,
            "grid_template_rows": null,
            "height": null,
            "justify_content": null,
            "justify_items": null,
            "left": null,
            "margin": null,
            "max_height": null,
            "max_width": null,
            "min_height": null,
            "min_width": null,
            "object_fit": null,
            "object_position": null,
            "order": null,
            "overflow": null,
            "overflow_x": null,
            "overflow_y": null,
            "padding": null,
            "right": null,
            "top": null,
            "visibility": null,
            "width": null
          }
        },
        "480efeca6e7e4473a7e6e094e7147706": {
          "model_module": "@jupyter-widgets/controls",
          "model_name": "DescriptionStyleModel",
          "model_module_version": "1.5.0",
          "state": {
            "_model_module": "@jupyter-widgets/controls",
            "_model_module_version": "1.5.0",
            "_model_name": "DescriptionStyleModel",
            "_view_count": null,
            "_view_module": "@jupyter-widgets/base",
            "_view_module_version": "1.2.0",
            "_view_name": "StyleView",
            "description_width": ""
          }
        },
        "2f7c0c850b244beeb520e4c411746598": {
          "model_module": "@jupyter-widgets/base",
          "model_name": "LayoutModel",
          "model_module_version": "1.2.0",
          "state": {
            "_model_module": "@jupyter-widgets/base",
            "_model_module_version": "1.2.0",
            "_model_name": "LayoutModel",
            "_view_count": null,
            "_view_module": "@jupyter-widgets/base",
            "_view_module_version": "1.2.0",
            "_view_name": "LayoutView",
            "align_content": null,
            "align_items": null,
            "align_self": null,
            "border": null,
            "bottom": null,
            "display": null,
            "flex": null,
            "flex_flow": null,
            "grid_area": null,
            "grid_auto_columns": null,
            "grid_auto_flow": null,
            "grid_auto_rows": null,
            "grid_column": null,
            "grid_gap": null,
            "grid_row": null,
            "grid_template_areas": null,
            "grid_template_columns": null,
            "grid_template_rows": null,
            "height": null,
            "justify_content": null,
            "justify_items": null,
            "left": null,
            "margin": null,
            "max_height": null,
            "max_width": null,
            "min_height": null,
            "min_width": null,
            "object_fit": null,
            "object_position": null,
            "order": null,
            "overflow": null,
            "overflow_x": null,
            "overflow_y": null,
            "padding": null,
            "right": null,
            "top": null,
            "visibility": null,
            "width": null
          }
        },
        "07dca03bd2604346b15b96967123d4f1": {
          "model_module": "@jupyter-widgets/controls",
          "model_name": "ProgressStyleModel",
          "model_module_version": "1.5.0",
          "state": {
            "_model_module": "@jupyter-widgets/controls",
            "_model_module_version": "1.5.0",
            "_model_name": "ProgressStyleModel",
            "_view_count": null,
            "_view_module": "@jupyter-widgets/base",
            "_view_module_version": "1.2.0",
            "_view_name": "StyleView",
            "bar_color": null,
            "description_width": ""
          }
        },
        "511d2f0f4e60431d827ccbd629af8c2a": {
          "model_module": "@jupyter-widgets/controls",
          "model_name": "VBoxModel",
          "model_module_version": "1.5.0",
          "state": {
            "_dom_classes": [],
            "_model_module": "@jupyter-widgets/controls",
            "_model_module_version": "1.5.0",
            "_model_name": "VBoxModel",
            "_view_count": null,
            "_view_module": "@jupyter-widgets/controls",
            "_view_module_version": "1.5.0",
            "_view_name": "VBoxView",
            "box_style": "",
            "children": [
              "IPY_MODEL_42e1f0ec949446dda42a0138516d7c6c",
              "IPY_MODEL_d8173c150cab4475b0541cf430a9f822"
            ],
            "layout": "IPY_MODEL_94357e71b6b149429063954687587e43"
          }
        },
        "42e1f0ec949446dda42a0138516d7c6c": {
          "model_module": "@jupyter-widgets/controls",
          "model_name": "LabelModel",
          "model_module_version": "1.5.0",
          "state": {
            "_dom_classes": [],
            "_model_module": "@jupyter-widgets/controls",
            "_model_module_version": "1.5.0",
            "_model_name": "LabelModel",
            "_view_count": null,
            "_view_module": "@jupyter-widgets/controls",
            "_view_module_version": "1.5.0",
            "_view_name": "LabelView",
            "description": "",
            "description_tooltip": null,
            "layout": "IPY_MODEL_2c5f34b9cc324d73850626bb8a849c88",
            "placeholder": "​",
            "style": "IPY_MODEL_04d6fcf29a4645759c6d6fcd21c51fb5",
            "value": "0.009 MB of 0.009 MB uploaded (0.000 MB deduped)\r"
          }
        },
        "d8173c150cab4475b0541cf430a9f822": {
          "model_module": "@jupyter-widgets/controls",
          "model_name": "FloatProgressModel",
          "model_module_version": "1.5.0",
          "state": {
            "_dom_classes": [],
            "_model_module": "@jupyter-widgets/controls",
            "_model_module_version": "1.5.0",
            "_model_name": "FloatProgressModel",
            "_view_count": null,
            "_view_module": "@jupyter-widgets/controls",
            "_view_module_version": "1.5.0",
            "_view_name": "ProgressView",
            "bar_style": "",
            "description": "",
            "description_tooltip": null,
            "layout": "IPY_MODEL_0d62d03a729546f7adbb5d2e3d0335bb",
            "max": 1,
            "min": 0,
            "orientation": "horizontal",
            "style": "IPY_MODEL_2a1c7c84f9ed468c92de7e98a7f39f3a",
            "value": 1
          }
        },
        "94357e71b6b149429063954687587e43": {
          "model_module": "@jupyter-widgets/base",
          "model_name": "LayoutModel",
          "model_module_version": "1.2.0",
          "state": {
            "_model_module": "@jupyter-widgets/base",
            "_model_module_version": "1.2.0",
            "_model_name": "LayoutModel",
            "_view_count": null,
            "_view_module": "@jupyter-widgets/base",
            "_view_module_version": "1.2.0",
            "_view_name": "LayoutView",
            "align_content": null,
            "align_items": null,
            "align_self": null,
            "border": null,
            "bottom": null,
            "display": null,
            "flex": null,
            "flex_flow": null,
            "grid_area": null,
            "grid_auto_columns": null,
            "grid_auto_flow": null,
            "grid_auto_rows": null,
            "grid_column": null,
            "grid_gap": null,
            "grid_row": null,
            "grid_template_areas": null,
            "grid_template_columns": null,
            "grid_template_rows": null,
            "height": null,
            "justify_content": null,
            "justify_items": null,
            "left": null,
            "margin": null,
            "max_height": null,
            "max_width": null,
            "min_height": null,
            "min_width": null,
            "object_fit": null,
            "object_position": null,
            "order": null,
            "overflow": null,
            "overflow_x": null,
            "overflow_y": null,
            "padding": null,
            "right": null,
            "top": null,
            "visibility": null,
            "width": null
          }
        },
        "2c5f34b9cc324d73850626bb8a849c88": {
          "model_module": "@jupyter-widgets/base",
          "model_name": "LayoutModel",
          "model_module_version": "1.2.0",
          "state": {
            "_model_module": "@jupyter-widgets/base",
            "_model_module_version": "1.2.0",
            "_model_name": "LayoutModel",
            "_view_count": null,
            "_view_module": "@jupyter-widgets/base",
            "_view_module_version": "1.2.0",
            "_view_name": "LayoutView",
            "align_content": null,
            "align_items": null,
            "align_self": null,
            "border": null,
            "bottom": null,
            "display": null,
            "flex": null,
            "flex_flow": null,
            "grid_area": null,
            "grid_auto_columns": null,
            "grid_auto_flow": null,
            "grid_auto_rows": null,
            "grid_column": null,
            "grid_gap": null,
            "grid_row": null,
            "grid_template_areas": null,
            "grid_template_columns": null,
            "grid_template_rows": null,
            "height": null,
            "justify_content": null,
            "justify_items": null,
            "left": null,
            "margin": null,
            "max_height": null,
            "max_width": null,
            "min_height": null,
            "min_width": null,
            "object_fit": null,
            "object_position": null,
            "order": null,
            "overflow": null,
            "overflow_x": null,
            "overflow_y": null,
            "padding": null,
            "right": null,
            "top": null,
            "visibility": null,
            "width": null
          }
        },
        "04d6fcf29a4645759c6d6fcd21c51fb5": {
          "model_module": "@jupyter-widgets/controls",
          "model_name": "DescriptionStyleModel",
          "model_module_version": "1.5.0",
          "state": {
            "_model_module": "@jupyter-widgets/controls",
            "_model_module_version": "1.5.0",
            "_model_name": "DescriptionStyleModel",
            "_view_count": null,
            "_view_module": "@jupyter-widgets/base",
            "_view_module_version": "1.2.0",
            "_view_name": "StyleView",
            "description_width": ""
          }
        },
        "0d62d03a729546f7adbb5d2e3d0335bb": {
          "model_module": "@jupyter-widgets/base",
          "model_name": "LayoutModel",
          "model_module_version": "1.2.0",
          "state": {
            "_model_module": "@jupyter-widgets/base",
            "_model_module_version": "1.2.0",
            "_model_name": "LayoutModel",
            "_view_count": null,
            "_view_module": "@jupyter-widgets/base",
            "_view_module_version": "1.2.0",
            "_view_name": "LayoutView",
            "align_content": null,
            "align_items": null,
            "align_self": null,
            "border": null,
            "bottom": null,
            "display": null,
            "flex": null,
            "flex_flow": null,
            "grid_area": null,
            "grid_auto_columns": null,
            "grid_auto_flow": null,
            "grid_auto_rows": null,
            "grid_column": null,
            "grid_gap": null,
            "grid_row": null,
            "grid_template_areas": null,
            "grid_template_columns": null,
            "grid_template_rows": null,
            "height": null,
            "justify_content": null,
            "justify_items": null,
            "left": null,
            "margin": null,
            "max_height": null,
            "max_width": null,
            "min_height": null,
            "min_width": null,
            "object_fit": null,
            "object_position": null,
            "order": null,
            "overflow": null,
            "overflow_x": null,
            "overflow_y": null,
            "padding": null,
            "right": null,
            "top": null,
            "visibility": null,
            "width": null
          }
        },
        "2a1c7c84f9ed468c92de7e98a7f39f3a": {
          "model_module": "@jupyter-widgets/controls",
          "model_name": "ProgressStyleModel",
          "model_module_version": "1.5.0",
          "state": {
            "_model_module": "@jupyter-widgets/controls",
            "_model_module_version": "1.5.0",
            "_model_name": "ProgressStyleModel",
            "_view_count": null,
            "_view_module": "@jupyter-widgets/base",
            "_view_module_version": "1.2.0",
            "_view_name": "StyleView",
            "bar_color": null,
            "description_width": ""
          }
        },
        "e5ee1a272eb5418f820c630d8c11ba3a": {
          "model_module": "@jupyter-widgets/controls",
          "model_name": "VBoxModel",
          "model_module_version": "1.5.0",
          "state": {
            "_dom_classes": [],
            "_model_module": "@jupyter-widgets/controls",
            "_model_module_version": "1.5.0",
            "_model_name": "VBoxModel",
            "_view_count": null,
            "_view_module": "@jupyter-widgets/controls",
            "_view_module_version": "1.5.0",
            "_view_name": "VBoxView",
            "box_style": "",
            "children": [
              "IPY_MODEL_3275f4b0f70a4f65ad0d1407d8390408",
              "IPY_MODEL_f75fd6e5b9fc4c97b9c3cc15fdf28b33"
            ],
            "layout": "IPY_MODEL_57e7f913a94d4736931703534e74ddab"
          }
        },
        "3275f4b0f70a4f65ad0d1407d8390408": {
          "model_module": "@jupyter-widgets/controls",
          "model_name": "LabelModel",
          "model_module_version": "1.5.0",
          "state": {
            "_dom_classes": [],
            "_model_module": "@jupyter-widgets/controls",
            "_model_module_version": "1.5.0",
            "_model_name": "LabelModel",
            "_view_count": null,
            "_view_module": "@jupyter-widgets/controls",
            "_view_module_version": "1.5.0",
            "_view_name": "LabelView",
            "description": "",
            "description_tooltip": null,
            "layout": "IPY_MODEL_60feaef79ff944bd98dddf8b7b1444ff",
            "placeholder": "​",
            "style": "IPY_MODEL_3e60c909d72740a198043f1dce08c511",
            "value": "0.009 MB of 0.009 MB uploaded (0.000 MB deduped)\r"
          }
        },
        "f75fd6e5b9fc4c97b9c3cc15fdf28b33": {
          "model_module": "@jupyter-widgets/controls",
          "model_name": "FloatProgressModel",
          "model_module_version": "1.5.0",
          "state": {
            "_dom_classes": [],
            "_model_module": "@jupyter-widgets/controls",
            "_model_module_version": "1.5.0",
            "_model_name": "FloatProgressModel",
            "_view_count": null,
            "_view_module": "@jupyter-widgets/controls",
            "_view_module_version": "1.5.0",
            "_view_name": "ProgressView",
            "bar_style": "",
            "description": "",
            "description_tooltip": null,
            "layout": "IPY_MODEL_337a3366ffa14a84a900daf2a413f37a",
            "max": 1,
            "min": 0,
            "orientation": "horizontal",
            "style": "IPY_MODEL_09a2fde3c99140a09060439f36099495",
            "value": 1
          }
        },
        "57e7f913a94d4736931703534e74ddab": {
          "model_module": "@jupyter-widgets/base",
          "model_name": "LayoutModel",
          "model_module_version": "1.2.0",
          "state": {
            "_model_module": "@jupyter-widgets/base",
            "_model_module_version": "1.2.0",
            "_model_name": "LayoutModel",
            "_view_count": null,
            "_view_module": "@jupyter-widgets/base",
            "_view_module_version": "1.2.0",
            "_view_name": "LayoutView",
            "align_content": null,
            "align_items": null,
            "align_self": null,
            "border": null,
            "bottom": null,
            "display": null,
            "flex": null,
            "flex_flow": null,
            "grid_area": null,
            "grid_auto_columns": null,
            "grid_auto_flow": null,
            "grid_auto_rows": null,
            "grid_column": null,
            "grid_gap": null,
            "grid_row": null,
            "grid_template_areas": null,
            "grid_template_columns": null,
            "grid_template_rows": null,
            "height": null,
            "justify_content": null,
            "justify_items": null,
            "left": null,
            "margin": null,
            "max_height": null,
            "max_width": null,
            "min_height": null,
            "min_width": null,
            "object_fit": null,
            "object_position": null,
            "order": null,
            "overflow": null,
            "overflow_x": null,
            "overflow_y": null,
            "padding": null,
            "right": null,
            "top": null,
            "visibility": null,
            "width": null
          }
        },
        "60feaef79ff944bd98dddf8b7b1444ff": {
          "model_module": "@jupyter-widgets/base",
          "model_name": "LayoutModel",
          "model_module_version": "1.2.0",
          "state": {
            "_model_module": "@jupyter-widgets/base",
            "_model_module_version": "1.2.0",
            "_model_name": "LayoutModel",
            "_view_count": null,
            "_view_module": "@jupyter-widgets/base",
            "_view_module_version": "1.2.0",
            "_view_name": "LayoutView",
            "align_content": null,
            "align_items": null,
            "align_self": null,
            "border": null,
            "bottom": null,
            "display": null,
            "flex": null,
            "flex_flow": null,
            "grid_area": null,
            "grid_auto_columns": null,
            "grid_auto_flow": null,
            "grid_auto_rows": null,
            "grid_column": null,
            "grid_gap": null,
            "grid_row": null,
            "grid_template_areas": null,
            "grid_template_columns": null,
            "grid_template_rows": null,
            "height": null,
            "justify_content": null,
            "justify_items": null,
            "left": null,
            "margin": null,
            "max_height": null,
            "max_width": null,
            "min_height": null,
            "min_width": null,
            "object_fit": null,
            "object_position": null,
            "order": null,
            "overflow": null,
            "overflow_x": null,
            "overflow_y": null,
            "padding": null,
            "right": null,
            "top": null,
            "visibility": null,
            "width": null
          }
        },
        "3e60c909d72740a198043f1dce08c511": {
          "model_module": "@jupyter-widgets/controls",
          "model_name": "DescriptionStyleModel",
          "model_module_version": "1.5.0",
          "state": {
            "_model_module": "@jupyter-widgets/controls",
            "_model_module_version": "1.5.0",
            "_model_name": "DescriptionStyleModel",
            "_view_count": null,
            "_view_module": "@jupyter-widgets/base",
            "_view_module_version": "1.2.0",
            "_view_name": "StyleView",
            "description_width": ""
          }
        },
        "337a3366ffa14a84a900daf2a413f37a": {
          "model_module": "@jupyter-widgets/base",
          "model_name": "LayoutModel",
          "model_module_version": "1.2.0",
          "state": {
            "_model_module": "@jupyter-widgets/base",
            "_model_module_version": "1.2.0",
            "_model_name": "LayoutModel",
            "_view_count": null,
            "_view_module": "@jupyter-widgets/base",
            "_view_module_version": "1.2.0",
            "_view_name": "LayoutView",
            "align_content": null,
            "align_items": null,
            "align_self": null,
            "border": null,
            "bottom": null,
            "display": null,
            "flex": null,
            "flex_flow": null,
            "grid_area": null,
            "grid_auto_columns": null,
            "grid_auto_flow": null,
            "grid_auto_rows": null,
            "grid_column": null,
            "grid_gap": null,
            "grid_row": null,
            "grid_template_areas": null,
            "grid_template_columns": null,
            "grid_template_rows": null,
            "height": null,
            "justify_content": null,
            "justify_items": null,
            "left": null,
            "margin": null,
            "max_height": null,
            "max_width": null,
            "min_height": null,
            "min_width": null,
            "object_fit": null,
            "object_position": null,
            "order": null,
            "overflow": null,
            "overflow_x": null,
            "overflow_y": null,
            "padding": null,
            "right": null,
            "top": null,
            "visibility": null,
            "width": null
          }
        },
        "09a2fde3c99140a09060439f36099495": {
          "model_module": "@jupyter-widgets/controls",
          "model_name": "ProgressStyleModel",
          "model_module_version": "1.5.0",
          "state": {
            "_model_module": "@jupyter-widgets/controls",
            "_model_module_version": "1.5.0",
            "_model_name": "ProgressStyleModel",
            "_view_count": null,
            "_view_module": "@jupyter-widgets/base",
            "_view_module_version": "1.2.0",
            "_view_name": "StyleView",
            "bar_color": null,
            "description_width": ""
          }
        },
        "c58e67a06f664927830d6e3679f74383": {
          "model_module": "@jupyter-widgets/controls",
          "model_name": "VBoxModel",
          "model_module_version": "1.5.0",
          "state": {
            "_dom_classes": [],
            "_model_module": "@jupyter-widgets/controls",
            "_model_module_version": "1.5.0",
            "_model_name": "VBoxModel",
            "_view_count": null,
            "_view_module": "@jupyter-widgets/controls",
            "_view_module_version": "1.5.0",
            "_view_name": "VBoxView",
            "box_style": "",
            "children": [
              "IPY_MODEL_f8cedbd0c31447458310eda173e2d578",
              "IPY_MODEL_c19450a095874c7ea8492d6dd08856c8"
            ],
            "layout": "IPY_MODEL_5ba1baee930844058fffdcadea426956"
          }
        },
        "f8cedbd0c31447458310eda173e2d578": {
          "model_module": "@jupyter-widgets/controls",
          "model_name": "LabelModel",
          "model_module_version": "1.5.0",
          "state": {
            "_dom_classes": [],
            "_model_module": "@jupyter-widgets/controls",
            "_model_module_version": "1.5.0",
            "_model_name": "LabelModel",
            "_view_count": null,
            "_view_module": "@jupyter-widgets/controls",
            "_view_module_version": "1.5.0",
            "_view_name": "LabelView",
            "description": "",
            "description_tooltip": null,
            "layout": "IPY_MODEL_b8e2a65a026247f0921060964f39be53",
            "placeholder": "​",
            "style": "IPY_MODEL_7a8523f95b124ee28616e6fe04b99f77",
            "value": "0.009 MB of 0.009 MB uploaded (0.000 MB deduped)\r"
          }
        },
        "c19450a095874c7ea8492d6dd08856c8": {
          "model_module": "@jupyter-widgets/controls",
          "model_name": "FloatProgressModel",
          "model_module_version": "1.5.0",
          "state": {
            "_dom_classes": [],
            "_model_module": "@jupyter-widgets/controls",
            "_model_module_version": "1.5.0",
            "_model_name": "FloatProgressModel",
            "_view_count": null,
            "_view_module": "@jupyter-widgets/controls",
            "_view_module_version": "1.5.0",
            "_view_name": "ProgressView",
            "bar_style": "",
            "description": "",
            "description_tooltip": null,
            "layout": "IPY_MODEL_8478e7c6826846e2acfd25bfe929839e",
            "max": 1,
            "min": 0,
            "orientation": "horizontal",
            "style": "IPY_MODEL_485b799d7f7a4c85ac32d7fa52738737",
            "value": 1
          }
        },
        "5ba1baee930844058fffdcadea426956": {
          "model_module": "@jupyter-widgets/base",
          "model_name": "LayoutModel",
          "model_module_version": "1.2.0",
          "state": {
            "_model_module": "@jupyter-widgets/base",
            "_model_module_version": "1.2.0",
            "_model_name": "LayoutModel",
            "_view_count": null,
            "_view_module": "@jupyter-widgets/base",
            "_view_module_version": "1.2.0",
            "_view_name": "LayoutView",
            "align_content": null,
            "align_items": null,
            "align_self": null,
            "border": null,
            "bottom": null,
            "display": null,
            "flex": null,
            "flex_flow": null,
            "grid_area": null,
            "grid_auto_columns": null,
            "grid_auto_flow": null,
            "grid_auto_rows": null,
            "grid_column": null,
            "grid_gap": null,
            "grid_row": null,
            "grid_template_areas": null,
            "grid_template_columns": null,
            "grid_template_rows": null,
            "height": null,
            "justify_content": null,
            "justify_items": null,
            "left": null,
            "margin": null,
            "max_height": null,
            "max_width": null,
            "min_height": null,
            "min_width": null,
            "object_fit": null,
            "object_position": null,
            "order": null,
            "overflow": null,
            "overflow_x": null,
            "overflow_y": null,
            "padding": null,
            "right": null,
            "top": null,
            "visibility": null,
            "width": null
          }
        },
        "b8e2a65a026247f0921060964f39be53": {
          "model_module": "@jupyter-widgets/base",
          "model_name": "LayoutModel",
          "model_module_version": "1.2.0",
          "state": {
            "_model_module": "@jupyter-widgets/base",
            "_model_module_version": "1.2.0",
            "_model_name": "LayoutModel",
            "_view_count": null,
            "_view_module": "@jupyter-widgets/base",
            "_view_module_version": "1.2.0",
            "_view_name": "LayoutView",
            "align_content": null,
            "align_items": null,
            "align_self": null,
            "border": null,
            "bottom": null,
            "display": null,
            "flex": null,
            "flex_flow": null,
            "grid_area": null,
            "grid_auto_columns": null,
            "grid_auto_flow": null,
            "grid_auto_rows": null,
            "grid_column": null,
            "grid_gap": null,
            "grid_row": null,
            "grid_template_areas": null,
            "grid_template_columns": null,
            "grid_template_rows": null,
            "height": null,
            "justify_content": null,
            "justify_items": null,
            "left": null,
            "margin": null,
            "max_height": null,
            "max_width": null,
            "min_height": null,
            "min_width": null,
            "object_fit": null,
            "object_position": null,
            "order": null,
            "overflow": null,
            "overflow_x": null,
            "overflow_y": null,
            "padding": null,
            "right": null,
            "top": null,
            "visibility": null,
            "width": null
          }
        },
        "7a8523f95b124ee28616e6fe04b99f77": {
          "model_module": "@jupyter-widgets/controls",
          "model_name": "DescriptionStyleModel",
          "model_module_version": "1.5.0",
          "state": {
            "_model_module": "@jupyter-widgets/controls",
            "_model_module_version": "1.5.0",
            "_model_name": "DescriptionStyleModel",
            "_view_count": null,
            "_view_module": "@jupyter-widgets/base",
            "_view_module_version": "1.2.0",
            "_view_name": "StyleView",
            "description_width": ""
          }
        },
        "8478e7c6826846e2acfd25bfe929839e": {
          "model_module": "@jupyter-widgets/base",
          "model_name": "LayoutModel",
          "model_module_version": "1.2.0",
          "state": {
            "_model_module": "@jupyter-widgets/base",
            "_model_module_version": "1.2.0",
            "_model_name": "LayoutModel",
            "_view_count": null,
            "_view_module": "@jupyter-widgets/base",
            "_view_module_version": "1.2.0",
            "_view_name": "LayoutView",
            "align_content": null,
            "align_items": null,
            "align_self": null,
            "border": null,
            "bottom": null,
            "display": null,
            "flex": null,
            "flex_flow": null,
            "grid_area": null,
            "grid_auto_columns": null,
            "grid_auto_flow": null,
            "grid_auto_rows": null,
            "grid_column": null,
            "grid_gap": null,
            "grid_row": null,
            "grid_template_areas": null,
            "grid_template_columns": null,
            "grid_template_rows": null,
            "height": null,
            "justify_content": null,
            "justify_items": null,
            "left": null,
            "margin": null,
            "max_height": null,
            "max_width": null,
            "min_height": null,
            "min_width": null,
            "object_fit": null,
            "object_position": null,
            "order": null,
            "overflow": null,
            "overflow_x": null,
            "overflow_y": null,
            "padding": null,
            "right": null,
            "top": null,
            "visibility": null,
            "width": null
          }
        },
        "485b799d7f7a4c85ac32d7fa52738737": {
          "model_module": "@jupyter-widgets/controls",
          "model_name": "ProgressStyleModel",
          "model_module_version": "1.5.0",
          "state": {
            "_model_module": "@jupyter-widgets/controls",
            "_model_module_version": "1.5.0",
            "_model_name": "ProgressStyleModel",
            "_view_count": null,
            "_view_module": "@jupyter-widgets/base",
            "_view_module_version": "1.2.0",
            "_view_name": "StyleView",
            "bar_color": null,
            "description_width": ""
          }
        },
        "272e0619003b4a68a8bb6280fc8f5675": {
          "model_module": "@jupyter-widgets/controls",
          "model_name": "VBoxModel",
          "model_module_version": "1.5.0",
          "state": {
            "_dom_classes": [],
            "_model_module": "@jupyter-widgets/controls",
            "_model_module_version": "1.5.0",
            "_model_name": "VBoxModel",
            "_view_count": null,
            "_view_module": "@jupyter-widgets/controls",
            "_view_module_version": "1.5.0",
            "_view_name": "VBoxView",
            "box_style": "",
            "children": [
              "IPY_MODEL_407b386beec649bab3ea6bc9489f1103",
              "IPY_MODEL_f3355d025215467ead06b0f811323a98"
            ],
            "layout": "IPY_MODEL_728be2cfbcc24ef2858ca0f21c31d70c"
          }
        },
        "407b386beec649bab3ea6bc9489f1103": {
          "model_module": "@jupyter-widgets/controls",
          "model_name": "LabelModel",
          "model_module_version": "1.5.0",
          "state": {
            "_dom_classes": [],
            "_model_module": "@jupyter-widgets/controls",
            "_model_module_version": "1.5.0",
            "_model_name": "LabelModel",
            "_view_count": null,
            "_view_module": "@jupyter-widgets/controls",
            "_view_module_version": "1.5.0",
            "_view_name": "LabelView",
            "description": "",
            "description_tooltip": null,
            "layout": "IPY_MODEL_fa847d8f58bc4933873db4ca1b6ce023",
            "placeholder": "​",
            "style": "IPY_MODEL_e3dd535694b14b1891d85d4e7ffa7f7f",
            "value": "0.009 MB of 0.009 MB uploaded (0.000 MB deduped)\r"
          }
        },
        "f3355d025215467ead06b0f811323a98": {
          "model_module": "@jupyter-widgets/controls",
          "model_name": "FloatProgressModel",
          "model_module_version": "1.5.0",
          "state": {
            "_dom_classes": [],
            "_model_module": "@jupyter-widgets/controls",
            "_model_module_version": "1.5.0",
            "_model_name": "FloatProgressModel",
            "_view_count": null,
            "_view_module": "@jupyter-widgets/controls",
            "_view_module_version": "1.5.0",
            "_view_name": "ProgressView",
            "bar_style": "",
            "description": "",
            "description_tooltip": null,
            "layout": "IPY_MODEL_f22a03a2205a4d7388681614d537bcd4",
            "max": 1,
            "min": 0,
            "orientation": "horizontal",
            "style": "IPY_MODEL_1a3e64927f644f94a953b61f51bc5401",
            "value": 1
          }
        },
        "728be2cfbcc24ef2858ca0f21c31d70c": {
          "model_module": "@jupyter-widgets/base",
          "model_name": "LayoutModel",
          "model_module_version": "1.2.0",
          "state": {
            "_model_module": "@jupyter-widgets/base",
            "_model_module_version": "1.2.0",
            "_model_name": "LayoutModel",
            "_view_count": null,
            "_view_module": "@jupyter-widgets/base",
            "_view_module_version": "1.2.0",
            "_view_name": "LayoutView",
            "align_content": null,
            "align_items": null,
            "align_self": null,
            "border": null,
            "bottom": null,
            "display": null,
            "flex": null,
            "flex_flow": null,
            "grid_area": null,
            "grid_auto_columns": null,
            "grid_auto_flow": null,
            "grid_auto_rows": null,
            "grid_column": null,
            "grid_gap": null,
            "grid_row": null,
            "grid_template_areas": null,
            "grid_template_columns": null,
            "grid_template_rows": null,
            "height": null,
            "justify_content": null,
            "justify_items": null,
            "left": null,
            "margin": null,
            "max_height": null,
            "max_width": null,
            "min_height": null,
            "min_width": null,
            "object_fit": null,
            "object_position": null,
            "order": null,
            "overflow": null,
            "overflow_x": null,
            "overflow_y": null,
            "padding": null,
            "right": null,
            "top": null,
            "visibility": null,
            "width": null
          }
        },
        "fa847d8f58bc4933873db4ca1b6ce023": {
          "model_module": "@jupyter-widgets/base",
          "model_name": "LayoutModel",
          "model_module_version": "1.2.0",
          "state": {
            "_model_module": "@jupyter-widgets/base",
            "_model_module_version": "1.2.0",
            "_model_name": "LayoutModel",
            "_view_count": null,
            "_view_module": "@jupyter-widgets/base",
            "_view_module_version": "1.2.0",
            "_view_name": "LayoutView",
            "align_content": null,
            "align_items": null,
            "align_self": null,
            "border": null,
            "bottom": null,
            "display": null,
            "flex": null,
            "flex_flow": null,
            "grid_area": null,
            "grid_auto_columns": null,
            "grid_auto_flow": null,
            "grid_auto_rows": null,
            "grid_column": null,
            "grid_gap": null,
            "grid_row": null,
            "grid_template_areas": null,
            "grid_template_columns": null,
            "grid_template_rows": null,
            "height": null,
            "justify_content": null,
            "justify_items": null,
            "left": null,
            "margin": null,
            "max_height": null,
            "max_width": null,
            "min_height": null,
            "min_width": null,
            "object_fit": null,
            "object_position": null,
            "order": null,
            "overflow": null,
            "overflow_x": null,
            "overflow_y": null,
            "padding": null,
            "right": null,
            "top": null,
            "visibility": null,
            "width": null
          }
        },
        "e3dd535694b14b1891d85d4e7ffa7f7f": {
          "model_module": "@jupyter-widgets/controls",
          "model_name": "DescriptionStyleModel",
          "model_module_version": "1.5.0",
          "state": {
            "_model_module": "@jupyter-widgets/controls",
            "_model_module_version": "1.5.0",
            "_model_name": "DescriptionStyleModel",
            "_view_count": null,
            "_view_module": "@jupyter-widgets/base",
            "_view_module_version": "1.2.0",
            "_view_name": "StyleView",
            "description_width": ""
          }
        },
        "f22a03a2205a4d7388681614d537bcd4": {
          "model_module": "@jupyter-widgets/base",
          "model_name": "LayoutModel",
          "model_module_version": "1.2.0",
          "state": {
            "_model_module": "@jupyter-widgets/base",
            "_model_module_version": "1.2.0",
            "_model_name": "LayoutModel",
            "_view_count": null,
            "_view_module": "@jupyter-widgets/base",
            "_view_module_version": "1.2.0",
            "_view_name": "LayoutView",
            "align_content": null,
            "align_items": null,
            "align_self": null,
            "border": null,
            "bottom": null,
            "display": null,
            "flex": null,
            "flex_flow": null,
            "grid_area": null,
            "grid_auto_columns": null,
            "grid_auto_flow": null,
            "grid_auto_rows": null,
            "grid_column": null,
            "grid_gap": null,
            "grid_row": null,
            "grid_template_areas": null,
            "grid_template_columns": null,
            "grid_template_rows": null,
            "height": null,
            "justify_content": null,
            "justify_items": null,
            "left": null,
            "margin": null,
            "max_height": null,
            "max_width": null,
            "min_height": null,
            "min_width": null,
            "object_fit": null,
            "object_position": null,
            "order": null,
            "overflow": null,
            "overflow_x": null,
            "overflow_y": null,
            "padding": null,
            "right": null,
            "top": null,
            "visibility": null,
            "width": null
          }
        },
        "1a3e64927f644f94a953b61f51bc5401": {
          "model_module": "@jupyter-widgets/controls",
          "model_name": "ProgressStyleModel",
          "model_module_version": "1.5.0",
          "state": {
            "_model_module": "@jupyter-widgets/controls",
            "_model_module_version": "1.5.0",
            "_model_name": "ProgressStyleModel",
            "_view_count": null,
            "_view_module": "@jupyter-widgets/base",
            "_view_module_version": "1.2.0",
            "_view_name": "StyleView",
            "bar_color": null,
            "description_width": ""
          }
        },
        "a6765db8a2e249ec974917429049b5b6": {
          "model_module": "@jupyter-widgets/controls",
          "model_name": "VBoxModel",
          "model_module_version": "1.5.0",
          "state": {
            "_dom_classes": [],
            "_model_module": "@jupyter-widgets/controls",
            "_model_module_version": "1.5.0",
            "_model_name": "VBoxModel",
            "_view_count": null,
            "_view_module": "@jupyter-widgets/controls",
            "_view_module_version": "1.5.0",
            "_view_name": "VBoxView",
            "box_style": "",
            "children": [
              "IPY_MODEL_1001b41008c9474fb625a78fc2ca8945",
              "IPY_MODEL_f2f8fea6800b49bc98cb296b89e6bfae"
            ],
            "layout": "IPY_MODEL_ba0bef98aeab47f1991bcceafb8e737b"
          }
        },
        "1001b41008c9474fb625a78fc2ca8945": {
          "model_module": "@jupyter-widgets/controls",
          "model_name": "LabelModel",
          "model_module_version": "1.5.0",
          "state": {
            "_dom_classes": [],
            "_model_module": "@jupyter-widgets/controls",
            "_model_module_version": "1.5.0",
            "_model_name": "LabelModel",
            "_view_count": null,
            "_view_module": "@jupyter-widgets/controls",
            "_view_module_version": "1.5.0",
            "_view_name": "LabelView",
            "description": "",
            "description_tooltip": null,
            "layout": "IPY_MODEL_43fce0b7bbf74eff8db020d1f1b5e95d",
            "placeholder": "​",
            "style": "IPY_MODEL_da37a47bf66a4811a06615c588d176f5",
            "value": "0.009 MB of 0.009 MB uploaded (0.000 MB deduped)\r"
          }
        },
        "f2f8fea6800b49bc98cb296b89e6bfae": {
          "model_module": "@jupyter-widgets/controls",
          "model_name": "FloatProgressModel",
          "model_module_version": "1.5.0",
          "state": {
            "_dom_classes": [],
            "_model_module": "@jupyter-widgets/controls",
            "_model_module_version": "1.5.0",
            "_model_name": "FloatProgressModel",
            "_view_count": null,
            "_view_module": "@jupyter-widgets/controls",
            "_view_module_version": "1.5.0",
            "_view_name": "ProgressView",
            "bar_style": "",
            "description": "",
            "description_tooltip": null,
            "layout": "IPY_MODEL_116c687376bd4ef680798d3ef16d25ce",
            "max": 1,
            "min": 0,
            "orientation": "horizontal",
            "style": "IPY_MODEL_db0cadefe0bc475480c16a2ba63afa35",
            "value": 1
          }
        },
        "ba0bef98aeab47f1991bcceafb8e737b": {
          "model_module": "@jupyter-widgets/base",
          "model_name": "LayoutModel",
          "model_module_version": "1.2.0",
          "state": {
            "_model_module": "@jupyter-widgets/base",
            "_model_module_version": "1.2.0",
            "_model_name": "LayoutModel",
            "_view_count": null,
            "_view_module": "@jupyter-widgets/base",
            "_view_module_version": "1.2.0",
            "_view_name": "LayoutView",
            "align_content": null,
            "align_items": null,
            "align_self": null,
            "border": null,
            "bottom": null,
            "display": null,
            "flex": null,
            "flex_flow": null,
            "grid_area": null,
            "grid_auto_columns": null,
            "grid_auto_flow": null,
            "grid_auto_rows": null,
            "grid_column": null,
            "grid_gap": null,
            "grid_row": null,
            "grid_template_areas": null,
            "grid_template_columns": null,
            "grid_template_rows": null,
            "height": null,
            "justify_content": null,
            "justify_items": null,
            "left": null,
            "margin": null,
            "max_height": null,
            "max_width": null,
            "min_height": null,
            "min_width": null,
            "object_fit": null,
            "object_position": null,
            "order": null,
            "overflow": null,
            "overflow_x": null,
            "overflow_y": null,
            "padding": null,
            "right": null,
            "top": null,
            "visibility": null,
            "width": null
          }
        },
        "43fce0b7bbf74eff8db020d1f1b5e95d": {
          "model_module": "@jupyter-widgets/base",
          "model_name": "LayoutModel",
          "model_module_version": "1.2.0",
          "state": {
            "_model_module": "@jupyter-widgets/base",
            "_model_module_version": "1.2.0",
            "_model_name": "LayoutModel",
            "_view_count": null,
            "_view_module": "@jupyter-widgets/base",
            "_view_module_version": "1.2.0",
            "_view_name": "LayoutView",
            "align_content": null,
            "align_items": null,
            "align_self": null,
            "border": null,
            "bottom": null,
            "display": null,
            "flex": null,
            "flex_flow": null,
            "grid_area": null,
            "grid_auto_columns": null,
            "grid_auto_flow": null,
            "grid_auto_rows": null,
            "grid_column": null,
            "grid_gap": null,
            "grid_row": null,
            "grid_template_areas": null,
            "grid_template_columns": null,
            "grid_template_rows": null,
            "height": null,
            "justify_content": null,
            "justify_items": null,
            "left": null,
            "margin": null,
            "max_height": null,
            "max_width": null,
            "min_height": null,
            "min_width": null,
            "object_fit": null,
            "object_position": null,
            "order": null,
            "overflow": null,
            "overflow_x": null,
            "overflow_y": null,
            "padding": null,
            "right": null,
            "top": null,
            "visibility": null,
            "width": null
          }
        },
        "da37a47bf66a4811a06615c588d176f5": {
          "model_module": "@jupyter-widgets/controls",
          "model_name": "DescriptionStyleModel",
          "model_module_version": "1.5.0",
          "state": {
            "_model_module": "@jupyter-widgets/controls",
            "_model_module_version": "1.5.0",
            "_model_name": "DescriptionStyleModel",
            "_view_count": null,
            "_view_module": "@jupyter-widgets/base",
            "_view_module_version": "1.2.0",
            "_view_name": "StyleView",
            "description_width": ""
          }
        },
        "116c687376bd4ef680798d3ef16d25ce": {
          "model_module": "@jupyter-widgets/base",
          "model_name": "LayoutModel",
          "model_module_version": "1.2.0",
          "state": {
            "_model_module": "@jupyter-widgets/base",
            "_model_module_version": "1.2.0",
            "_model_name": "LayoutModel",
            "_view_count": null,
            "_view_module": "@jupyter-widgets/base",
            "_view_module_version": "1.2.0",
            "_view_name": "LayoutView",
            "align_content": null,
            "align_items": null,
            "align_self": null,
            "border": null,
            "bottom": null,
            "display": null,
            "flex": null,
            "flex_flow": null,
            "grid_area": null,
            "grid_auto_columns": null,
            "grid_auto_flow": null,
            "grid_auto_rows": null,
            "grid_column": null,
            "grid_gap": null,
            "grid_row": null,
            "grid_template_areas": null,
            "grid_template_columns": null,
            "grid_template_rows": null,
            "height": null,
            "justify_content": null,
            "justify_items": null,
            "left": null,
            "margin": null,
            "max_height": null,
            "max_width": null,
            "min_height": null,
            "min_width": null,
            "object_fit": null,
            "object_position": null,
            "order": null,
            "overflow": null,
            "overflow_x": null,
            "overflow_y": null,
            "padding": null,
            "right": null,
            "top": null,
            "visibility": null,
            "width": null
          }
        },
        "db0cadefe0bc475480c16a2ba63afa35": {
          "model_module": "@jupyter-widgets/controls",
          "model_name": "ProgressStyleModel",
          "model_module_version": "1.5.0",
          "state": {
            "_model_module": "@jupyter-widgets/controls",
            "_model_module_version": "1.5.0",
            "_model_name": "ProgressStyleModel",
            "_view_count": null,
            "_view_module": "@jupyter-widgets/base",
            "_view_module_version": "1.2.0",
            "_view_name": "StyleView",
            "bar_color": null,
            "description_width": ""
          }
        },
        "50ccbe3305834c79b8f33c7b1f370117": {
          "model_module": "@jupyter-widgets/controls",
          "model_name": "VBoxModel",
          "model_module_version": "1.5.0",
          "state": {
            "_dom_classes": [],
            "_model_module": "@jupyter-widgets/controls",
            "_model_module_version": "1.5.0",
            "_model_name": "VBoxModel",
            "_view_count": null,
            "_view_module": "@jupyter-widgets/controls",
            "_view_module_version": "1.5.0",
            "_view_name": "VBoxView",
            "box_style": "",
            "children": [
              "IPY_MODEL_011045cd83324d13a9ab3aacdc897588",
              "IPY_MODEL_8a80c146e9b44d32ab2646558bbcf714"
            ],
            "layout": "IPY_MODEL_12319fac3722407db5c8c962a0dd15de"
          }
        },
        "011045cd83324d13a9ab3aacdc897588": {
          "model_module": "@jupyter-widgets/controls",
          "model_name": "LabelModel",
          "model_module_version": "1.5.0",
          "state": {
            "_dom_classes": [],
            "_model_module": "@jupyter-widgets/controls",
            "_model_module_version": "1.5.0",
            "_model_name": "LabelModel",
            "_view_count": null,
            "_view_module": "@jupyter-widgets/controls",
            "_view_module_version": "1.5.0",
            "_view_name": "LabelView",
            "description": "",
            "description_tooltip": null,
            "layout": "IPY_MODEL_b56d93570fc1415093cc8521d5ab944d",
            "placeholder": "​",
            "style": "IPY_MODEL_2da4c89615494cb5a848f1e5d4788a41",
            "value": "0.009 MB of 0.009 MB uploaded (0.000 MB deduped)\r"
          }
        },
        "8a80c146e9b44d32ab2646558bbcf714": {
          "model_module": "@jupyter-widgets/controls",
          "model_name": "FloatProgressModel",
          "model_module_version": "1.5.0",
          "state": {
            "_dom_classes": [],
            "_model_module": "@jupyter-widgets/controls",
            "_model_module_version": "1.5.0",
            "_model_name": "FloatProgressModel",
            "_view_count": null,
            "_view_module": "@jupyter-widgets/controls",
            "_view_module_version": "1.5.0",
            "_view_name": "ProgressView",
            "bar_style": "",
            "description": "",
            "description_tooltip": null,
            "layout": "IPY_MODEL_6444ec1f36a749f78a900cb62ef89491",
            "max": 1,
            "min": 0,
            "orientation": "horizontal",
            "style": "IPY_MODEL_88835b0c068b445a99dc4ef98bec396d",
            "value": 1
          }
        },
        "12319fac3722407db5c8c962a0dd15de": {
          "model_module": "@jupyter-widgets/base",
          "model_name": "LayoutModel",
          "model_module_version": "1.2.0",
          "state": {
            "_model_module": "@jupyter-widgets/base",
            "_model_module_version": "1.2.0",
            "_model_name": "LayoutModel",
            "_view_count": null,
            "_view_module": "@jupyter-widgets/base",
            "_view_module_version": "1.2.0",
            "_view_name": "LayoutView",
            "align_content": null,
            "align_items": null,
            "align_self": null,
            "border": null,
            "bottom": null,
            "display": null,
            "flex": null,
            "flex_flow": null,
            "grid_area": null,
            "grid_auto_columns": null,
            "grid_auto_flow": null,
            "grid_auto_rows": null,
            "grid_column": null,
            "grid_gap": null,
            "grid_row": null,
            "grid_template_areas": null,
            "grid_template_columns": null,
            "grid_template_rows": null,
            "height": null,
            "justify_content": null,
            "justify_items": null,
            "left": null,
            "margin": null,
            "max_height": null,
            "max_width": null,
            "min_height": null,
            "min_width": null,
            "object_fit": null,
            "object_position": null,
            "order": null,
            "overflow": null,
            "overflow_x": null,
            "overflow_y": null,
            "padding": null,
            "right": null,
            "top": null,
            "visibility": null,
            "width": null
          }
        },
        "b56d93570fc1415093cc8521d5ab944d": {
          "model_module": "@jupyter-widgets/base",
          "model_name": "LayoutModel",
          "model_module_version": "1.2.0",
          "state": {
            "_model_module": "@jupyter-widgets/base",
            "_model_module_version": "1.2.0",
            "_model_name": "LayoutModel",
            "_view_count": null,
            "_view_module": "@jupyter-widgets/base",
            "_view_module_version": "1.2.0",
            "_view_name": "LayoutView",
            "align_content": null,
            "align_items": null,
            "align_self": null,
            "border": null,
            "bottom": null,
            "display": null,
            "flex": null,
            "flex_flow": null,
            "grid_area": null,
            "grid_auto_columns": null,
            "grid_auto_flow": null,
            "grid_auto_rows": null,
            "grid_column": null,
            "grid_gap": null,
            "grid_row": null,
            "grid_template_areas": null,
            "grid_template_columns": null,
            "grid_template_rows": null,
            "height": null,
            "justify_content": null,
            "justify_items": null,
            "left": null,
            "margin": null,
            "max_height": null,
            "max_width": null,
            "min_height": null,
            "min_width": null,
            "object_fit": null,
            "object_position": null,
            "order": null,
            "overflow": null,
            "overflow_x": null,
            "overflow_y": null,
            "padding": null,
            "right": null,
            "top": null,
            "visibility": null,
            "width": null
          }
        },
        "2da4c89615494cb5a848f1e5d4788a41": {
          "model_module": "@jupyter-widgets/controls",
          "model_name": "DescriptionStyleModel",
          "model_module_version": "1.5.0",
          "state": {
            "_model_module": "@jupyter-widgets/controls",
            "_model_module_version": "1.5.0",
            "_model_name": "DescriptionStyleModel",
            "_view_count": null,
            "_view_module": "@jupyter-widgets/base",
            "_view_module_version": "1.2.0",
            "_view_name": "StyleView",
            "description_width": ""
          }
        },
        "6444ec1f36a749f78a900cb62ef89491": {
          "model_module": "@jupyter-widgets/base",
          "model_name": "LayoutModel",
          "model_module_version": "1.2.0",
          "state": {
            "_model_module": "@jupyter-widgets/base",
            "_model_module_version": "1.2.0",
            "_model_name": "LayoutModel",
            "_view_count": null,
            "_view_module": "@jupyter-widgets/base",
            "_view_module_version": "1.2.0",
            "_view_name": "LayoutView",
            "align_content": null,
            "align_items": null,
            "align_self": null,
            "border": null,
            "bottom": null,
            "display": null,
            "flex": null,
            "flex_flow": null,
            "grid_area": null,
            "grid_auto_columns": null,
            "grid_auto_flow": null,
            "grid_auto_rows": null,
            "grid_column": null,
            "grid_gap": null,
            "grid_row": null,
            "grid_template_areas": null,
            "grid_template_columns": null,
            "grid_template_rows": null,
            "height": null,
            "justify_content": null,
            "justify_items": null,
            "left": null,
            "margin": null,
            "max_height": null,
            "max_width": null,
            "min_height": null,
            "min_width": null,
            "object_fit": null,
            "object_position": null,
            "order": null,
            "overflow": null,
            "overflow_x": null,
            "overflow_y": null,
            "padding": null,
            "right": null,
            "top": null,
            "visibility": null,
            "width": null
          }
        },
        "88835b0c068b445a99dc4ef98bec396d": {
          "model_module": "@jupyter-widgets/controls",
          "model_name": "ProgressStyleModel",
          "model_module_version": "1.5.0",
          "state": {
            "_model_module": "@jupyter-widgets/controls",
            "_model_module_version": "1.5.0",
            "_model_name": "ProgressStyleModel",
            "_view_count": null,
            "_view_module": "@jupyter-widgets/base",
            "_view_module_version": "1.2.0",
            "_view_name": "StyleView",
            "bar_color": null,
            "description_width": ""
          }
        },
        "b5da01969f20481681afb5d81276f55a": {
          "model_module": "@jupyter-widgets/controls",
          "model_name": "VBoxModel",
          "model_module_version": "1.5.0",
          "state": {
            "_dom_classes": [],
            "_model_module": "@jupyter-widgets/controls",
            "_model_module_version": "1.5.0",
            "_model_name": "VBoxModel",
            "_view_count": null,
            "_view_module": "@jupyter-widgets/controls",
            "_view_module_version": "1.5.0",
            "_view_name": "VBoxView",
            "box_style": "",
            "children": [
              "IPY_MODEL_23eae827bbb64ab19fbae01b403ebc75",
              "IPY_MODEL_192a1997033a459da90bc01849343b23"
            ],
            "layout": "IPY_MODEL_765a5ab37636403aa7ac4778e8589955"
          }
        },
        "23eae827bbb64ab19fbae01b403ebc75": {
          "model_module": "@jupyter-widgets/controls",
          "model_name": "LabelModel",
          "model_module_version": "1.5.0",
          "state": {
            "_dom_classes": [],
            "_model_module": "@jupyter-widgets/controls",
            "_model_module_version": "1.5.0",
            "_model_name": "LabelModel",
            "_view_count": null,
            "_view_module": "@jupyter-widgets/controls",
            "_view_module_version": "1.5.0",
            "_view_name": "LabelView",
            "description": "",
            "description_tooltip": null,
            "layout": "IPY_MODEL_cc7ec01164ab44ad9f7632a69a0da7ec",
            "placeholder": "​",
            "style": "IPY_MODEL_3bbc5923713045c69e1cdd76b41d57f1",
            "value": "0.009 MB of 0.009 MB uploaded (0.000 MB deduped)\r"
          }
        },
        "192a1997033a459da90bc01849343b23": {
          "model_module": "@jupyter-widgets/controls",
          "model_name": "FloatProgressModel",
          "model_module_version": "1.5.0",
          "state": {
            "_dom_classes": [],
            "_model_module": "@jupyter-widgets/controls",
            "_model_module_version": "1.5.0",
            "_model_name": "FloatProgressModel",
            "_view_count": null,
            "_view_module": "@jupyter-widgets/controls",
            "_view_module_version": "1.5.0",
            "_view_name": "ProgressView",
            "bar_style": "",
            "description": "",
            "description_tooltip": null,
            "layout": "IPY_MODEL_e5dde4d401794f38b83bd4dd1eedacb3",
            "max": 1,
            "min": 0,
            "orientation": "horizontal",
            "style": "IPY_MODEL_c90fdff30ce4442bbffe91e9ae18d3be",
            "value": 1
          }
        },
        "765a5ab37636403aa7ac4778e8589955": {
          "model_module": "@jupyter-widgets/base",
          "model_name": "LayoutModel",
          "model_module_version": "1.2.0",
          "state": {
            "_model_module": "@jupyter-widgets/base",
            "_model_module_version": "1.2.0",
            "_model_name": "LayoutModel",
            "_view_count": null,
            "_view_module": "@jupyter-widgets/base",
            "_view_module_version": "1.2.0",
            "_view_name": "LayoutView",
            "align_content": null,
            "align_items": null,
            "align_self": null,
            "border": null,
            "bottom": null,
            "display": null,
            "flex": null,
            "flex_flow": null,
            "grid_area": null,
            "grid_auto_columns": null,
            "grid_auto_flow": null,
            "grid_auto_rows": null,
            "grid_column": null,
            "grid_gap": null,
            "grid_row": null,
            "grid_template_areas": null,
            "grid_template_columns": null,
            "grid_template_rows": null,
            "height": null,
            "justify_content": null,
            "justify_items": null,
            "left": null,
            "margin": null,
            "max_height": null,
            "max_width": null,
            "min_height": null,
            "min_width": null,
            "object_fit": null,
            "object_position": null,
            "order": null,
            "overflow": null,
            "overflow_x": null,
            "overflow_y": null,
            "padding": null,
            "right": null,
            "top": null,
            "visibility": null,
            "width": null
          }
        },
        "cc7ec01164ab44ad9f7632a69a0da7ec": {
          "model_module": "@jupyter-widgets/base",
          "model_name": "LayoutModel",
          "model_module_version": "1.2.0",
          "state": {
            "_model_module": "@jupyter-widgets/base",
            "_model_module_version": "1.2.0",
            "_model_name": "LayoutModel",
            "_view_count": null,
            "_view_module": "@jupyter-widgets/base",
            "_view_module_version": "1.2.0",
            "_view_name": "LayoutView",
            "align_content": null,
            "align_items": null,
            "align_self": null,
            "border": null,
            "bottom": null,
            "display": null,
            "flex": null,
            "flex_flow": null,
            "grid_area": null,
            "grid_auto_columns": null,
            "grid_auto_flow": null,
            "grid_auto_rows": null,
            "grid_column": null,
            "grid_gap": null,
            "grid_row": null,
            "grid_template_areas": null,
            "grid_template_columns": null,
            "grid_template_rows": null,
            "height": null,
            "justify_content": null,
            "justify_items": null,
            "left": null,
            "margin": null,
            "max_height": null,
            "max_width": null,
            "min_height": null,
            "min_width": null,
            "object_fit": null,
            "object_position": null,
            "order": null,
            "overflow": null,
            "overflow_x": null,
            "overflow_y": null,
            "padding": null,
            "right": null,
            "top": null,
            "visibility": null,
            "width": null
          }
        },
        "3bbc5923713045c69e1cdd76b41d57f1": {
          "model_module": "@jupyter-widgets/controls",
          "model_name": "DescriptionStyleModel",
          "model_module_version": "1.5.0",
          "state": {
            "_model_module": "@jupyter-widgets/controls",
            "_model_module_version": "1.5.0",
            "_model_name": "DescriptionStyleModel",
            "_view_count": null,
            "_view_module": "@jupyter-widgets/base",
            "_view_module_version": "1.2.0",
            "_view_name": "StyleView",
            "description_width": ""
          }
        },
        "e5dde4d401794f38b83bd4dd1eedacb3": {
          "model_module": "@jupyter-widgets/base",
          "model_name": "LayoutModel",
          "model_module_version": "1.2.0",
          "state": {
            "_model_module": "@jupyter-widgets/base",
            "_model_module_version": "1.2.0",
            "_model_name": "LayoutModel",
            "_view_count": null,
            "_view_module": "@jupyter-widgets/base",
            "_view_module_version": "1.2.0",
            "_view_name": "LayoutView",
            "align_content": null,
            "align_items": null,
            "align_self": null,
            "border": null,
            "bottom": null,
            "display": null,
            "flex": null,
            "flex_flow": null,
            "grid_area": null,
            "grid_auto_columns": null,
            "grid_auto_flow": null,
            "grid_auto_rows": null,
            "grid_column": null,
            "grid_gap": null,
            "grid_row": null,
            "grid_template_areas": null,
            "grid_template_columns": null,
            "grid_template_rows": null,
            "height": null,
            "justify_content": null,
            "justify_items": null,
            "left": null,
            "margin": null,
            "max_height": null,
            "max_width": null,
            "min_height": null,
            "min_width": null,
            "object_fit": null,
            "object_position": null,
            "order": null,
            "overflow": null,
            "overflow_x": null,
            "overflow_y": null,
            "padding": null,
            "right": null,
            "top": null,
            "visibility": null,
            "width": null
          }
        },
        "c90fdff30ce4442bbffe91e9ae18d3be": {
          "model_module": "@jupyter-widgets/controls",
          "model_name": "ProgressStyleModel",
          "model_module_version": "1.5.0",
          "state": {
            "_model_module": "@jupyter-widgets/controls",
            "_model_module_version": "1.5.0",
            "_model_name": "ProgressStyleModel",
            "_view_count": null,
            "_view_module": "@jupyter-widgets/base",
            "_view_module_version": "1.2.0",
            "_view_name": "StyleView",
            "bar_color": null,
            "description_width": ""
          }
        },
        "2e950d214ac24d6c84646481af2f34a9": {
          "model_module": "@jupyter-widgets/controls",
          "model_name": "VBoxModel",
          "model_module_version": "1.5.0",
          "state": {
            "_dom_classes": [],
            "_model_module": "@jupyter-widgets/controls",
            "_model_module_version": "1.5.0",
            "_model_name": "VBoxModel",
            "_view_count": null,
            "_view_module": "@jupyter-widgets/controls",
            "_view_module_version": "1.5.0",
            "_view_name": "VBoxView",
            "box_style": "",
            "children": [
              "IPY_MODEL_9539952340c04c9eab867f0f9ab1bb8e",
              "IPY_MODEL_88f50fa2ff144825a28d65320a0d6d16"
            ],
            "layout": "IPY_MODEL_fed27a67d3a346918093601eda88c679"
          }
        },
        "9539952340c04c9eab867f0f9ab1bb8e": {
          "model_module": "@jupyter-widgets/controls",
          "model_name": "LabelModel",
          "model_module_version": "1.5.0",
          "state": {
            "_dom_classes": [],
            "_model_module": "@jupyter-widgets/controls",
            "_model_module_version": "1.5.0",
            "_model_name": "LabelModel",
            "_view_count": null,
            "_view_module": "@jupyter-widgets/controls",
            "_view_module_version": "1.5.0",
            "_view_name": "LabelView",
            "description": "",
            "description_tooltip": null,
            "layout": "IPY_MODEL_828949f641cf4eca87181d95e59a9ad7",
            "placeholder": "​",
            "style": "IPY_MODEL_585c7b8cfefb4654a255bfa516845f75",
            "value": "0.009 MB of 0.009 MB uploaded (0.000 MB deduped)\r"
          }
        },
        "88f50fa2ff144825a28d65320a0d6d16": {
          "model_module": "@jupyter-widgets/controls",
          "model_name": "FloatProgressModel",
          "model_module_version": "1.5.0",
          "state": {
            "_dom_classes": [],
            "_model_module": "@jupyter-widgets/controls",
            "_model_module_version": "1.5.0",
            "_model_name": "FloatProgressModel",
            "_view_count": null,
            "_view_module": "@jupyter-widgets/controls",
            "_view_module_version": "1.5.0",
            "_view_name": "ProgressView",
            "bar_style": "",
            "description": "",
            "description_tooltip": null,
            "layout": "IPY_MODEL_682269d81b514682a91986087d204c25",
            "max": 1,
            "min": 0,
            "orientation": "horizontal",
            "style": "IPY_MODEL_b25dffcff7ef4d278d758e055659370d",
            "value": 1
          }
        },
        "fed27a67d3a346918093601eda88c679": {
          "model_module": "@jupyter-widgets/base",
          "model_name": "LayoutModel",
          "model_module_version": "1.2.0",
          "state": {
            "_model_module": "@jupyter-widgets/base",
            "_model_module_version": "1.2.0",
            "_model_name": "LayoutModel",
            "_view_count": null,
            "_view_module": "@jupyter-widgets/base",
            "_view_module_version": "1.2.0",
            "_view_name": "LayoutView",
            "align_content": null,
            "align_items": null,
            "align_self": null,
            "border": null,
            "bottom": null,
            "display": null,
            "flex": null,
            "flex_flow": null,
            "grid_area": null,
            "grid_auto_columns": null,
            "grid_auto_flow": null,
            "grid_auto_rows": null,
            "grid_column": null,
            "grid_gap": null,
            "grid_row": null,
            "grid_template_areas": null,
            "grid_template_columns": null,
            "grid_template_rows": null,
            "height": null,
            "justify_content": null,
            "justify_items": null,
            "left": null,
            "margin": null,
            "max_height": null,
            "max_width": null,
            "min_height": null,
            "min_width": null,
            "object_fit": null,
            "object_position": null,
            "order": null,
            "overflow": null,
            "overflow_x": null,
            "overflow_y": null,
            "padding": null,
            "right": null,
            "top": null,
            "visibility": null,
            "width": null
          }
        },
        "828949f641cf4eca87181d95e59a9ad7": {
          "model_module": "@jupyter-widgets/base",
          "model_name": "LayoutModel",
          "model_module_version": "1.2.0",
          "state": {
            "_model_module": "@jupyter-widgets/base",
            "_model_module_version": "1.2.0",
            "_model_name": "LayoutModel",
            "_view_count": null,
            "_view_module": "@jupyter-widgets/base",
            "_view_module_version": "1.2.0",
            "_view_name": "LayoutView",
            "align_content": null,
            "align_items": null,
            "align_self": null,
            "border": null,
            "bottom": null,
            "display": null,
            "flex": null,
            "flex_flow": null,
            "grid_area": null,
            "grid_auto_columns": null,
            "grid_auto_flow": null,
            "grid_auto_rows": null,
            "grid_column": null,
            "grid_gap": null,
            "grid_row": null,
            "grid_template_areas": null,
            "grid_template_columns": null,
            "grid_template_rows": null,
            "height": null,
            "justify_content": null,
            "justify_items": null,
            "left": null,
            "margin": null,
            "max_height": null,
            "max_width": null,
            "min_height": null,
            "min_width": null,
            "object_fit": null,
            "object_position": null,
            "order": null,
            "overflow": null,
            "overflow_x": null,
            "overflow_y": null,
            "padding": null,
            "right": null,
            "top": null,
            "visibility": null,
            "width": null
          }
        },
        "585c7b8cfefb4654a255bfa516845f75": {
          "model_module": "@jupyter-widgets/controls",
          "model_name": "DescriptionStyleModel",
          "model_module_version": "1.5.0",
          "state": {
            "_model_module": "@jupyter-widgets/controls",
            "_model_module_version": "1.5.0",
            "_model_name": "DescriptionStyleModel",
            "_view_count": null,
            "_view_module": "@jupyter-widgets/base",
            "_view_module_version": "1.2.0",
            "_view_name": "StyleView",
            "description_width": ""
          }
        },
        "682269d81b514682a91986087d204c25": {
          "model_module": "@jupyter-widgets/base",
          "model_name": "LayoutModel",
          "model_module_version": "1.2.0",
          "state": {
            "_model_module": "@jupyter-widgets/base",
            "_model_module_version": "1.2.0",
            "_model_name": "LayoutModel",
            "_view_count": null,
            "_view_module": "@jupyter-widgets/base",
            "_view_module_version": "1.2.0",
            "_view_name": "LayoutView",
            "align_content": null,
            "align_items": null,
            "align_self": null,
            "border": null,
            "bottom": null,
            "display": null,
            "flex": null,
            "flex_flow": null,
            "grid_area": null,
            "grid_auto_columns": null,
            "grid_auto_flow": null,
            "grid_auto_rows": null,
            "grid_column": null,
            "grid_gap": null,
            "grid_row": null,
            "grid_template_areas": null,
            "grid_template_columns": null,
            "grid_template_rows": null,
            "height": null,
            "justify_content": null,
            "justify_items": null,
            "left": null,
            "margin": null,
            "max_height": null,
            "max_width": null,
            "min_height": null,
            "min_width": null,
            "object_fit": null,
            "object_position": null,
            "order": null,
            "overflow": null,
            "overflow_x": null,
            "overflow_y": null,
            "padding": null,
            "right": null,
            "top": null,
            "visibility": null,
            "width": null
          }
        },
        "b25dffcff7ef4d278d758e055659370d": {
          "model_module": "@jupyter-widgets/controls",
          "model_name": "ProgressStyleModel",
          "model_module_version": "1.5.0",
          "state": {
            "_model_module": "@jupyter-widgets/controls",
            "_model_module_version": "1.5.0",
            "_model_name": "ProgressStyleModel",
            "_view_count": null,
            "_view_module": "@jupyter-widgets/base",
            "_view_module_version": "1.2.0",
            "_view_name": "StyleView",
            "bar_color": null,
            "description_width": ""
          }
        },
        "6873322a195445a6bb24f04ad544222b": {
          "model_module": "@jupyter-widgets/controls",
          "model_name": "VBoxModel",
          "model_module_version": "1.5.0",
          "state": {
            "_dom_classes": [],
            "_model_module": "@jupyter-widgets/controls",
            "_model_module_version": "1.5.0",
            "_model_name": "VBoxModel",
            "_view_count": null,
            "_view_module": "@jupyter-widgets/controls",
            "_view_module_version": "1.5.0",
            "_view_name": "VBoxView",
            "box_style": "",
            "children": [
              "IPY_MODEL_270e980e1505492eab799753b77926fd",
              "IPY_MODEL_69c75aee79614c4d8a072776d9c57306"
            ],
            "layout": "IPY_MODEL_de2bae26e3854f1cb78d287e80ebfa65"
          }
        },
        "270e980e1505492eab799753b77926fd": {
          "model_module": "@jupyter-widgets/controls",
          "model_name": "LabelModel",
          "model_module_version": "1.5.0",
          "state": {
            "_dom_classes": [],
            "_model_module": "@jupyter-widgets/controls",
            "_model_module_version": "1.5.0",
            "_model_name": "LabelModel",
            "_view_count": null,
            "_view_module": "@jupyter-widgets/controls",
            "_view_module_version": "1.5.0",
            "_view_name": "LabelView",
            "description": "",
            "description_tooltip": null,
            "layout": "IPY_MODEL_6ca1e24e4e254f148214a1e3a8d71674",
            "placeholder": "​",
            "style": "IPY_MODEL_10e49220292247c9b04d7928e9771dbe",
            "value": "0.009 MB of 0.009 MB uploaded (0.000 MB deduped)\r"
          }
        },
        "69c75aee79614c4d8a072776d9c57306": {
          "model_module": "@jupyter-widgets/controls",
          "model_name": "FloatProgressModel",
          "model_module_version": "1.5.0",
          "state": {
            "_dom_classes": [],
            "_model_module": "@jupyter-widgets/controls",
            "_model_module_version": "1.5.0",
            "_model_name": "FloatProgressModel",
            "_view_count": null,
            "_view_module": "@jupyter-widgets/controls",
            "_view_module_version": "1.5.0",
            "_view_name": "ProgressView",
            "bar_style": "",
            "description": "",
            "description_tooltip": null,
            "layout": "IPY_MODEL_ee699f78f9574aa3946100f29655d17b",
            "max": 1,
            "min": 0,
            "orientation": "horizontal",
            "style": "IPY_MODEL_507dd9b460914770b0a70b0045f4bffb",
            "value": 1
          }
        },
        "de2bae26e3854f1cb78d287e80ebfa65": {
          "model_module": "@jupyter-widgets/base",
          "model_name": "LayoutModel",
          "model_module_version": "1.2.0",
          "state": {
            "_model_module": "@jupyter-widgets/base",
            "_model_module_version": "1.2.0",
            "_model_name": "LayoutModel",
            "_view_count": null,
            "_view_module": "@jupyter-widgets/base",
            "_view_module_version": "1.2.0",
            "_view_name": "LayoutView",
            "align_content": null,
            "align_items": null,
            "align_self": null,
            "border": null,
            "bottom": null,
            "display": null,
            "flex": null,
            "flex_flow": null,
            "grid_area": null,
            "grid_auto_columns": null,
            "grid_auto_flow": null,
            "grid_auto_rows": null,
            "grid_column": null,
            "grid_gap": null,
            "grid_row": null,
            "grid_template_areas": null,
            "grid_template_columns": null,
            "grid_template_rows": null,
            "height": null,
            "justify_content": null,
            "justify_items": null,
            "left": null,
            "margin": null,
            "max_height": null,
            "max_width": null,
            "min_height": null,
            "min_width": null,
            "object_fit": null,
            "object_position": null,
            "order": null,
            "overflow": null,
            "overflow_x": null,
            "overflow_y": null,
            "padding": null,
            "right": null,
            "top": null,
            "visibility": null,
            "width": null
          }
        },
        "6ca1e24e4e254f148214a1e3a8d71674": {
          "model_module": "@jupyter-widgets/base",
          "model_name": "LayoutModel",
          "model_module_version": "1.2.0",
          "state": {
            "_model_module": "@jupyter-widgets/base",
            "_model_module_version": "1.2.0",
            "_model_name": "LayoutModel",
            "_view_count": null,
            "_view_module": "@jupyter-widgets/base",
            "_view_module_version": "1.2.0",
            "_view_name": "LayoutView",
            "align_content": null,
            "align_items": null,
            "align_self": null,
            "border": null,
            "bottom": null,
            "display": null,
            "flex": null,
            "flex_flow": null,
            "grid_area": null,
            "grid_auto_columns": null,
            "grid_auto_flow": null,
            "grid_auto_rows": null,
            "grid_column": null,
            "grid_gap": null,
            "grid_row": null,
            "grid_template_areas": null,
            "grid_template_columns": null,
            "grid_template_rows": null,
            "height": null,
            "justify_content": null,
            "justify_items": null,
            "left": null,
            "margin": null,
            "max_height": null,
            "max_width": null,
            "min_height": null,
            "min_width": null,
            "object_fit": null,
            "object_position": null,
            "order": null,
            "overflow": null,
            "overflow_x": null,
            "overflow_y": null,
            "padding": null,
            "right": null,
            "top": null,
            "visibility": null,
            "width": null
          }
        },
        "10e49220292247c9b04d7928e9771dbe": {
          "model_module": "@jupyter-widgets/controls",
          "model_name": "DescriptionStyleModel",
          "model_module_version": "1.5.0",
          "state": {
            "_model_module": "@jupyter-widgets/controls",
            "_model_module_version": "1.5.0",
            "_model_name": "DescriptionStyleModel",
            "_view_count": null,
            "_view_module": "@jupyter-widgets/base",
            "_view_module_version": "1.2.0",
            "_view_name": "StyleView",
            "description_width": ""
          }
        },
        "ee699f78f9574aa3946100f29655d17b": {
          "model_module": "@jupyter-widgets/base",
          "model_name": "LayoutModel",
          "model_module_version": "1.2.0",
          "state": {
            "_model_module": "@jupyter-widgets/base",
            "_model_module_version": "1.2.0",
            "_model_name": "LayoutModel",
            "_view_count": null,
            "_view_module": "@jupyter-widgets/base",
            "_view_module_version": "1.2.0",
            "_view_name": "LayoutView",
            "align_content": null,
            "align_items": null,
            "align_self": null,
            "border": null,
            "bottom": null,
            "display": null,
            "flex": null,
            "flex_flow": null,
            "grid_area": null,
            "grid_auto_columns": null,
            "grid_auto_flow": null,
            "grid_auto_rows": null,
            "grid_column": null,
            "grid_gap": null,
            "grid_row": null,
            "grid_template_areas": null,
            "grid_template_columns": null,
            "grid_template_rows": null,
            "height": null,
            "justify_content": null,
            "justify_items": null,
            "left": null,
            "margin": null,
            "max_height": null,
            "max_width": null,
            "min_height": null,
            "min_width": null,
            "object_fit": null,
            "object_position": null,
            "order": null,
            "overflow": null,
            "overflow_x": null,
            "overflow_y": null,
            "padding": null,
            "right": null,
            "top": null,
            "visibility": null,
            "width": null
          }
        },
        "507dd9b460914770b0a70b0045f4bffb": {
          "model_module": "@jupyter-widgets/controls",
          "model_name": "ProgressStyleModel",
          "model_module_version": "1.5.0",
          "state": {
            "_model_module": "@jupyter-widgets/controls",
            "_model_module_version": "1.5.0",
            "_model_name": "ProgressStyleModel",
            "_view_count": null,
            "_view_module": "@jupyter-widgets/base",
            "_view_module_version": "1.2.0",
            "_view_name": "StyleView",
            "bar_color": null,
            "description_width": ""
          }
        },
        "37a20d97d1b64743bb3f006b6ccac5a7": {
          "model_module": "@jupyter-widgets/controls",
          "model_name": "VBoxModel",
          "model_module_version": "1.5.0",
          "state": {
            "_dom_classes": [],
            "_model_module": "@jupyter-widgets/controls",
            "_model_module_version": "1.5.0",
            "_model_name": "VBoxModel",
            "_view_count": null,
            "_view_module": "@jupyter-widgets/controls",
            "_view_module_version": "1.5.0",
            "_view_name": "VBoxView",
            "box_style": "",
            "children": [
              "IPY_MODEL_e298b06c70ac4bfa8a1218330613847a",
              "IPY_MODEL_940583d2922c4592a03fb1792b6b9c00"
            ],
            "layout": "IPY_MODEL_6c6d9591d2e24e82b81ba4fc8329d377"
          }
        },
        "e298b06c70ac4bfa8a1218330613847a": {
          "model_module": "@jupyter-widgets/controls",
          "model_name": "LabelModel",
          "model_module_version": "1.5.0",
          "state": {
            "_dom_classes": [],
            "_model_module": "@jupyter-widgets/controls",
            "_model_module_version": "1.5.0",
            "_model_name": "LabelModel",
            "_view_count": null,
            "_view_module": "@jupyter-widgets/controls",
            "_view_module_version": "1.5.0",
            "_view_name": "LabelView",
            "description": "",
            "description_tooltip": null,
            "layout": "IPY_MODEL_e22098a0b94b408f9e5ebbe694f2df12",
            "placeholder": "​",
            "style": "IPY_MODEL_9c0e57d1267e49c08a0dcea7dbf24003",
            "value": "0.009 MB of 0.009 MB uploaded (0.000 MB deduped)\r"
          }
        },
        "940583d2922c4592a03fb1792b6b9c00": {
          "model_module": "@jupyter-widgets/controls",
          "model_name": "FloatProgressModel",
          "model_module_version": "1.5.0",
          "state": {
            "_dom_classes": [],
            "_model_module": "@jupyter-widgets/controls",
            "_model_module_version": "1.5.0",
            "_model_name": "FloatProgressModel",
            "_view_count": null,
            "_view_module": "@jupyter-widgets/controls",
            "_view_module_version": "1.5.0",
            "_view_name": "ProgressView",
            "bar_style": "",
            "description": "",
            "description_tooltip": null,
            "layout": "IPY_MODEL_26bd00aaa03143d89f9d1a96da6dd0cb",
            "max": 1,
            "min": 0,
            "orientation": "horizontal",
            "style": "IPY_MODEL_11b7fee60b954881bc0e0592d05840ee",
            "value": 1
          }
        },
        "6c6d9591d2e24e82b81ba4fc8329d377": {
          "model_module": "@jupyter-widgets/base",
          "model_name": "LayoutModel",
          "model_module_version": "1.2.0",
          "state": {
            "_model_module": "@jupyter-widgets/base",
            "_model_module_version": "1.2.0",
            "_model_name": "LayoutModel",
            "_view_count": null,
            "_view_module": "@jupyter-widgets/base",
            "_view_module_version": "1.2.0",
            "_view_name": "LayoutView",
            "align_content": null,
            "align_items": null,
            "align_self": null,
            "border": null,
            "bottom": null,
            "display": null,
            "flex": null,
            "flex_flow": null,
            "grid_area": null,
            "grid_auto_columns": null,
            "grid_auto_flow": null,
            "grid_auto_rows": null,
            "grid_column": null,
            "grid_gap": null,
            "grid_row": null,
            "grid_template_areas": null,
            "grid_template_columns": null,
            "grid_template_rows": null,
            "height": null,
            "justify_content": null,
            "justify_items": null,
            "left": null,
            "margin": null,
            "max_height": null,
            "max_width": null,
            "min_height": null,
            "min_width": null,
            "object_fit": null,
            "object_position": null,
            "order": null,
            "overflow": null,
            "overflow_x": null,
            "overflow_y": null,
            "padding": null,
            "right": null,
            "top": null,
            "visibility": null,
            "width": null
          }
        },
        "e22098a0b94b408f9e5ebbe694f2df12": {
          "model_module": "@jupyter-widgets/base",
          "model_name": "LayoutModel",
          "model_module_version": "1.2.0",
          "state": {
            "_model_module": "@jupyter-widgets/base",
            "_model_module_version": "1.2.0",
            "_model_name": "LayoutModel",
            "_view_count": null,
            "_view_module": "@jupyter-widgets/base",
            "_view_module_version": "1.2.0",
            "_view_name": "LayoutView",
            "align_content": null,
            "align_items": null,
            "align_self": null,
            "border": null,
            "bottom": null,
            "display": null,
            "flex": null,
            "flex_flow": null,
            "grid_area": null,
            "grid_auto_columns": null,
            "grid_auto_flow": null,
            "grid_auto_rows": null,
            "grid_column": null,
            "grid_gap": null,
            "grid_row": null,
            "grid_template_areas": null,
            "grid_template_columns": null,
            "grid_template_rows": null,
            "height": null,
            "justify_content": null,
            "justify_items": null,
            "left": null,
            "margin": null,
            "max_height": null,
            "max_width": null,
            "min_height": null,
            "min_width": null,
            "object_fit": null,
            "object_position": null,
            "order": null,
            "overflow": null,
            "overflow_x": null,
            "overflow_y": null,
            "padding": null,
            "right": null,
            "top": null,
            "visibility": null,
            "width": null
          }
        },
        "9c0e57d1267e49c08a0dcea7dbf24003": {
          "model_module": "@jupyter-widgets/controls",
          "model_name": "DescriptionStyleModel",
          "model_module_version": "1.5.0",
          "state": {
            "_model_module": "@jupyter-widgets/controls",
            "_model_module_version": "1.5.0",
            "_model_name": "DescriptionStyleModel",
            "_view_count": null,
            "_view_module": "@jupyter-widgets/base",
            "_view_module_version": "1.2.0",
            "_view_name": "StyleView",
            "description_width": ""
          }
        },
        "26bd00aaa03143d89f9d1a96da6dd0cb": {
          "model_module": "@jupyter-widgets/base",
          "model_name": "LayoutModel",
          "model_module_version": "1.2.0",
          "state": {
            "_model_module": "@jupyter-widgets/base",
            "_model_module_version": "1.2.0",
            "_model_name": "LayoutModel",
            "_view_count": null,
            "_view_module": "@jupyter-widgets/base",
            "_view_module_version": "1.2.0",
            "_view_name": "LayoutView",
            "align_content": null,
            "align_items": null,
            "align_self": null,
            "border": null,
            "bottom": null,
            "display": null,
            "flex": null,
            "flex_flow": null,
            "grid_area": null,
            "grid_auto_columns": null,
            "grid_auto_flow": null,
            "grid_auto_rows": null,
            "grid_column": null,
            "grid_gap": null,
            "grid_row": null,
            "grid_template_areas": null,
            "grid_template_columns": null,
            "grid_template_rows": null,
            "height": null,
            "justify_content": null,
            "justify_items": null,
            "left": null,
            "margin": null,
            "max_height": null,
            "max_width": null,
            "min_height": null,
            "min_width": null,
            "object_fit": null,
            "object_position": null,
            "order": null,
            "overflow": null,
            "overflow_x": null,
            "overflow_y": null,
            "padding": null,
            "right": null,
            "top": null,
            "visibility": null,
            "width": null
          }
        },
        "11b7fee60b954881bc0e0592d05840ee": {
          "model_module": "@jupyter-widgets/controls",
          "model_name": "ProgressStyleModel",
          "model_module_version": "1.5.0",
          "state": {
            "_model_module": "@jupyter-widgets/controls",
            "_model_module_version": "1.5.0",
            "_model_name": "ProgressStyleModel",
            "_view_count": null,
            "_view_module": "@jupyter-widgets/base",
            "_view_module_version": "1.2.0",
            "_view_name": "StyleView",
            "bar_color": null,
            "description_width": ""
          }
        },
        "07179d56bdea43b5a23ad7c9575d325e": {
          "model_module": "@jupyter-widgets/controls",
          "model_name": "VBoxModel",
          "model_module_version": "1.5.0",
          "state": {
            "_dom_classes": [],
            "_model_module": "@jupyter-widgets/controls",
            "_model_module_version": "1.5.0",
            "_model_name": "VBoxModel",
            "_view_count": null,
            "_view_module": "@jupyter-widgets/controls",
            "_view_module_version": "1.5.0",
            "_view_name": "VBoxView",
            "box_style": "",
            "children": [
              "IPY_MODEL_e1b884db57124da99a4fdb401681313d",
              "IPY_MODEL_2fda6be3b82843438030f71e7d0d09b8"
            ],
            "layout": "IPY_MODEL_77c582c1a9084b80ab872bc58379f2c3"
          }
        },
        "e1b884db57124da99a4fdb401681313d": {
          "model_module": "@jupyter-widgets/controls",
          "model_name": "LabelModel",
          "model_module_version": "1.5.0",
          "state": {
            "_dom_classes": [],
            "_model_module": "@jupyter-widgets/controls",
            "_model_module_version": "1.5.0",
            "_model_name": "LabelModel",
            "_view_count": null,
            "_view_module": "@jupyter-widgets/controls",
            "_view_module_version": "1.5.0",
            "_view_name": "LabelView",
            "description": "",
            "description_tooltip": null,
            "layout": "IPY_MODEL_cb25cca13da645b1b522df76afcc50db",
            "placeholder": "​",
            "style": "IPY_MODEL_42678fd736d74d29afe12a57a908ed7f",
            "value": "0.009 MB of 0.009 MB uploaded (0.000 MB deduped)\r"
          }
        },
        "2fda6be3b82843438030f71e7d0d09b8": {
          "model_module": "@jupyter-widgets/controls",
          "model_name": "FloatProgressModel",
          "model_module_version": "1.5.0",
          "state": {
            "_dom_classes": [],
            "_model_module": "@jupyter-widgets/controls",
            "_model_module_version": "1.5.0",
            "_model_name": "FloatProgressModel",
            "_view_count": null,
            "_view_module": "@jupyter-widgets/controls",
            "_view_module_version": "1.5.0",
            "_view_name": "ProgressView",
            "bar_style": "",
            "description": "",
            "description_tooltip": null,
            "layout": "IPY_MODEL_c9b1be618e754f2096edb0befc058e6e",
            "max": 1,
            "min": 0,
            "orientation": "horizontal",
            "style": "IPY_MODEL_8670d31aeca6424db33480ac63847668",
            "value": 1
          }
        },
        "77c582c1a9084b80ab872bc58379f2c3": {
          "model_module": "@jupyter-widgets/base",
          "model_name": "LayoutModel",
          "model_module_version": "1.2.0",
          "state": {
            "_model_module": "@jupyter-widgets/base",
            "_model_module_version": "1.2.0",
            "_model_name": "LayoutModel",
            "_view_count": null,
            "_view_module": "@jupyter-widgets/base",
            "_view_module_version": "1.2.0",
            "_view_name": "LayoutView",
            "align_content": null,
            "align_items": null,
            "align_self": null,
            "border": null,
            "bottom": null,
            "display": null,
            "flex": null,
            "flex_flow": null,
            "grid_area": null,
            "grid_auto_columns": null,
            "grid_auto_flow": null,
            "grid_auto_rows": null,
            "grid_column": null,
            "grid_gap": null,
            "grid_row": null,
            "grid_template_areas": null,
            "grid_template_columns": null,
            "grid_template_rows": null,
            "height": null,
            "justify_content": null,
            "justify_items": null,
            "left": null,
            "margin": null,
            "max_height": null,
            "max_width": null,
            "min_height": null,
            "min_width": null,
            "object_fit": null,
            "object_position": null,
            "order": null,
            "overflow": null,
            "overflow_x": null,
            "overflow_y": null,
            "padding": null,
            "right": null,
            "top": null,
            "visibility": null,
            "width": null
          }
        },
        "cb25cca13da645b1b522df76afcc50db": {
          "model_module": "@jupyter-widgets/base",
          "model_name": "LayoutModel",
          "model_module_version": "1.2.0",
          "state": {
            "_model_module": "@jupyter-widgets/base",
            "_model_module_version": "1.2.0",
            "_model_name": "LayoutModel",
            "_view_count": null,
            "_view_module": "@jupyter-widgets/base",
            "_view_module_version": "1.2.0",
            "_view_name": "LayoutView",
            "align_content": null,
            "align_items": null,
            "align_self": null,
            "border": null,
            "bottom": null,
            "display": null,
            "flex": null,
            "flex_flow": null,
            "grid_area": null,
            "grid_auto_columns": null,
            "grid_auto_flow": null,
            "grid_auto_rows": null,
            "grid_column": null,
            "grid_gap": null,
            "grid_row": null,
            "grid_template_areas": null,
            "grid_template_columns": null,
            "grid_template_rows": null,
            "height": null,
            "justify_content": null,
            "justify_items": null,
            "left": null,
            "margin": null,
            "max_height": null,
            "max_width": null,
            "min_height": null,
            "min_width": null,
            "object_fit": null,
            "object_position": null,
            "order": null,
            "overflow": null,
            "overflow_x": null,
            "overflow_y": null,
            "padding": null,
            "right": null,
            "top": null,
            "visibility": null,
            "width": null
          }
        },
        "42678fd736d74d29afe12a57a908ed7f": {
          "model_module": "@jupyter-widgets/controls",
          "model_name": "DescriptionStyleModel",
          "model_module_version": "1.5.0",
          "state": {
            "_model_module": "@jupyter-widgets/controls",
            "_model_module_version": "1.5.0",
            "_model_name": "DescriptionStyleModel",
            "_view_count": null,
            "_view_module": "@jupyter-widgets/base",
            "_view_module_version": "1.2.0",
            "_view_name": "StyleView",
            "description_width": ""
          }
        },
        "c9b1be618e754f2096edb0befc058e6e": {
          "model_module": "@jupyter-widgets/base",
          "model_name": "LayoutModel",
          "model_module_version": "1.2.0",
          "state": {
            "_model_module": "@jupyter-widgets/base",
            "_model_module_version": "1.2.0",
            "_model_name": "LayoutModel",
            "_view_count": null,
            "_view_module": "@jupyter-widgets/base",
            "_view_module_version": "1.2.0",
            "_view_name": "LayoutView",
            "align_content": null,
            "align_items": null,
            "align_self": null,
            "border": null,
            "bottom": null,
            "display": null,
            "flex": null,
            "flex_flow": null,
            "grid_area": null,
            "grid_auto_columns": null,
            "grid_auto_flow": null,
            "grid_auto_rows": null,
            "grid_column": null,
            "grid_gap": null,
            "grid_row": null,
            "grid_template_areas": null,
            "grid_template_columns": null,
            "grid_template_rows": null,
            "height": null,
            "justify_content": null,
            "justify_items": null,
            "left": null,
            "margin": null,
            "max_height": null,
            "max_width": null,
            "min_height": null,
            "min_width": null,
            "object_fit": null,
            "object_position": null,
            "order": null,
            "overflow": null,
            "overflow_x": null,
            "overflow_y": null,
            "padding": null,
            "right": null,
            "top": null,
            "visibility": null,
            "width": null
          }
        },
        "8670d31aeca6424db33480ac63847668": {
          "model_module": "@jupyter-widgets/controls",
          "model_name": "ProgressStyleModel",
          "model_module_version": "1.5.0",
          "state": {
            "_model_module": "@jupyter-widgets/controls",
            "_model_module_version": "1.5.0",
            "_model_name": "ProgressStyleModel",
            "_view_count": null,
            "_view_module": "@jupyter-widgets/base",
            "_view_module_version": "1.2.0",
            "_view_name": "StyleView",
            "bar_color": null,
            "description_width": ""
          }
        }
      }
    }
  },
  "nbformat": 4,
  "nbformat_minor": 0
}