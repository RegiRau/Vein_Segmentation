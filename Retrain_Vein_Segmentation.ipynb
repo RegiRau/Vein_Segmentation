{
  "nbformat": 4,
  "nbformat_minor": 0,
  "metadata": {
    "colab": {
      "name": "Retrain_Vein_Segmentation.ipynb",
      "provenance": [],
      "collapsed_sections": [],
      "include_colab_link": true
    },
    "kernelspec": {
      "name": "python3",
      "display_name": "Python 3"
    },
    "language_info": {
      "name": "python"
    },
    "accelerator": "GPU",
    "widgets": {
      "application/vnd.jupyter.widget-state+json": {
        "cbc9ebd483db41e3953eae814032cdf7": {
          "model_module": "@jupyter-widgets/controls",
          "model_name": "VBoxModel",
          "model_module_version": "1.5.0",
          "state": {
            "_dom_classes": [],
            "_model_module": "@jupyter-widgets/controls",
            "_model_module_version": "1.5.0",
            "_model_name": "VBoxModel",
            "_view_count": null,
            "_view_module": "@jupyter-widgets/controls",
            "_view_module_version": "1.5.0",
            "_view_name": "VBoxView",
            "box_style": "",
            "children": [
              "IPY_MODEL_5769bc4870e04ea780b010f7b137f927",
              "IPY_MODEL_5a00672fbde94e2889be251befab399e"
            ],
            "layout": "IPY_MODEL_1ad61cea3692496897608b35f208649c"
          }
        },
        "5769bc4870e04ea780b010f7b137f927": {
          "model_module": "@jupyter-widgets/controls",
          "model_name": "LabelModel",
          "model_module_version": "1.5.0",
          "state": {
            "_dom_classes": [],
            "_model_module": "@jupyter-widgets/controls",
            "_model_module_version": "1.5.0",
            "_model_name": "LabelModel",
            "_view_count": null,
            "_view_module": "@jupyter-widgets/controls",
            "_view_module_version": "1.5.0",
            "_view_name": "LabelView",
            "description": "",
            "description_tooltip": null,
            "layout": "IPY_MODEL_83bb269420b641eca4827680a437dbe0",
            "placeholder": "​",
            "style": "IPY_MODEL_7a860dc7f5154ddcb6ea1d2b9b813e86",
            "value": "126.061 MB of 126.061 MB uploaded (0.000 MB deduped)\r"
          }
        },
        "5a00672fbde94e2889be251befab399e": {
          "model_module": "@jupyter-widgets/controls",
          "model_name": "FloatProgressModel",
          "model_module_version": "1.5.0",
          "state": {
            "_dom_classes": [],
            "_model_module": "@jupyter-widgets/controls",
            "_model_module_version": "1.5.0",
            "_model_name": "FloatProgressModel",
            "_view_count": null,
            "_view_module": "@jupyter-widgets/controls",
            "_view_module_version": "1.5.0",
            "_view_name": "ProgressView",
            "bar_style": "",
            "description": "",
            "description_tooltip": null,
            "layout": "IPY_MODEL_acf3b4b5e441474b9695ab2086502b0f",
            "max": 1,
            "min": 0,
            "orientation": "horizontal",
            "style": "IPY_MODEL_3ca25aef59504a21af0bef20b52b4515",
            "value": 1
          }
        },
        "1ad61cea3692496897608b35f208649c": {
          "model_module": "@jupyter-widgets/base",
          "model_name": "LayoutModel",
          "model_module_version": "1.2.0",
          "state": {
            "_model_module": "@jupyter-widgets/base",
            "_model_module_version": "1.2.0",
            "_model_name": "LayoutModel",
            "_view_count": null,
            "_view_module": "@jupyter-widgets/base",
            "_view_module_version": "1.2.0",
            "_view_name": "LayoutView",
            "align_content": null,
            "align_items": null,
            "align_self": null,
            "border": null,
            "bottom": null,
            "display": null,
            "flex": null,
            "flex_flow": null,
            "grid_area": null,
            "grid_auto_columns": null,
            "grid_auto_flow": null,
            "grid_auto_rows": null,
            "grid_column": null,
            "grid_gap": null,
            "grid_row": null,
            "grid_template_areas": null,
            "grid_template_columns": null,
            "grid_template_rows": null,
            "height": null,
            "justify_content": null,
            "justify_items": null,
            "left": null,
            "margin": null,
            "max_height": null,
            "max_width": null,
            "min_height": null,
            "min_width": null,
            "object_fit": null,
            "object_position": null,
            "order": null,
            "overflow": null,
            "overflow_x": null,
            "overflow_y": null,
            "padding": null,
            "right": null,
            "top": null,
            "visibility": null,
            "width": null
          }
        },
        "83bb269420b641eca4827680a437dbe0": {
          "model_module": "@jupyter-widgets/base",
          "model_name": "LayoutModel",
          "model_module_version": "1.2.0",
          "state": {
            "_model_module": "@jupyter-widgets/base",
            "_model_module_version": "1.2.0",
            "_model_name": "LayoutModel",
            "_view_count": null,
            "_view_module": "@jupyter-widgets/base",
            "_view_module_version": "1.2.0",
            "_view_name": "LayoutView",
            "align_content": null,
            "align_items": null,
            "align_self": null,
            "border": null,
            "bottom": null,
            "display": null,
            "flex": null,
            "flex_flow": null,
            "grid_area": null,
            "grid_auto_columns": null,
            "grid_auto_flow": null,
            "grid_auto_rows": null,
            "grid_column": null,
            "grid_gap": null,
            "grid_row": null,
            "grid_template_areas": null,
            "grid_template_columns": null,
            "grid_template_rows": null,
            "height": null,
            "justify_content": null,
            "justify_items": null,
            "left": null,
            "margin": null,
            "max_height": null,
            "max_width": null,
            "min_height": null,
            "min_width": null,
            "object_fit": null,
            "object_position": null,
            "order": null,
            "overflow": null,
            "overflow_x": null,
            "overflow_y": null,
            "padding": null,
            "right": null,
            "top": null,
            "visibility": null,
            "width": null
          }
        },
        "7a860dc7f5154ddcb6ea1d2b9b813e86": {
          "model_module": "@jupyter-widgets/controls",
          "model_name": "DescriptionStyleModel",
          "model_module_version": "1.5.0",
          "state": {
            "_model_module": "@jupyter-widgets/controls",
            "_model_module_version": "1.5.0",
            "_model_name": "DescriptionStyleModel",
            "_view_count": null,
            "_view_module": "@jupyter-widgets/base",
            "_view_module_version": "1.2.0",
            "_view_name": "StyleView",
            "description_width": ""
          }
        },
        "acf3b4b5e441474b9695ab2086502b0f": {
          "model_module": "@jupyter-widgets/base",
          "model_name": "LayoutModel",
          "model_module_version": "1.2.0",
          "state": {
            "_model_module": "@jupyter-widgets/base",
            "_model_module_version": "1.2.0",
            "_model_name": "LayoutModel",
            "_view_count": null,
            "_view_module": "@jupyter-widgets/base",
            "_view_module_version": "1.2.0",
            "_view_name": "LayoutView",
            "align_content": null,
            "align_items": null,
            "align_self": null,
            "border": null,
            "bottom": null,
            "display": null,
            "flex": null,
            "flex_flow": null,
            "grid_area": null,
            "grid_auto_columns": null,
            "grid_auto_flow": null,
            "grid_auto_rows": null,
            "grid_column": null,
            "grid_gap": null,
            "grid_row": null,
            "grid_template_areas": null,
            "grid_template_columns": null,
            "grid_template_rows": null,
            "height": null,
            "justify_content": null,
            "justify_items": null,
            "left": null,
            "margin": null,
            "max_height": null,
            "max_width": null,
            "min_height": null,
            "min_width": null,
            "object_fit": null,
            "object_position": null,
            "order": null,
            "overflow": null,
            "overflow_x": null,
            "overflow_y": null,
            "padding": null,
            "right": null,
            "top": null,
            "visibility": null,
            "width": null
          }
        },
        "3ca25aef59504a21af0bef20b52b4515": {
          "model_module": "@jupyter-widgets/controls",
          "model_name": "ProgressStyleModel",
          "model_module_version": "1.5.0",
          "state": {
            "_model_module": "@jupyter-widgets/controls",
            "_model_module_version": "1.5.0",
            "_model_name": "ProgressStyleModel",
            "_view_count": null,
            "_view_module": "@jupyter-widgets/base",
            "_view_module_version": "1.2.0",
            "_view_name": "StyleView",
            "bar_color": null,
            "description_width": ""
          }
        }
      }
    }
  },
  "cells": [
    {
      "cell_type": "markdown",
      "metadata": {
        "id": "view-in-github",
        "colab_type": "text"
      },
      "source": [
        "<a href=\"https://colab.research.google.com/github/RegiRau/Vein_Segmentation/blob/main/Retrain_Vein_Segmentation.ipynb\" target=\"_parent\"><img src=\"https://colab.research.google.com/assets/colab-badge.svg\" alt=\"Open In Colab\"/></a>"
      ]
    },
    {
      "cell_type": "markdown",
      "source": [
        "# Define the Model"
      ],
      "metadata": {
        "id": "vdlxaI_0_Gf-"
      }
    },
    {
      "cell_type": "code",
      "source": [
        "from google.colab import drive\n",
        "drive.mount('/content/gdrive')"
      ],
      "metadata": {
        "colab": {
          "base_uri": "https://localhost:8080/"
        },
        "id": "HUdEow9H_nMv",
        "outputId": "cd228df0-9f14-4ea8-ec60-0ed76be6d976"
      },
      "execution_count": null,
      "outputs": [
        {
          "output_type": "stream",
          "name": "stdout",
          "text": [
            "Mounted at /content/gdrive\n"
          ]
        }
      ]
    },
    {
      "cell_type": "code",
      "source": [
        "# Choose run_number and training number\n",
        "import os\n",
        "run_number = 'run_1'\n",
        "training_number = 2\n",
        "previous_checkpoint_path = '/content/gdrive/MyDrive/Vein_Segmentation_Models/' + run_number + '/Checkpoints_training1/cp.ckpt'\n",
        "previous_checkpoint_dir = os.path.dirname(previous_checkpoint_path)\n",
        "\n",
        "!mkdir '/content/gdrive/MyDrive/Vein_Segmentation_Models/run_1/Checkpoints_training2'\n",
        "checkpoint_path = '/content/gdrive/MyDrive/Vein_Segmentation_Models/' + run_number + '/Checkpoints_training2/cp.ckpt'\n",
        "checkpoint_dir = os.path.dirname(checkpoint_path)"
      ],
      "metadata": {
        "id": "IJKZW_jD_ftd",
        "colab": {
          "base_uri": "https://localhost:8080/"
        },
        "outputId": "c0f23bf4-e77f-4f43-f26f-a49762d43f5d"
      },
      "execution_count": null,
      "outputs": [
        {
          "output_type": "stream",
          "name": "stdout",
          "text": [
            "mkdir: cannot create directory ‘/content/gdrive/MyDrive/Vein_Segmentation_Models/run_1/Checkpoints_training2’: File exists\n"
          ]
        }
      ]
    },
    {
      "cell_type": "code",
      "execution_count": null,
      "metadata": {
        "id": "Of7ewTMw-1rU"
      },
      "outputs": [],
      "source": [
        "from tensorflow.keras import models, layers, regularizers\n",
        "from tensorflow.keras import backend as K\n",
        "\n",
        "\n",
        "#convolutional block\n",
        "def conv_block(x, kernelsize, filters, dropout, batchnorm=False): \n",
        "    conv = layers.Conv2D(filters, (kernelsize, kernelsize), kernel_initializer='he_normal', padding=\"same\")(x)\n",
        "    if batchnorm is True:\n",
        "        conv = layers.BatchNormalization(axis=3)(conv)\n",
        "    conv = layers.Activation(\"relu\")(conv)\n",
        "    if dropout > 0:\n",
        "        conv = layers.Dropout(dropout)(conv)\n",
        "    conv = layers.Conv2D(filters, (kernelsize, kernelsize), kernel_initializer='he_normal', padding=\"same\")(conv)\n",
        "    if batchnorm is True:\n",
        "        conv = layers.BatchNormalization(axis=3)(conv)\n",
        "    conv = layers.Activation(\"relu\")(conv)\n",
        "    return conv\n",
        "\n",
        "        \n",
        "    #skip connection    \n",
        "    shortcut = layers.Conv2D(filters, kernel_size=(1, 1), kernel_initializer='he_normal', padding='same')(x)\n",
        "    if batchnorm is True:\n",
        "        shortcut = layers.BatchNormalization(axis=3)(shortcut)\n",
        "    shortcut = layers.Activation(\"relu\")(shortcut)\n",
        "    respath = layers.add([shortcut, conv2])       \n",
        "    return respath\n",
        "\n",
        "\n",
        "#gating signal for attention unit\n",
        "def gatingsignal(input, out_size, batchnorm=False):\n",
        "    x = layers.Conv2D(out_size, (1, 1), padding='same')(input)\n",
        "    if batchnorm:\n",
        "        x = layers.BatchNormalization()(x)\n",
        "    x = layers.Activation('relu')(x)\n",
        "    return x\n",
        "\n",
        "#attention unit/block based on soft attention\n",
        "def attention_block(x, gating, inter_shape):\n",
        "    shape_x = K.int_shape(x)\n",
        "    shape_g = K.int_shape(gating)\n",
        "    theta_x = layers.Conv2D(inter_shape, (2, 2), strides=(2, 2), kernel_initializer='he_normal', padding='same')(x) \n",
        "    shape_theta_x = K.int_shape(theta_x)\n",
        "    phi_g = layers.Conv2D(inter_shape, (1, 1), kernel_initializer='he_normal', padding='same')(gating)\n",
        "    upsample_g = layers.Conv2DTranspose(inter_shape, (3, 3), strides=(shape_theta_x[1] // shape_g[1], shape_theta_x[2] // shape_g[2]), kernel_initializer='he_normal', padding='same')(phi_g)\n",
        "    concat_xg = layers.add([upsample_g, theta_x])\n",
        "    act_xg = layers.Activation('relu')(concat_xg)\n",
        "    psi = layers.Conv2D(1, (1, 1), kernel_initializer='he_normal', padding='same')(act_xg)\n",
        "    sigmoid_xg = layers.Activation('sigmoid')(psi)\n",
        "    shape_sigmoid = K.int_shape(sigmoid_xg)\n",
        "    upsample_psi = layers.UpSampling2D(size=(shape_x[1] // shape_sigmoid[1], shape_x[2] // shape_sigmoid[2]))(sigmoid_xg) \n",
        "    upsample_psi = layers.Lambda(lambda x, repnum: K.repeat_elements(x, repnum, axis=3), arguments={'repnum': shape_x[3]})(upsample_psi)                          \n",
        "    y = layers.multiply([upsample_psi, x])\n",
        "    result = layers.Conv2D(shape_x[3], (1, 1), kernel_initializer='he_normal', padding='same')(y)\n",
        "    attenblock = layers.BatchNormalization()(result)\n",
        "    return attenblock\n",
        "\n",
        "#Attention U-NET\n",
        "def attentionunet(input_shape, dropout=0.2, batchnorm=True):\n",
        "    \n",
        "    filters = [16, 32, 64, 128, 256]\n",
        "    kernelsize = 3\n",
        "    upsample_size = 2\n",
        "\n",
        "    inputs = layers.Input(input_shape) \n",
        "\n",
        "    # Downsampling layers    \n",
        "    dn_1 = conv_block(inputs, kernelsize, filters[0], dropout, batchnorm)\n",
        "    pool_1 = layers.MaxPooling2D(pool_size=(2,2))(dn_1)\n",
        "    \n",
        "    dn_2 = conv_block(pool_1, kernelsize, filters[1], dropout, batchnorm)\n",
        "    pool_2 = layers.MaxPooling2D(pool_size=(2,2))(dn_2)\n",
        "    \n",
        "    dn_3 = conv_block(pool_2, kernelsize, filters[2], dropout, batchnorm)\n",
        "    pool_3 = layers.MaxPooling2D(pool_size=(2,2))(dn_3)\n",
        "    \n",
        "    dn_4 = conv_block(pool_3, kernelsize, filters[3], dropout, batchnorm)\n",
        "    pool_4 = layers.MaxPooling2D(pool_size=(2,2))(dn_4)\n",
        "    \n",
        "    dn_5 = conv_block(pool_4, kernelsize, filters[4], dropout, batchnorm)\n",
        "\n",
        "    # Upsampling layers    \n",
        "    gating_5 = gatingsignal(dn_5, filters[3], batchnorm)\n",
        "    att_5 = attention_block(dn_4, gating_5, filters[3])\n",
        "    up_5 = layers.UpSampling2D(size=(upsample_size, upsample_size), data_format=\"channels_last\")(dn_5)\n",
        "    up_5 = layers.concatenate([up_5, att_5], axis=3)\n",
        "    up_conv_5 = conv_block(up_5, kernelsize, filters[3], dropout, batchnorm)\n",
        "    \n",
        "    gating_4 = gatingsignal(up_conv_5, filters[2], batchnorm)\n",
        "    att_4 = attention_block(dn_3, gating_4, filters[2])\n",
        "    up_4 = layers.UpSampling2D(size=(upsample_size, upsample_size), data_format=\"channels_last\")(up_conv_5)\n",
        "    up_4 = layers.concatenate([up_4, att_4], axis=3)\n",
        "    up_conv_4 = conv_block(up_4, kernelsize, filters[2], dropout, batchnorm)\n",
        "   \n",
        "    gating_3 = gatingsignal(up_conv_4, filters[1], batchnorm)\n",
        "    att_3 = attention_block(dn_2, gating_3, filters[1])\n",
        "    up_3 = layers.UpSampling2D(size=(upsample_size, upsample_size), data_format=\"channels_last\")(up_conv_4)\n",
        "    up_3 = layers.concatenate([up_3, att_3], axis=3)\n",
        "    up_conv_3 = conv_block(up_3, kernelsize, filters[1], dropout, batchnorm)\n",
        "    \n",
        "    gating_2 = gatingsignal(up_conv_3, filters[0], batchnorm)\n",
        "    att_2 = attention_block(dn_1, gating_2, filters[0])\n",
        "    up_2 = layers.UpSampling2D(size=(upsample_size, upsample_size), data_format=\"channels_last\")(up_conv_3)\n",
        "    up_2 = layers.concatenate([up_2, att_2], axis=3)\n",
        "    up_conv_2 = conv_block(up_2, kernelsize, filters[0], dropout, batchnorm)\n",
        "    \n",
        "    conv_final = layers.Conv2D(1, kernel_size=(1,1))(up_conv_2)\n",
        "    conv_final = layers.BatchNormalization(axis=3)(conv_final)\n",
        "    outputs = layers.Activation('sigmoid')(conv_final)  \n",
        "\n",
        "    model = models.Model(inputs=[inputs], outputs=[outputs])\n",
        "    model.summary()       \n",
        "    return model    "
      ]
    },
    {
      "cell_type": "code",
      "source": [
        "from tensorflow.keras import backend as K\n",
        "from sklearn.metrics import jaccard_score,confusion_matrix\n",
        "\n",
        "\n",
        "def IoU_coef(y_true, y_pred):\n",
        "    y_true_f = K.flatten(y_true)\n",
        "    y_pred_f = K.flatten(y_pred)\n",
        "    intersection = K.sum(y_true_f * y_pred_f)\n",
        "    return (intersection + 1.0) / (K.sum(y_true_f) + K.sum(y_pred_f) - intersection + 1.0)\n",
        "\n",
        "def IoU_loss(y_true, y_pred):\n",
        "    return -IoU_coef(y_true, y_pred)\n",
        " \n",
        "def dice_coef(y_true, y_pred):\n",
        "    y_true_f = K.flatten(y_true)\n",
        "    y_pred_f = K.flatten(y_pred)\n",
        "    intersection = K.sum(y_true_f * y_pred_f)\n",
        "    return (2.0 * intersection + 1.0) / (K.sum(y_true_f) + K.sum(y_pred_f) + 1.0)\n",
        " \n",
        "def dice_coef_loss(y_true, y_pred):\n",
        "    return -dice_coef(y_true, y_pred)\n",
        "  \n",
        "def accuracy(y_true, y_pred):\n",
        "    cm = confusion_matrix(y_true.flatten(),y_pred.flatten(), labels=[0, 1])\n",
        "    acc = (cm[0,0]+cm[1,1])/(cm[0,0]+cm[0,1]+cm[1,0]+cm[1,1])\n",
        "    return acc\n",
        "  \n",
        "def IoU(y_true, y_pred, labels = [0, 1]):\n",
        "   IoU = []\n",
        "   for label in labels:\n",
        "      jaccard = jaccard_score(y_pred.flatten(),y_true.flatten(), pos_label=label, average='binary')\n",
        "      IoU.append(jaccard)     \n",
        "   return np.mean(IoU) "
      ],
      "metadata": {
        "id": "fC5HoDjo_MXr"
      },
      "execution_count": null,
      "outputs": []
    },
    {
      "cell_type": "code",
      "source": [
        "%%capture\n",
        "!pip install wandb\n",
        "import wandb\n",
        "from wandb.keras import WandbCallback\n",
        "\n",
        "wandb.login()"
      ],
      "metadata": {
        "id": "FDcMUhA6CE7X",
        "colab": {
          "base_uri": "https://localhost:8080/",
          "height": 34
        },
        "outputId": "be91b09a-c56f-4c74-e359-6e465e2a49cf"
      },
      "execution_count": null,
      "outputs": [
        {
          "name": "stdout",
          "output_type": "stream",
          "text": [
            "wandb: Paste an API key from your profile and hit enter, or press ctrl+c to quit: ··········\n"
          ]
        }
      ]
    },
    {
      "cell_type": "code",
      "source": [
        "#importing models\n",
        "from tensorflow.keras.optimizers import Adam\n",
        "import tensorflow.python.keras as keras\n",
        "import tensorflow as tf\n",
        "\n",
        "# Initialize model like you usually do.\n",
        "tf.keras.backend.clear_session()\n",
        "\n",
        "IMG_CHANNELS = 1\n",
        "SIZE_X = 1632\n",
        "SIZE_Y = 1216\n",
        "IMG_HEIGHT = SIZE_Y\n",
        "IMG_WIDTH = SIZE_X\n",
        "input_shape = (IMG_HEIGHT, IMG_WIDTH, IMG_CHANNELS)\n",
        "\n",
        "model = attentionunet(input_shape)\n",
        "\n",
        "model.compile(optimizer = Adam(learning_rate = 1e-3), loss= IoU_loss, metrics= ['accuracy', IoU_coef])\n",
        "#model.compile(optimizer = Adam(config.learning_rate), loss= keras.losses.BinaryCrossentropy(), metrics= ['accuracy'])\n",
        "\n",
        "#tensorflow.keras.utils.plot_model(model, \"Attention-Unet.png\", show_shapes=True)"
      ],
      "metadata": {
        "colab": {
          "base_uri": "https://localhost:8080/"
        },
        "id": "Qroff7k2nZkO",
        "outputId": "1e682d02-b7e5-4e8d-da31-d2adb5fe63c8"
      },
      "execution_count": null,
      "outputs": [
        {
          "output_type": "stream",
          "name": "stdout",
          "text": [
            "Model: \"model\"\n",
            "__________________________________________________________________________________________________\n",
            " Layer (type)                   Output Shape         Param #     Connected to                     \n",
            "==================================================================================================\n",
            " input_1 (InputLayer)           [(None, 1216, 1632,  0           []                               \n",
            "                                 1)]                                                              \n",
            "                                                                                                  \n",
            " conv2d (Conv2D)                (None, 1216, 1632,   160         ['input_1[0][0]']                \n",
            "                                16)                                                               \n",
            "                                                                                                  \n",
            " batch_normalization (BatchNorm  (None, 1216, 1632,   64         ['conv2d[0][0]']                 \n",
            " alization)                     16)                                                               \n",
            "                                                                                                  \n",
            " activation (Activation)        (None, 1216, 1632,   0           ['batch_normalization[0][0]']    \n",
            "                                16)                                                               \n",
            "                                                                                                  \n",
            " dropout (Dropout)              (None, 1216, 1632,   0           ['activation[0][0]']             \n",
            "                                16)                                                               \n",
            "                                                                                                  \n",
            " conv2d_1 (Conv2D)              (None, 1216, 1632,   2320        ['dropout[0][0]']                \n",
            "                                16)                                                               \n",
            "                                                                                                  \n",
            " batch_normalization_1 (BatchNo  (None, 1216, 1632,   64         ['conv2d_1[0][0]']               \n",
            " rmalization)                   16)                                                               \n",
            "                                                                                                  \n",
            " activation_1 (Activation)      (None, 1216, 1632,   0           ['batch_normalization_1[0][0]']  \n",
            "                                16)                                                               \n",
            "                                                                                                  \n",
            " max_pooling2d (MaxPooling2D)   (None, 608, 816, 16  0           ['activation_1[0][0]']           \n",
            "                                )                                                                 \n",
            "                                                                                                  \n",
            " conv2d_2 (Conv2D)              (None, 608, 816, 32  4640        ['max_pooling2d[0][0]']          \n",
            "                                )                                                                 \n",
            "                                                                                                  \n",
            " batch_normalization_2 (BatchNo  (None, 608, 816, 32  128        ['conv2d_2[0][0]']               \n",
            " rmalization)                   )                                                                 \n",
            "                                                                                                  \n",
            " activation_2 (Activation)      (None, 608, 816, 32  0           ['batch_normalization_2[0][0]']  \n",
            "                                )                                                                 \n",
            "                                                                                                  \n",
            " dropout_1 (Dropout)            (None, 608, 816, 32  0           ['activation_2[0][0]']           \n",
            "                                )                                                                 \n",
            "                                                                                                  \n",
            " conv2d_3 (Conv2D)              (None, 608, 816, 32  9248        ['dropout_1[0][0]']              \n",
            "                                )                                                                 \n",
            "                                                                                                  \n",
            " batch_normalization_3 (BatchNo  (None, 608, 816, 32  128        ['conv2d_3[0][0]']               \n",
            " rmalization)                   )                                                                 \n",
            "                                                                                                  \n",
            " activation_3 (Activation)      (None, 608, 816, 32  0           ['batch_normalization_3[0][0]']  \n",
            "                                )                                                                 \n",
            "                                                                                                  \n",
            " max_pooling2d_1 (MaxPooling2D)  (None, 304, 408, 32  0          ['activation_3[0][0]']           \n",
            "                                )                                                                 \n",
            "                                                                                                  \n",
            " conv2d_4 (Conv2D)              (None, 304, 408, 64  18496       ['max_pooling2d_1[0][0]']        \n",
            "                                )                                                                 \n",
            "                                                                                                  \n",
            " batch_normalization_4 (BatchNo  (None, 304, 408, 64  256        ['conv2d_4[0][0]']               \n",
            " rmalization)                   )                                                                 \n",
            "                                                                                                  \n",
            " activation_4 (Activation)      (None, 304, 408, 64  0           ['batch_normalization_4[0][0]']  \n",
            "                                )                                                                 \n",
            "                                                                                                  \n",
            " dropout_2 (Dropout)            (None, 304, 408, 64  0           ['activation_4[0][0]']           \n",
            "                                )                                                                 \n",
            "                                                                                                  \n",
            " conv2d_5 (Conv2D)              (None, 304, 408, 64  36928       ['dropout_2[0][0]']              \n",
            "                                )                                                                 \n",
            "                                                                                                  \n",
            " batch_normalization_5 (BatchNo  (None, 304, 408, 64  256        ['conv2d_5[0][0]']               \n",
            " rmalization)                   )                                                                 \n",
            "                                                                                                  \n",
            " activation_5 (Activation)      (None, 304, 408, 64  0           ['batch_normalization_5[0][0]']  \n",
            "                                )                                                                 \n",
            "                                                                                                  \n",
            " max_pooling2d_2 (MaxPooling2D)  (None, 152, 204, 64  0          ['activation_5[0][0]']           \n",
            "                                )                                                                 \n",
            "                                                                                                  \n",
            " conv2d_6 (Conv2D)              (None, 152, 204, 12  73856       ['max_pooling2d_2[0][0]']        \n",
            "                                8)                                                                \n",
            "                                                                                                  \n",
            " batch_normalization_6 (BatchNo  (None, 152, 204, 12  512        ['conv2d_6[0][0]']               \n",
            " rmalization)                   8)                                                                \n",
            "                                                                                                  \n",
            " activation_6 (Activation)      (None, 152, 204, 12  0           ['batch_normalization_6[0][0]']  \n",
            "                                8)                                                                \n",
            "                                                                                                  \n",
            " dropout_3 (Dropout)            (None, 152, 204, 12  0           ['activation_6[0][0]']           \n",
            "                                8)                                                                \n",
            "                                                                                                  \n",
            " conv2d_7 (Conv2D)              (None, 152, 204, 12  147584      ['dropout_3[0][0]']              \n",
            "                                8)                                                                \n",
            "                                                                                                  \n",
            " batch_normalization_7 (BatchNo  (None, 152, 204, 12  512        ['conv2d_7[0][0]']               \n",
            " rmalization)                   8)                                                                \n",
            "                                                                                                  \n",
            " activation_7 (Activation)      (None, 152, 204, 12  0           ['batch_normalization_7[0][0]']  \n",
            "                                8)                                                                \n",
            "                                                                                                  \n",
            " max_pooling2d_3 (MaxPooling2D)  (None, 76, 102, 128  0          ['activation_7[0][0]']           \n",
            "                                )                                                                 \n",
            "                                                                                                  \n",
            " conv2d_8 (Conv2D)              (None, 76, 102, 256  295168      ['max_pooling2d_3[0][0]']        \n",
            "                                )                                                                 \n",
            "                                                                                                  \n",
            " batch_normalization_8 (BatchNo  (None, 76, 102, 256  1024       ['conv2d_8[0][0]']               \n",
            " rmalization)                   )                                                                 \n",
            "                                                                                                  \n",
            " activation_8 (Activation)      (None, 76, 102, 256  0           ['batch_normalization_8[0][0]']  \n",
            "                                )                                                                 \n",
            "                                                                                                  \n",
            " dropout_4 (Dropout)            (None, 76, 102, 256  0           ['activation_8[0][0]']           \n",
            "                                )                                                                 \n",
            "                                                                                                  \n",
            " conv2d_9 (Conv2D)              (None, 76, 102, 256  590080      ['dropout_4[0][0]']              \n",
            "                                )                                                                 \n",
            "                                                                                                  \n",
            " batch_normalization_9 (BatchNo  (None, 76, 102, 256  1024       ['conv2d_9[0][0]']               \n",
            " rmalization)                   )                                                                 \n",
            "                                                                                                  \n",
            " activation_9 (Activation)      (None, 76, 102, 256  0           ['batch_normalization_9[0][0]']  \n",
            "                                )                                                                 \n",
            "                                                                                                  \n",
            " conv2d_10 (Conv2D)             (None, 76, 102, 128  32896       ['activation_9[0][0]']           \n",
            "                                )                                                                 \n",
            "                                                                                                  \n",
            " batch_normalization_10 (BatchN  (None, 76, 102, 128  512        ['conv2d_10[0][0]']              \n",
            " ormalization)                  )                                                                 \n",
            "                                                                                                  \n",
            " activation_10 (Activation)     (None, 76, 102, 128  0           ['batch_normalization_10[0][0]'] \n",
            "                                )                                                                 \n",
            "                                                                                                  \n",
            " conv2d_12 (Conv2D)             (None, 76, 102, 128  16512       ['activation_10[0][0]']          \n",
            "                                )                                                                 \n",
            "                                                                                                  \n",
            " conv2d_transpose (Conv2DTransp  (None, 76, 102, 128  147584     ['conv2d_12[0][0]']              \n",
            " ose)                           )                                                                 \n",
            "                                                                                                  \n",
            " conv2d_11 (Conv2D)             (None, 76, 102, 128  65664       ['activation_7[0][0]']           \n",
            "                                )                                                                 \n",
            "                                                                                                  \n",
            " add (Add)                      (None, 76, 102, 128  0           ['conv2d_transpose[0][0]',       \n",
            "                                )                                 'conv2d_11[0][0]']              \n",
            "                                                                                                  \n",
            " activation_11 (Activation)     (None, 76, 102, 128  0           ['add[0][0]']                    \n",
            "                                )                                                                 \n",
            "                                                                                                  \n",
            " conv2d_13 (Conv2D)             (None, 76, 102, 1)   129         ['activation_11[0][0]']          \n",
            "                                                                                                  \n",
            " activation_12 (Activation)     (None, 76, 102, 1)   0           ['conv2d_13[0][0]']              \n",
            "                                                                                                  \n",
            " up_sampling2d (UpSampling2D)   (None, 152, 204, 1)  0           ['activation_12[0][0]']          \n",
            "                                                                                                  \n",
            " lambda (Lambda)                (None, 152, 204, 12  0           ['up_sampling2d[0][0]']          \n",
            "                                8)                                                                \n",
            "                                                                                                  \n",
            " multiply (Multiply)            (None, 152, 204, 12  0           ['lambda[0][0]',                 \n",
            "                                8)                                'activation_7[0][0]']           \n",
            "                                                                                                  \n",
            " conv2d_14 (Conv2D)             (None, 152, 204, 12  16512       ['multiply[0][0]']               \n",
            "                                8)                                                                \n",
            "                                                                                                  \n",
            " up_sampling2d_1 (UpSampling2D)  (None, 152, 204, 25  0          ['activation_9[0][0]']           \n",
            "                                6)                                                                \n",
            "                                                                                                  \n",
            " batch_normalization_11 (BatchN  (None, 152, 204, 12  512        ['conv2d_14[0][0]']              \n",
            " ormalization)                  8)                                                                \n",
            "                                                                                                  \n",
            " concatenate (Concatenate)      (None, 152, 204, 38  0           ['up_sampling2d_1[0][0]',        \n",
            "                                4)                                'batch_normalization_11[0][0]'] \n",
            "                                                                                                  \n",
            " conv2d_15 (Conv2D)             (None, 152, 204, 12  442496      ['concatenate[0][0]']            \n",
            "                                8)                                                                \n",
            "                                                                                                  \n",
            " batch_normalization_12 (BatchN  (None, 152, 204, 12  512        ['conv2d_15[0][0]']              \n",
            " ormalization)                  8)                                                                \n",
            "                                                                                                  \n",
            " activation_13 (Activation)     (None, 152, 204, 12  0           ['batch_normalization_12[0][0]'] \n",
            "                                8)                                                                \n",
            "                                                                                                  \n",
            " dropout_5 (Dropout)            (None, 152, 204, 12  0           ['activation_13[0][0]']          \n",
            "                                8)                                                                \n",
            "                                                                                                  \n",
            " conv2d_16 (Conv2D)             (None, 152, 204, 12  147584      ['dropout_5[0][0]']              \n",
            "                                8)                                                                \n",
            "                                                                                                  \n",
            " batch_normalization_13 (BatchN  (None, 152, 204, 12  512        ['conv2d_16[0][0]']              \n",
            " ormalization)                  8)                                                                \n",
            "                                                                                                  \n",
            " activation_14 (Activation)     (None, 152, 204, 12  0           ['batch_normalization_13[0][0]'] \n",
            "                                8)                                                                \n",
            "                                                                                                  \n",
            " conv2d_17 (Conv2D)             (None, 152, 204, 64  8256        ['activation_14[0][0]']          \n",
            "                                )                                                                 \n",
            "                                                                                                  \n",
            " batch_normalization_14 (BatchN  (None, 152, 204, 64  256        ['conv2d_17[0][0]']              \n",
            " ormalization)                  )                                                                 \n",
            "                                                                                                  \n",
            " activation_15 (Activation)     (None, 152, 204, 64  0           ['batch_normalization_14[0][0]'] \n",
            "                                )                                                                 \n",
            "                                                                                                  \n",
            " conv2d_19 (Conv2D)             (None, 152, 204, 64  4160        ['activation_15[0][0]']          \n",
            "                                )                                                                 \n",
            "                                                                                                  \n",
            " conv2d_transpose_1 (Conv2DTran  (None, 152, 204, 64  36928      ['conv2d_19[0][0]']              \n",
            " spose)                         )                                                                 \n",
            "                                                                                                  \n",
            " conv2d_18 (Conv2D)             (None, 152, 204, 64  16448       ['activation_5[0][0]']           \n",
            "                                )                                                                 \n",
            "                                                                                                  \n",
            " add_1 (Add)                    (None, 152, 204, 64  0           ['conv2d_transpose_1[0][0]',     \n",
            "                                )                                 'conv2d_18[0][0]']              \n",
            "                                                                                                  \n",
            " activation_16 (Activation)     (None, 152, 204, 64  0           ['add_1[0][0]']                  \n",
            "                                )                                                                 \n",
            "                                                                                                  \n",
            " conv2d_20 (Conv2D)             (None, 152, 204, 1)  65          ['activation_16[0][0]']          \n",
            "                                                                                                  \n",
            " activation_17 (Activation)     (None, 152, 204, 1)  0           ['conv2d_20[0][0]']              \n",
            "                                                                                                  \n",
            " up_sampling2d_2 (UpSampling2D)  (None, 304, 408, 1)  0          ['activation_17[0][0]']          \n",
            "                                                                                                  \n",
            " lambda_1 (Lambda)              (None, 304, 408, 64  0           ['up_sampling2d_2[0][0]']        \n",
            "                                )                                                                 \n",
            "                                                                                                  \n",
            " multiply_1 (Multiply)          (None, 304, 408, 64  0           ['lambda_1[0][0]',               \n",
            "                                )                                 'activation_5[0][0]']           \n",
            "                                                                                                  \n",
            " conv2d_21 (Conv2D)             (None, 304, 408, 64  4160        ['multiply_1[0][0]']             \n",
            "                                )                                                                 \n",
            "                                                                                                  \n",
            " up_sampling2d_3 (UpSampling2D)  (None, 304, 408, 12  0          ['activation_14[0][0]']          \n",
            "                                8)                                                                \n",
            "                                                                                                  \n",
            " batch_normalization_15 (BatchN  (None, 304, 408, 64  256        ['conv2d_21[0][0]']              \n",
            " ormalization)                  )                                                                 \n",
            "                                                                                                  \n",
            " concatenate_1 (Concatenate)    (None, 304, 408, 19  0           ['up_sampling2d_3[0][0]',        \n",
            "                                2)                                'batch_normalization_15[0][0]'] \n",
            "                                                                                                  \n",
            " conv2d_22 (Conv2D)             (None, 304, 408, 64  110656      ['concatenate_1[0][0]']          \n",
            "                                )                                                                 \n",
            "                                                                                                  \n",
            " batch_normalization_16 (BatchN  (None, 304, 408, 64  256        ['conv2d_22[0][0]']              \n",
            " ormalization)                  )                                                                 \n",
            "                                                                                                  \n",
            " activation_18 (Activation)     (None, 304, 408, 64  0           ['batch_normalization_16[0][0]'] \n",
            "                                )                                                                 \n",
            "                                                                                                  \n",
            " dropout_6 (Dropout)            (None, 304, 408, 64  0           ['activation_18[0][0]']          \n",
            "                                )                                                                 \n",
            "                                                                                                  \n",
            " conv2d_23 (Conv2D)             (None, 304, 408, 64  36928       ['dropout_6[0][0]']              \n",
            "                                )                                                                 \n",
            "                                                                                                  \n",
            " batch_normalization_17 (BatchN  (None, 304, 408, 64  256        ['conv2d_23[0][0]']              \n",
            " ormalization)                  )                                                                 \n",
            "                                                                                                  \n",
            " activation_19 (Activation)     (None, 304, 408, 64  0           ['batch_normalization_17[0][0]'] \n",
            "                                )                                                                 \n",
            "                                                                                                  \n",
            " conv2d_24 (Conv2D)             (None, 304, 408, 32  2080        ['activation_19[0][0]']          \n",
            "                                )                                                                 \n",
            "                                                                                                  \n",
            " batch_normalization_18 (BatchN  (None, 304, 408, 32  128        ['conv2d_24[0][0]']              \n",
            " ormalization)                  )                                                                 \n",
            "                                                                                                  \n",
            " activation_20 (Activation)     (None, 304, 408, 32  0           ['batch_normalization_18[0][0]'] \n",
            "                                )                                                                 \n",
            "                                                                                                  \n",
            " conv2d_26 (Conv2D)             (None, 304, 408, 32  1056        ['activation_20[0][0]']          \n",
            "                                )                                                                 \n",
            "                                                                                                  \n",
            " conv2d_transpose_2 (Conv2DTran  (None, 304, 408, 32  9248       ['conv2d_26[0][0]']              \n",
            " spose)                         )                                                                 \n",
            "                                                                                                  \n",
            " conv2d_25 (Conv2D)             (None, 304, 408, 32  4128        ['activation_3[0][0]']           \n",
            "                                )                                                                 \n",
            "                                                                                                  \n",
            " add_2 (Add)                    (None, 304, 408, 32  0           ['conv2d_transpose_2[0][0]',     \n",
            "                                )                                 'conv2d_25[0][0]']              \n",
            "                                                                                                  \n",
            " activation_21 (Activation)     (None, 304, 408, 32  0           ['add_2[0][0]']                  \n",
            "                                )                                                                 \n",
            "                                                                                                  \n",
            " conv2d_27 (Conv2D)             (None, 304, 408, 1)  33          ['activation_21[0][0]']          \n",
            "                                                                                                  \n",
            " activation_22 (Activation)     (None, 304, 408, 1)  0           ['conv2d_27[0][0]']              \n",
            "                                                                                                  \n",
            " up_sampling2d_4 (UpSampling2D)  (None, 608, 816, 1)  0          ['activation_22[0][0]']          \n",
            "                                                                                                  \n",
            " lambda_2 (Lambda)              (None, 608, 816, 32  0           ['up_sampling2d_4[0][0]']        \n",
            "                                )                                                                 \n",
            "                                                                                                  \n",
            " multiply_2 (Multiply)          (None, 608, 816, 32  0           ['lambda_2[0][0]',               \n",
            "                                )                                 'activation_3[0][0]']           \n",
            "                                                                                                  \n",
            " conv2d_28 (Conv2D)             (None, 608, 816, 32  1056        ['multiply_2[0][0]']             \n",
            "                                )                                                                 \n",
            "                                                                                                  \n",
            " up_sampling2d_5 (UpSampling2D)  (None, 608, 816, 64  0          ['activation_19[0][0]']          \n",
            "                                )                                                                 \n",
            "                                                                                                  \n",
            " batch_normalization_19 (BatchN  (None, 608, 816, 32  128        ['conv2d_28[0][0]']              \n",
            " ormalization)                  )                                                                 \n",
            "                                                                                                  \n",
            " concatenate_2 (Concatenate)    (None, 608, 816, 96  0           ['up_sampling2d_5[0][0]',        \n",
            "                                )                                 'batch_normalization_19[0][0]'] \n",
            "                                                                                                  \n",
            " conv2d_29 (Conv2D)             (None, 608, 816, 32  27680       ['concatenate_2[0][0]']          \n",
            "                                )                                                                 \n",
            "                                                                                                  \n",
            " batch_normalization_20 (BatchN  (None, 608, 816, 32  128        ['conv2d_29[0][0]']              \n",
            " ormalization)                  )                                                                 \n",
            "                                                                                                  \n",
            " activation_23 (Activation)     (None, 608, 816, 32  0           ['batch_normalization_20[0][0]'] \n",
            "                                )                                                                 \n",
            "                                                                                                  \n",
            " dropout_7 (Dropout)            (None, 608, 816, 32  0           ['activation_23[0][0]']          \n",
            "                                )                                                                 \n",
            "                                                                                                  \n",
            " conv2d_30 (Conv2D)             (None, 608, 816, 32  9248        ['dropout_7[0][0]']              \n",
            "                                )                                                                 \n",
            "                                                                                                  \n",
            " batch_normalization_21 (BatchN  (None, 608, 816, 32  128        ['conv2d_30[0][0]']              \n",
            " ormalization)                  )                                                                 \n",
            "                                                                                                  \n",
            " activation_24 (Activation)     (None, 608, 816, 32  0           ['batch_normalization_21[0][0]'] \n",
            "                                )                                                                 \n",
            "                                                                                                  \n",
            " conv2d_31 (Conv2D)             (None, 608, 816, 16  528         ['activation_24[0][0]']          \n",
            "                                )                                                                 \n",
            "                                                                                                  \n",
            " batch_normalization_22 (BatchN  (None, 608, 816, 16  64         ['conv2d_31[0][0]']              \n",
            " ormalization)                  )                                                                 \n",
            "                                                                                                  \n",
            " activation_25 (Activation)     (None, 608, 816, 16  0           ['batch_normalization_22[0][0]'] \n",
            "                                )                                                                 \n",
            "                                                                                                  \n",
            " conv2d_33 (Conv2D)             (None, 608, 816, 16  272         ['activation_25[0][0]']          \n",
            "                                )                                                                 \n",
            "                                                                                                  \n",
            " conv2d_transpose_3 (Conv2DTran  (None, 608, 816, 16  2320       ['conv2d_33[0][0]']              \n",
            " spose)                         )                                                                 \n",
            "                                                                                                  \n",
            " conv2d_32 (Conv2D)             (None, 608, 816, 16  1040        ['activation_1[0][0]']           \n",
            "                                )                                                                 \n",
            "                                                                                                  \n",
            " add_3 (Add)                    (None, 608, 816, 16  0           ['conv2d_transpose_3[0][0]',     \n",
            "                                )                                 'conv2d_32[0][0]']              \n",
            "                                                                                                  \n",
            " activation_26 (Activation)     (None, 608, 816, 16  0           ['add_3[0][0]']                  \n",
            "                                )                                                                 \n",
            "                                                                                                  \n",
            " conv2d_34 (Conv2D)             (None, 608, 816, 1)  17          ['activation_26[0][0]']          \n",
            "                                                                                                  \n",
            " activation_27 (Activation)     (None, 608, 816, 1)  0           ['conv2d_34[0][0]']              \n",
            "                                                                                                  \n",
            " up_sampling2d_6 (UpSampling2D)  (None, 1216, 1632,   0          ['activation_27[0][0]']          \n",
            "                                1)                                                                \n",
            "                                                                                                  \n",
            " lambda_3 (Lambda)              (None, 1216, 1632,   0           ['up_sampling2d_6[0][0]']        \n",
            "                                16)                                                               \n",
            "                                                                                                  \n",
            " multiply_3 (Multiply)          (None, 1216, 1632,   0           ['lambda_3[0][0]',               \n",
            "                                16)                               'activation_1[0][0]']           \n",
            "                                                                                                  \n",
            " conv2d_35 (Conv2D)             (None, 1216, 1632,   272         ['multiply_3[0][0]']             \n",
            "                                16)                                                               \n",
            "                                                                                                  \n",
            " up_sampling2d_7 (UpSampling2D)  (None, 1216, 1632,   0          ['activation_24[0][0]']          \n",
            "                                32)                                                               \n",
            "                                                                                                  \n",
            " batch_normalization_23 (BatchN  (None, 1216, 1632,   64         ['conv2d_35[0][0]']              \n",
            " ormalization)                  16)                                                               \n",
            "                                                                                                  \n",
            " concatenate_3 (Concatenate)    (None, 1216, 1632,   0           ['up_sampling2d_7[0][0]',        \n",
            "                                48)                               'batch_normalization_23[0][0]'] \n",
            "                                                                                                  \n",
            " conv2d_36 (Conv2D)             (None, 1216, 1632,   6928        ['concatenate_3[0][0]']          \n",
            "                                16)                                                               \n",
            "                                                                                                  \n",
            " batch_normalization_24 (BatchN  (None, 1216, 1632,   64         ['conv2d_36[0][0]']              \n",
            " ormalization)                  16)                                                               \n",
            "                                                                                                  \n",
            " activation_28 (Activation)     (None, 1216, 1632,   0           ['batch_normalization_24[0][0]'] \n",
            "                                16)                                                               \n",
            "                                                                                                  \n",
            " dropout_8 (Dropout)            (None, 1216, 1632,   0           ['activation_28[0][0]']          \n",
            "                                16)                                                               \n",
            "                                                                                                  \n",
            " conv2d_37 (Conv2D)             (None, 1216, 1632,   2320        ['dropout_8[0][0]']              \n",
            "                                16)                                                               \n",
            "                                                                                                  \n",
            " batch_normalization_25 (BatchN  (None, 1216, 1632,   64         ['conv2d_37[0][0]']              \n",
            " ormalization)                  16)                                                               \n",
            "                                                                                                  \n",
            " activation_29 (Activation)     (None, 1216, 1632,   0           ['batch_normalization_25[0][0]'] \n",
            "                                16)                                                               \n",
            "                                                                                                  \n",
            " conv2d_38 (Conv2D)             (None, 1216, 1632,   17          ['activation_29[0][0]']          \n",
            "                                1)                                                                \n",
            "                                                                                                  \n",
            " batch_normalization_26 (BatchN  (None, 1216, 1632,   4          ['conv2d_38[0][0]']              \n",
            " ormalization)                  1)                                                                \n",
            "                                                                                                  \n",
            " activation_30 (Activation)     (None, 1216, 1632,   0           ['batch_normalization_26[0][0]'] \n",
            "                                1)                                                                \n",
            "                                                                                                  \n",
            "==================================================================================================\n",
            "Total params: 2,341,513\n",
            "Trainable params: 2,337,607\n",
            "Non-trainable params: 3,906\n",
            "__________________________________________________________________________________________________\n"
          ]
        }
      ]
    },
    {
      "cell_type": "code",
      "source": [
        "import numpy as np\n",
        "x_test = np.load('/content/gdrive/MyDrive/train_test_split/' + run_number + '/training1/x_test.npy')\n",
        "y_test = np.load('/content/gdrive/MyDrive/train_test_split/' + run_number + '/training1/y_test.npy')\n",
        "\n",
        "print('Shape of x_test: ', x_test.shape)\n",
        "print('Shape of y_test: ', y_test.shape)"
      ],
      "metadata": {
        "colab": {
          "base_uri": "https://localhost:8080/"
        },
        "id": "RNwE7svzBh1U",
        "outputId": "bf7908b2-151e-4deb-cd69-0b6afd994405"
      },
      "execution_count": null,
      "outputs": [
        {
          "output_type": "stream",
          "name": "stdout",
          "text": [
            "Shape of x_test:  (135, 1216, 1632, 1)\n",
            "Shape of y_test:  (135, 1216, 1632, 1)\n"
          ]
        }
      ]
    },
    {
      "cell_type": "code",
      "source": [
        "# train_loaded = tf.data.experimental.load('/content/gdrive/MyDrive/Datasets/run_1/train')\n",
        "# test_loaded = tf.data.experimental.load('/content/gdrive/MyDrive/Datasets/run_1/test')\n",
        "# val_loaded = tf.data.experimental.load('/content/gdrive/MyDrive/Datasets/run_1/val')"
      ],
      "metadata": {
        "id": "y6nAqLDe0kUH"
      },
      "execution_count": null,
      "outputs": []
    },
    {
      "cell_type": "code",
      "source": [
        "# print(train_loaded)"
      ],
      "metadata": {
        "id": "-9gtdriHFzUm"
      },
      "execution_count": null,
      "outputs": []
    },
    {
      "cell_type": "code",
      "source": [
        "# tf.data.experimental.get_structure(\n",
        "#     test_loaded\n",
        "# )"
      ],
      "metadata": {
        "id": "jwEG0Amn5mXv"
      },
      "execution_count": null,
      "outputs": []
    },
    {
      "cell_type": "code",
      "source": [
        "# Loads the weights\n",
        "model.load_weights(previous_checkpoint_path)"
      ],
      "metadata": {
        "colab": {
          "base_uri": "https://localhost:8080/"
        },
        "id": "B5loTalXA9jq",
        "outputId": "aec8df12-b466-415c-9ab1-31e38392c386"
      },
      "execution_count": null,
      "outputs": [
        {
          "output_type": "execute_result",
          "data": {
            "text/plain": [
              "<tensorflow.python.training.tracking.util.CheckpointLoadStatus at 0x7f86a026c350>"
            ]
          },
          "metadata": {},
          "execution_count": 10
        }
      ]
    },
    {
      "cell_type": "code",
      "source": [
        "#model.load_weights('/content/gdrive/MyDrive/Vein_Segmentation_Models/' run_number + '/model_run' + run_number[4] + '_training1.hdf5')"
      ],
      "metadata": {
        "id": "gX-AZnLn5Gsh"
      },
      "execution_count": null,
      "outputs": []
    },
    {
      "cell_type": "code",
      "source": [
        "# Re-evaluate the model\n",
        "test_scores = model.evaluate(x_test, y_test, batch_size = 3, verbose=2)\n",
        "#test_scores = model.evaluate(test_loaded, batch_size = config.batch_size, verbose=2)"
      ],
      "metadata": {
        "id": "vYYVKU3wEWn7"
      },
      "execution_count": null,
      "outputs": []
    },
    {
      "cell_type": "code",
      "source": [
        "from sklearn.metrics import jaccard_score,confusion_matrix\n",
        "import cv2\n",
        "import numpy as np\n",
        "from matplotlib import pyplot as plt\n",
        "\n",
        "np.random.seed(0)\n",
        "\n",
        "print('Shape of x_test: ', x_test.shape)\n",
        "print('Shape of y_test: ', y_test.shape)\n",
        "\n",
        "testimg = []\n",
        "ground_truth = []\n",
        "prediction = []\n",
        "global_IoU = []\n",
        "global_accuracy = []\n",
        "global_sensitivity = []\n",
        "global_specificity = []\n",
        "global_precision = []\n",
        "global_F1_Score = []\n",
        "\n",
        "for idx in range(x_test.shape[0]):\n",
        "    test_img = x_test[idx, :, :, 0]\n",
        "    testimg.append(test_img)\n",
        "    test_img_norm = (test_img.astype('float32'))  # / 255.\n",
        "    test_img_norm = np.expand_dims(np.array(test_img_norm), axis=-1)\n",
        "    test_img_input = np.expand_dims(test_img_norm, 0)\n",
        "    test_img_prediction = (model.predict(test_img_input)[0, :, :, 0] > 0.5).astype(\n",
        "        np.uint8)  # predict on single patch\n",
        "    prediction.append(test_img_prediction)\n",
        "\n",
        "    groundtruth = y_test[idx, :, :, 0]\n",
        "    groundtruth[groundtruth > 0.0] = 1.0\n",
        "    groundtruth = np.array(groundtruth, dtype=\"uint8\")\n",
        "    ground_truth.append(groundtruth)\n",
        "\n",
        "    y_true = groundtruth # 1 und 0\n",
        "    y_pred = test_img_prediction  # 1 and 0\n",
        "    labels = [0, 1]\n",
        "    IoU = []  #Intersection over Union -> Schwellenwert, um zu ermitteln, ob ein vorhergesagtes Ergebnis ein\n",
        "            #True Positive oder ein False Positive ist\n",
        "\n",
        "    for label in labels:\n",
        "      jaccard = jaccard_score(y_pred.flatten(),y_true.flatten(), pos_label=label, average='binary')\n",
        "      IoU.append(jaccard)\n",
        "    IoU = np.mean(IoU) #jacard/IoU of single image\n",
        "    global_IoU.append(IoU)\n",
        "\n",
        "    cm=[]\n",
        "    accuracy = []\n",
        "    cm = confusion_matrix(y_true.flatten(),y_pred.flatten(), labels=[1, 0])\n",
        "    #cm[0,0]: true positives, c[1,1]: true negatives, c[1,0]: false positives, c[0,1]: false negatives\n",
        "    accuracy = np.round((cm[0,0]+cm[1,1])/(cm[0,0]+cm[0,1]+cm[1,0]+cm[1,1]), 4) #accuracy of single image\n",
        "    sensitivity = np.round(cm[0,0]/(cm[0,0]+cm[0,1]), 4)\n",
        "    specificity = np.round(cm[1,1]/(cm[1,1]+cm[1,0]), 4)\n",
        "    precision = np.round(cm[0,0]/(cm[0,0]+cm[1,0]), 4)\n",
        "    F1_Score = 2*precision*sensitivity/(precision+sensitivity)\n",
        "    global_accuracy.append(accuracy)\n",
        "    global_sensitivity.append(sensitivity)\n",
        "    global_specificity.append(specificity)\n",
        "    global_precision.append(precision)\n",
        "    global_F1_Score.append(F1_Score)\n",
        "\n",
        "\n",
        "avg_acc =  np.round(np.mean(global_accuracy), 4)\n",
        "avg_sens = np.round(np.mean(global_sensitivity), 4)\n",
        "avg_spec = np.round(np.mean(global_specificity), 4)\n",
        "mean_IoU = np.round(np.mean(global_IoU), 4)\n",
        "avg_F1_Score = np.round(np.mean(global_F1_Score), 4)\n",
        "\n",
        "print('Average accuracy is',avg_acc)\n",
        "print('Average sensitivity is', avg_sens)\n",
        "print('Average specificity is', avg_spec)\n",
        "print('mean IoU is',mean_IoU)\n",
        "print('Average F1-Score is', avg_F1_Score)"
      ],
      "metadata": {
        "colab": {
          "base_uri": "https://localhost:8080/"
        },
        "id": "b9Bgp0C4oaGk",
        "outputId": "71faf8bc-6233-4f50-cdca-4293dd64df0d"
      },
      "execution_count": null,
      "outputs": [
        {
          "output_type": "stream",
          "name": "stdout",
          "text": [
            "Shape of x_test:  (135, 1216, 1632, 1)\n",
            "Shape of y_test:  (135, 1216, 1632, 1)\n",
            "Average accuracy is 0.9624\n",
            "Average sensitivity is 0.6597\n",
            "Average specificity is 0.9855\n",
            "mean IoU is 0.7561\n",
            "Average F1-Score is 0.7059\n"
          ]
        }
      ]
    },
    {
      "cell_type": "code",
      "source": [
        "!pip install wandb -qq\n",
        "import pandas as pd\n",
        "import numpy as np\n",
        "import wandb\n",
        "wandb.login()\n",
        "\n",
        "wandb.init(project=\"Vein_Segmentation\", name=\"run_1_training1_evaluation\", entity=\"regirau\")"
      ],
      "metadata": {
        "colab": {
          "base_uri": "https://localhost:8080/",
          "height": 90
        },
        "id": "G7GKeKAAo6Mr",
        "outputId": "503a4956-bc3f-4002-ce6f-d71579724956"
      },
      "execution_count": null,
      "outputs": [
        {
          "output_type": "display_data",
          "data": {
            "text/plain": [
              "<IPython.core.display.HTML object>"
            ],
            "text/html": [
              "Tracking run with wandb version 0.12.12"
            ]
          },
          "metadata": {}
        },
        {
          "output_type": "display_data",
          "data": {
            "text/plain": [
              "<IPython.core.display.HTML object>"
            ],
            "text/html": [
              "Run data is saved locally in <code>/content/wandb/run-20220406_071411-2l7dy13x</code>"
            ]
          },
          "metadata": {}
        },
        {
          "output_type": "display_data",
          "data": {
            "text/plain": [
              "<IPython.core.display.HTML object>"
            ],
            "text/html": [
              "Syncing run <strong><a href=\"https://wandb.ai/regirau/Vein_Segmentation/runs/2l7dy13x\" target=\"_blank\">run_1_training1_evaluation</a></strong> to <a href=\"https://wandb.ai/regirau/Vein_Segmentation\" target=\"_blank\">Weights & Biases</a> (<a href=\"https://wandb.me/run\" target=\"_blank\">docs</a>)<br/>"
            ]
          },
          "metadata": {}
        },
        {
          "output_type": "execute_result",
          "data": {
            "text/html": [
              "<button onClick=\"this.nextSibling.style.display='block';this.style.display='none';\">Display W&B run</button><iframe src=\"https://wandb.ai/regirau/Vein_Segmentation/runs/2l7dy13x?jupyter=true\" style=\"border:none;width:100%;height:420px;display:none;\"></iframe>"
            ],
            "text/plain": [
              "<wandb.sdk.wandb_run.Run at 0x7f5a5b79b1d0>"
            ]
          },
          "metadata": {},
          "execution_count": 18
        }
      ]
    },
    {
      "cell_type": "code",
      "source": [
        "#create Table with Evaluation Scores\n",
        "\n",
        "data = [[avg_acc, avg_sens, avg_spec, mean_IoU, avg_F1_Score]]\n",
        "wandb.log({\"Evaluation_Table_run1_training1\": wandb.Table(data=data, columns=[\"Accuracy\", \"Sensitivity\", \"Specificity\", \"IoU\", \"F1-Score\"])})"
      ],
      "metadata": {
        "id": "F5tGrJCKojaH"
      },
      "execution_count": null,
      "outputs": []
    },
    {
      "cell_type": "code",
      "source": [
        "#create Artifact with segmentation results\n",
        "\n",
        "ds = wandb.Artifact(\"segmentation_results_test_data_run1_training1\", \"dataset\")\n",
        "test_table = wandb.Table(columns=[\"Image\", \"Groundtrugh\", \"Prediction\"], data=[])\n",
        "for i, g, p in zip(testimg, ground_truth, prediction):\n",
        "  test_table.add_data(wandb.Image(i), wandb.Image(g), wandb.Image(p))\n",
        "ds['test_data']=test_table\n",
        "ds.save()\n",
        "\n",
        "wandb.finish()"
      ],
      "metadata": {
        "colab": {
          "base_uri": "https://localhost:8080/",
          "height": 104,
          "referenced_widgets": [
            "cbc9ebd483db41e3953eae814032cdf7",
            "5769bc4870e04ea780b010f7b137f927",
            "5a00672fbde94e2889be251befab399e",
            "1ad61cea3692496897608b35f208649c",
            "83bb269420b641eca4827680a437dbe0",
            "7a860dc7f5154ddcb6ea1d2b9b813e86",
            "acf3b4b5e441474b9695ab2086502b0f",
            "3ca25aef59504a21af0bef20b52b4515"
          ]
        },
        "id": "QzcwtkDqoO0I",
        "outputId": "bfc6a3c7-c3a5-4e21-bd5b-9c39b4477b5b"
      },
      "execution_count": null,
      "outputs": [
        {
          "output_type": "stream",
          "name": "stdout",
          "text": [
            "\n"
          ]
        },
        {
          "output_type": "display_data",
          "data": {
            "text/plain": [
              "<IPython.core.display.HTML object>"
            ],
            "text/html": [
              "Waiting for W&B process to finish... <strong style=\"color:green\">(success).</strong>"
            ]
          },
          "metadata": {}
        },
        {
          "output_type": "display_data",
          "data": {
            "text/plain": [
              "VBox(children=(Label(value='126.053 MB of 126.053 MB uploaded (0.000 MB deduped)\\r'), FloatProgress(value=1.0,…"
            ],
            "application/vnd.jupyter.widget-view+json": {
              "version_major": 2,
              "version_minor": 0,
              "model_id": "cbc9ebd483db41e3953eae814032cdf7"
            }
          },
          "metadata": {}
        },
        {
          "output_type": "display_data",
          "data": {
            "text/plain": [
              "<IPython.core.display.HTML object>"
            ],
            "text/html": [
              "Synced <strong style=\"color:#cdcd00\">run_1_training1_evaluation</strong>: <a href=\"https://wandb.ai/regirau/Vein_Segmentation/runs/2l7dy13x\" target=\"_blank\">https://wandb.ai/regirau/Vein_Segmentation/runs/2l7dy13x</a><br/>Synced 4 W&B file(s), 1 media file(s), 407 artifact file(s) and 0 other file(s)"
            ]
          },
          "metadata": {}
        },
        {
          "output_type": "display_data",
          "data": {
            "text/plain": [
              "<IPython.core.display.HTML object>"
            ],
            "text/html": [
              "Find logs at: <code>./wandb/run-20220406_071411-2l7dy13x/logs</code>"
            ]
          },
          "metadata": {}
        }
      ]
    },
    {
      "cell_type": "markdown",
      "source": [
        "# Load Dataset"
      ],
      "metadata": {
        "id": "kMWClwgrp0CL"
      }
    },
    {
      "cell_type": "code",
      "source": [
        "!unzip /content/gdrive/MyDrive/Vein_Dataset_Resized.zip -d /content/"
      ],
      "metadata": {
        "id": "9c55q6nOpwzg"
      },
      "execution_count": null,
      "outputs": []
    },
    {
      "cell_type": "code",
      "source": [
        "import tensorflow as tf\n",
        "dataset_images = tf.data\n",
        "dataset_labels = tf.data\n",
        "SIZE_X = 1632\n",
        "SIZE_Y = 1216\n",
        "\n",
        "\n",
        "dataset_images = tf.keras.utils.image_dataset_from_directory(\"Vein_Dataset_Resized/images\", labels=None, label_mode=None, color_mode=\"grayscale\", batch_size=1, image_size=(SIZE_Y, SIZE_X), shuffle=False, )\n",
        "dataset_labels = tf.keras.utils.image_dataset_from_directory(\"Vein_Dataset_Resized/labels\", labels=None, label_mode=None, color_mode=\"grayscale\", batch_size=1, image_size=(SIZE_Y, SIZE_X), shuffle=False, )\n",
        "normalization_layer = tf.keras.layers.Rescaling(1./255)\n",
        "dataset_labels = dataset_labels.map(lambda x: (normalization_layer(x)))\n",
        "\n",
        "Vein_Dataset = tf.data.Dataset.zip((dataset_images, dataset_labels))"
      ],
      "metadata": {
        "id": "_sKoMyE9Ym6V"
      },
      "execution_count": null,
      "outputs": []
    },
    {
      "cell_type": "code",
      "source": [
        "Vein_Dataset.shuffle(buffer_size = 1000)\n",
        "\n",
        "Dataset_Size = 900\n",
        "\n",
        "train_size = int(0.7 * Dataset_Size)\n",
        "val_size = int(0.15 * Dataset_Size)\n",
        "test_size = int(0.15 * Dataset_Size)\n",
        "\n",
        "train_dataset = Vein_Dataset.take(train_size)\n",
        "test_dataset = Vein_Dataset.skip(train_size)\n",
        "val_dataset = test_dataset.skip(test_size)\n",
        "test_dataset = test_dataset.take(test_size)"
      ],
      "metadata": {
        "id": "vsRVzKS0Yx2U"
      },
      "execution_count": null,
      "outputs": []
    },
    {
      "cell_type": "code",
      "source": [
        "x_test = test_dataset.map(lambda a, b: a)\n",
        "y_test = test_dataset.map(lambda a, b: b)"
      ],
      "metadata": {
        "id": "fr45aDfZY28X"
      },
      "execution_count": null,
      "outputs": []
    },
    {
      "cell_type": "code",
      "source": [
        "print(train_dataset)\n",
        "print(test_dataset)\n",
        "print(val_dataset)"
      ],
      "metadata": {
        "id": "eWnI9U_7Y5FF"
      },
      "execution_count": null,
      "outputs": []
    },
    {
      "cell_type": "code",
      "source": [
        "!mkdir '/content/gdrive/MyDrive/train_test_split'\n",
        "!mkdir '/content/gdrive/MyDrive/train_test_split/run_1'\n",
        "!mkdir '/content/gdrive/MyDrive/train_test_split/run_1/training2"
      ],
      "metadata": {
        "id": "1qk68KqXZVMu"
      },
      "execution_count": null,
      "outputs": []
    },
    {
      "cell_type": "code",
      "source": [
        "import matplotlib.pyplot as plt\n",
        "import numpy as np\n",
        "\n",
        "x_test = []\n",
        "y_test = []\n",
        "\n",
        "\n",
        "for images, masks in test_dataset.take(test_size):\n",
        "  sample_image, sample_mask = images[0, :, :, 0], masks[0, :, :, 0]\n",
        "  x_test.append(sample_image)\n",
        "  y_test.append(sample_mask)\n",
        "\n",
        "x_test =  np.array(x_test)\n",
        "y_test =  np.array(y_test)\n",
        "x_test = np.expand_dims(x_test,axis=-1)\n",
        "y_test = np.expand_dims(y_test,axis=-1)\n",
        "\n",
        "np.save('/content/gdrive/MyDrive/train_test_split/' + run_number + '/training2/x_test.npy', x_test)\n",
        "np.save('/content/gdrive/MyDrive/train_test_split/' + run_number + '/training2/y_test.npy', y_test)"
      ],
      "metadata": {
        "id": "rYduYkAhY62u"
      },
      "execution_count": null,
      "outputs": []
    },
    {
      "cell_type": "markdown",
      "source": [
        "# Create new Dataset to continue training"
      ],
      "metadata": {
        "id": "xg9lDgDCYdXw"
      }
    },
    {
      "cell_type": "markdown",
      "source": [
        "# Retrain the Model"
      ],
      "metadata": {
        "id": "3tqBQ2lf32yf"
      }
    },
    {
      "cell_type": "code",
      "source": [
        "# Initialize wandb with your project name\n",
        "run = wandb.init(project=\"Vein_Segmentation\", name=\"run_1_training2\", entity=\"regirau\",\n",
        "                 config = {\"learning_rate\": 1e-3,\n",
        "                           \"epochs\": 3,\n",
        "                            \"batch_size\": 2,}\n",
        "                )\n",
        "config = wandb.config  # We'll use this to configure our experiment"
      ],
      "metadata": {
        "id": "rmZOQL7TYRld"
      },
      "execution_count": null,
      "outputs": []
    },
    {
      "cell_type": "code",
      "source": [
        "# Create a callback that saves the model's weights\n",
        "cp_callback = tf.keras.callbacks.ModelCheckpoint(filepath=checkpoint_path,\n",
        "                                                 save_weights_only=True,\n",
        "                                                 verbose=1)\n",
        "\n",
        "# We train with our beloved model.fit\n",
        "# Notice WandbCallback is used as a regular callback\n",
        "# We again use config here\n",
        "\n",
        "# history = model.fit(x_train, y_train, \n",
        "#                     epochs = config.epochs,\n",
        "#                     batch_size = config.batch_size,\n",
        "#                     verbose=1,\n",
        "#                     validation_data=(x_val, y_val),\n",
        "#                     callbacks=[cp_callback, WandbCallback()])  #WandbCallback()])\n",
        "\n",
        "# os.listdir(checkpoint_dir)\n",
        "\n",
        "\n",
        "history = model.fit(train_dataset, \n",
        "                    epochs = config.epochs,\n",
        "                    batch_size = config.batch_size,\n",
        "                    verbose=1,\n",
        "                    validation_data=val_dataset,\n",
        "                    callbacks=[cp_callback, WandbCallback()])  #WandbCallback()])\n",
        "\n",
        "os.listdir(checkpoint_dir)"
      ],
      "metadata": {
        "id": "f0AdlV2x_e78"
      },
      "execution_count": null,
      "outputs": []
    },
    {
      "cell_type": "code",
      "source": [
        "model.save('/content/gdrive/MyDrive/Vein_Segmentation_Models/' + run_number + '/model_run' + run_number[4] + '_training2.hdf5')\n",
        "\n",
        "test_scores = model.evaluate(x_test, y_test, batch_size = config.batch_size, verbose=2)"
      ],
      "metadata": {
        "colab": {
          "base_uri": "https://localhost:8080/"
        },
        "id": "xjUUg8JgdnPa",
        "outputId": "0a5eafc5-3123-4597-f794-862a8b287911"
      },
      "execution_count": null,
      "outputs": [
        {
          "output_type": "stream",
          "name": "stdout",
          "text": [
            "3/3 - 2s - loss: -1.5709e-02 - accuracy: 0.8092 - IoU_coef: 0.0131 - 2s/epoch - 629ms/step\n"
          ]
        }
      ]
    },
    {
      "cell_type": "code",
      "source": [
        "from sklearn.metrics import jaccard_score,confusion_matrix\n",
        "import cv2\n",
        "import numpy as np\n",
        "from matplotlib import pyplot as plt\n",
        "\n",
        "np.random.seed(0)\n",
        "\n",
        "print('Shape of x_test: ', x_test.shape)\n",
        "print('Shape of y_test: ', y_test.shape)\n",
        "\n",
        "testimg = []\n",
        "ground_truth = []\n",
        "prediction = []\n",
        "global_IoU = []\n",
        "global_accuracy = []\n",
        "global_sensitivity = []\n",
        "global_specificity = []\n",
        "global_precision = []\n",
        "global_F1_Score = []\n",
        "\n",
        "for idx in range(x_test.shape[0]):\n",
        "    test_img = x_test[idx, :, :, 0]\n",
        "    testimg.append(test_img)\n",
        "    test_img_norm = (test_img.astype('float32')) / 255.\n",
        "    test_img_norm = np.expand_dims(np.array(test_img_norm), axis=-1)\n",
        "    test_img_input = np.expand_dims(test_img_norm, 0)\n",
        "    test_img_prediction = (model.predict(test_img_input)[0, :, :, 0] > 0.5).astype(\n",
        "        np.uint8)  # predict on single patch\n",
        "    prediction.append(test_img_prediction)\n",
        "\n",
        "    groundtruth = y_test[idx, :, :, 0]\n",
        "    groundtruth[groundtruth > 0.0] = 1.0\n",
        "    groundtruth = np.array(groundtruth, dtype=\"uint8\")\n",
        "    ground_truth.append(groundtruth)\n",
        "\n",
        "    y_true = groundtruth # 1 und 0\n",
        "    y_pred = test_img_prediction  # 1 and 0\n",
        "    labels = [0, 1]\n",
        "    IoU = []  #Intersection over Union -> Schwellenwert, um zu ermitteln, ob ein vorhergesagtes Ergebnis ein\n",
        "            #True Positive oder ein False Positive ist\n",
        "\n",
        "    for label in labels:\n",
        "      jaccard = jaccard_score(y_pred.flatten(),y_true.flatten(), pos_label=label, average='binary')\n",
        "      IoU.append(jaccard)\n",
        "    IoU = np.mean(IoU) #jacard/IoU of single image\n",
        "    global_IoU.append(IoU)\n",
        "\n",
        "    cm=[]\n",
        "    accuracy = []\n",
        "    cm = confusion_matrix(y_true.flatten(),y_pred.flatten(), labels=[1, 0])\n",
        "    #cm[0,0]: true positives, c[1,1]: true negatives, c[1,0]: false positives, c[0,1]: false negatives\n",
        "    accuracy = np.round((cm[0,0]+cm[1,1])/(cm[0,0]+cm[0,1]+cm[1,0]+cm[1,1]), 4) #accuracy of single image\n",
        "    sensitivity = np.round(cm[0,0]/(cm[0,0]+cm[0,1]), 4)\n",
        "    specificity = np.round(cm[1,1]/(cm[1,1]+cm[1,0]), 4)\n",
        "    precision = np.round(cm[0,0]/(cm[0,0]+cm[1,0]), 4)\n",
        "    F1_Score = 2*precision*sensitivity/(precision+sensitivity)\n",
        "    global_accuracy.append(accuracy)\n",
        "    global_sensitivity.append(sensitivity)\n",
        "    global_specificity.append(specificity)\n",
        "    global_precision.append(precision)\n",
        "    global_F1_Score.append(F1_Score)\n",
        "\n",
        "\n",
        "avg_acc =  np.round(np.mean(global_accuracy), 4)\n",
        "avg_sens = np.round(np.mean(global_sensitivity), 4)\n",
        "avg_spec = np.round(np.mean(global_specificity), 4)\n",
        "mean_IoU = np.round(np.mean(global_IoU), 4)\n",
        "avg_F1_Score = np.round(np.mean(global_F1_Score), 4)\n",
        "\n",
        "print('Average accuracy is',avg_acc)\n",
        "print('Average sensitivity is', avg_sens)\n",
        "print('Average specificity is', avg_spec)\n",
        "print('mean IoU is',mean_IoU)\n",
        "print('Average F1-Score is', avg_F1_Score)"
      ],
      "metadata": {
        "id": "UrLJKZ30anOC"
      },
      "execution_count": null,
      "outputs": []
    },
    {
      "cell_type": "code",
      "source": [
        "data = [[avg_acc, avg_sens, avg_spec, mean_IoU, avg_F1_Score]]\n",
        "wandb.log({\"Evaluation_Table_run1_training2\": wandb.Table(data=data, columns=[\"Accuracy\", \"Sensitivity\", \"Specificity\", \"IoU\", \"F1-Score\"])})"
      ],
      "metadata": {
        "id": "gNmc2ZLvaqAo"
      },
      "execution_count": null,
      "outputs": []
    },
    {
      "cell_type": "code",
      "source": [
        "#create Artifact with segmentation results\n",
        "\n",
        "ds = wandb.Artifact(\"segmentation_results_test_data_run1_training2\", \"dataset\")\n",
        "test_table = wandb.Table(columns=[\"Image\", \"Groundtrugh\", \"Prediction\"], data=[])\n",
        "for i, g, p in zip(testimg, ground_truth, prediction):\n",
        "  test_table.add_data(wandb.Image(i), wandb.Image(g), wandb.Image(p))\n",
        "ds['test_data']=test_table\n",
        "ds.save()"
      ],
      "metadata": {
        "id": "O7jRO2WZa1f-"
      },
      "execution_count": null,
      "outputs": []
    },
    {
      "cell_type": "code",
      "source": [
        "import matplotlib.pyplot as plt\n",
        "\n",
        "#training-validation loss curve\n",
        "loss = history.history['loss']\n",
        "val_loss = history.history['val_loss']\n",
        "epochs = range(1, len(loss) + 1)\n",
        "plt.figure(figsize=(7,5))\n",
        "plt.plot(epochs, loss, 'r', label='Training loss')\n",
        "plt.plot(epochs, val_loss, 'y', label='Validation loss')\n",
        "plt.title('Training and validation loss')\n",
        "plt.xlabel('Epochs')\n",
        "plt.ylabel('Loss')\n",
        "plt.legend()\n",
        "plt.show()\n",
        "\n",
        "#training-validation accuracy curve\n",
        "acc = history.history['accuracy']\n",
        "val_acc = history.history['val_accuracy']\n",
        "plt.figure(figsize=(7,5))\n",
        "plt.plot(epochs, acc, 'r', label='Training Accuracy')\n",
        "plt.plot(epochs, val_acc, 'y', label='Validation Accuracy')\n",
        "plt.title('Training and validation accuracies')\n",
        "plt.xlabel('Epochs')\n",
        "plt.ylabel('Accuracy')\n",
        "plt.legend()\n",
        "plt.show()\n",
        "\n",
        "#training-validation IoU curve\n",
        "iou_coef = history.history['IoU_coef']\n",
        "val_iou_coef = history.history['val_IoU_coef']\n",
        "plt.figure(figsize=(7,5))\n",
        "plt.plot(epochs, iou_coef, 'r', label='Training IoU')\n",
        "plt.plot(epochs, val_iou_coef, 'y', label='Validation IoU')\n",
        "plt.title('Training and validation IoU coefficients')\n",
        "plt.xlabel('Epochs')\n",
        "plt.ylabel('IoU')\n",
        "plt.legend()\n",
        "plt.show()"
      ],
      "metadata": {
        "colab": {
          "base_uri": "https://localhost:8080/",
          "height": 1000
        },
        "id": "tOpcf4CPeRuZ",
        "outputId": "96834172-790c-4f05-b5c9-3c9eab694fac"
      },
      "execution_count": null,
      "outputs": [
        {
          "output_type": "display_data",
          "data": {
            "text/plain": [
              "<Figure size 504x360 with 1 Axes>"
            ],
            "image/png": "[encoded data removed]"
          },
          "metadata": {
            "needs_background": "light"
          }
        },
        {
          "output_type": "display_data",
          "data": {
            "text/plain": [
              "<Figure size 504x360 with 1 Axes>"
            ],
            "image/png": "[encoded data removed]"
          },
          "metadata": {
            "needs_background": "light"
          }
        },
        {
          "output_type": "display_data",
          "data": {
            "text/plain": [
              "<Figure size 504x360 with 1 Axes>"
            ],
            "image/png": "[encoded data removed]"
          },
          "metadata": {
            "needs_background": "light"
          }
        }
      ]
    },
    {
      "cell_type": "code",
      "source": [
        "wandb.finish()"
      ],
      "metadata": {
        "id": "7DGnabpta9co"
      },
      "execution_count": null,
      "outputs": []
    }
  ]
}